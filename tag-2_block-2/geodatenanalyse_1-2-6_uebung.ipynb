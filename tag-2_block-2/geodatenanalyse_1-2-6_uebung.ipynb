{
 "cells": [
  {
   "cell_type": "markdown",
   "metadata": {},
   "source": [
    "# Geodatenanalyse 1\n",
    "\n",
    "## Tag 2 / Block 2 / Übung 6: Zeitreihenanalyse"
   ]
  },
  {
   "cell_type": "markdown",
   "metadata": {},
   "source": [
    "In den Dateien \"GW_Signal.csv\", bzw. \"GW_Signal.xlsx\" findet Ihr Zeitreihen zur Grundwassertemperatur einiger Pegel aus den vorherigen Übungen. \n",
    "\n",
    "Wir lesen diese nun zuerst mit Pandas ein und wandeln das Datum der Messung über `pandas.to_datetime` in den Datentyp `datetime64` um. Das Attribut `.format` gibt das spezielle Format der Datumsangabe an (\"%d.%m.%Y\"). Mehr dazu erfahrt Ihr morgen. "
   ]
  },
  {
   "cell_type": "code",
   "execution_count": null,
   "metadata": {},
   "outputs": [],
   "source": [
    "# [1] hier Code eingeben\n",
    "import pandas as pd\n",
    "signal = pd.read_csv('GW_Signals.csv', sep=';', encoding='cp1252')\n",
    "signal['Datum']=pd.to_datetime(signal['Datum'], format='%d.%m.%Y')\n"
   ]
  },
  {
   "cell_type": "markdown",
   "metadata": {},
   "source": [
    "### 1. Zerlegung von Zeitreihen\n",
    "\n",
    "Zerlegt nun eine der Zeitreihen (z.B. `data['T108']`) in ihre Komponenten (Trend, Saisonalität und Residuen) mit Hilfe von dem Package `statsmodels.api` und der Funktion `tsa.seasonal_decompose()`. \n",
    "\n",
    "Erzeugt mit der Funktion zuerst ein decomposition-Objekt. Gebt dazu als Inputs die gewünschte Spalte des Datensatzen (z.B. `data['T108']`), das `model` (\"=additive\") und die `period` (=365) an. Ausgehend von dem erzeugten Objekt könnt Ihr mit dem Argument `.plot()`, eine einfache Abbildung erstellen und die Eregebnisse der Zerlegung so graphisch darstellen. "
   ]
  },
  {
   "cell_type": "code",
   "execution_count": null,
   "metadata": {},
   "outputs": [],
   "source": [
    "# [2] hier Code eingeben"
   ]
  },
  {
   "cell_type": "markdown",
   "metadata": {},
   "source": [
    "Das erzeugte Objekt hat verschiedene Attribute (z.B. trend, seasonal, resid). Erstellt ein Histogramm der Residuen (\"resid\") der obigen Zeitreihenanalyse, und interpretiert es im Hinblick auf Normalverteilung, Mittelwert und den Einfluss von Messfehlern. "
   ]
  },
  {
   "cell_type": "code",
   "execution_count": null,
   "metadata": {},
   "outputs": [],
   "source": [
    "# [3] hier Code eingeben"
   ]
  },
  {
   "cell_type": "markdown",
   "metadata": {},
   "source": [
    "### 2. Autokorrelation\n",
    "\n",
    "Schaut Euch nun als nächstes die Autokorrelation der Zeitreihe an, den sog. \"AutoCorrelation Function\" (ACF) plot, also die Korrelation eines Wertes in der Zeitreihe mit einem früheren Wert. Importiert dazu `statsmodels.grpahics.tsaplots.plot_acf()` und gebt neben dem Datensatz das Zeitintervall `lags` als Input an. \n",
    "\n",
    "Probiert ein paar verschiedene Werte für `lags` aus, und interpretiert die Korrelationen in Bezug auf den plot mit Trend und Saisonalität oben. "
   ]
  },
  {
   "cell_type": "code",
   "execution_count": null,
   "metadata": {},
   "outputs": [],
   "source": [
    "# [4] hier Code eingeben"
   ]
  },
  {
   "cell_type": "markdown",
   "metadata": {},
   "source": [
    "### 3. gleitender Mittelwert\n",
    "\n",
    "Eine andere beliebte Methode zur Analyse des Trends einer Zeitreihe ist die Bestimmung des gleitenden Mittelwertes (auch moving oder rolling average genannt). Dadurch werden hohe Frequenzen und saisonale Effekte \"wegemittelt\" und Zeitreihen geglättet. Für den Datentyp \"list\" geht dies ganz einfach durch Anhängen von `.rolling()` und die Angabe des Bereichs über den gemittelt werden soll mit dem Argument \"window\". Bei \"window=10\" wird so der arithmetische Mittelwert aus den letzten 10 Messwerten gebildet. \n",
    "\n",
    "Testet verschiedene Fensterbreiten und/oder Zeitreihen und vegleicht die ursprüngliche Zeitreihe mit dem Verlauf des gleitenden Mittelwertes in dem Ihr beide Zeitreihen graphisch darstellt. Worin seht Ihr die Vor- und Nachteile von Zerlegung bzw. gleitendem Mittel? "
   ]
  },
  {
   "cell_type": "code",
   "execution_count": null,
   "metadata": {},
   "outputs": [],
   "source": [
    "# [5] hier Code eingeben"
   ]
  },
  {
   "source": [
    "Wenn Ihr nun noch Zeit habt könnt Ihr die Analysen für weitere Zeitreihen durchführen, oder weitere Arten der Visualisierung ausprobieren"
   ],
   "cell_type": "markdown",
   "metadata": {}
  },
  {
   "cell_type": "code",
   "execution_count": null,
   "metadata": {},
   "outputs": [],
   "source": [
    "# [6] weitere Zeitreihen und/oder Visualisierungen"
   ]
  },
  {
   "cell_type": "markdown",
   "metadata": {},
   "source": [
    "\n",
    "## Ende\n",
    "\n"
   ]
  }
 ],
 "metadata": {
  "kernelspec": {
   "display_name": "Python 3",
   "language": "python",
   "name": "python3"
  },
  "language_info": {
   "codemirror_mode": {
    "name": "ipython",
    "version": 3
   },
   "file_extension": ".py",
   "mimetype": "text/x-python",
   "name": "python",
   "nbconvert_exporter": "python",
   "pygments_lexer": "ipython3",
   "version": "3.8.5-final"
  }
 },
 "nbformat": 4,
 "nbformat_minor": 4
}