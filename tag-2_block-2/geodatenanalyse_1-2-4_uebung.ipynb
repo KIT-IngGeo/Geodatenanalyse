{
 "cells": [
  {
   "source": [
    "# Geodatenanalyse 1\n",
    "\n",
    "## Tag 2 / Block 2 / Übung 4: Bivariate Statistik"
   ],
   "cell_type": "markdown",
   "metadata": {}
  },
  {
   "source": [
    "Nach der Betrachtung einzelner Parameter gestern, geht es in dieser Übung um die Untersuchung der Beziehung zwischen zwei Parametern. \n",
    "\n",
    "Dazu lesen wir zunächst einen Teil des Datensatz mit den Grundwasserparametern aus Koch et al. (2020) von gestern in Python ein. Am einfachsten geht das mit dem `pandas` Package (dazu mehr in den nächsten Tagen). \n"
   ],
   "cell_type": "markdown",
   "metadata": {}
  },
  {
   "cell_type": "code",
   "execution_count": null,
   "metadata": {},
   "outputs": [],
   "source": [
    "# [1] hier Code eingeben\n",
    "import pandas as pd\n",
    "data = pd.read_csv('Data_GW_KA_short.csv', sep=';', encoding='cp1252')"
   ]
  },
  {
   "source": [
    "### Explorative Datenanalyse: Histogramme und Scatterplots\n",
    "\n",
    "Mit einem neuen Datensatz konfrontiert, ist es sinnvoll sich zuerst visuell einen Überblick über die vorliegenden Parameter, Werte und empirischen Verteilungen zu verschaffen. Für jeden Parameter einzeln geht dies gut über ein Histogramm. \n",
    "\n",
    "Erstellt daher zunächst eine einfache Abbildung mit einem Histogram der Sauerstoffsättigung (`data[\"Sauerstoff\"]`) mit Hilfe von `matplotlib.pyplot.hist()`.\n"
   ],
   "cell_type": "markdown",
   "metadata": {}
  },
  {
   "cell_type": "code",
   "execution_count": null,
   "metadata": {},
   "outputs": [],
   "source": [
    "# [2] hier Code eingeben"
   ]
  },
  {
   "source": [
    "Um die Histogramme (d.h. Randverteilungen) zweier Parameter zusammen mit ihrem gemeinsamen Scatterplot darzustellen, gibt es in `seaborn` die praktische Funktion `seaborn.jointplot()`. `seaborn` ist wie `matplotlib` bereits in Anaconda enthalten und bietet viele spezielle Funktionen zur Visualisierung von statistischen Daten.\n",
    "\n",
    "Importiert `seaborn` in Euer Notebook und probiert `jointplot(x, y)` mit einem beliebigen Parameterpaar aus dem Datensatz aus. "
   ],
   "cell_type": "markdown",
   "metadata": {}
  },
  {
   "cell_type": "code",
   "execution_count": null,
   "metadata": {},
   "outputs": [],
   "source": [
    "# [3] hier Code eingeben"
   ]
  },
  {
   "source": [
    "Um einen Überblick über die bivariaten Beziehungen in dem gesamten Datensatz zu bekommen, eignet sich die Funktion `seaborn.pairplot()`, die Histogramme und Scatterplots für einen Datensatz kombiniert. Probiert diese Funktion mal für die Grundwasserdaten aus, und macht Euch ein erstes Bild der Beziehungen zwischen den Parameterpaaren. \n",
    "\n",
    "Achtung: Je nach Rechenleistung kann das Ausführen des Codes ein paar Sekunden dauern. "
   ],
   "cell_type": "markdown",
   "metadata": {}
  },
  {
   "cell_type": "code",
   "execution_count": null,
   "metadata": {},
   "outputs": [],
   "source": [
    "# [4] hier Code eingeben"
   ]
  },
  {
   "source": [
    "### Korrelationskoeffizienten\n",
    "\n",
    "Nun wollen wir die Beziehungen zwischen den einzelnen Parametern noch genauer qunatifizieren. Das grundlegende Maß dafür ist die Kovarianz. \n",
    "\n",
    "<img src=\"https://latex.codecogs.com/gif.latex?cov_{xy}&space;=&space;\\frac{1}{1-n}\\sum_{i=1}^{n}(x_{i}-\\bar{x})(y_{i}-\\bar{y})\" title=\"cov_{xy} = \\frac{1}{1-n}\\sum_{i=1}^{n}(x_{i}-\\bar{x})(y_{i}-\\bar{y})\" />\n",
    "\n",
    "Berechnet mit Hilfe der Statistik-Funktionen von gestern die Kovarianz zwischen Grundwassertemperatur und Phosphatgehalt. Interpretiert den Wert der Kovarianz im Hinblick auf die Beziehung zwischen den beiden Parametern. Passt der Wert zu der Beobachtung in der Abbildung oben?\n",
    "\n"
   ],
   "cell_type": "markdown",
   "metadata": {}
  },
  {
   "cell_type": "code",
   "execution_count": null,
   "metadata": {},
   "outputs": [],
   "source": [
    "# [5] hier Code eingeben"
   ]
  },
  {
   "source": [
    "Um die Kovarianzen für alle Parameterpaare in einem Datensatz zu berechnen, gibt es in `pandas` die Funktion `pandas.DataFrame.cov()`. Nutzt diese um Euch die Kovarianzen aller Parameterpaare der Grundwasserdaten, also die Kovarianzmatrix, anzeigen zu lassen. Zwischen welchen Paaren lassen sich Beziehungen erkennen?"
   ],
   "cell_type": "markdown",
   "metadata": {}
  },
  {
   "cell_type": "code",
   "execution_count": null,
   "metadata": {},
   "outputs": [],
   "source": [
    "# [6] hier Code eingeben"
   ]
  },
  {
   "source": [
    "Die Stärke der Beziehungen zwischen den Parameterpaaren lässt sich aufgrund der sehr unterschiedlichen Varianzen (s. Diagonale der Kovarianzmatrix), allerdings nur schwer vergleichen. Berechnet nun für ein Parameterpaar, z.B. mit einer sehr großen Kovarianz, den Korrelationskoeffizienten nach Pearson, in dem Ihr die entsprechende Kovarianz durch das Produkt der Standardabweichungen teilt. "
   ],
   "cell_type": "markdown",
   "metadata": {}
  },
  {
   "cell_type": "code",
   "execution_count": null,
   "metadata": {},
   "outputs": [],
   "source": [
    "# [7] hier Code eingeben"
   ]
  },
  {
   "source": [
    "Um die Korrelationsmatrix direkt zu berechnen, gibt es in `pandas` den praktischen Befehl `pandas.DataFrame.corr()`. Per default wird dabei ebenfalls der Koeffizient nach Pearsion berechnet. Was lässt sich also über die Korrelationen sagen? Vergleicht die Korrelationen ausdem mit den Kovarianzen von oben! "
   ],
   "cell_type": "markdown",
   "metadata": {}
  },
  {
   "cell_type": "code",
   "execution_count": null,
   "metadata": {},
   "outputs": [],
   "source": [
    "# [8] hier Code eingeben"
   ]
  },
  {
   "source": [
    "Leider lassen sich mit dieser Funktion nicht die p-Werte der Koeffizienten ausgeben. Dies geht z.B. über `scipy.stats.pearsonr()`, wobei als Outputs der Korrelationskoeffizient und der p-Wert für ein bestimmtes Parameterpaar (*x*, *y*) angegeben werden. Testet dies für das Parameterpaar Grundwassertemperatur und Sauerstoff, und interpretiert den p-Wert.  "
   ],
   "cell_type": "markdown",
   "metadata": {}
  },
  {
   "cell_type": "code",
   "execution_count": null,
   "metadata": {},
   "outputs": [],
   "source": [
    "# [9] hier Code eingeben"
   ]
  },
  {
   "source": [
    "Generell sind die Korrelationen in dem Datensatz sehr niedrig, was daran liegen könnte, dass es zwischen den Parametern keine lineare Beziehungen, sondern komplexere Assoziationen gibt. Berechnet nun den Korrelationskoeffizienten und den dazugehörigen p-Werten über die Funktion `scipy.stats.spearmanr()`. Wie verhalten sich die Werte im Vergleich zu oben?"
   ],
   "cell_type": "markdown",
   "metadata": {}
  },
  {
   "cell_type": "code",
   "execution_count": null,
   "metadata": {},
   "outputs": [],
   "source": [
    "# [10] hier Code eingeben"
   ]
  },
  {
   "source": [
    "Wie in der Vorlesung erwähnt gibt es noch einen dritten häufig verwendeten Korrelationskoeffizienten, der besonders für diskrete Daten geeignet ist. Wählt aus dem Datensatz einen diskreten Parameter aus, und bestimmt mit Hilfe von `scipy.stats.kendalltau()` die Korrelation zu einem weiteren beliebigen Parameter. Überprüft danach ob und wie sich die drei Korrelationskoeffizienten für dieses Parameterpaar unterscheiden. "
   ],
   "cell_type": "markdown",
   "metadata": {}
  },
  {
   "cell_type": "code",
   "execution_count": null,
   "metadata": {},
   "outputs": [],
   "source": [
    "# [11] hier Code eingeben"
   ]
  },
  {
   "source": [
    "Zur Visualisierung von Werten in Matrixen bieten sich sog. heatmaps an. Ganz einfach geht dies mit der Funktion `seaborn.heatmap()`. Mit dem zusätzlichen agrument `annot=True` könnt Ihr Euch auch die Zahlenwerte in den Kästchen für eine der Matrizen oben anzeigen lassen. "
   ],
   "cell_type": "markdown",
   "metadata": {}
  },
  {
   "cell_type": "code",
   "execution_count": null,
   "metadata": {},
   "outputs": [],
   "source": [
    "# [12] hier Code eingeben"
   ]
  },
  {
   "source": [
    "Wenn Ihr noch Zeit habt, gibt es eine schöne Galerie mit Beispielen zu Datenvisualisierung mit seaborn (https://seaborn.pydata.org/examples/index.html), die es sich anzuschauen lohnt. \n",
    "\n",
    "\n",
    "Im Anschluss geht es dann mit noch mehr Dimensionen weiter ...\n",
    "\n",
    "## Ende\n",
    "\n",
    "### Referenzen: \n",
    "\n",
    "Koch et al. (2020), Groundwater fauna in an urban area: natural or affected? https://hess.copernicus.org/preprints/hess-2020-151/hess-2020-151.pdf\n"
   ],
   "cell_type": "markdown",
   "metadata": {}
  }
 ],
 "metadata": {
  "kernelspec": {
   "display_name": "Python 3",
   "language": "python",
   "name": "python3"
  },
  "language_info": {
   "codemirror_mode": {
    "name": "ipython",
    "version": 3
   },
   "file_extension": ".py",
   "mimetype": "text/x-python",
   "name": "python",
   "nbconvert_exporter": "python",
   "pygments_lexer": "ipython3",
   "version": "3.8.5-final"
  }
 },
 "nbformat": 4,
 "nbformat_minor": 4
}