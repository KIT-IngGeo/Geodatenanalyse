{
 "cells": [
  {
   "cell_type": "markdown",
   "metadata": {
    "slideshow": {
     "slide_type": "slide"
    }
   },
   "source": [
    "# Geodatenanalyse 1\n",
    "\n",
    "\n",
    "## Tag 1 / Block 1 - Teil 2\n",
    "\n",
    "## Variablen und Datentypen"
   ]
  },
  {
   "cell_type": "markdown",
   "metadata": {
    "slideshow": {
     "slide_type": "slide"
    }
   },
   "source": [
    "## Inhalt\n",
    "- Variablen und einfache Datentypen\n",
    "- Listen\n",
    "- Schleifen"
   ]
  },
  {
   "cell_type": "markdown",
   "metadata": {
    "slideshow": {
     "slide_type": "slide"
    }
   },
   "source": [
    "## Python als Taschenrechner\n",
    "Python kann für einfache Rechenoperationen genutzt werden!"
   ]
  },
  {
   "cell_type": "code",
   "execution_count": null,
   "metadata": {
    "slideshow": {
     "slide_type": "-"
    }
   },
   "outputs": [],
   "source": [
    "# Addieren und Subtrahieren\n",
    "print(3 + 2)\n",
    "print(3 - 2)"
   ]
  },
  {
   "cell_type": "code",
   "execution_count": null,
   "metadata": {
    "slideshow": {
     "slide_type": "fragment"
    }
   },
   "outputs": [],
   "source": [
    "# Multiplizieren und Dividieren\n",
    "print(3 * 2)\n",
    "print(6 / 2)"
   ]
  },
  {
   "cell_type": "code",
   "execution_count": null,
   "metadata": {
    "slideshow": {
     "slide_type": "fragment"
    }
   },
   "outputs": [],
   "source": [
    "# Exponenten und Modulus\n",
    "print(3 ** 2)\n",
    "print(16 % 3)"
   ]
  },
  {
   "cell_type": "markdown",
   "metadata": {
    "slideshow": {
     "slide_type": "slide"
    }
   },
   "source": [
    "## Variablen und Zuweisung von Werten\n",
    "- Werte lassen sich Variablen zuweisen und einfach abrufen.\n",
    "- Variablen in Python sind **case-sensitive**. Das heißt Groß- und Kleinschreibung ist zu beachten.\n",
    "\n",
    "#### Werte\n",
    "940 cm<sup>3</sup>\\\n",
    "1880 g"
   ]
  },
  {
   "cell_type": "code",
   "execution_count": null,
   "metadata": {
    "slideshow": {
     "slide_type": "-"
    }
   },
   "outputs": [],
   "source": [
    "# Werte zuweisen\n",
    "volume = 940\n",
    "mass   = 1880\n",
    "\n",
    "print(volume)\n",
    "print(mass)"
   ]
  },
  {
   "cell_type": "markdown",
   "metadata": {
    "slideshow": {
     "slide_type": "subslide"
    }
   },
   "source": [
    "### Beispiel: Dichte berechnen\n",
    "$$\\rho = \\frac{m}{V}$$\n",
    "\n",
    "#### Werte\n",
    "940 cm<sup>3</sup>\\\n",
    "1880 g"
   ]
  },
  {
   "cell_type": "code",
   "execution_count": null,
   "metadata": {
    "slideshow": {
     "slide_type": "-"
    }
   },
   "outputs": [],
   "source": [
    "# Mit den Werten\n",
    "1880 / 940"
   ]
  },
  {
   "cell_type": "code",
   "execution_count": null,
   "metadata": {
    "slideshow": {
     "slide_type": "fragment"
    }
   },
   "outputs": [],
   "source": [
    "# Mit den Variablen\n",
    "volume = 940\n",
    "mass   = 1880\n",
    "\n",
    "mass / volume"
   ]
  },
  {
   "cell_type": "code",
   "execution_count": null,
   "metadata": {
    "slideshow": {
     "slide_type": "fragment"
    }
   },
   "outputs": [],
   "source": [
    "# einer neuen Variablen zugewiesen\n",
    "density = mass / volume\n",
    "density"
   ]
  },
  {
   "cell_type": "markdown",
   "metadata": {
    "slideshow": {
     "slide_type": "subslide"
    }
   },
   "source": [
    "## Reproduzierbarkeit der Ergebnisse\n",
    "Wenn wir einen beliebigen Variablenwert verändern, wird dieser für alle nachfolgenden Berechnungen angepasst."
   ]
  },
  {
   "cell_type": "code",
   "execution_count": null,
   "metadata": {
    "slideshow": {
     "slide_type": "-"
    }
   },
   "outputs": [],
   "source": [
    "# Maße eines Metallquader\n",
    "length  = 18.8 # verändern\n",
    "width   = 10.0\n",
    "height  = 5.0\n",
    "\n",
    "# Resultierendes Volumen\n",
    "volume  = length * width * height\n",
    "\n",
    "# Dichteberechnung\n",
    "mass    = 1880\n",
    "density = mass / volume\n",
    "\n",
    "print(density)"
   ]
  },
  {
   "cell_type": "markdown",
   "metadata": {
    "slideshow": {
     "slide_type": "slide"
    }
   },
   "source": [
    "## Datentypen in Python\n",
    "In Python wird der Datentyp festgelegt, sobald einer Variable ein Wert zu gewiesen wird. Zur einfachen Überprüfung des Datentyp lässt sich die <span style=\"color:red\">*type*</span> Funktion verwenden."
   ]
  },
  {
   "cell_type": "code",
   "execution_count": null,
   "metadata": {
    "slideshow": {
     "slide_type": "-"
    }
   },
   "outputs": [],
   "source": [
    "print(density)\n",
    "type(density)"
   ]
  },
  {
   "cell_type": "markdown",
   "metadata": {
    "slideshow": {
     "slide_type": "-"
    }
   },
   "source": [
    "Der Datentyp <span style=\"color:red\">*float*</span> steht in Python für Reelle Zahlen $\\mathbb{R}$ mit einem ganzzahligen Teil und einem Bruchteil."
   ]
  },
  {
   "cell_type": "markdown",
   "metadata": {
    "slideshow": {
     "slide_type": "fragment"
    }
   },
   "source": [
    "#### Erklärung\n",
    "*float* ist Englisch für *schweben*. Vor und nach dem Komma gibt es keine festgelegte Anzahl an Ziffern; das Komma ist also flexibel und schwebt sozusagen."
   ]
  },
  {
   "cell_type": "code",
   "execution_count": null,
   "metadata": {
    "slideshow": {
     "slide_type": "fragment"
    }
   },
   "outputs": [],
   "source": [
    "students = 13\n",
    "print(students)\n",
    "type(students)"
   ]
  },
  {
   "cell_type": "markdown",
   "metadata": {
    "slideshow": {
     "slide_type": "subslide"
    }
   },
   "source": [
    "## Datentypen in Python (2)\n",
    "Neben Datentypen für Zahlen wie <span style=\"color:red\">*int*</span> und <span style=\"color:red\">*float*</span> gibt es in Python noch viele mehr. Zu den Wichtigsten und am häufigsten verwendeten gehören:\n",
    "\n",
    "- **boolean**: Ja / Nein Abfrage; Zugehörigkeit und Filtern von Daten\n",
    "- **string**:  Text"
   ]
  },
  {
   "cell_type": "code",
   "execution_count": null,
   "metadata": {
    "slideshow": {
     "slide_type": "fragment"
    }
   },
   "outputs": [],
   "source": [
    "a = True  # Ja\n",
    "b = False # Nein\n",
    "type(a)"
   ]
  },
  {
   "cell_type": "code",
   "execution_count": null,
   "metadata": {
    "slideshow": {
     "slide_type": "fragment"
    }
   },
   "outputs": [],
   "source": [
    "x = \"Hello World\"\n",
    "y = 'foo'\n",
    "type(x)"
   ]
  },
  {
   "cell_type": "markdown",
   "metadata": {
    "slideshow": {
     "slide_type": "slide"
    }
   },
   "source": [
    "## Listen\n",
    "- können **mehrere Variablen / Elemente** und damit eine Vielzahl an Informationen enthalten "
   ]
  },
  {
   "cell_type": "code",
   "execution_count": null,
   "metadata": {
    "slideshow": {
     "slide_type": "-"
    }
   },
   "outputs": [],
   "source": [
    "# mehrere Variablen\n",
    "mountain1 = \"Belchen\"\n",
    "mountain2 = \"Feldberg\"\n",
    "mountain3 = \"Kandel\"\n",
    "mountain4 = \"Herzogenhorn\"\n",
    "\n",
    "# eine Liste\n",
    "mountains = [mountain1, mountain2, mountain3, mountain4]\n",
    "print(mountains)"
   ]
  },
  {
   "cell_type": "markdown",
   "metadata": {
    "slideshow": {
     "slide_type": "fragment"
    }
   },
   "source": [
    "Eine Liste <span style=\"color:red\">*list*</span> ist in Python durch eckige Klammern <span style=\"color:red\">[ ]</span> gekennzeichnet "
   ]
  },
  {
   "cell_type": "markdown",
   "metadata": {
    "slideshow": {
     "slide_type": "subslide"
    }
   },
   "source": [
    "### Besonderheiten\n",
    "- Eine Liste kann Elemente mit **beliebigen Datentypen** enthalten. Zum Beispiel <span style=\"color:red\">*str*</span> und <span style=\"color:red\">*int*</span>: "
   ]
  },
  {
   "cell_type": "code",
   "execution_count": null,
   "metadata": {
    "slideshow": {
     "slide_type": "-"
    }
   },
   "outputs": [],
   "source": [
    "mountain_heights = [\"Belchen\", 1414, mountain2, 1493, mountain3, 1241, mountain4, 1415]\n",
    "print(mountain_heights)"
   ]
  },
  {
   "cell_type": "markdown",
   "metadata": {
    "slideshow": {
     "slide_type": "fragment"
    }
   },
   "source": [
    "- die Elemente einer Liste müssen **nicht** miteinander **verknüpft** sein:"
   ]
  },
  {
   "cell_type": "code",
   "execution_count": null,
   "metadata": {
    "slideshow": {
     "slide_type": "-"
    }
   },
   "outputs": [],
   "source": [
    "random_list = [\"yellow\", 3.1415, \"Gustav\", 42]\n",
    "print(random_list)"
   ]
  },
  {
   "cell_type": "markdown",
   "metadata": {
    "slideshow": {
     "slide_type": "fragment"
    }
   },
   "source": [
    "- auch die **Liste** selbst ist ein Datentyp in Python:"
   ]
  },
  {
   "cell_type": "code",
   "execution_count": null,
   "metadata": {
    "slideshow": {
     "slide_type": "-"
    }
   },
   "outputs": [],
   "source": [
    "# Liste als Datentyp -> Liste von Listen: \"nested list\"\n",
    "mountain_heights = [[mountain1, 1414], [mountain2, 1493], [mountain3, 1241], [mountain4, 1415]]\n",
    "print(mountain_heights)"
   ]
  },
  {
   "cell_type": "markdown",
   "metadata": {
    "slideshow": {
     "slide_type": "-"
    }
   },
   "source": [
    "> Anything you want can be put in a *list*  "
   ]
  },
  {
   "cell_type": "markdown",
   "metadata": {
    "slideshow": {
     "slide_type": "-"
    }
   },
   "source": [
    "#### Tipp\n",
    "Eine Liste enthält in der Regel eine Vielzahl von Elementen. Wähle den Plural bei der Namensgebung (z.B. *names*, *colors*, *values*)!"
   ]
  },
  {
   "cell_type": "markdown",
   "metadata": {
    "slideshow": {
     "slide_type": "subslide"
    }
   },
   "source": [
    "## Listen (2)\n",
    "### Elemente und Indizes\n",
    "Die Elemente einer Liste haben eine **bestimmte Reihenfolge**. Deshalb kann über die Position in der Liste, bzw. den <span style=\"color:red\">*Index*</span>, auf jedes Element gezielt zugegriffen werden.\n"
   ]
  },
  {
   "cell_type": "code",
   "execution_count": null,
   "metadata": {
    "slideshow": {
     "slide_type": "-"
    }
   },
   "outputs": [],
   "source": [
    "print(\"Der zweite Berg in unserer Liste mit dem Namen\", mountains[1], \"hat den Index 1!\")"
   ]
  },
  {
   "cell_type": "markdown",
   "metadata": {
    "slideshow": {
     "slide_type": "-"
    }
   },
   "source": [
    "Ein bestimmtes Element einer Liste lässt sich also abrufen durch:\n",
    "\n",
    "```Python\n",
    "Liste[Index]\n",
    "```"
   ]
  },
  {
   "cell_type": "markdown",
   "metadata": {
    "slideshow": {
     "slide_type": "fragment"
    }
   },
   "source": [
    "#### Achtung\n",
    "In Python ist das erste Element einer Liste an Position 0, nicht 1!\n",
    "\n",
    "```Python\n",
    "mountains = [\"Belchen\",\"Feldberg\",\"Kandel\",\"Herzogenhorn\"]\n",
    "```"
   ]
  },
  {
   "cell_type": "markdown",
   "metadata": {
    "slideshow": {
     "slide_type": "subslide"
    }
   },
   "source": [
    "### Beispiel: Verwendung einzelner Elemente"
   ]
  },
  {
   "cell_type": "code",
   "execution_count": null,
   "metadata": {
    "slideshow": {
     "slide_type": "-"
    }
   },
   "outputs": [],
   "source": [
    "#Liste 1 mit Elementen vom Datentype string\n",
    "mountains = [\"Belchen\",\"Feldberg\",\"Kandel\",\"Herzogenhorn\"]\n",
    "\n",
    "#Liste 2 mit Elementen vom Datentype integer\n",
    "heights = [1414,1493,1241,1415]\n",
    "\n",
    "# Beide Listen lassen sich indizieren um den passenden Wert für die Nachricht zu entnehmen\n",
    "message = \"Der höchste Berg im Schwarzwald ist der \" + mountains[1] + \" mit \" + str(heights[1]) + \" Metern.\"\n",
    "print(message)"
   ]
  },
  {
   "cell_type": "markdown",
   "metadata": {
    "slideshow": {
     "slide_type": "subslide"
    }
   },
   "source": [
    "## Listen (3)\n",
    "### Verändern, Hinzufügen und Entfernen von Elementen\n",
    "\n",
    "Die meißten Listen werden **dynamisch** erstellt. Das heißt, sie werden im Laufe einer Anwendung verändert, indem Elemente zum Beispiel hinzugefügt oder gelöscht werden."
   ]
  },
  {
   "cell_type": "markdown",
   "metadata": {
    "slideshow": {
     "slide_type": "fragment"
    }
   },
   "source": [
    "#### Verändern\n",
    "Die Elemente einer Liste lassen sich durch eine **Neuzuweisung** über den Index direkt überschreiben."
   ]
  },
  {
   "cell_type": "code",
   "execution_count": null,
   "metadata": {
    "slideshow": {
     "slide_type": "-"
    }
   },
   "outputs": [],
   "source": [
    "mountains = [\"Belchen\",\"Feldberg\",\"Kandel\",\"Herzogenhorn\"]\n",
    "print(mountains)"
   ]
  },
  {
   "cell_type": "code",
   "execution_count": null,
   "metadata": {
    "slideshow": {
     "slide_type": "-"
    }
   },
   "outputs": [],
   "source": [
    "mountains[0] = \"Schauinsland\"\n",
    "print(mountains)"
   ]
  },
  {
   "cell_type": "markdown",
   "metadata": {
    "slideshow": {
     "slide_type": "subslide"
    }
   },
   "source": [
    "#### Hinzufügen\n",
    "Zusätzliche Elemente können entweder am Ender der Liste mit der Funktion <span style=\"color:red\">*append()*</span> \"angehängt\" werden, oder über den Index an einer bestimmten Position innerhalb der Liste mit der Funktion <span style=\"color:red\">*insert()*</span> eingefügt werden.\n",
    "\n",
    "```Python\n",
    "list.append()\n",
    "\n",
    "list.insert()\n",
    "```"
   ]
  },
  {
   "cell_type": "code",
   "execution_count": null,
   "metadata": {
    "slideshow": {
     "slide_type": "-"
    }
   },
   "outputs": [],
   "source": [
    "# Anhängen von Elementen am Ende der Liste\n",
    "mountains = [] # leere Liste\n",
    "\n",
    "mountains.append(\"Belchen\")\n",
    "mountains.append(\"Kandel\")\n",
    "mountains.append(\"Herzogenhorn\")\n",
    "print(mountains)"
   ]
  },
  {
   "cell_type": "code",
   "execution_count": null,
   "metadata": {
    "slideshow": {
     "slide_type": "fragment"
    }
   },
   "outputs": [],
   "source": [
    "# Einfügen von Elementen\n",
    "mountains.insert(1, \"Feldberg\")\n",
    "print(mountains)"
   ]
  },
  {
   "cell_type": "markdown",
   "metadata": {
    "slideshow": {
     "slide_type": "subslide"
    }
   },
   "source": [
    "#### Entfernen\n",
    "Es gibt mehrere Möglichkeiten Elemente aus einer Liste zu entfernen. Welche Funktion die Richtige ist, hängt davon ab, ob:\n",
    "- man den Eintrag per **Index** <span style=\"color:red\">*del*</span> \n",
    "- oder per **Wert** <span style=\"color:red\">*remove()*</span> entfernen möchte\n",
    "- und man diesen für spätere Operationen noch benötigt <span style=\"color:red\">*pop()*</span>.\n",
    "\n",
    "```Python\n",
    "del list[index]\n",
    "\n",
    "list.remove()\n",
    "\n",
    "list.pop()\n",
    "```"
   ]
  },
  {
   "cell_type": "code",
   "execution_count": null,
   "metadata": {
    "slideshow": {
     "slide_type": "-"
    }
   },
   "outputs": [],
   "source": [
    "# Entfernen eines Elements an einer bestimmten Position\n",
    "del mountains[3]\n",
    "print(mountains)"
   ]
  },
  {
   "cell_type": "code",
   "execution_count": null,
   "metadata": {
    "slideshow": {
     "slide_type": "fragment"
    }
   },
   "outputs": [],
   "source": [
    "# Entfernen eines Elements mit einem bestimmten Wert\n",
    "mountains = [\"Belchen\",\"Feldberg\",\"Kandel\",\"Herzogenhorn\"]\n",
    "mountains.remove(\"Kandel\")\n",
    "print(mountains)"
   ]
  },
  {
   "cell_type": "code",
   "execution_count": null,
   "metadata": {
    "slideshow": {
     "slide_type": "fragment"
    }
   },
   "outputs": [],
   "source": [
    "# Entfernen und Weiterverwenden eines Elements\n",
    "mountains = [\"Belchen\",\"Feldberg\",\"Kandel\",\"Herzogenhorn\"]\n",
    "visited = mountains.pop(0)\n",
    "print(mountains)\n",
    "print(visited)"
   ]
  },
  {
   "cell_type": "markdown",
   "metadata": {
    "slideshow": {
     "slide_type": "slide"
    }
   },
   "source": [
    "## Listen (4)\n",
    "### *Slicing* - Zerteilen einer Liste\n",
    "Durch <span style=\"color:red\">*slicing*</span> lässt sich eine Teilmenge, bzw einen Wertebereich <span style=\"color:red\">*range*</span> aus mehreren Elementen einer Liste erstellen.\n",
    "\n",
    "```Python\n",
    "list[start:stop]\n",
    "```"
   ]
  },
  {
   "cell_type": "code",
   "execution_count": null,
   "metadata": {
    "slideshow": {
     "slide_type": "fragment"
    }
   },
   "outputs": [],
   "source": [
    "# Liste mit Buchstaben\n",
    "letters = [\"K\",\"a\",\"n\",\"d\",\"e\",\"l\"]\n",
    "\n",
    "# Teilmenge einer Liste\n",
    "print(letters[1:4])"
   ]
  },
  {
   "cell_type": "markdown",
   "metadata": {
    "slideshow": {
     "slide_type": "fragment"
    }
   },
   "source": [
    "<img style=\"float: right;\" src=\"Images\\Indexing.png\">"
   ]
  },
  {
   "cell_type": "markdown",
   "metadata": {
    "slideshow": {
     "slide_type": "slide"
    }
   },
   "source": [
    "#### vom Anfang, und bis zum Ende\n",
    "Der Start- und Stopwert können jeweils auch weggelassen werden, um alle Wert der ursprünglichen Liste **bis zu** oder **ab einem bestimmten Index** in die Teilmenge mit einzubeziehen.\n",
    "```Python\n",
    "list[start:]\n",
    "``` \n",
    "oder\n",
    "```Python\n",
    "list[:stop]\n",
    "```"
   ]
  },
  {
   "cell_type": "code",
   "execution_count": null,
   "metadata": {
    "slideshow": {
     "slide_type": "fragment"
    }
   },
   "outputs": [],
   "source": [
    "print(letters[:2])\n",
    "print(letters[2:])"
   ]
  },
  {
   "cell_type": "markdown",
   "metadata": {
    "slideshow": {
     "slide_type": "-"
    }
   },
   "source": [
    "<img style=\"float: right;\" src=\"Images\\idx_p2.png\">"
   ]
  },
  {
   "cell_type": "markdown",
   "metadata": {
    "slideshow": {
     "slide_type": "subslide"
    }
   },
   "source": [
    "#### Überspringen\n",
    "Das *slicing* kann durch einen weiteren Wert ergänzt werden, um eine Sprungweite <span style=\"color:red\">*step*</span> anzugeben.\n",
    "```Python\n",
    "list[start:stop:step]\n",
    "```"
   ]
  },
  {
   "cell_type": "code",
   "execution_count": null,
   "metadata": {
    "slideshow": {
     "slide_type": "fragment"
    }
   },
   "outputs": [],
   "source": [
    "print(letters[0:5:2])"
   ]
  },
  {
   "cell_type": "markdown",
   "metadata": {
    "slideshow": {
     "slide_type": "-"
    }
   },
   "source": [
    "<img style=\"float: right;\" src=\"Images\\idx_p3.png\">"
   ]
  },
  {
   "cell_type": "markdown",
   "metadata": {
    "slideshow": {
     "slide_type": "subslide"
    }
   },
   "source": [
    "#### Negativer Index\n",
    "Eine Liste kann auch **rückwärts** indiziiert werden. Das kann besonders hilfreich sein, wenn die zuletzt hinzugefügten Werte einer Liste von Interesse sind. Zum Beispiel nach Verwenden der <span style=\"color:red\">*append*</span> Funktion."
   ]
  },
  {
   "cell_type": "code",
   "execution_count": null,
   "metadata": {
    "slideshow": {
     "slide_type": "-"
    }
   },
   "outputs": [],
   "source": [
    "print(letters[-3:])"
   ]
  },
  {
   "cell_type": "markdown",
   "metadata": {
    "slideshow": {
     "slide_type": "-"
    }
   },
   "source": [
    "<img style=\"float: right;\" src=\"Images\\idx_p4.png\">"
   ]
  },
  {
   "cell_type": "markdown",
   "metadata": {
    "slideshow": {
     "slide_type": "slide"
    }
   },
   "source": [
    "## Listen (5)\n",
    "### Schleifen\n",
    "Häufig möchte man für alle Elemente einer Liste die selbe Operation durchführen. Je länger die Liste, desto aufwendiger wird es jedes Element einzeln aufzurufen. Mit der <span style=\"color:red\">*for*</span> Schleife (*loop*) können **Operationen auf eine beliebige Anzahl an Elemente** einer Liste effizient **angewendet** werden."
   ]
  },
  {
   "cell_type": "code",
   "execution_count": null,
   "metadata": {
    "slideshow": {
     "slide_type": "fragment"
    }
   },
   "outputs": [],
   "source": [
    "# einfaches Beispiel: Eine Liste mit Baumarten\n",
    "trees = [\"Eiche\",\"Buche\",\"Birke\"]\n",
    "\n",
    "# Start der Schleife\n",
    "for tree in trees:\n",
    "    # Operation\n",
    "    print(tree)       "
   ]
  },
  {
   "cell_type": "markdown",
   "metadata": {
    "slideshow": {
     "slide_type": "-"
    }
   },
   "source": [
    "- Der Doppelpunkt markiert den Start der Schleife\n",
    "- Der Code mit der Operation wird eingerückt (Tab)"
   ]
  },
  {
   "cell_type": "markdown",
   "metadata": {
    "slideshow": {
     "slide_type": "subslide"
    }
   },
   "source": [
    "#### Eine Schleife kann auch mehrere Operationen enthalten:"
   ]
  },
  {
   "cell_type": "code",
   "execution_count": null,
   "metadata": {
    "slideshow": {
     "slide_type": "-"
    }
   },
   "outputs": [],
   "source": [
    "# Schleife mit zwei Operationen\n",
    "for tree in trees:\n",
    "    print(\"Die\",tree, \"ist ein Baum.\")\n",
    "    print(\"Ich werde heute eine\", tree, \"pflanzen.\" +\"\\n\")\n",
    "\n",
    "# Operation außerhalb der Schleife    \n",
    "print(trees)    "
   ]
  },
  {
   "cell_type": "markdown",
   "metadata": {
    "slideshow": {
     "slide_type": "slide"
    }
   },
   "source": [
    "\n",
    "## Listen (6)\n",
    "### Nützliche Tools für numerische Listen\n",
    "Listen sind besonders für das Speichern von Zahlen geeignet. Python bietet einige hilfreiche Werkzeuge und Funktionen für eine effiziente und schnelle Verarbeitung. Hierzu gehört zum Beispiel die <span style=\"color:red\">*range()*</span> Funktion. Damit lassen sich schnell **einfache Zahlenabfolgen** generieren. Genau wie beim *slicing* wird unser Wertebereich, also *range* durch einen **Startwert**, **Stopwert**, und optional eine **Sprungweite** angegeben.\n",
    "\n",
    "```Python\n",
    "range(start,stop,step)\n",
    "```"
   ]
  },
  {
   "cell_type": "code",
   "execution_count": null,
   "metadata": {
    "slideshow": {
     "slide_type": "-"
    }
   },
   "outputs": [],
   "source": [
    "# numerische Liste\n",
    "numbers = list(range(1,10))\n",
    "print(numbers)"
   ]
  },
  {
   "cell_type": "code",
   "execution_count": null,
   "metadata": {
    "slideshow": {
     "slide_type": "-"
    }
   },
   "outputs": [],
   "source": [
    "# numerische liste mit Sprungweite 2\n",
    "numbers_2 = list(range(1,10,2))\n",
    "print(numbers_2)"
   ]
  },
  {
   "cell_type": "code",
   "execution_count": null,
   "metadata": {
    "slideshow": {
     "slide_type": "subslide"
    }
   },
   "outputs": [],
   "source": [
    "# Looping direkt mit der range Funktion\n",
    "for value in range(1,5):\n",
    "    print(value)"
   ]
  },
  {
   "cell_type": "code",
   "execution_count": null,
   "metadata": {
    "slideshow": {
     "slide_type": "fragment"
    }
   },
   "outputs": [],
   "source": [
    "# Oder als Liste, auch hier kann, wenn nötig, einfach indiziert werden\n",
    "for value in numbers[:5]:\n",
    "    print(value)"
   ]
  },
  {
   "cell_type": "markdown",
   "metadata": {
    "slideshow": {
     "slide_type": "subslide"
    }
   },
   "source": [
    "### List comprehension\n",
    "In Python gibt es außerdem eine schnelle und elegante Möglichkeit eine Operation in einer Schleife auszuführen und direkt in eine Liste zu überführen."
   ]
  },
  {
   "cell_type": "code",
   "execution_count": null,
   "metadata": {
    "slideshow": {
     "slide_type": "-"
    }
   },
   "outputs": [],
   "source": [
    "numbers = range(1,5)\n",
    "calculated = [number**2 for number in numbers]\n",
    "print(calculated)"
   ]
  },
  {
   "cell_type": "markdown",
   "metadata": {
    "slideshow": {
     "slide_type": "fragment"
    }
   },
   "source": [
    "## ENDE"
   ]
  }
 ],
 "metadata": {
  "celltoolbar": "Slideshow",
  "kernelspec": {
   "display_name": "Python 3",
   "language": "python",
   "name": "python3"
  },
  "language_info": {
   "codemirror_mode": {
    "name": "ipython",
    "version": 3
   },
   "file_extension": ".py",
   "mimetype": "text/x-python",
   "name": "python",
   "nbconvert_exporter": "python",
   "pygments_lexer": "ipython3",
   "version": "3.7.6"
  }
 },
 "nbformat": 4,
 "nbformat_minor": 4
}
