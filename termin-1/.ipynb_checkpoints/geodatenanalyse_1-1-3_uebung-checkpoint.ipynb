{
 "cells": [
  {
   "cell_type": "markdown",
   "metadata": {},
   "source": [
    "# Geodatenanalyse 1\n",
    "\n",
    "## Tag 1 / Block 1 - Übung 3\n",
    "\n",
    "**Hinweis**: Dieser Ünbungsblock soll ca. 40 Minuten dauern. Danach gibt es ca. 10 Minuten Zeit für die gemeinsame Diskussion der Lösungen."
   ]
  },
  {
   "cell_type": "markdown",
   "metadata": {},
   "source": [
    "### Aufgabe 1\n",
    "#### Daten zu einer Person\n",
    "- Erstelle ein Dictionary mit Informationen über einen Freund oder Freundin. Speichere darin den Vornamen, Nachnamen und Alter der Person. Gebe jede dieser Informationen einzeln aus. \n",
    "- Füge den Wohnort als weitere Information hinzu."
   ]
  },
  {
   "cell_type": "code",
   "execution_count": 68,
   "metadata": {},
   "outputs": [],
   "source": [
    "# Dictionary\n",
    "person = ___"
   ]
  },
  {
   "cell_type": "code",
   "execution_count": 67,
   "metadata": {},
   "outputs": [],
   "source": [
    "# Wohnort"
   ]
  },
  {
   "cell_type": "markdown",
   "metadata": {},
   "source": [
    "### Aufgabe 2\n",
    "#### Bedingte Tests und Anweisungen\n",
    "Schreibe mindestens 6 verschiedene bedingte Tests. Dabei sollten folgende Kriterien erfüllt werden:\n",
    "- mindestens 3 *True* und 3 *False* Bedingungen\n",
    "- mindestens eine Test der mehrere Bedingungen enthält\n",
    "- mindestens ein Test mithilfe einer Liste\n",
    "- mindestens ein Test dem eine Anweisung folgt (if-else)\n",
    "\n",
    "Die verschiedenen Kritieren können natürlich auch miteinander verknüpft werden."
   ]
  },
  {
   "cell_type": "code",
   "execution_count": 1,
   "metadata": {},
   "outputs": [],
   "source": [
    "# Bedingte Tests"
   ]
  },
  {
   "cell_type": "markdown",
   "metadata": {},
   "source": [
    "### Aufgabe 3\n",
    "#### 3.1 Benutzereingabe\n",
    "- Schreibe ein kurzes Programm das den Benutzer nach seiner Lieblingsfarbe fragt. Entspricht die Antwort deiner eigenen Lieblingsfarbe, gebe eine entsprechende Nachricht aus. Andernfalls melde dem Benutzer seine Farbe zurück.\n",
    "- Frage den Benutzer nach einer Zahl. Melde dem Benutzer zurück, ob seine Zahl durch 2 teilbar ist.\n"
   ]
  },
  {
   "cell_type": "code",
   "execution_count": 66,
   "metadata": {},
   "outputs": [],
   "source": [
    "# Lieblingsfarbe\n",
    "color = ___"
   ]
  },
  {
   "cell_type": "code",
   "execution_count": 69,
   "metadata": {},
   "outputs": [],
   "source": [
    "# Durch zwei teilbar\n",
    "number = ___"
   ]
  },
  {
   "cell_type": "markdown",
   "metadata": {},
   "source": [
    "#### 3.2. While Schleife\n",
    "Frage den Benutzer dieses Mal so lange nach einer neuen Zahl, bis dieser eine Zahl nennt die durch 3 teilbar ist. Passe dafür die Lösung aus der vorherigen Aufgabe an und nutze eine Schleife."
   ]
  },
  {
   "cell_type": "code",
   "execution_count": 70,
   "metadata": {},
   "outputs": [],
   "source": [
    "# Durch drei teilbar   "
   ]
  },
  {
   "cell_type": "markdown",
   "metadata": {},
   "source": [
    "### Aufgabe 4\n",
    "#### Deine eigene Funktion\n",
    "- Schreibe eine Funktion mit dem Namen *hiking()*, die Eingangsparameter für die <font color=\"green\">zurückgelegte Strecke</font>, die dafür <font color=\"green\">benötigte Zeit</font> und den <font color=\"green\">Ort der Wanderung</font> hat. \n",
    "\n",
    "    Die Funktion sollte eine Nachricht, mit dem durchschnittlichen Lauftempo und dem Ortsnamen ausgeben. Diese könnte zum Beispiel folgendermaßen lauten:\n",
    " > \" Bei unserer Wanderung in Zermatt hatten wir ein durchschnittliches Lauftempo von 3.5 km/h!\" \n",
    " \n",
    "\n",
    "- Bei einem Tempo von unter 2 km pro Stunde soll eine zusätzliche Nachricht ausgegeben werden, mit dem Hinweis, dass die Wanderung wohl besonders anstrengend oder steil war."
   ]
  },
  {
   "cell_type": "code",
   "execution_count": 71,
   "metadata": {},
   "outputs": [
    {
     "ename": "TypeError",
     "evalue": "hiking() takes 0 positional arguments but 3 were given",
     "output_type": "error",
     "traceback": [
      "\u001b[1;31m---------------------------------------------------------------------------\u001b[0m",
      "\u001b[1;31mTypeError\u001b[0m                                 Traceback (most recent call last)",
      "\u001b[1;32m<ipython-input-71-5860ee15539d>\u001b[0m in \u001b[0;36m<module>\u001b[1;34m\u001b[0m\n\u001b[0;32m      4\u001b[0m \u001b[1;33m\u001b[0m\u001b[0m\n\u001b[0;32m      5\u001b[0m \u001b[1;31m# Schnell unterwegs in Zermatt\u001b[0m\u001b[1;33m\u001b[0m\u001b[1;33m\u001b[0m\u001b[1;33m\u001b[0m\u001b[0m\n\u001b[1;32m----> 6\u001b[1;33m \u001b[0mhiking\u001b[0m\u001b[1;33m(\u001b[0m\u001b[1;36m10.5\u001b[0m\u001b[1;33m,\u001b[0m\u001b[1;36m3\u001b[0m\u001b[1;33m,\u001b[0m\u001b[1;34m\"Zermatt\"\u001b[0m\u001b[1;33m)\u001b[0m\u001b[1;33m\u001b[0m\u001b[1;33m\u001b[0m\u001b[0m\n\u001b[0m\u001b[0;32m      7\u001b[0m \u001b[1;33m\u001b[0m\u001b[0m\n\u001b[0;32m      8\u001b[0m \u001b[1;31m# Was war da los in Bruchsal\u001b[0m\u001b[1;33m\u001b[0m\u001b[1;33m\u001b[0m\u001b[1;33m\u001b[0m\u001b[0m\n",
      "\u001b[1;31mTypeError\u001b[0m: hiking() takes 0 positional arguments but 3 were given"
     ]
    }
   ],
   "source": [
    "# eigene Funktion erstellen\n",
    "def hiking():\n",
    "    ___\n",
    "\n",
    "# Schnell unterwegs in Zermatt\n",
    "hiking(10.5,3,\"Zermatt\")\n",
    "\n",
    "# Was war da los in Bruchsal\n",
    "hiking(6,4,\"Bruchsal\")"
   ]
  },
  {
   "cell_type": "markdown",
   "metadata": {},
   "source": [
    "### Aufgabe 5\n",
    "#### Pizzabelag\n",
    "Wir haben vor einiger Zeit eine .txt Datei mit einer Zutatenliste für unsere Lieblingspizza angelegt.\n",
    "- Öffne und lese die Datei *Pizza.txt*.\n",
    "- Füge der Liste drei weitere Zutaten hinzu und schreibe diese Liste in eine neue .txt Datei mit dem Namen *Pizza_neu*.txt*.\n",
    "- Vergiss nicht, die Dateien wieder zu schließen."
   ]
  },
  {
   "cell_type": "code",
   "execution_count": 72,
   "metadata": {},
   "outputs": [],
   "source": [
    "## Pizzabelag\n",
    "# Öffnen und Lesen\n",
    "\n",
    "\n",
    "# Neue Zutaten hinzufügen\n",
    "\n",
    "\n",
    "# Dateien schließen"
   ]
  },
  {
   "cell_type": "markdown",
   "metadata": {},
   "source": [
    "## ENDE"
   ]
  }
 ],
 "metadata": {
  "kernelspec": {
   "display_name": "Python 3",
   "language": "python",
   "name": "python3"
  },
  "language_info": {
   "codemirror_mode": {
    "name": "ipython",
    "version": 3
   },
   "file_extension": ".py",
   "mimetype": "text/x-python",
   "name": "python",
   "nbconvert_exporter": "python",
   "pygments_lexer": "ipython3",
   "version": "3.7.10"
  }
 },
 "nbformat": 4,
 "nbformat_minor": 4
}
