{
 "cells": [
  {
   "cell_type": "markdown",
   "metadata": {
    "slideshow": {
     "slide_type": "slide"
    }
   },
   "source": [
    "# Geodatenanalyse 1\n",
    "\n",
    "\n",
    "## Termin 1 - Block 2\n",
    "\n",
    "## Variablen und Datentypen"
   ]
  },
  {
   "cell_type": "markdown",
   "metadata": {
    "slideshow": {
     "slide_type": "slide"
    }
   },
   "source": [
    "## Inhalt\n",
    "- Variablen und einfache Datentypen\n",
    "- Listen\n",
    "- Schleifen\n",
    "- Dictionaries\n",
    "- Wenn - Dann Bedingungen\n",
    "- Benutzereingabe und While\n",
    "- Funktionen\n",
    "- Dateien lesen und schreiben"
   ]
  },
  {
   "cell_type": "markdown",
   "metadata": {
    "slideshow": {
     "slide_type": "slide"
    }
   },
   "source": [
    "## Python als Taschenrechner\n",
    "Python kann für einfache Rechenoperationen genutzt werden!"
   ]
  },
  {
   "cell_type": "code",
   "execution_count": 1,
   "metadata": {
    "slideshow": {
     "slide_type": "-"
    }
   },
   "outputs": [
    {
     "name": "stdout",
     "output_type": "stream",
     "text": [
      "5\n",
      "1\n"
     ]
    }
   ],
   "source": [
    "# Addieren und Subtrahieren\n",
    "print(3 + 2)\n",
    "print(3 - 2)"
   ]
  },
  {
   "cell_type": "code",
   "execution_count": null,
   "metadata": {
    "slideshow": {
     "slide_type": "fragment"
    }
   },
   "outputs": [],
   "source": [
    "# Multiplizieren und Dividieren\n",
    "print(3 * 2)\n",
    "print(6 / 2)"
   ]
  },
  {
   "cell_type": "code",
   "execution_count": null,
   "metadata": {
    "slideshow": {
     "slide_type": "fragment"
    }
   },
   "outputs": [],
   "source": [
    "# Exponenten und Modulus\n",
    "print(3 ** 2)\n",
    "print(16 % 3)"
   ]
  },
  {
   "cell_type": "markdown",
   "metadata": {
    "slideshow": {
     "slide_type": "slide"
    }
   },
   "source": [
    "## Variablen und Zuweisung von Werten\n",
    "- Werte lassen sich Variablen zuweisen und einfach abrufen.\n",
    "- Variablen in Python sind **case-sensitive**. Das heißt Groß- und Kleinschreibung ist zu beachten.\n",
    "\n",
    "#### Werte\n",
    "940 cm<sup>3</sup>\\\n",
    "1880 g"
   ]
  },
  {
   "cell_type": "code",
   "execution_count": null,
   "metadata": {
    "slideshow": {
     "slide_type": "-"
    }
   },
   "outputs": [],
   "source": [
    "# Werte zuweisen\n",
    "volume = 940\n",
    "mass   = 1880\n",
    "\n",
    "print(volume)\n",
    "print(mass)"
   ]
  },
  {
   "cell_type": "markdown",
   "metadata": {
    "slideshow": {
     "slide_type": "subslide"
    }
   },
   "source": [
    "### Beispiel: Dichte berechnen\n",
    "$$\\rho = \\frac{m}{V}$$\n",
    "\n",
    "#### Werte\n",
    "940 cm<sup>3</sup>\\\n",
    "1880 g"
   ]
  },
  {
   "cell_type": "code",
   "execution_count": null,
   "metadata": {
    "slideshow": {
     "slide_type": "-"
    }
   },
   "outputs": [],
   "source": [
    "# Mit den Werten\n",
    "1880 / 940"
   ]
  },
  {
   "cell_type": "code",
   "execution_count": null,
   "metadata": {
    "slideshow": {
     "slide_type": "fragment"
    }
   },
   "outputs": [],
   "source": [
    "# Mit den Variablen\n",
    "volume = 940\n",
    "mass   = 1880\n",
    "\n",
    "mass / volume"
   ]
  },
  {
   "cell_type": "code",
   "execution_count": null,
   "metadata": {
    "slideshow": {
     "slide_type": "fragment"
    }
   },
   "outputs": [],
   "source": [
    "# einer neuen Variablen zugewiesen\n",
    "density = mass / volume\n",
    "density"
   ]
  },
  {
   "cell_type": "markdown",
   "metadata": {
    "slideshow": {
     "slide_type": "subslide"
    }
   },
   "source": [
    "## Reproduzierbarkeit der Ergebnisse\n",
    "Wenn wir einen beliebigen Variablenwert verändern, wird dieser für alle nachfolgenden Berechnungen angepasst."
   ]
  },
  {
   "cell_type": "code",
   "execution_count": null,
   "metadata": {
    "slideshow": {
     "slide_type": "-"
    }
   },
   "outputs": [],
   "source": [
    "# Maße eines Metallquader\n",
    "length  = 18.8 # verändern\n",
    "width   = 10.0\n",
    "height  = 5.0\n",
    "\n",
    "# Resultierendes Volumen\n",
    "volume  = length * width * height\n",
    "\n",
    "# Dichteberechnung\n",
    "mass    = 1880\n",
    "density = mass / volume\n",
    "\n",
    "print(density)"
   ]
  },
  {
   "cell_type": "markdown",
   "metadata": {
    "slideshow": {
     "slide_type": "slide"
    }
   },
   "source": [
    "## Datentypen in Python\n",
    "In Python wird der Datentyp festgelegt, sobald einer Variable ein Wert zu gewiesen wird. Zur einfachen Überprüfung des Datentyp lässt sich die <span style=\"color:red\">*type*</span> Funktion verwenden."
   ]
  },
  {
   "cell_type": "code",
   "execution_count": null,
   "metadata": {
    "slideshow": {
     "slide_type": "-"
    }
   },
   "outputs": [],
   "source": [
    "print(density)\n",
    "type(density)"
   ]
  },
  {
   "cell_type": "markdown",
   "metadata": {
    "slideshow": {
     "slide_type": "-"
    }
   },
   "source": [
    "Der Datentyp <span style=\"color:red\">*float*</span> steht in Python für Reelle Zahlen $\\mathbb{R}$ mit einem ganzzahligen Teil und einem Bruchteil."
   ]
  },
  {
   "cell_type": "markdown",
   "metadata": {
    "slideshow": {
     "slide_type": "fragment"
    }
   },
   "source": [
    "#### Erklärung\n",
    "*float* ist Englisch für *schweben*. Vor und nach dem Komma gibt es keine festgelegte Anzahl an Ziffern; das Komma ist also flexibel und schwebt sozusagen."
   ]
  },
  {
   "cell_type": "code",
   "execution_count": null,
   "metadata": {
    "slideshow": {
     "slide_type": "fragment"
    }
   },
   "outputs": [],
   "source": [
    "students = 13\n",
    "print(students)\n",
    "type(students)"
   ]
  },
  {
   "cell_type": "markdown",
   "metadata": {
    "slideshow": {
     "slide_type": "subslide"
    }
   },
   "source": [
    "## Datentypen in Python (2)\n",
    "Neben Datentypen für Zahlen wie <span style=\"color:red\">*int*</span> und <span style=\"color:red\">*float*</span> gibt es in Python noch viele mehr. Zu den Wichtigsten und am häufigsten verwendeten gehören:\n",
    "\n",
    "- **boolean**: Ja / Nein Abfrage; Zugehörigkeit und Filtern von Daten\n",
    "- **string**:  Text"
   ]
  },
  {
   "cell_type": "code",
   "execution_count": null,
   "metadata": {
    "slideshow": {
     "slide_type": "fragment"
    }
   },
   "outputs": [],
   "source": [
    "a = True  # Ja\n",
    "b = False # Nein\n",
    "type(a)"
   ]
  },
  {
   "cell_type": "code",
   "execution_count": null,
   "metadata": {
    "slideshow": {
     "slide_type": "fragment"
    }
   },
   "outputs": [],
   "source": [
    "x = \"Hello World\"\n",
    "y = 'foo'\n",
    "type(x)"
   ]
  },
  {
   "cell_type": "markdown",
   "metadata": {
    "slideshow": {
     "slide_type": "slide"
    }
   },
   "source": [
    "## Listen\n",
    "- können **mehrere Variablen / Elemente** und damit eine Vielzahl an Informationen enthalten "
   ]
  },
  {
   "cell_type": "code",
   "execution_count": null,
   "metadata": {
    "slideshow": {
     "slide_type": "-"
    }
   },
   "outputs": [],
   "source": [
    "# mehrere Variablen\n",
    "mountain1 = \"Belchen\"\n",
    "mountain2 = \"Feldberg\"\n",
    "mountain3 = \"Kandel\"\n",
    "mountain4 = \"Herzogenhorn\"\n",
    "\n",
    "# eine Liste\n",
    "mountains = [mountain1, mountain2, mountain3, mountain4]\n",
    "print(mountains)"
   ]
  },
  {
   "cell_type": "markdown",
   "metadata": {
    "slideshow": {
     "slide_type": "fragment"
    }
   },
   "source": [
    "Eine Liste <span style=\"color:red\">*list*</span> ist in Python durch eckige Klammern <span style=\"color:red\">[ ]</span> gekennzeichnet "
   ]
  },
  {
   "cell_type": "markdown",
   "metadata": {
    "slideshow": {
     "slide_type": "subslide"
    }
   },
   "source": [
    "### Besonderheiten\n",
    "- Eine Liste kann Elemente mit **beliebigen Datentypen** enthalten. Zum Beispiel <span style=\"color:red\">*str*</span> und <span style=\"color:red\">*int*</span>: "
   ]
  },
  {
   "cell_type": "code",
   "execution_count": null,
   "metadata": {
    "slideshow": {
     "slide_type": "-"
    }
   },
   "outputs": [],
   "source": [
    "mountain_heights = [\"Belchen\", 1414, mountain2, 1493, mountain3, 1241, mountain4, 1415]\n",
    "print(mountain_heights)"
   ]
  },
  {
   "cell_type": "markdown",
   "metadata": {
    "slideshow": {
     "slide_type": "fragment"
    }
   },
   "source": [
    "- die Elemente einer Liste müssen **nicht** miteinander **verknüpft** sein:"
   ]
  },
  {
   "cell_type": "code",
   "execution_count": null,
   "metadata": {
    "slideshow": {
     "slide_type": "-"
    }
   },
   "outputs": [],
   "source": [
    "random_list = [\"yellow\", 3.1415, \"Gustav\", 42]\n",
    "print(random_list)"
   ]
  },
  {
   "cell_type": "markdown",
   "metadata": {
    "slideshow": {
     "slide_type": "fragment"
    }
   },
   "source": [
    "- auch die **Liste** selbst ist ein Datentyp in Python:"
   ]
  },
  {
   "cell_type": "code",
   "execution_count": null,
   "metadata": {
    "slideshow": {
     "slide_type": "-"
    }
   },
   "outputs": [],
   "source": [
    "# Liste als Datentyp -> Liste von Listen: \"nested list\"\n",
    "mountain_heights = [[mountain1, 1414], [mountain2, 1493], [mountain3, 1241], [mountain4, 1415]]\n",
    "print(mountain_heights)"
   ]
  },
  {
   "cell_type": "markdown",
   "metadata": {
    "slideshow": {
     "slide_type": "-"
    }
   },
   "source": [
    "> Anything you want can be put in a *list*  "
   ]
  },
  {
   "cell_type": "markdown",
   "metadata": {
    "slideshow": {
     "slide_type": "-"
    }
   },
   "source": [
    "#### Tipp\n",
    "Eine Liste enthält in der Regel eine Vielzahl von Elementen. Wähle den Plural bei der Namensgebung (z.B. *names*, *colors*, *values*)!"
   ]
  },
  {
   "cell_type": "markdown",
   "metadata": {
    "slideshow": {
     "slide_type": "subslide"
    }
   },
   "source": [
    "## Listen (2)\n",
    "### Elemente und Indizes\n",
    "Die Elemente einer Liste haben eine **bestimmte Reihenfolge**. Deshalb kann über die Position in der Liste, bzw. den <span style=\"color:red\">*Index*</span>, auf jedes Element gezielt zugegriffen werden.\n"
   ]
  },
  {
   "cell_type": "code",
   "execution_count": null,
   "metadata": {
    "slideshow": {
     "slide_type": "-"
    }
   },
   "outputs": [],
   "source": [
    "print(\"Der zweite Berg in unserer Liste mit dem Namen\", mountains[1], \"hat den Index 1!\")"
   ]
  },
  {
   "cell_type": "markdown",
   "metadata": {
    "slideshow": {
     "slide_type": "-"
    }
   },
   "source": [
    "Ein bestimmtes Element einer Liste lässt sich also abrufen durch:\n",
    "\n",
    "```Python\n",
    "Liste[Index]\n",
    "```"
   ]
  },
  {
   "cell_type": "markdown",
   "metadata": {
    "slideshow": {
     "slide_type": "fragment"
    }
   },
   "source": [
    "#### Achtung\n",
    "In Python ist das erste Element einer Liste an Position 0, nicht 1!\n",
    "\n",
    "```Python\n",
    "mountains = [\"Belchen\",\"Feldberg\",\"Kandel\",\"Herzogenhorn\"]\n",
    "```"
   ]
  },
  {
   "cell_type": "markdown",
   "metadata": {
    "slideshow": {
     "slide_type": "subslide"
    }
   },
   "source": [
    "### Beispiel: Verwendung einzelner Elemente"
   ]
  },
  {
   "cell_type": "code",
   "execution_count": null,
   "metadata": {
    "slideshow": {
     "slide_type": "-"
    }
   },
   "outputs": [],
   "source": [
    "#Liste 1 mit Elementen vom Datentype string\n",
    "mountains = [\"Belchen\",\"Feldberg\",\"Kandel\",\"Herzogenhorn\"]\n",
    "\n",
    "#Liste 2 mit Elementen vom Datentype integer\n",
    "heights = [1414,1493,1241,1415]\n",
    "\n",
    "# Beide Listen lassen sich indizieren um den passenden Wert für die Nachricht zu entnehmen\n",
    "message = \"Der höchste Berg im Schwarzwald ist der \" + mountains[1] + \" mit \" + str(heights[1]) + \" Metern.\"\n",
    "print(message)"
   ]
  },
  {
   "cell_type": "markdown",
   "metadata": {
    "slideshow": {
     "slide_type": "subslide"
    }
   },
   "source": [
    "## Listen (3)\n",
    "### Verändern, Hinzufügen und Entfernen von Elementen\n",
    "\n",
    "Die meißten Listen werden **dynamisch** erstellt. Das heißt, sie werden im Laufe einer Anwendung verändert, indem Elemente zum Beispiel hinzugefügt oder gelöscht werden."
   ]
  },
  {
   "cell_type": "markdown",
   "metadata": {
    "slideshow": {
     "slide_type": "fragment"
    }
   },
   "source": [
    "#### Verändern\n",
    "Die Elemente einer Liste lassen sich durch eine **Neuzuweisung** über den Index direkt überschreiben."
   ]
  },
  {
   "cell_type": "code",
   "execution_count": null,
   "metadata": {
    "slideshow": {
     "slide_type": "-"
    }
   },
   "outputs": [],
   "source": [
    "mountains = [\"Belchen\",\"Feldberg\",\"Kandel\",\"Herzogenhorn\"]\n",
    "print(mountains)"
   ]
  },
  {
   "cell_type": "code",
   "execution_count": null,
   "metadata": {
    "slideshow": {
     "slide_type": "-"
    }
   },
   "outputs": [],
   "source": [
    "mountains[0] = \"Schauinsland\"\n",
    "print(mountains)"
   ]
  },
  {
   "cell_type": "markdown",
   "metadata": {
    "slideshow": {
     "slide_type": "subslide"
    }
   },
   "source": [
    "#### Hinzufügen\n",
    "Zusätzliche Elemente können entweder am Ender der Liste mit der Funktion <span style=\"color:red\">*append()*</span> \"angehängt\" werden, oder über den Index an einer bestimmten Position innerhalb der Liste mit der Funktion <span style=\"color:red\">*insert()*</span> eingefügt werden.\n",
    "\n",
    "```Python\n",
    "list.append()\n",
    "\n",
    "list.insert()\n",
    "```"
   ]
  },
  {
   "cell_type": "code",
   "execution_count": null,
   "metadata": {
    "slideshow": {
     "slide_type": "-"
    }
   },
   "outputs": [],
   "source": [
    "# Anhängen von Elementen am Ende der Liste\n",
    "mountains = [] # leere Liste\n",
    "\n",
    "mountains.append(\"Belchen\")\n",
    "mountains.append(\"Kandel\")\n",
    "mountains.append(\"Herzogenhorn\")\n",
    "print(mountains)"
   ]
  },
  {
   "cell_type": "code",
   "execution_count": null,
   "metadata": {
    "slideshow": {
     "slide_type": "fragment"
    }
   },
   "outputs": [],
   "source": [
    "# Einfügen von Elementen\n",
    "mountains.insert(1, \"Feldberg\")\n",
    "print(mountains)"
   ]
  },
  {
   "cell_type": "markdown",
   "metadata": {
    "slideshow": {
     "slide_type": "subslide"
    }
   },
   "source": [
    "#### Entfernen\n",
    "Es gibt mehrere Möglichkeiten Elemente aus einer Liste zu entfernen. Welche Funktion die Richtige ist, hängt davon ab, ob:\n",
    "- man den Eintrag per **Index** <span style=\"color:red\">*del*</span> \n",
    "- oder per **Wert** <span style=\"color:red\">*remove()*</span> entfernen möchte\n",
    "- und man diesen für spätere Operationen noch benötigt <span style=\"color:red\">*pop()*</span>.\n",
    "\n",
    "```Python\n",
    "del list[index]\n",
    "\n",
    "list.remove()\n",
    "\n",
    "list.pop()\n",
    "```"
   ]
  },
  {
   "cell_type": "code",
   "execution_count": null,
   "metadata": {
    "slideshow": {
     "slide_type": "-"
    }
   },
   "outputs": [],
   "source": [
    "# Entfernen eines Elements an einer bestimmten Position\n",
    "del mountains[3]\n",
    "print(mountains)"
   ]
  },
  {
   "cell_type": "code",
   "execution_count": null,
   "metadata": {
    "slideshow": {
     "slide_type": "fragment"
    }
   },
   "outputs": [],
   "source": [
    "# Entfernen eines Elements mit einem bestimmten Wert\n",
    "mountains = [\"Belchen\",\"Feldberg\",\"Kandel\",\"Herzogenhorn\"]\n",
    "mountains.remove(\"Kandel\")\n",
    "print(mountains)"
   ]
  },
  {
   "cell_type": "code",
   "execution_count": null,
   "metadata": {
    "slideshow": {
     "slide_type": "fragment"
    }
   },
   "outputs": [],
   "source": [
    "# Entfernen und Weiterverwenden eines Elements\n",
    "mountains = [\"Belchen\",\"Feldberg\",\"Kandel\",\"Herzogenhorn\"]\n",
    "visited = mountains.pop(0)\n",
    "print(mountains)\n",
    "print(visited)"
   ]
  },
  {
   "cell_type": "markdown",
   "metadata": {
    "slideshow": {
     "slide_type": "slide"
    }
   },
   "source": [
    "## Listen (4)\n",
    "### *Slicing* - Zerteilen einer Liste\n",
    "Durch <span style=\"color:red\">*slicing*</span> lässt sich eine Teilmenge, bzw einen Wertebereich <span style=\"color:red\">*range*</span> aus mehreren Elementen einer Liste erstellen.\n",
    "\n",
    "```Python\n",
    "list[start:stop]\n",
    "```"
   ]
  },
  {
   "cell_type": "code",
   "execution_count": null,
   "metadata": {
    "slideshow": {
     "slide_type": "fragment"
    }
   },
   "outputs": [],
   "source": [
    "# Liste mit Buchstaben\n",
    "letters = [\"K\",\"a\",\"n\",\"d\",\"e\",\"l\"]\n",
    "\n",
    "# Teilmenge einer Liste\n",
    "print(letters[1:4])"
   ]
  },
  {
   "cell_type": "markdown",
   "metadata": {
    "slideshow": {
     "slide_type": "fragment"
    }
   },
   "source": [
    "<img style=\"float: right;\" src=\"Images\\Indexing.png\">"
   ]
  },
  {
   "cell_type": "markdown",
   "metadata": {
    "slideshow": {
     "slide_type": "slide"
    }
   },
   "source": [
    "#### vom Anfang, und bis zum Ende\n",
    "Der Start- und Stopwert können jeweils auch weggelassen werden, um alle Wert der ursprünglichen Liste **bis zu** oder **ab einem bestimmten Index** in die Teilmenge mit einzubeziehen.\n",
    "```Python\n",
    "list[start:]\n",
    "``` \n",
    "oder\n",
    "```Python\n",
    "list[:stop]\n",
    "```"
   ]
  },
  {
   "cell_type": "code",
   "execution_count": null,
   "metadata": {
    "slideshow": {
     "slide_type": "fragment"
    }
   },
   "outputs": [],
   "source": [
    "print(letters[:2])\n",
    "print(letters[2:])"
   ]
  },
  {
   "cell_type": "markdown",
   "metadata": {
    "slideshow": {
     "slide_type": "-"
    }
   },
   "source": [
    "<img style=\"float: right;\" src=\"Images\\idx_p2.png\">"
   ]
  },
  {
   "cell_type": "markdown",
   "metadata": {
    "slideshow": {
     "slide_type": "subslide"
    }
   },
   "source": [
    "#### Überspringen\n",
    "Das *slicing* kann durch einen weiteren Wert ergänzt werden, um eine Sprungweite <span style=\"color:red\">*step*</span> anzugeben.\n",
    "```Python\n",
    "list[start:stop:step]\n",
    "```"
   ]
  },
  {
   "cell_type": "code",
   "execution_count": null,
   "metadata": {
    "slideshow": {
     "slide_type": "fragment"
    }
   },
   "outputs": [],
   "source": [
    "print(letters[0:5:2])"
   ]
  },
  {
   "cell_type": "markdown",
   "metadata": {
    "slideshow": {
     "slide_type": "-"
    }
   },
   "source": [
    "<img style=\"float: right;\" src=\"Images\\idx_p3.png\">"
   ]
  },
  {
   "cell_type": "markdown",
   "metadata": {
    "slideshow": {
     "slide_type": "subslide"
    }
   },
   "source": [
    "#### Negativer Index\n",
    "Eine Liste kann auch **rückwärts** indiziiert werden. Das kann besonders hilfreich sein, wenn die zuletzt hinzugefügten Werte einer Liste von Interesse sind. Zum Beispiel nach Verwenden der <span style=\"color:red\">*append*</span> Funktion."
   ]
  },
  {
   "cell_type": "code",
   "execution_count": null,
   "metadata": {
    "slideshow": {
     "slide_type": "-"
    }
   },
   "outputs": [],
   "source": [
    "print(letters[-3:])"
   ]
  },
  {
   "cell_type": "markdown",
   "metadata": {
    "slideshow": {
     "slide_type": "-"
    }
   },
   "source": [
    "<img style=\"float: right;\" src=\"Images\\idx_p4.png\">"
   ]
  },
  {
   "cell_type": "markdown",
   "metadata": {
    "slideshow": {
     "slide_type": "slide"
    }
   },
   "source": [
    "## Listen (5)\n",
    "### Schleifen\n",
    "Häufig möchte man für alle Elemente einer Liste die selbe Operation durchführen. Je länger die Liste, desto aufwendiger wird es jedes Element einzeln aufzurufen. Mit der <span style=\"color:red\">*for*</span> Schleife (*loop*) können **Operationen auf eine beliebige Anzahl an Elemente** einer Liste effizient **angewendet** werden."
   ]
  },
  {
   "cell_type": "code",
   "execution_count": null,
   "metadata": {
    "slideshow": {
     "slide_type": "fragment"
    }
   },
   "outputs": [],
   "source": [
    "# einfaches Beispiel: Eine Liste mit Baumarten\n",
    "trees = [\"Eiche\",\"Buche\",\"Birke\"]\n",
    "\n",
    "# Start der Schleife\n",
    "for tree in trees:\n",
    "    # Operation\n",
    "    print(tree)       "
   ]
  },
  {
   "cell_type": "markdown",
   "metadata": {
    "slideshow": {
     "slide_type": "-"
    }
   },
   "source": [
    "- Der Doppelpunkt markiert den Start der Schleife\n",
    "- Der Code mit der Operation wird eingerückt (Tab)"
   ]
  },
  {
   "cell_type": "markdown",
   "metadata": {
    "slideshow": {
     "slide_type": "subslide"
    }
   },
   "source": [
    "#### Eine Schleife kann auch mehrere Operationen enthalten:"
   ]
  },
  {
   "cell_type": "code",
   "execution_count": null,
   "metadata": {
    "slideshow": {
     "slide_type": "-"
    }
   },
   "outputs": [],
   "source": [
    "# Schleife mit zwei Operationen\n",
    "for tree in trees:\n",
    "    print(\"Die\",tree, \"ist ein Baum.\")\n",
    "    print(\"Ich werde heute eine\", tree, \"pflanzen.\" +\"\\n\")\n",
    "\n",
    "# Operation außerhalb der Schleife    \n",
    "print(trees)    "
   ]
  },
  {
   "cell_type": "markdown",
   "metadata": {
    "slideshow": {
     "slide_type": "slide"
    }
   },
   "source": [
    "\n",
    "## Listen (6)\n",
    "### Nützliche Tools für numerische Listen\n",
    "Listen sind besonders für das Speichern von Zahlen geeignet. Python bietet einige hilfreiche Werkzeuge und Funktionen für eine effiziente und schnelle Verarbeitung. Hierzu gehört zum Beispiel die <span style=\"color:red\">*range()*</span> Funktion. Damit lassen sich schnell **einfache Zahlenabfolgen** generieren. Genau wie beim *slicing* wird unser Wertebereich, also *range* durch einen **Startwert**, **Stopwert**, und optional eine **Sprungweite** angegeben.\n",
    "\n",
    "```Python\n",
    "range(start,stop,step)\n",
    "```"
   ]
  },
  {
   "cell_type": "code",
   "execution_count": null,
   "metadata": {
    "slideshow": {
     "slide_type": "-"
    }
   },
   "outputs": [],
   "source": [
    "# numerische Liste\n",
    "numbers = list(range(1,10))\n",
    "print(numbers)"
   ]
  },
  {
   "cell_type": "code",
   "execution_count": null,
   "metadata": {
    "slideshow": {
     "slide_type": "-"
    }
   },
   "outputs": [],
   "source": [
    "# numerische liste mit Sprungweite 2\n",
    "numbers_2 = list(range(1,10,2))\n",
    "print(numbers_2)"
   ]
  },
  {
   "cell_type": "code",
   "execution_count": null,
   "metadata": {
    "slideshow": {
     "slide_type": "subslide"
    }
   },
   "outputs": [],
   "source": [
    "# Looping direkt mit der range Funktion\n",
    "for value in range(1,5):\n",
    "    print(value)"
   ]
  },
  {
   "cell_type": "code",
   "execution_count": null,
   "metadata": {
    "slideshow": {
     "slide_type": "fragment"
    }
   },
   "outputs": [],
   "source": [
    "# Oder als Liste, auch hier kann, wenn nötig, einfach indiziert werden\n",
    "for value in numbers[:5]:\n",
    "    print(value)"
   ]
  },
  {
   "cell_type": "markdown",
   "metadata": {
    "slideshow": {
     "slide_type": "subslide"
    }
   },
   "source": [
    "### List comprehension\n",
    "In Python gibt es außerdem eine schnelle und elegante Möglichkeit eine Operation in einer Schleife auszuführen und direkt in eine Liste zu überführen."
   ]
  },
  {
   "cell_type": "code",
   "execution_count": null,
   "metadata": {
    "slideshow": {
     "slide_type": "-"
    }
   },
   "outputs": [],
   "source": [
    "numbers = range(1,5)\n",
    "calculated = [number**2 for number in numbers]\n",
    "print(calculated)"
   ]
  },
  {
   "cell_type": "markdown",
   "metadata": {
    "slideshow": {
     "slide_type": "slide"
    }
   },
   "source": [
    "## Dictionaries\n",
    "Ein weiterer Datentyp in Python ist das *Dictionary* <font color=\"red\">dict</font>. Dabei handelt es sich um eine Zuordnungstabelle mit folgenden Besonderheiten:\n",
    "\n",
    "- Schlüssel - Objekt/Element Paare -> klare Zuordnung (assoziative Datenfelder) \n",
    "- Schlüssel können auch nicht-numerisch sein\n",
    "- in der Regel keine festgelegte Reihenfolge"
   ]
  },
  {
   "cell_type": "code",
   "execution_count": null,
   "metadata": {
    "slideshow": {
     "slide_type": "-"
    }
   },
   "outputs": [],
   "source": [
    "# Leeres dictionary\n",
    "person_1 = {}\n",
    "\n",
    "print(type(person_1))"
   ]
  },
  {
   "cell_type": "markdown",
   "metadata": {
    "slideshow": {
     "slide_type": "-"
    }
   },
   "source": [
    "Ein Dictionary <span style=\"color:red\">*dict*</span> ist in Python durch geschweifte Klammern <span style=\"color:red\">{ }</span> gekennzeichnet "
   ]
  },
  {
   "cell_type": "markdown",
   "metadata": {
    "slideshow": {
     "slide_type": "subslide"
    }
   },
   "source": [
    "### Eine kurze Einführung zu Schlüssel - Objekt Paaren"
   ]
  },
  {
   "cell_type": "code",
   "execution_count": null,
   "metadata": {
    "slideshow": {
     "slide_type": "-"
    }
   },
   "outputs": [],
   "source": [
    "# Daten zu einer Person\n",
    "person_1 = {\"name\":\"Max\",\"age\":\"25\",\"height\":\"1.78\"}\n",
    "print(person_1)"
   ]
  },
  {
   "cell_type": "markdown",
   "metadata": {
    "slideshow": {
     "slide_type": "fragment"
    }
   },
   "source": [
    "Syntax für den Zugriff auf einen bestimmten Wert innerhalb eines *Dictionaries*:\\\n",
    "    ```dict[\"Schlüssel\"]```"
   ]
  },
  {
   "cell_type": "code",
   "execution_count": null,
   "metadata": {
    "slideshow": {
     "slide_type": "-"
    }
   },
   "outputs": [],
   "source": [
    "print(person_1[\"age\"])\n",
    "print(person_1[\"height\"])"
   ]
  },
  {
   "cell_type": "markdown",
   "metadata": {
    "slideshow": {
     "slide_type": "subslide"
    }
   },
   "source": [
    "#### Hinzufügen"
   ]
  },
  {
   "cell_type": "code",
   "execution_count": null,
   "metadata": {
    "slideshow": {
     "slide_type": "-"
    }
   },
   "outputs": [],
   "source": [
    "person_1[\"weight\"] = 72\n",
    "print(person_1)"
   ]
  },
  {
   "cell_type": "markdown",
   "metadata": {
    "slideshow": {
     "slide_type": "fragment"
    }
   },
   "source": [
    "#### Verändern\n",
    "Gleicher Syntax wie beim Hinzufügen von Werten. Einem Schlüssel kann einfach ein neuer Wert zugeordnet werden."
   ]
  },
  {
   "cell_type": "code",
   "execution_count": null,
   "metadata": {
    "slideshow": {
     "slide_type": "-"
    }
   },
   "outputs": [],
   "source": [
    "person_1[\"age\"] = 26\n",
    "print(person_1)"
   ]
  },
  {
   "cell_type": "markdown",
   "metadata": {
    "slideshow": {
     "slide_type": "-"
    }
   },
   "source": [
    "**Achtung:** Es können nur unveränderliche (immutable) Datentypen als Schlüssel verwendet werden, also z.B. keine Listen."
   ]
  },
  {
   "cell_type": "markdown",
   "metadata": {
    "slideshow": {
     "slide_type": "slide"
    }
   },
   "source": [
    "## Wenn-Dann Bedingungen\n",
    "Mit sogenannten **bedingten Anweisungen** kann in Python festgelegt werden, unter welchen Bedingungen eine oder mehrere Operationen ausgeführt, oder gar ignoriert werden sollen. Das ermöglicht komplexe, verzweigte und damit nicht-lineare Code-Strukturen."
   ]
  },
  {
   "cell_type": "code",
   "execution_count": null,
   "metadata": {
    "slideshow": {
     "slide_type": "fragment"
    }
   },
   "outputs": [],
   "source": [
    "# Liste\n",
    "mountain_heights = [1414, 1493, 1241, 1415]\n",
    "\n",
    "# Schleife\n",
    "for height in mountain_heights:\n",
    "    # bedingte Anweisung\n",
    "    if height == 1493:\n",
    "        print(str(height) + \" Meter!\",\"Es könnte sich um den Feldberg handeln!\")\n",
    "    else:\n",
    "        print(\"Der Berg hat eine Höhe von\", str(height) + \" Meter!\")"
   ]
  },
  {
   "cell_type": "markdown",
   "metadata": {
    "slideshow": {
     "slide_type": "subslide"
    }
   },
   "source": [
    "### Bedingter Test\n",
    "Jeder bedingten Anweisung liegt ein sogenannter **bedingter Test** (*conditional test*) zugrunde. Ein Ausdruck, der entweder wahr oder falsch ist.\n",
    "\n",
    "> Vergleich eines **Istwert** mit einem **Sollwert**"
   ]
  },
  {
   "cell_type": "markdown",
   "metadata": {
    "slideshow": {
     "slide_type": "fragment"
    }
   },
   "source": [
    "#### gleiche Werte"
   ]
  },
  {
   "cell_type": "code",
   "execution_count": null,
   "metadata": {
    "slideshow": {
     "slide_type": "-"
    }
   },
   "outputs": [],
   "source": [
    "# Variable (Istwert) festlegen\n",
    "tree = \"Eiche\"\n",
    "# Vergleich mit Sollwert\n",
    "tree == \"Eiche\""
   ]
  },
  {
   "cell_type": "markdown",
   "metadata": {
    "slideshow": {
     "slide_type": "fragment"
    }
   },
   "source": [
    "#### ungleiche Werte"
   ]
  },
  {
   "cell_type": "code",
   "execution_count": null,
   "metadata": {
    "slideshow": {
     "slide_type": "-"
    }
   },
   "outputs": [],
   "source": [
    "tree != \"Buche\""
   ]
  },
  {
   "cell_type": "markdown",
   "metadata": {
    "slideshow": {
     "slide_type": "subslide"
    }
   },
   "source": [
    "#### numerische Vergleiche\n",
    "Mit Hilfe gängiger mathematischer Operatoren"
   ]
  },
  {
   "cell_type": "code",
   "execution_count": null,
   "metadata": {
    "slideshow": {
     "slide_type": "-"
    }
   },
   "outputs": [],
   "source": [
    "# Istwert\n",
    "height = 100\n",
    "# Sollwert\n",
    "height > 200"
   ]
  },
  {
   "cell_type": "code",
   "execution_count": null,
   "metadata": {
    "slideshow": {
     "slide_type": "fragment"
    }
   },
   "outputs": [],
   "source": [
    "height >= 100"
   ]
  },
  {
   "cell_type": "code",
   "execution_count": null,
   "metadata": {
    "slideshow": {
     "slide_type": "fragment"
    }
   },
   "outputs": [],
   "source": [
    "height < 100"
   ]
  },
  {
   "cell_type": "code",
   "execution_count": null,
   "metadata": {
    "slideshow": {
     "slide_type": "fragment"
    }
   },
   "outputs": [],
   "source": [
    "height <= 100"
   ]
  },
  {
   "cell_type": "markdown",
   "metadata": {
    "slideshow": {
     "slide_type": "subslide"
    }
   },
   "source": [
    "#### Überprüfen mehrerer Bedingungen\n",
    "Um gleichzeitig zwei Bedingungen zu testen, können diese mit <span style=\"color:red\">*and*</span> verknüpft werden. Nur wenn **beide** Tests erfolgreich sind, wird das Gesamtergebnis mit *True* bewertet."
   ]
  },
  {
   "cell_type": "code",
   "execution_count": null,
   "metadata": {
    "slideshow": {
     "slide_type": "-"
    }
   },
   "outputs": [],
   "source": [
    "height1 = 150\n",
    "# AND Verknüpfung (eine Variable)\n",
    "height1 > 100 and height1 < 200"
   ]
  },
  {
   "cell_type": "code",
   "execution_count": null,
   "metadata": {
    "slideshow": {
     "slide_type": "fragment"
    }
   },
   "outputs": [],
   "source": [
    "height2 = 250\n",
    "# AND Verknüpfung (zwei Variablen)\n",
    "height1 > 100 and height2 <= 250"
   ]
  },
  {
   "cell_type": "markdown",
   "metadata": {
    "slideshow": {
     "slide_type": "fragment"
    }
   },
   "source": [
    "\n",
    "Ähnlich kann mit einer <span style=\"color:red\">*or*</span> Verknüfung getestet werden, ob **mindestens eine** der Bedingungen zutrifft.  \n"
   ]
  },
  {
   "cell_type": "code",
   "execution_count": null,
   "metadata": {
    "slideshow": {
     "slide_type": "-"
    }
   },
   "outputs": [],
   "source": [
    "# or Verknüpfung\n",
    "height1 > 100 or height2 > 300"
   ]
  },
  {
   "cell_type": "markdown",
   "metadata": {
    "slideshow": {
     "slide_type": "subslide"
    }
   },
   "source": [
    "#### Überprüfen anhand einer Liste\n",
    "Ein Wert kann in Python auch mit einer Listen abgeglichen werden, um zu testen, ob sich dieser darin wiederfindet oder nicht."
   ]
  },
  {
   "cell_type": "code",
   "execution_count": null,
   "metadata": {
    "slideshow": {
     "slide_type": "-"
    }
   },
   "outputs": [],
   "source": [
    "trees = [\"Eiche\",\"Buche\",\"Ahorn\"]\n",
    "# Überprüfen ob sich ein Wert in der Liste wiederfindet\n",
    "\"Eiche\" in trees"
   ]
  },
  {
   "cell_type": "code",
   "execution_count": null,
   "metadata": {
    "slideshow": {
     "slide_type": "-"
    }
   },
   "outputs": [],
   "source": [
    "\"Fichte\" in trees"
   ]
  },
  {
   "cell_type": "code",
   "execution_count": null,
   "metadata": {
    "slideshow": {
     "slide_type": "fragment"
    }
   },
   "outputs": [],
   "source": [
    "# Überprüfen ob sich ein Wert in der Liste nicht wiederfindet\n",
    "\"Fichte\" not in trees"
   ]
  },
  {
   "cell_type": "markdown",
   "metadata": {
    "slideshow": {
     "slide_type": "slide"
    }
   },
   "source": [
    "### Die if-Anweisung\n",
    "Bedingungen lassen sich verketten, um sehr spezifische Anweisungen umzusetzen"
   ]
  },
  {
   "cell_type": "code",
   "execution_count": null,
   "metadata": {
    "slideshow": {
     "slide_type": "-"
    }
   },
   "outputs": [],
   "source": [
    "populations = [3502, 12540, 37500, 80021, 361085]\n",
    "\n",
    "for population in populations:\n",
    "    # Bedingung 1\n",
    "    if population < 5000:\n",
    "        # Anweisung 1\n",
    "        print(population, \"Einwohner entsprechen einer Landgemeinde\")\n",
    "    # Bedingung 2 \n",
    "    elif population < 20000:\n",
    "        # Anweisung 2\n",
    "        print(population, \"Einwohner entsprechen einer Kleinstadt\")\n",
    "    # Bedingung 3 \n",
    "    elif population >= 20000 and population < 100000:\n",
    "        # Anweisung 3\n",
    "        print(population, \"Einwohner entsprechen einer Mittelstadt\")\n",
    "    # Bedingung 4    \n",
    "    else:\n",
    "        # Anweisung 4\n",
    "        print(population, \"Einwohner entsprechen einer Großstadt\")"
   ]
  },
  {
   "cell_type": "markdown",
   "metadata": {
    "slideshow": {
     "slide_type": "slide"
    }
   },
   "source": [
    "## Benutzereingabe und While\n",
    "### Die input() Funktion\n",
    "In dem meißten Fällen schreiben wir Scripte und Programme, die auf irgend eine Form der Dateneingabe zurückgreifen, um ein bestimmtes Problem zu lösen. Die Eingabe kann zum Beispiel aus einem lokalen Verzeichnis, einer Datenbank oder dem Internet erfolgen.\\\n",
    "Die **direkte Benutzereingabe** über die Tastatur wird in Python durch die Funktion <span style=\"color:red\">*input()*</span> ermöglicht."
   ]
  },
  {
   "cell_type": "code",
   "execution_count": null,
   "metadata": {
    "slideshow": {
     "slide_type": "-"
    }
   },
   "outputs": [],
   "source": [
    "name = input(\"Wie heißt du? \")\n",
    "print(\"Hallo \" + name + \"!\")"
   ]
  },
  {
   "cell_type": "markdown",
   "metadata": {
    "slideshow": {
     "slide_type": "fragment"
    }
   },
   "source": [
    "#### Hinweis\n",
    "- Die Funktion *input()* stoppt den Programmablauf.\n",
    "- Der Text innerhalb der *input()* Funktion wird auch als Benutzeraufforderung oder <span style=\"color:red\">*prompt*</span> bezeichnet. Dieser sollte möglichst klar und verständlich formuliert werden."
   ]
  },
  {
   "cell_type": "markdown",
   "metadata": {
    "slideshow": {
     "slide_type": "subslide"
    }
   },
   "source": [
    "Die Benutzereingabe durch *input()* wird in Python 3 **nicht** interpretiert, bzw. evaluiert. Was heißt das?"
   ]
  },
  {
   "cell_type": "code",
   "execution_count": null,
   "metadata": {
    "slideshow": {
     "slide_type": "-"
    }
   },
   "outputs": [],
   "source": [
    "size = input(\"Was ist deine Schuhgröße? \")\n",
    "print(type(size))"
   ]
  },
  {
   "cell_type": "markdown",
   "metadata": {
    "slideshow": {
     "slide_type": "fragment"
    }
   },
   "source": [
    "Wir können das Ergebnis von *input()* direkt in den gewünschten Datentyp überführen"
   ]
  },
  {
   "cell_type": "code",
   "execution_count": null,
   "metadata": {
    "slideshow": {
     "slide_type": "-"
    }
   },
   "outputs": [],
   "source": [
    "size = int(input(\"Was ist deine Schuhgröße? \"))\n",
    "print(type(size))"
   ]
  },
  {
   "cell_type": "markdown",
   "metadata": {
    "slideshow": {
     "slide_type": "fragment"
    }
   },
   "source": [
    "Oder Python den Datentyp mit Hilfe der <font color=\"red\">eval()</font> Funktion für uns evaluieren lassen"
   ]
  },
  {
   "cell_type": "code",
   "execution_count": null,
   "metadata": {
    "slideshow": {
     "slide_type": "-"
    }
   },
   "outputs": [],
   "source": [
    "size = eval(input(\"Was ist deine Schuhgröße? \"))\n",
    "print(type(size))"
   ]
  },
  {
   "cell_type": "markdown",
   "metadata": {
    "slideshow": {
     "slide_type": "subslide"
    }
   },
   "source": [
    "#### Ein einfaches Anwendungsbeispiel"
   ]
  },
  {
   "cell_type": "code",
   "execution_count": null,
   "metadata": {
    "slideshow": {
     "slide_type": "-"
    }
   },
   "outputs": [],
   "source": [
    "age = int(input(\"Wie alt bist du? \"))\n",
    "\n",
    "if age >= 18:\n",
    "    print(\"\\nDu bist\", 33,\"Jahre alt und damit alt genug für einen PKW Fuehrerschein! \")\n",
    "else:\n",
    "    print(\"\\nVielleicht nimmst du besser das Fahrrad! \")"
   ]
  },
  {
   "cell_type": "markdown",
   "metadata": {
    "slideshow": {
     "slide_type": "slide"
    }
   },
   "source": [
    "### Die while Schleife\n",
    "Im Gegensatz zur <span style=\"color:red\">*for*</span> Schleife, die zum Beispiel für jedes **Element einer Liste** eine Operation **genau einmal** ausführt, läuft die <span style=\"color:red\">*while*</span> Schleife so lange, wie eine **Bedingung** als **True** getestet wird!"
   ]
  },
  {
   "cell_type": "code",
   "execution_count": null,
   "metadata": {
    "slideshow": {
     "slide_type": "-"
    }
   },
   "outputs": [],
   "source": [
    "# Startwert\n",
    "number = 1\n",
    "# Schleife\n",
    "while number <= 4:\n",
    "    print(number)\n",
    "    number += 1"
   ]
  },
  {
   "cell_type": "markdown",
   "metadata": {
    "slideshow": {
     "slide_type": "fragment"
    }
   },
   "source": [
    "#### Hinweis\n",
    "Der **+=** Operator ist eine verkürzte Variante von:\\\n",
    "number <span style=\"color:red\">=</span> number <span style=\"color:red\">+</span> 1. "
   ]
  },
  {
   "cell_type": "markdown",
   "metadata": {
    "slideshow": {
     "slide_type": "subslide"
    }
   },
   "source": [
    "Eine <font color=\"red\">while</font> Schleife in Kombination mit einer Benutzereingabe ist ideal, um den Ablauf eines Scripts oder Programms von \"außen\" zu steuern. "
   ]
  },
  {
   "cell_type": "code",
   "execution_count": null,
   "metadata": {
    "slideshow": {
     "slide_type": "-"
    }
   },
   "outputs": [],
   "source": [
    "# unsere Benutzeraufforderung mit zwei Zeilen\n",
    "prompt = \"\\nHilfe, ich bin in einer while Schleife gefangen!\"\n",
    "prompt += \"\\nBitte gebe 'Beenden' ein, um mich zu befreien.\\n \"\n",
    "\n",
    "responds = \"\"\n",
    "while responds != \"Beenden\":\n",
    "    # Benutzereingabe\n",
    "    responds = input(prompt)\n",
    "    # Bedingte Anweisung\n",
    "    if responds == \"Beenden\":\n",
    "        print(\"Danke, du hast mich gerettet!\")\n",
    "    else:    \n",
    "        print(\"So wird das leider nichts!\")"
   ]
  },
  {
   "cell_type": "markdown",
   "metadata": {
    "slideshow": {
     "slide_type": "slide"
    }
   },
   "source": [
    "## Funktionen\n",
    "Eine Funktion in Python:\n",
    "- ist ein Stück wiederverwendbaren Codes\n",
    "- ist eine maßgeschneiderte Lösung für eine bestimmte Aufgabe oder Standardoperation\n",
    "- kann einem viel Arbeit ersparen. \n",
    "> Warum selbst einen Code schreiben, wenn jemand anderes einem bereits die optimale Lösung zur Verfügung stellt."
   ]
  },
  {
   "cell_type": "code",
   "execution_count": null,
   "metadata": {
    "slideshow": {
     "slide_type": "-"
    }
   },
   "outputs": [],
   "source": [
    "mountain_heights = [1414, 1493, 1241, 1415]\n",
    "\n",
    "min(mountain_heights)"
   ]
  },
  {
   "cell_type": "markdown",
   "metadata": {
    "slideshow": {
     "slide_type": "subslide"
    }
   },
   "source": [
    "Wir kennen bereits einige Funktionen in Python:\n",
    "- len()\n",
    "- type()\n",
    "- input()\n",
    "- eval()\n",
    "- range()"
   ]
  },
  {
   "cell_type": "code",
   "execution_count": null,
   "metadata": {
    "slideshow": {
     "slide_type": "-"
    }
   },
   "outputs": [],
   "source": [
    "print(len(mountain_heights))\n",
    "print(type(mountain_heights))"
   ]
  },
  {
   "cell_type": "markdown",
   "metadata": {
    "slideshow": {
     "slide_type": "subslide"
    }
   },
   "source": [
    "### Argumente und Parameter\n",
    "- Einer Funktion werden in der Regel Eingangswerte oder <font color=\"red\">Argumente</font> zur Auswertung übergeben.\n",
    "- Argumente werden innerhalb der runden Klammer **()** einem bestimmten \n",
    "<font color=\"red\">Parameter</font> der Funktion zugewiesen.\n",
    "\n",
    "Aber woher wissen wir, welche Parameter definiert sind?\n",
    "\n",
    "> *help()*"
   ]
  },
  {
   "cell_type": "markdown",
   "metadata": {
    "slideshow": {
     "slide_type": "fragment"
    }
   },
   "source": [
    "```help(range)```\n",
    "\n",
    "\n",
    "<img style=\"float: left;\" src=\"Images\\help.png\">\n",
    "\n",
    "\n",
    "#### Optionale Eingangswerte\n",
    "```[, Parameter]```"
   ]
  },
  {
   "cell_type": "markdown",
   "metadata": {
    "slideshow": {
     "slide_type": "subslide"
    }
   },
   "source": [
    "### Eigene Funktionen\n",
    "Gerade bei immer wiederkehrenden Aufgaben und Operationen kann es sinnvoll sein, mit dem dafür entwickelten Code eine eigene Funktion zu definieren."
   ]
  },
  {
   "cell_type": "code",
   "execution_count": null,
   "metadata": {
    "slideshow": {
     "slide_type": "-"
    }
   },
   "outputs": [],
   "source": [
    "number = 5\n",
    "\n",
    "def quadriert(x):\n",
    "    \"\"\"Eine Zahl quadrieren\"\"\"\n",
    "    x = x**2\n",
    "    print(x)\n",
    "\n",
    "quadriert(number)"
   ]
  },
  {
   "cell_type": "markdown",
   "metadata": {
    "slideshow": {
     "slide_type": "-"
    }
   },
   "source": [
    "Funktionen werden mit dem Schlüsselwort **def** eingeleitet!"
   ]
  },
  {
   "cell_type": "markdown",
   "metadata": {
    "slideshow": {
     "slide_type": "fragment"
    }
   },
   "source": [
    "#### Hinweis\n",
    "Standardmäßig sollte eine Dokumentation der Funktion am Beginn des Codeblocks als <span style=\"color:red\">*docsting*</span> angelegt werden.\n",
    "> **\"\"\"** Dokumentation **\"\"\"**"
   ]
  },
  {
   "cell_type": "markdown",
   "metadata": {
    "slideshow": {
     "slide_type": "subslide"
    }
   },
   "source": [
    "#### Ein erweitertes Beispiel"
   ]
  },
  {
   "cell_type": "code",
   "execution_count": null,
   "metadata": {
    "slideshow": {
     "slide_type": "fragment"
    }
   },
   "outputs": [],
   "source": [
    "mountain_heights = [1414, 1493, 1241, 1415]\n",
    "\n",
    "# Meter in Fuß umrechen\n",
    "def m_to_ft(liste):\n",
    "    \"\"\" Umrechnung von Meter in Fuß\"\"\"\n",
    "    out = [item * 3.281 for item in liste]\n",
    "    return out\n",
    "\n",
    "# Neue Variable mit Werten in Fuß\n",
    "mountain_heights_ft = m_to_ft(mountain_heights)  \n",
    "print(mountain_heights_ft)"
   ]
  },
  {
   "cell_type": "markdown",
   "metadata": {
    "slideshow": {
     "slide_type": "-"
    }
   },
   "source": [
    "Mit <span style=\"color:red\">*return*</span> am Ende der Funktion kann die Rückgabe des Ergebnis spezifizieren werden."
   ]
  },
  {
   "cell_type": "markdown",
   "metadata": {
    "slideshow": {
     "slide_type": "slide"
    }
   },
   "source": [
    "## Dateien lesen und schreiben\n",
    "Der Lese- und Schreibvorgang in Python ist ähnlich wie bei einem Buch. Wir müssen jede Datei zunächst **öffnen**, um darin **lesen** oder **schreiben** zu können. Und wenn wir damit fertig sind, sollte die Datei auch wieder **geschlossen** werden.\n",
    "\n",
    "Hier eine kleine Einführung anhand des **txt** Dateiformat.\n",
    "\n",
    "<img style=\"float: right;\" src=\"Images\\book.png\" alt=\"drawing\" width=\"800\"/>"
   ]
  },
  {
   "cell_type": "code",
   "execution_count": null,
   "metadata": {
    "slideshow": {
     "slide_type": "-"
    }
   },
   "outputs": [],
   "source": [
    "# Pfad zu einer Textdatei mit den Monatsnamen\n",
    "path = \"Daten\\Monate.txt\""
   ]
  },
  {
   "cell_type": "markdown",
   "metadata": {
    "slideshow": {
     "slide_type": "subslide"
    }
   },
   "source": [
    "### Datei öffnen\n",
    "Die <span style=\"color:red\">*open*</span> Funktion benötigt als erstes Argumente einen Pfad zur Datei. Optional, aber wichtig, ist die Wahl des <font color=\"red\">mode</font> Parameter.\\\n",
    "\n",
    "\n",
    "Die wichtigsten *mode* Optionen sind:\\\n",
    "```\"r\"```: reading (lesen)\\\n",
    "```\"w\"```: writing (schreiben)\\\n",
    "```\"a\"```: appending (anhängen)\\\n",
    "```\"r+\"```: reading + writing in der gleichen Datei"
   ]
  },
  {
   "cell_type": "code",
   "execution_count": null,
   "metadata": {
    "slideshow": {
     "slide_type": "-"
    }
   },
   "outputs": [],
   "source": [
    "# Datei im Lesemodus öffnen\n",
    "month_file = open(path,\"r\")"
   ]
  },
  {
   "cell_type": "markdown",
   "metadata": {
    "slideshow": {
     "slide_type": "subslide"
    }
   },
   "source": [
    "### Datei lesen\n",
    "Es gibt mehrere Möglichkeiten eine Datei zu lesen:\\\n",
    "\n",
    "```<file>.read()```: gibt den gesamter Inhalt als einen zusammenhängenden String aus\\\n",
    "```<file>.readline()```: gibt die nächste Zeile der Datei aus\\\n",
    "```<file>.readlines()```: gibt eine Liste aller Zeilen in der Datei aus"
   ]
  },
  {
   "cell_type": "code",
   "execution_count": null,
   "metadata": {
    "slideshow": {
     "slide_type": "fragment"
    }
   },
   "outputs": [],
   "source": [
    "# Die komplette Datei lesen\n",
    "month_file.read()  "
   ]
  },
  {
   "cell_type": "markdown",
   "metadata": {
    "slideshow": {
     "slide_type": "-"
    }
   },
   "source": [
    "#### Achtung\n",
    "Einmal gelesen, kann eine Datei nicht noch einmal aus der gleichen Dateivariable (month_file) gelesen werden."
   ]
  },
  {
   "cell_type": "code",
   "execution_count": null,
   "metadata": {
    "slideshow": {
     "slide_type": "fragment"
    }
   },
   "outputs": [],
   "source": [
    "# gibt die nächste Zeile in der Datei aus\n",
    "month_file = open(path,\"r\")\n",
    "month_file.readline()"
   ]
  },
  {
   "cell_type": "code",
   "execution_count": null,
   "metadata": {
    "slideshow": {
     "slide_type": "fragment"
    }
   },
   "outputs": [],
   "source": [
    "# gibt eine Liste der Zeilen in der Datei wider\n",
    "month_file = open(path,\"r\")\n",
    "month_file.readlines()"
   ]
  },
  {
   "cell_type": "markdown",
   "metadata": {
    "slideshow": {
     "slide_type": "subslide"
    }
   },
   "source": [
    "### Datei schreiben\n",
    "Um in eine Datei schreiben zu können, müssen wir beim öffnen den Schreibmodus **\"w\"** aktivieren. "
   ]
  },
  {
   "cell_type": "code",
   "execution_count": null,
   "metadata": {
    "slideshow": {
     "slide_type": "-"
    }
   },
   "outputs": [],
   "source": [
    "## Lese die Monatsnamen aus der alten Datei\n",
    "path = \"Daten\\Monate.txt\"\n",
    "# open mit \"read\" mode\n",
    "month_file = open(path,\"r\")\n",
    "# read\n",
    "month = month_file.read()"
   ]
  },
  {
   "cell_type": "code",
   "execution_count": null,
   "metadata": {
    "slideshow": {
     "slide_type": "-"
    }
   },
   "outputs": [],
   "source": [
    "## Erstelle eine neue Datei\n",
    "new_path = \"Daten\\Monate_mit_Titel.txt\"\n",
    "# open mit \"write\" mode\n",
    "new_month_file = open(new_path,\"w\")\n",
    "\n",
    "# Titel, den wir unserer neuen Datei hinzufügen möchten\n",
    "title = \"Kalendermonate\\n\"\n",
    "\n",
    "# write\n",
    "new_month_file.write(title)\n",
    "new_month_file.write(month)"
   ]
  },
  {
   "cell_type": "markdown",
   "metadata": {
    "slideshow": {
     "slide_type": "-"
    }
   },
   "source": [
    "#### Achtung\n",
    "Der ursprüngliche Inhalt einer bereits existierenden Datei die im Schreibmodus **\"w\"** geöffnet wird, wird **gelöscht**."
   ]
  },
  {
   "cell_type": "markdown",
   "metadata": {
    "slideshow": {
     "slide_type": "subslide"
    }
   },
   "source": [
    "#### Datei schließen\n",
    "Damit wird die Datei komplett geschlossen. Wichtig weil:\n",
    "- Windows behandelt offene Dateien generell als gesperrt (kein Schreibzugriff).\n",
    "- Auswirkung auf Performance durch RAM Belegung.\n",
    "- Python hat zwar eine auto-close Funktion, aber es ist nicht klar wann und ob eine Datei geschlossen wird."
   ]
  },
  {
   "cell_type": "code",
   "execution_count": null,
   "metadata": {
    "slideshow": {
     "slide_type": "-"
    }
   },
   "outputs": [],
   "source": [
    "# alte und neue Datei schließen\n",
    "month_file.close()\n",
    "new_month_file.close()"
   ]
  },
  {
   "cell_type": "code",
   "execution_count": null,
   "metadata": {
    "scrolled": true,
    "slideshow": {
     "slide_type": "fragment"
    }
   },
   "outputs": [],
   "source": [
    "# Neue Datei anschauen\n",
    "new_month_file = open(new_path,\"r\")\n",
    "print(new_month_file.read()) \n",
    "new_month_file.close()"
   ]
  },
  {
   "cell_type": "markdown",
   "metadata": {
    "slideshow": {
     "slide_type": "slide"
    }
   },
   "source": [
    "## Dictionaries\n",
    "Ein weiterer Datentyp in Python ist das *Dictionary* <font color=\"red\">dict</font>. Dabei handelt es sich um eine Zuordnungstabelle mit folgenden Besonderheiten:\n",
    "\n",
    "- Schlüssel - Objekt/Element Paare -> klare Zuordnung (assoziative Datenfelder) \n",
    "- Schlüssel können auch nicht-numerisch sein\n",
    "- in der Regel keine festgelegte Reihenfolge"
   ]
  },
  {
   "cell_type": "code",
   "execution_count": null,
   "metadata": {
    "slideshow": {
     "slide_type": "-"
    }
   },
   "outputs": [],
   "source": [
    "# Leeres dictionary\n",
    "person_1 = {}\n",
    "\n",
    "print(type(person_1))"
   ]
  },
  {
   "cell_type": "markdown",
   "metadata": {
    "slideshow": {
     "slide_type": "-"
    }
   },
   "source": [
    "Ein Dictionary <span style=\"color:red\">*dict*</span> ist in Python durch geschweifte Klammern <span style=\"color:red\">{ }</span> gekennzeichnet "
   ]
  },
  {
   "cell_type": "markdown",
   "metadata": {
    "slideshow": {
     "slide_type": "subslide"
    }
   },
   "source": [
    "### Eine kurze Einführung zu Schlüssel - Objekt Paaren"
   ]
  },
  {
   "cell_type": "code",
   "execution_count": null,
   "metadata": {
    "slideshow": {
     "slide_type": "-"
    }
   },
   "outputs": [],
   "source": [
    "# Daten zu einer Person\n",
    "person_1 = {\"name\":\"Max\",\"age\":\"25\",\"height\":\"1.78\"}\n",
    "print(person_1)"
   ]
  },
  {
   "cell_type": "markdown",
   "metadata": {
    "slideshow": {
     "slide_type": "fragment"
    }
   },
   "source": [
    "Syntax für den Zugriff auf einen bestimmten Wert innerhalb eines *Dictionaries*:\\\n",
    "    ```dict[\"Schlüssel\"]```"
   ]
  },
  {
   "cell_type": "code",
   "execution_count": null,
   "metadata": {
    "slideshow": {
     "slide_type": "-"
    }
   },
   "outputs": [],
   "source": [
    "print(person_1[\"age\"])\n",
    "print(person_1[\"height\"])"
   ]
  },
  {
   "cell_type": "markdown",
   "metadata": {
    "slideshow": {
     "slide_type": "subslide"
    }
   },
   "source": [
    "#### Hinzufügen"
   ]
  },
  {
   "cell_type": "code",
   "execution_count": null,
   "metadata": {
    "slideshow": {
     "slide_type": "-"
    }
   },
   "outputs": [],
   "source": [
    "person_1[\"weight\"] = 72\n",
    "print(person_1)"
   ]
  },
  {
   "cell_type": "markdown",
   "metadata": {
    "slideshow": {
     "slide_type": "fragment"
    }
   },
   "source": [
    "#### Verändern\n",
    "Gleicher Syntax wie beim Hinzufügen von Werten. Einem Schlüssel kann einfach ein neuer Wert zugeordnet werden."
   ]
  },
  {
   "cell_type": "code",
   "execution_count": null,
   "metadata": {
    "slideshow": {
     "slide_type": "-"
    }
   },
   "outputs": [],
   "source": [
    "person_1[\"age\"] = 26\n",
    "print(person_1)"
   ]
  },
  {
   "cell_type": "markdown",
   "metadata": {
    "slideshow": {
     "slide_type": "-"
    }
   },
   "source": [
    "**Achtung:** Es können nur unveränderliche (immutable) Datentypen als Schlüssel verwendet werden, also z.B. keine Listen."
   ]
  },
  {
   "cell_type": "markdown",
   "metadata": {
    "slideshow": {
     "slide_type": "slide"
    }
   },
   "source": [
    "## Wenn-Dann Bedingungen\n",
    "Mit sogenannten **bedingten Anweisungen** kann in Python festgelegt werden, unter welchen Bedingungen eine oder mehrere Operationen ausgeführt, oder gar ignoriert werden sollen. Das ermöglicht komplexe, verzweigte und damit nicht-lineare Code-Strukturen."
   ]
  },
  {
   "cell_type": "code",
   "execution_count": null,
   "metadata": {
    "slideshow": {
     "slide_type": "fragment"
    }
   },
   "outputs": [],
   "source": [
    "# Liste\n",
    "mountain_heights = [1414, 1493, 1241, 1415]\n",
    "\n",
    "# Schleife\n",
    "for height in mountain_heights:\n",
    "    # bedingte Anweisung\n",
    "    if height == 1493:\n",
    "        print(str(height) + \" Meter!\",\"Es könnte sich um den Feldberg handeln!\")\n",
    "    else:\n",
    "        print(\"Der Berg hat eine Höhe von\", str(height) + \" Meter!\")"
   ]
  },
  {
   "cell_type": "markdown",
   "metadata": {
    "slideshow": {
     "slide_type": "subslide"
    }
   },
   "source": [
    "### Bedingter Test\n",
    "Jeder bedingten Anweisung liegt ein sogenannter **bedingter Test** (*conditional test*) zugrunde. Ein Ausdruck, der entweder wahr oder falsch ist.\n",
    "\n",
    "> Vergleich eines **Istwert** mit einem **Sollwert**"
   ]
  },
  {
   "cell_type": "markdown",
   "metadata": {
    "slideshow": {
     "slide_type": "fragment"
    }
   },
   "source": [
    "#### gleiche Werte"
   ]
  },
  {
   "cell_type": "code",
   "execution_count": null,
   "metadata": {
    "slideshow": {
     "slide_type": "-"
    }
   },
   "outputs": [],
   "source": [
    "# Variable (Istwert) festlegen\n",
    "tree = \"Eiche\"\n",
    "# Vergleich mit Sollwert\n",
    "tree == \"Eiche\""
   ]
  },
  {
   "cell_type": "markdown",
   "metadata": {
    "slideshow": {
     "slide_type": "fragment"
    }
   },
   "source": [
    "#### ungleiche Werte"
   ]
  },
  {
   "cell_type": "code",
   "execution_count": null,
   "metadata": {
    "slideshow": {
     "slide_type": "-"
    }
   },
   "outputs": [],
   "source": [
    "tree != \"Buche\""
   ]
  },
  {
   "cell_type": "markdown",
   "metadata": {
    "slideshow": {
     "slide_type": "subslide"
    }
   },
   "source": [
    "#### numerische Vergleiche\n",
    "Mit Hilfe gängiger mathematischer Operatoren"
   ]
  },
  {
   "cell_type": "code",
   "execution_count": null,
   "metadata": {
    "slideshow": {
     "slide_type": "-"
    }
   },
   "outputs": [],
   "source": [
    "# Istwert\n",
    "height = 100\n",
    "# Sollwert\n",
    "height > 200"
   ]
  },
  {
   "cell_type": "code",
   "execution_count": null,
   "metadata": {
    "slideshow": {
     "slide_type": "fragment"
    }
   },
   "outputs": [],
   "source": [
    "height >= 100"
   ]
  },
  {
   "cell_type": "code",
   "execution_count": null,
   "metadata": {
    "slideshow": {
     "slide_type": "fragment"
    }
   },
   "outputs": [],
   "source": [
    "height < 100"
   ]
  },
  {
   "cell_type": "code",
   "execution_count": null,
   "metadata": {
    "slideshow": {
     "slide_type": "fragment"
    }
   },
   "outputs": [],
   "source": [
    "height <= 100"
   ]
  },
  {
   "cell_type": "markdown",
   "metadata": {
    "slideshow": {
     "slide_type": "subslide"
    }
   },
   "source": [
    "#### Überprüfen mehrerer Bedingungen\n",
    "Um gleichzeitig zwei Bedingungen zu testen, können diese mit <span style=\"color:red\">*and*</span> verknüpft werden. Nur wenn **beide** Tests erfolgreich sind, wird das Gesamtergebnis mit *True* bewertet."
   ]
  },
  {
   "cell_type": "code",
   "execution_count": null,
   "metadata": {
    "slideshow": {
     "slide_type": "-"
    }
   },
   "outputs": [],
   "source": [
    "height1 = 150\n",
    "# AND Verknüpfung (eine Variable)\n",
    "height1 > 100 and height1 < 200"
   ]
  },
  {
   "cell_type": "code",
   "execution_count": null,
   "metadata": {
    "slideshow": {
     "slide_type": "fragment"
    }
   },
   "outputs": [],
   "source": [
    "height2 = 250\n",
    "# AND Verknüpfung (zwei Variablen)\n",
    "height1 > 100 and height2 <= 250"
   ]
  },
  {
   "cell_type": "markdown",
   "metadata": {
    "slideshow": {
     "slide_type": "fragment"
    }
   },
   "source": [
    "\n",
    "Ähnlich kann mit einer <span style=\"color:red\">*or*</span> Verknüfung getestet werden, ob **mindestens eine** der Bedingungen zutrifft.  \n"
   ]
  },
  {
   "cell_type": "code",
   "execution_count": null,
   "metadata": {
    "slideshow": {
     "slide_type": "-"
    }
   },
   "outputs": [],
   "source": [
    "# or Verknüpfung\n",
    "height1 > 100 or height2 > 300"
   ]
  },
  {
   "cell_type": "markdown",
   "metadata": {
    "slideshow": {
     "slide_type": "subslide"
    }
   },
   "source": [
    "#### Überprüfen anhand einer Liste\n",
    "Ein Wert kann in Python auch mit einer Listen abgeglichen werden, um zu testen, ob sich dieser darin wiederfindet oder nicht."
   ]
  },
  {
   "cell_type": "code",
   "execution_count": null,
   "metadata": {
    "slideshow": {
     "slide_type": "-"
    }
   },
   "outputs": [],
   "source": [
    "trees = [\"Eiche\",\"Buche\",\"Ahorn\"]\n",
    "# Überprüfen ob sich ein Wert in der Liste wiederfindet\n",
    "\"Eiche\" in trees"
   ]
  },
  {
   "cell_type": "code",
   "execution_count": null,
   "metadata": {
    "slideshow": {
     "slide_type": "-"
    }
   },
   "outputs": [],
   "source": [
    "\"Fichte\" in trees"
   ]
  },
  {
   "cell_type": "code",
   "execution_count": null,
   "metadata": {
    "slideshow": {
     "slide_type": "fragment"
    }
   },
   "outputs": [],
   "source": [
    "# Überprüfen ob sich ein Wert in der Liste nicht wiederfindet\n",
    "\"Fichte\" not in trees"
   ]
  },
  {
   "cell_type": "markdown",
   "metadata": {
    "slideshow": {
     "slide_type": "slide"
    }
   },
   "source": [
    "### Die if-Anweisung\n",
    "Bedingungen lassen sich verketten, um sehr spezifische Anweisungen umzusetzen"
   ]
  },
  {
   "cell_type": "code",
   "execution_count": null,
   "metadata": {
    "slideshow": {
     "slide_type": "-"
    }
   },
   "outputs": [],
   "source": [
    "populations = [3502, 12540, 37500, 80021, 361085]\n",
    "\n",
    "for population in populations:\n",
    "    # Bedingung 1\n",
    "    if population < 5000:\n",
    "        # Anweisung 1\n",
    "        print(population, \"Einwohner entsprechen einer Landgemeinde\")\n",
    "    # Bedingung 2 \n",
    "    elif population < 20000:\n",
    "        # Anweisung 2\n",
    "        print(population, \"Einwohner entsprechen einer Kleinstadt\")\n",
    "    # Bedingung 3 \n",
    "    elif population >= 20000 and population < 100000:\n",
    "        # Anweisung 3\n",
    "        print(population, \"Einwohner entsprechen einer Mittelstadt\")\n",
    "    # Bedingung 4    \n",
    "    else:\n",
    "        # Anweisung 4\n",
    "        print(population, \"Einwohner entsprechen einer Großstadt\")"
   ]
  },
  {
   "cell_type": "markdown",
   "metadata": {
    "slideshow": {
     "slide_type": "slide"
    }
   },
   "source": [
    "## Benutzereingabe und While\n",
    "### Die input() Funktion\n",
    "In dem meißten Fällen schreiben wir Scripte und Programme, die auf irgend eine Form der Dateneingabe zurückgreifen, um ein bestimmtes Problem zu lösen. Die Eingabe kann zum Beispiel aus einem lokalen Verzeichnis, einer Datenbank oder dem Internet erfolgen.\\\n",
    "Die **direkte Benutzereingabe** über die Tastatur wird in Python durch die Funktion <span style=\"color:red\">*input()*</span> ermöglicht."
   ]
  },
  {
   "cell_type": "code",
   "execution_count": null,
   "metadata": {
    "slideshow": {
     "slide_type": "-"
    }
   },
   "outputs": [],
   "source": [
    "name = input(\"Wie heißt du? \")\n",
    "print(\"Hallo \" + name + \"!\")"
   ]
  },
  {
   "cell_type": "markdown",
   "metadata": {
    "slideshow": {
     "slide_type": "fragment"
    }
   },
   "source": [
    "#### Hinweis\n",
    "- Die Funktion *input()* stoppt den Programmablauf.\n",
    "- Der Text innerhalb der *input()* Funktion wird auch als Benutzeraufforderung oder <span style=\"color:red\">*prompt*</span> bezeichnet. Dieser sollte möglichst klar und verständlich formuliert werden."
   ]
  },
  {
   "cell_type": "markdown",
   "metadata": {
    "slideshow": {
     "slide_type": "subslide"
    }
   },
   "source": [
    "Die Benutzereingabe durch *input()* wird in Python 3 **nicht** interpretiert, bzw. evaluiert. Was heißt das?"
   ]
  },
  {
   "cell_type": "code",
   "execution_count": null,
   "metadata": {
    "slideshow": {
     "slide_type": "-"
    }
   },
   "outputs": [],
   "source": [
    "size = input(\"Was ist deine Schuhgröße? \")\n",
    "print(type(size))"
   ]
  },
  {
   "cell_type": "markdown",
   "metadata": {
    "slideshow": {
     "slide_type": "fragment"
    }
   },
   "source": [
    "Wir können das Ergebnis von *input()* direkt in den gewünschten Datentyp überführen"
   ]
  },
  {
   "cell_type": "code",
   "execution_count": null,
   "metadata": {
    "slideshow": {
     "slide_type": "-"
    }
   },
   "outputs": [],
   "source": [
    "size = int(input(\"Was ist deine Schuhgröße? \"))\n",
    "print(type(size))"
   ]
  },
  {
   "cell_type": "markdown",
   "metadata": {
    "slideshow": {
     "slide_type": "fragment"
    }
   },
   "source": [
    "Oder Python den Datentyp mit Hilfe der <font color=\"red\">eval()</font> Funktion für uns evaluieren lassen"
   ]
  },
  {
   "cell_type": "code",
   "execution_count": null,
   "metadata": {
    "slideshow": {
     "slide_type": "-"
    }
   },
   "outputs": [],
   "source": [
    "size = eval(input(\"Was ist deine Schuhgröße? \"))\n",
    "print(type(size))"
   ]
  },
  {
   "cell_type": "markdown",
   "metadata": {
    "slideshow": {
     "slide_type": "subslide"
    }
   },
   "source": [
    "#### Ein einfaches Anwendungsbeispiel"
   ]
  },
  {
   "cell_type": "code",
   "execution_count": null,
   "metadata": {
    "slideshow": {
     "slide_type": "-"
    }
   },
   "outputs": [],
   "source": [
    "age = int(input(\"Wie alt bist du? \"))\n",
    "\n",
    "if age >= 18:\n",
    "    print(\"\\nDu bist\", 33,\"Jahre alt und damit alt genug für einen PKW Fuehrerschein! \")\n",
    "else:\n",
    "    print(\"\\nVielleicht nimmst du besser das Fahrrad! \")"
   ]
  },
  {
   "cell_type": "markdown",
   "metadata": {
    "slideshow": {
     "slide_type": "slide"
    }
   },
   "source": [
    "### Die while Schleife\n",
    "Im Gegensatz zur <span style=\"color:red\">*for*</span> Schleife, die zum Beispiel für jedes **Element einer Liste** eine Operation **genau einmal** ausführt, läuft die <span style=\"color:red\">*while*</span> Schleife so lange, wie eine **Bedingung** als **True** getestet wird!"
   ]
  },
  {
   "cell_type": "code",
   "execution_count": null,
   "metadata": {
    "slideshow": {
     "slide_type": "-"
    }
   },
   "outputs": [],
   "source": [
    "# Startwert\n",
    "number = 1\n",
    "# Schleife\n",
    "while number <= 4:\n",
    "    print(number)\n",
    "    number += 1"
   ]
  },
  {
   "cell_type": "markdown",
   "metadata": {
    "slideshow": {
     "slide_type": "fragment"
    }
   },
   "source": [
    "#### Hinweis\n",
    "Der **+=** Operator ist eine verkürzte Variante von:\\\n",
    "number <span style=\"color:red\">=</span> number <span style=\"color:red\">+</span> 1. "
   ]
  },
  {
   "cell_type": "markdown",
   "metadata": {
    "slideshow": {
     "slide_type": "subslide"
    }
   },
   "source": [
    "Eine <font color=\"red\">while</font> Schleife in Kombination mit einer Benutzereingabe ist ideal, um den Ablauf eines Scripts oder Programms von \"außen\" zu steuern. "
   ]
  },
  {
   "cell_type": "code",
   "execution_count": null,
   "metadata": {
    "slideshow": {
     "slide_type": "-"
    }
   },
   "outputs": [],
   "source": [
    "# unsere Benutzeraufforderung mit zwei Zeilen\n",
    "prompt = \"\\nHilfe, ich bin in einer while Schleife gefangen!\"\n",
    "prompt += \"\\nBitte gebe 'Beenden' ein, um mich zu befreien.\\n \"\n",
    "\n",
    "responds = \"\"\n",
    "while responds != \"Beenden\":\n",
    "    # Benutzereingabe\n",
    "    responds = input(prompt)\n",
    "    # Bedingte Anweisung\n",
    "    if responds == \"Beenden\":\n",
    "        print(\"Danke, du hast mich gerettet!\")\n",
    "    else:    \n",
    "        print(\"So wird das leider nichts!\")"
   ]
  },
  {
   "cell_type": "markdown",
   "metadata": {
    "slideshow": {
     "slide_type": "slide"
    }
   },
   "source": [
    "## Funktionen\n",
    "Eine Funktion in Python:\n",
    "- ist ein Stück wiederverwendbaren Codes\n",
    "- ist eine maßgeschneiderte Lösung für eine bestimmte Aufgabe oder Standardoperation\n",
    "- kann einem viel Arbeit ersparen. \n",
    "> Warum selbst einen Code schreiben, wenn jemand anderes einem bereits die optimale Lösung zur Verfügung stellt."
   ]
  },
  {
   "cell_type": "code",
   "execution_count": null,
   "metadata": {
    "slideshow": {
     "slide_type": "-"
    }
   },
   "outputs": [],
   "source": [
    "mountain_heights = [1414, 1493, 1241, 1415]\n",
    "\n",
    "min(mountain_heights)"
   ]
  },
  {
   "cell_type": "markdown",
   "metadata": {
    "slideshow": {
     "slide_type": "subslide"
    }
   },
   "source": [
    "Wir kennen bereits einige Funktionen in Python:\n",
    "- len()\n",
    "- type()\n",
    "- input()\n",
    "- eval()\n",
    "- range()"
   ]
  },
  {
   "cell_type": "code",
   "execution_count": null,
   "metadata": {
    "slideshow": {
     "slide_type": "-"
    }
   },
   "outputs": [],
   "source": [
    "print(len(mountain_heights))\n",
    "print(type(mountain_heights))"
   ]
  },
  {
   "cell_type": "markdown",
   "metadata": {
    "slideshow": {
     "slide_type": "subslide"
    }
   },
   "source": [
    "### Argumente und Parameter\n",
    "- Einer Funktion werden in der Regel Eingangswerte oder <font color=\"red\">Argumente</font> zur Auswertung übergeben.\n",
    "- Argumente werden innerhalb der runden Klammer **()** einem bestimmten \n",
    "<font color=\"red\">Parameter</font> der Funktion zugewiesen.\n",
    "\n",
    "Aber woher wissen wir, welche Parameter definiert sind?\n",
    "\n",
    "> *help()*"
   ]
  },
  {
   "cell_type": "markdown",
   "metadata": {
    "slideshow": {
     "slide_type": "fragment"
    }
   },
   "source": [
    "```help(range)```\n",
    "\n",
    "\n",
    "<img style=\"float: left;\" src=\"Images\\help.png\">\n",
    "\n",
    "\n",
    "#### Optionale Eingangswerte\n",
    "```[, Parameter]```"
   ]
  },
  {
   "cell_type": "markdown",
   "metadata": {
    "slideshow": {
     "slide_type": "subslide"
    }
   },
   "source": [
    "### Eigene Funktionen\n",
    "Gerade bei immer wiederkehrenden Aufgaben und Operationen kann es sinnvoll sein, mit dem dafür entwickelten Code eine eigene Funktion zu definieren."
   ]
  },
  {
   "cell_type": "code",
   "execution_count": null,
   "metadata": {
    "slideshow": {
     "slide_type": "-"
    }
   },
   "outputs": [],
   "source": [
    "number = 5\n",
    "\n",
    "def quadriert(x):\n",
    "    \"\"\"Eine Zahl quadrieren\"\"\"\n",
    "    x = x**2\n",
    "    print(x)\n",
    "\n",
    "quadriert(number)"
   ]
  },
  {
   "cell_type": "markdown",
   "metadata": {
    "slideshow": {
     "slide_type": "-"
    }
   },
   "source": [
    "Funktionen werden mit dem Schlüsselwort **def** eingeleitet!"
   ]
  },
  {
   "cell_type": "markdown",
   "metadata": {
    "slideshow": {
     "slide_type": "fragment"
    }
   },
   "source": [
    "#### Hinweis\n",
    "Standardmäßig sollte eine Dokumentation der Funktion am Beginn des Codeblocks als <span style=\"color:red\">*docsting*</span> angelegt werden.\n",
    "> **\"\"\"** Dokumentation **\"\"\"**"
   ]
  },
  {
   "cell_type": "markdown",
   "metadata": {
    "slideshow": {
     "slide_type": "subslide"
    }
   },
   "source": [
    "#### Ein erweitertes Beispiel"
   ]
  },
  {
   "cell_type": "code",
   "execution_count": null,
   "metadata": {
    "slideshow": {
     "slide_type": "fragment"
    }
   },
   "outputs": [],
   "source": [
    "mountain_heights = [1414, 1493, 1241, 1415]\n",
    "\n",
    "# Meter in Fuß umrechen\n",
    "def m_to_ft(liste):\n",
    "    \"\"\" Umrechnung von Meter in Fuß\"\"\"\n",
    "    out = [item * 3.281 for item in liste]\n",
    "    return out\n",
    "\n",
    "# Neue Variable mit Werten in Fuß\n",
    "mountain_heights_ft = m_to_ft(mountain_heights)  \n",
    "print(mountain_heights_ft)"
   ]
  },
  {
   "cell_type": "markdown",
   "metadata": {
    "slideshow": {
     "slide_type": "-"
    }
   },
   "source": [
    "Mit <span style=\"color:red\">*return*</span> am Ende der Funktion kann die Rückgabe des Ergebnis spezifizieren werden."
   ]
  },
  {
   "cell_type": "markdown",
   "metadata": {
    "slideshow": {
     "slide_type": "slide"
    }
   },
   "source": [
    "## Dateien lesen und schreiben\n",
    "Der Lese- und Schreibvorgang in Python ist ähnlich wie bei einem Buch. Wir müssen jede Datei zunächst **öffnen**, um darin **lesen** oder **schreiben** zu können. Und wenn wir damit fertig sind, sollte die Datei auch wieder **geschlossen** werden.\n",
    "\n",
    "Hier eine kleine Einführung anhand des **txt** Dateiformat.\n",
    "\n",
    "<img style=\"float: right;\" src=\"Images\\book.png\" alt=\"drawing\" width=\"800\"/>"
   ]
  },
  {
   "cell_type": "code",
   "execution_count": null,
   "metadata": {
    "slideshow": {
     "slide_type": "-"
    }
   },
   "outputs": [],
   "source": [
    "# Pfad zu einer Textdatei mit den Monatsnamen\n",
    "path = \"Daten\\Monate.txt\""
   ]
  },
  {
   "cell_type": "markdown",
   "metadata": {
    "slideshow": {
     "slide_type": "subslide"
    }
   },
   "source": [
    "### Datei öffnen\n",
    "Die <span style=\"color:red\">*open*</span> Funktion benötigt als erstes Argumente einen Pfad zur Datei. Optional, aber wichtig, ist die Wahl des <font color=\"red\">mode</font> Parameter.\\\n",
    "\n",
    "\n",
    "Die wichtigsten *mode* Optionen sind:\\\n",
    "```\"r\"```: reading (lesen)\\\n",
    "```\"w\"```: writing (schreiben)\\\n",
    "```\"a\"```: appending (anhängen)\\\n",
    "```\"r+\"```: reading + writing in der gleichen Datei"
   ]
  },
  {
   "cell_type": "code",
   "execution_count": null,
   "metadata": {
    "slideshow": {
     "slide_type": "-"
    }
   },
   "outputs": [],
   "source": [
    "# Datei im Lesemodus öffnen\n",
    "month_file = open(path,\"r\")"
   ]
  },
  {
   "cell_type": "markdown",
   "metadata": {
    "slideshow": {
     "slide_type": "subslide"
    }
   },
   "source": [
    "### Datei lesen\n",
    "Es gibt mehrere Möglichkeiten eine Datei zu lesen:\\\n",
    "\n",
    "```<file>.read()```: gibt den gesamter Inhalt als einen zusammenhängenden String aus\\\n",
    "```<file>.readline()```: gibt die nächste Zeile der Datei aus\\\n",
    "```<file>.readlines()```: gibt eine Liste aller Zeilen in der Datei aus"
   ]
  },
  {
   "cell_type": "code",
   "execution_count": null,
   "metadata": {
    "slideshow": {
     "slide_type": "fragment"
    }
   },
   "outputs": [],
   "source": [
    "# Die komplette Datei lesen\n",
    "month_file.read()  "
   ]
  },
  {
   "cell_type": "markdown",
   "metadata": {
    "slideshow": {
     "slide_type": "-"
    }
   },
   "source": [
    "#### Achtung\n",
    "Einmal gelesen, kann eine Datei nicht noch einmal aus der gleichen Dateivariable (month_file) gelesen werden."
   ]
  },
  {
   "cell_type": "code",
   "execution_count": null,
   "metadata": {
    "slideshow": {
     "slide_type": "fragment"
    }
   },
   "outputs": [],
   "source": [
    "# gibt die nächste Zeile in der Datei aus\n",
    "month_file = open(path,\"r\")\n",
    "month_file.readline()"
   ]
  },
  {
   "cell_type": "code",
   "execution_count": null,
   "metadata": {
    "slideshow": {
     "slide_type": "fragment"
    }
   },
   "outputs": [],
   "source": [
    "# gibt eine Liste der Zeilen in der Datei wider\n",
    "month_file = open(path,\"r\")\n",
    "month_file.readlines()"
   ]
  },
  {
   "cell_type": "markdown",
   "metadata": {
    "slideshow": {
     "slide_type": "subslide"
    }
   },
   "source": [
    "### Datei schreiben\n",
    "Um in eine Datei schreiben zu können, müssen wir beim öffnen den Schreibmodus **\"w\"** aktivieren. "
   ]
  },
  {
   "cell_type": "code",
   "execution_count": null,
   "metadata": {
    "slideshow": {
     "slide_type": "-"
    }
   },
   "outputs": [],
   "source": [
    "## Lese die Monatsnamen aus der alten Datei\n",
    "path = \"Daten\\Monate.txt\"\n",
    "# open mit \"read\" mode\n",
    "month_file = open(path,\"r\")\n",
    "# read\n",
    "month = month_file.read()"
   ]
  },
  {
   "cell_type": "code",
   "execution_count": null,
   "metadata": {
    "slideshow": {
     "slide_type": "-"
    }
   },
   "outputs": [],
   "source": [
    "## Erstelle eine neue Datei\n",
    "new_path = \"Daten\\Monate_mit_Titel.txt\"\n",
    "# open mit \"write\" mode\n",
    "new_month_file = open(new_path,\"w\")\n",
    "\n",
    "# Titel, den wir unserer neuen Datei hinzufügen möchten\n",
    "title = \"Kalendermonate\\n\"\n",
    "\n",
    "# write\n",
    "new_month_file.write(title)\n",
    "new_month_file.write(month)"
   ]
  },
  {
   "cell_type": "markdown",
   "metadata": {
    "slideshow": {
     "slide_type": "-"
    }
   },
   "source": [
    "#### Achtung\n",
    "Der ursprüngliche Inhalt einer bereits existierenden Datei die im Schreibmodus **\"w\"** geöffnet wird, wird **gelöscht**."
   ]
  },
  {
   "cell_type": "markdown",
   "metadata": {
    "slideshow": {
     "slide_type": "subslide"
    }
   },
   "source": [
    "#### Datei schließen\n",
    "Damit wird die Datei komplett geschlossen. Wichtig weil:\n",
    "- Windows behandelt offene Dateien generell als gesperrt (kein Schreibzugriff).\n",
    "- Auswirkung auf Performance durch RAM Belegung.\n",
    "- Python hat zwar eine auto-close Funktion, aber es ist nicht klar wann und ob eine Datei geschlossen wird."
   ]
  },
  {
   "cell_type": "code",
   "execution_count": null,
   "metadata": {
    "slideshow": {
     "slide_type": "-"
    }
   },
   "outputs": [],
   "source": [
    "# alte und neue Datei schließen\n",
    "month_file.close()\n",
    "new_month_file.close()"
   ]
  },
  {
   "cell_type": "code",
   "execution_count": null,
   "metadata": {
    "scrolled": true,
    "slideshow": {
     "slide_type": "fragment"
    }
   },
   "outputs": [],
   "source": [
    "# Neue Datei anschauen\n",
    "new_month_file = open(new_path,\"r\")\n",
    "print(new_month_file.read()) \n",
    "new_month_file.close()"
   ]
  },
  {
   "cell_type": "markdown",
   "metadata": {
    "slideshow": {
     "slide_type": "fragment"
    }
   },
   "source": [
    "## ENDE"
   ]
  },
  {
   "cell_type": "markdown",
   "metadata": {
    "slideshow": {
     "slide_type": "slide"
    }
   },
   "source": [
    "## Dictionaries\n",
    "Ein weiterer Datentyp in Python ist das *Dictionary* <font color=\"red\">dict</font>. Dabei handelt es sich um eine Zuordnungstabelle mit folgenden Besonderheiten:\n",
    "\n",
    "- Schlüssel - Objekt/Element Paare -> klare Zuordnung (assoziative Datenfelder) \n",
    "- Schlüssel können auch nicht-numerisch sein\n",
    "- in der Regel keine festgelegte Reihenfolge"
   ]
  },
  {
   "cell_type": "code",
   "execution_count": null,
   "metadata": {
    "slideshow": {
     "slide_type": "-"
    }
   },
   "outputs": [],
   "source": [
    "# Leeres dictionary\n",
    "person_1 = {}\n",
    "\n",
    "print(type(person_1))"
   ]
  },
  {
   "cell_type": "markdown",
   "metadata": {
    "slideshow": {
     "slide_type": "-"
    }
   },
   "source": [
    "Ein Dictionary <span style=\"color:red\">*dict*</span> ist in Python durch geschweifte Klammern <span style=\"color:red\">{ }</span> gekennzeichnet "
   ]
  },
  {
   "cell_type": "markdown",
   "metadata": {
    "slideshow": {
     "slide_type": "subslide"
    }
   },
   "source": [
    "### Eine kurze Einführung zu Schlüssel - Objekt Paaren"
   ]
  },
  {
   "cell_type": "code",
   "execution_count": null,
   "metadata": {
    "slideshow": {
     "slide_type": "-"
    }
   },
   "outputs": [],
   "source": [
    "# Daten zu einer Person\n",
    "person_1 = {\"name\":\"Max\",\"age\":\"25\",\"height\":\"1.78\"}\n",
    "print(person_1)"
   ]
  },
  {
   "cell_type": "markdown",
   "metadata": {
    "slideshow": {
     "slide_type": "fragment"
    }
   },
   "source": [
    "Syntax für den Zugriff auf einen bestimmten Wert innerhalb eines *Dictionaries*:\\\n",
    "    ```dict[\"Schlüssel\"]```"
   ]
  },
  {
   "cell_type": "code",
   "execution_count": null,
   "metadata": {
    "slideshow": {
     "slide_type": "-"
    }
   },
   "outputs": [],
   "source": [
    "print(person_1[\"age\"])\n",
    "print(person_1[\"height\"])"
   ]
  },
  {
   "cell_type": "markdown",
   "metadata": {
    "slideshow": {
     "slide_type": "subslide"
    }
   },
   "source": [
    "#### Hinzufügen"
   ]
  },
  {
   "cell_type": "code",
   "execution_count": null,
   "metadata": {
    "slideshow": {
     "slide_type": "-"
    }
   },
   "outputs": [],
   "source": [
    "person_1[\"weight\"] = 72\n",
    "print(person_1)"
   ]
  },
  {
   "cell_type": "markdown",
   "metadata": {
    "slideshow": {
     "slide_type": "fragment"
    }
   },
   "source": [
    "#### Verändern\n",
    "Gleicher Syntax wie beim Hinzufügen von Werten. Einem Schlüssel kann einfach ein neuer Wert zugeordnet werden."
   ]
  },
  {
   "cell_type": "code",
   "execution_count": null,
   "metadata": {
    "slideshow": {
     "slide_type": "-"
    }
   },
   "outputs": [],
   "source": [
    "person_1[\"age\"] = 26\n",
    "print(person_1)"
   ]
  },
  {
   "cell_type": "markdown",
   "metadata": {
    "slideshow": {
     "slide_type": "-"
    }
   },
   "source": [
    "**Achtung:** Es können nur unveränderliche (immutable) Datentypen als Schlüssel verwendet werden, also z.B. keine Listen."
   ]
  },
  {
   "cell_type": "markdown",
   "metadata": {
    "slideshow": {
     "slide_type": "slide"
    }
   },
   "source": [
    "## Wenn-Dann Bedingungen\n",
    "Mit sogenannten **bedingten Anweisungen** kann in Python festgelegt werden, unter welchen Bedingungen eine oder mehrere Operationen ausgeführt, oder gar ignoriert werden sollen. Das ermöglicht komplexe, verzweigte und damit nicht-lineare Code-Strukturen."
   ]
  },
  {
   "cell_type": "code",
   "execution_count": null,
   "metadata": {
    "slideshow": {
     "slide_type": "fragment"
    }
   },
   "outputs": [],
   "source": [
    "# Liste\n",
    "mountain_heights = [1414, 1493, 1241, 1415]\n",
    "\n",
    "# Schleife\n",
    "for height in mountain_heights:\n",
    "    # bedingte Anweisung\n",
    "    if height == 1493:\n",
    "        print(str(height) + \" Meter!\",\"Es könnte sich um den Feldberg handeln!\")\n",
    "    else:\n",
    "        print(\"Der Berg hat eine Höhe von\", str(height) + \" Meter!\")"
   ]
  },
  {
   "cell_type": "markdown",
   "metadata": {
    "slideshow": {
     "slide_type": "subslide"
    }
   },
   "source": [
    "### Bedingter Test\n",
    "Jeder bedingten Anweisung liegt ein sogenannter **bedingter Test** (*conditional test*) zugrunde. Ein Ausdruck, der entweder wahr oder falsch ist.\n",
    "\n",
    "> Vergleich eines **Istwert** mit einem **Sollwert**"
   ]
  },
  {
   "cell_type": "markdown",
   "metadata": {
    "slideshow": {
     "slide_type": "fragment"
    }
   },
   "source": [
    "#### gleiche Werte"
   ]
  },
  {
   "cell_type": "code",
   "execution_count": null,
   "metadata": {
    "slideshow": {
     "slide_type": "-"
    }
   },
   "outputs": [],
   "source": [
    "# Variable (Istwert) festlegen\n",
    "tree = \"Eiche\"\n",
    "# Vergleich mit Sollwert\n",
    "tree == \"Eiche\""
   ]
  },
  {
   "cell_type": "markdown",
   "metadata": {
    "slideshow": {
     "slide_type": "fragment"
    }
   },
   "source": [
    "#### ungleiche Werte"
   ]
  },
  {
   "cell_type": "code",
   "execution_count": null,
   "metadata": {
    "slideshow": {
     "slide_type": "-"
    }
   },
   "outputs": [],
   "source": [
    "tree != \"Buche\""
   ]
  },
  {
   "cell_type": "markdown",
   "metadata": {
    "slideshow": {
     "slide_type": "subslide"
    }
   },
   "source": [
    "#### numerische Vergleiche\n",
    "Mit Hilfe gängiger mathematischer Operatoren"
   ]
  },
  {
   "cell_type": "code",
   "execution_count": null,
   "metadata": {
    "slideshow": {
     "slide_type": "-"
    }
   },
   "outputs": [],
   "source": [
    "# Istwert\n",
    "height = 100\n",
    "# Sollwert\n",
    "height > 200"
   ]
  },
  {
   "cell_type": "code",
   "execution_count": null,
   "metadata": {
    "slideshow": {
     "slide_type": "fragment"
    }
   },
   "outputs": [],
   "source": [
    "height >= 100"
   ]
  },
  {
   "cell_type": "code",
   "execution_count": null,
   "metadata": {
    "slideshow": {
     "slide_type": "fragment"
    }
   },
   "outputs": [],
   "source": [
    "height < 100"
   ]
  },
  {
   "cell_type": "code",
   "execution_count": null,
   "metadata": {
    "slideshow": {
     "slide_type": "fragment"
    }
   },
   "outputs": [],
   "source": [
    "height <= 100"
   ]
  },
  {
   "cell_type": "markdown",
   "metadata": {
    "slideshow": {
     "slide_type": "subslide"
    }
   },
   "source": [
    "#### Überprüfen mehrerer Bedingungen\n",
    "Um gleichzeitig zwei Bedingungen zu testen, können diese mit <span style=\"color:red\">*and*</span> verknüpft werden. Nur wenn **beide** Tests erfolgreich sind, wird das Gesamtergebnis mit *True* bewertet."
   ]
  },
  {
   "cell_type": "code",
   "execution_count": null,
   "metadata": {
    "slideshow": {
     "slide_type": "-"
    }
   },
   "outputs": [],
   "source": [
    "height1 = 150\n",
    "# AND Verknüpfung (eine Variable)\n",
    "height1 > 100 and height1 < 200"
   ]
  },
  {
   "cell_type": "code",
   "execution_count": null,
   "metadata": {
    "slideshow": {
     "slide_type": "fragment"
    }
   },
   "outputs": [],
   "source": [
    "height2 = 250\n",
    "# AND Verknüpfung (zwei Variablen)\n",
    "height1 > 100 and height2 <= 250"
   ]
  },
  {
   "cell_type": "markdown",
   "metadata": {
    "slideshow": {
     "slide_type": "fragment"
    }
   },
   "source": [
    "\n",
    "Ähnlich kann mit einer <span style=\"color:red\">*or*</span> Verknüfung getestet werden, ob **mindestens eine** der Bedingungen zutrifft.  \n"
   ]
  },
  {
   "cell_type": "code",
   "execution_count": null,
   "metadata": {
    "slideshow": {
     "slide_type": "-"
    }
   },
   "outputs": [],
   "source": [
    "# or Verknüpfung\n",
    "height1 > 100 or height2 > 300"
   ]
  },
  {
   "cell_type": "markdown",
   "metadata": {
    "slideshow": {
     "slide_type": "subslide"
    }
   },
   "source": [
    "#### Überprüfen anhand einer Liste\n",
    "Ein Wert kann in Python auch mit einer Listen abgeglichen werden, um zu testen, ob sich dieser darin wiederfindet oder nicht."
   ]
  },
  {
   "cell_type": "code",
   "execution_count": null,
   "metadata": {
    "slideshow": {
     "slide_type": "-"
    }
   },
   "outputs": [],
   "source": [
    "trees = [\"Eiche\",\"Buche\",\"Ahorn\"]\n",
    "# Überprüfen ob sich ein Wert in der Liste wiederfindet\n",
    "\"Eiche\" in trees"
   ]
  },
  {
   "cell_type": "code",
   "execution_count": null,
   "metadata": {
    "slideshow": {
     "slide_type": "-"
    }
   },
   "outputs": [],
   "source": [
    "\"Fichte\" in trees"
   ]
  },
  {
   "cell_type": "code",
   "execution_count": null,
   "metadata": {
    "slideshow": {
     "slide_type": "fragment"
    }
   },
   "outputs": [],
   "source": [
    "# Überprüfen ob sich ein Wert in der Liste nicht wiederfindet\n",
    "\"Fichte\" not in trees"
   ]
  },
  {
   "cell_type": "markdown",
   "metadata": {
    "slideshow": {
     "slide_type": "slide"
    }
   },
   "source": [
    "### Die if-Anweisung\n",
    "Bedingungen lassen sich verketten, um sehr spezifische Anweisungen umzusetzen"
   ]
  },
  {
   "cell_type": "code",
   "execution_count": null,
   "metadata": {
    "slideshow": {
     "slide_type": "-"
    }
   },
   "outputs": [],
   "source": [
    "populations = [3502, 12540, 37500, 80021, 361085]\n",
    "\n",
    "for population in populations:\n",
    "    # Bedingung 1\n",
    "    if population < 5000:\n",
    "        # Anweisung 1\n",
    "        print(population, \"Einwohner entsprechen einer Landgemeinde\")\n",
    "    # Bedingung 2 \n",
    "    elif population < 20000:\n",
    "        # Anweisung 2\n",
    "        print(population, \"Einwohner entsprechen einer Kleinstadt\")\n",
    "    # Bedingung 3 \n",
    "    elif population >= 20000 and population < 100000:\n",
    "        # Anweisung 3\n",
    "        print(population, \"Einwohner entsprechen einer Mittelstadt\")\n",
    "    # Bedingung 4    \n",
    "    else:\n",
    "        # Anweisung 4\n",
    "        print(population, \"Einwohner entsprechen einer Großstadt\")"
   ]
  },
  {
   "cell_type": "markdown",
   "metadata": {
    "slideshow": {
     "slide_type": "slide"
    }
   },
   "source": [
    "## Wenn-Dann Bedingungen\n",
    "Mit sogenannten **bedingten Anweisungen** kann in Python festgelegt werden, unter welchen Bedingungen eine oder mehrere Operationen ausgeführt, oder gar ignoriert werden sollen. Das ermöglicht komplexe, verzweigte und damit nicht-lineare Code-Strukturen."
   ]
  },
  {
   "cell_type": "code",
   "execution_count": null,
   "metadata": {
    "slideshow": {
     "slide_type": "fragment"
    }
   },
   "outputs": [],
   "source": [
    "# Liste\n",
    "mountain_heights = [1414, 1493, 1241, 1415]\n",
    "\n",
    "# Schleife\n",
    "for height in mountain_heights:\n",
    "    # bedingte Anweisung\n",
    "    if height == 1493:\n",
    "        print(str(height) + \" Meter!\",\"Es könnte sich um den Feldberg handeln!\")\n",
    "    else:\n",
    "        print(\"Der Berg hat eine Höhe von\", str(height) + \" Meter!\")"
   ]
  },
  {
   "cell_type": "markdown",
   "metadata": {
    "slideshow": {
     "slide_type": "subslide"
    }
   },
   "source": [
    "### Bedingter Test\n",
    "Jeder bedingten Anweisung liegt ein sogenannter **bedingter Test** (*conditional test*) zugrunde. Ein Ausdruck, der entweder wahr oder falsch ist.\n",
    "\n",
    "> Vergleich eines **Istwert** mit einem **Sollwert**"
   ]
  },
  {
   "cell_type": "markdown",
   "metadata": {
    "slideshow": {
     "slide_type": "fragment"
    }
   },
   "source": [
    "#### gleiche Werte"
   ]
  },
  {
   "cell_type": "code",
   "execution_count": null,
   "metadata": {
    "slideshow": {
     "slide_type": "-"
    }
   },
   "outputs": [],
   "source": [
    "# Variable (Istwert) festlegen\n",
    "tree = \"Eiche\"\n",
    "# Vergleich mit Sollwert\n",
    "tree == \"Eiche\""
   ]
  },
  {
   "cell_type": "markdown",
   "metadata": {
    "slideshow": {
     "slide_type": "fragment"
    }
   },
   "source": [
    "#### ungleiche Werte"
   ]
  },
  {
   "cell_type": "code",
   "execution_count": null,
   "metadata": {
    "slideshow": {
     "slide_type": "-"
    }
   },
   "outputs": [],
   "source": [
    "tree != \"Buche\""
   ]
  },
  {
   "cell_type": "markdown",
   "metadata": {
    "slideshow": {
     "slide_type": "subslide"
    }
   },
   "source": [
    "#### numerische Vergleiche\n",
    "Mit Hilfe gängiger mathematischer Operatoren"
   ]
  },
  {
   "cell_type": "code",
   "execution_count": null,
   "metadata": {
    "slideshow": {
     "slide_type": "-"
    }
   },
   "outputs": [],
   "source": [
    "# Istwert\n",
    "height = 100\n",
    "# Sollwert\n",
    "height > 200"
   ]
  },
  {
   "cell_type": "code",
   "execution_count": null,
   "metadata": {
    "slideshow": {
     "slide_type": "fragment"
    }
   },
   "outputs": [],
   "source": [
    "height >= 100"
   ]
  },
  {
   "cell_type": "code",
   "execution_count": null,
   "metadata": {
    "slideshow": {
     "slide_type": "fragment"
    }
   },
   "outputs": [],
   "source": [
    "height < 100"
   ]
  },
  {
   "cell_type": "code",
   "execution_count": null,
   "metadata": {
    "slideshow": {
     "slide_type": "fragment"
    }
   },
   "outputs": [],
   "source": [
    "height <= 100"
   ]
  },
  {
   "cell_type": "markdown",
   "metadata": {
    "slideshow": {
     "slide_type": "subslide"
    }
   },
   "source": [
    "#### Überprüfen mehrerer Bedingungen\n",
    "Um gleichzeitig zwei Bedingungen zu testen, können diese mit <span style=\"color:red\">*and*</span> verknüpft werden. Nur wenn **beide** Tests erfolgreich sind, wird das Gesamtergebnis mit *True* bewertet."
   ]
  },
  {
   "cell_type": "code",
   "execution_count": null,
   "metadata": {
    "slideshow": {
     "slide_type": "-"
    }
   },
   "outputs": [],
   "source": [
    "height1 = 150\n",
    "# AND Verknüpfung (eine Variable)\n",
    "height1 > 100 and height1 < 200"
   ]
  },
  {
   "cell_type": "code",
   "execution_count": null,
   "metadata": {
    "slideshow": {
     "slide_type": "fragment"
    }
   },
   "outputs": [],
   "source": [
    "height2 = 250\n",
    "# AND Verknüpfung (zwei Variablen)\n",
    "height1 > 100 and height2 <= 250"
   ]
  },
  {
   "cell_type": "markdown",
   "metadata": {
    "slideshow": {
     "slide_type": "fragment"
    }
   },
   "source": [
    "\n",
    "Ähnlich kann mit einer <span style=\"color:red\">*or*</span> Verknüfung getestet werden, ob **mindestens eine** der Bedingungen zutrifft.  \n"
   ]
  },
  {
   "cell_type": "code",
   "execution_count": null,
   "metadata": {
    "slideshow": {
     "slide_type": "-"
    }
   },
   "outputs": [],
   "source": [
    "# or Verknüpfung\n",
    "height1 > 100 or height2 > 300"
   ]
  },
  {
   "cell_type": "markdown",
   "metadata": {
    "slideshow": {
     "slide_type": "subslide"
    }
   },
   "source": [
    "#### Überprüfen anhand einer Liste\n",
    "Ein Wert kann in Python auch mit einer Listen abgeglichen werden, um zu testen, ob sich dieser darin wiederfindet oder nicht."
   ]
  },
  {
   "cell_type": "code",
   "execution_count": null,
   "metadata": {
    "slideshow": {
     "slide_type": "-"
    }
   },
   "outputs": [],
   "source": [
    "trees = [\"Eiche\",\"Buche\",\"Ahorn\"]\n",
    "# Überprüfen ob sich ein Wert in der Liste wiederfindet\n",
    "\"Eiche\" in trees"
   ]
  },
  {
   "cell_type": "code",
   "execution_count": null,
   "metadata": {
    "slideshow": {
     "slide_type": "-"
    }
   },
   "outputs": [],
   "source": [
    "\"Fichte\" in trees"
   ]
  },
  {
   "cell_type": "code",
   "execution_count": null,
   "metadata": {
    "slideshow": {
     "slide_type": "fragment"
    }
   },
   "outputs": [],
   "source": [
    "# Überprüfen ob sich ein Wert in der Liste nicht wiederfindet\n",
    "\"Fichte\" not in trees"
   ]
  },
  {
   "cell_type": "markdown",
   "metadata": {
    "slideshow": {
     "slide_type": "slide"
    }
   },
   "source": [
    "### Die if-Anweisung\n",
    "Bedingungen lassen sich verketten, um sehr spezifische Anweisungen umzusetzen"
   ]
  },
  {
   "cell_type": "code",
   "execution_count": null,
   "metadata": {
    "slideshow": {
     "slide_type": "-"
    }
   },
   "outputs": [],
   "source": [
    "populations = [3502, 12540, 37500, 80021, 361085]\n",
    "\n",
    "for population in populations:\n",
    "    # Bedingung 1\n",
    "    if population < 5000:\n",
    "        # Anweisung 1\n",
    "        print(population, \"Einwohner entsprechen einer Landgemeinde\")\n",
    "    # Bedingung 2 \n",
    "    elif population < 20000:\n",
    "        # Anweisung 2\n",
    "        print(population, \"Einwohner entsprechen einer Kleinstadt\")\n",
    "    # Bedingung 3 \n",
    "    elif population >= 20000 and population < 100000:\n",
    "        # Anweisung 3\n",
    "        print(population, \"Einwohner entsprechen einer Mittelstadt\")\n",
    "    # Bedingung 4    \n",
    "    else:\n",
    "        # Anweisung 4\n",
    "        print(population, \"Einwohner entsprechen einer Großstadt\")"
   ]
  },
  {
   "cell_type": "markdown",
   "metadata": {
    "slideshow": {
     "slide_type": "slide"
    }
   },
   "source": [
    "## Benutzereingabe und While\n",
    "### Die input() Funktion\n",
    "In dem meißten Fällen schreiben wir Scripte und Programme, die auf irgend eine Form der Dateneingabe zurückgreifen, um ein bestimmtes Problem zu lösen. Die Eingabe kann zum Beispiel aus einem lokalen Verzeichnis, einer Datenbank oder dem Internet erfolgen.\\\n",
    "Die **direkte Benutzereingabe** über die Tastatur wird in Python durch die Funktion <span style=\"color:red\">*input()*</span> ermöglicht."
   ]
  },
  {
   "cell_type": "code",
   "execution_count": null,
   "metadata": {
    "slideshow": {
     "slide_type": "-"
    }
   },
   "outputs": [],
   "source": [
    "name = input(\"Wie heißt du? \")\n",
    "print(\"Hallo \" + name + \"!\")"
   ]
  },
  {
   "cell_type": "markdown",
   "metadata": {
    "slideshow": {
     "slide_type": "fragment"
    }
   },
   "source": [
    "#### Hinweis\n",
    "- Die Funktion *input()* stoppt den Programmablauf.\n",
    "- Der Text innerhalb der *input()* Funktion wird auch als Benutzeraufforderung oder <span style=\"color:red\">*prompt*</span> bezeichnet. Dieser sollte möglichst klar und verständlich formuliert werden."
   ]
  },
  {
   "cell_type": "markdown",
   "metadata": {
    "slideshow": {
     "slide_type": "subslide"
    }
   },
   "source": [
    "Die Benutzereingabe durch *input()* wird in Python 3 **nicht** interpretiert, bzw. evaluiert. Was heißt das?"
   ]
  },
  {
   "cell_type": "code",
   "execution_count": null,
   "metadata": {
    "slideshow": {
     "slide_type": "-"
    }
   },
   "outputs": [],
   "source": [
    "size = input(\"Was ist deine Schuhgröße? \")\n",
    "print(type(size))"
   ]
  },
  {
   "cell_type": "markdown",
   "metadata": {
    "slideshow": {
     "slide_type": "fragment"
    }
   },
   "source": [
    "Wir können das Ergebnis von *input()* direkt in den gewünschten Datentyp überführen"
   ]
  },
  {
   "cell_type": "code",
   "execution_count": null,
   "metadata": {
    "slideshow": {
     "slide_type": "-"
    }
   },
   "outputs": [],
   "source": [
    "size = int(input(\"Was ist deine Schuhgröße? \"))\n",
    "print(type(size))"
   ]
  },
  {
   "cell_type": "markdown",
   "metadata": {
    "slideshow": {
     "slide_type": "fragment"
    }
   },
   "source": [
    "Oder Python den Datentyp mit Hilfe der <font color=\"red\">eval()</font> Funktion für uns evaluieren lassen"
   ]
  },
  {
   "cell_type": "code",
   "execution_count": null,
   "metadata": {
    "slideshow": {
     "slide_type": "-"
    }
   },
   "outputs": [],
   "source": [
    "size = eval(input(\"Was ist deine Schuhgröße? \"))\n",
    "print(type(size))"
   ]
  },
  {
   "cell_type": "markdown",
   "metadata": {
    "slideshow": {
     "slide_type": "subslide"
    }
   },
   "source": [
    "#### Ein einfaches Anwendungsbeispiel"
   ]
  },
  {
   "cell_type": "code",
   "execution_count": null,
   "metadata": {
    "slideshow": {
     "slide_type": "-"
    }
   },
   "outputs": [],
   "source": [
    "age = int(input(\"Wie alt bist du? \"))\n",
    "\n",
    "if age >= 18:\n",
    "    print(\"\\nDu bist\", 33,\"Jahre alt und damit alt genug für einen PKW Fuehrerschein! \")\n",
    "else:\n",
    "    print(\"\\nVielleicht nimmst du besser das Fahrrad! \")"
   ]
  },
  {
   "cell_type": "markdown",
   "metadata": {
    "slideshow": {
     "slide_type": "slide"
    }
   },
   "source": [
    "### Die while Schleife\n",
    "Im Gegensatz zur <span style=\"color:red\">*for*</span> Schleife, die zum Beispiel für jedes **Element einer Liste** eine Operation **genau einmal** ausführt, läuft die <span style=\"color:red\">*while*</span> Schleife so lange, wie eine **Bedingung** als **True** getestet wird!"
   ]
  },
  {
   "cell_type": "code",
   "execution_count": null,
   "metadata": {
    "slideshow": {
     "slide_type": "-"
    }
   },
   "outputs": [],
   "source": [
    "# Startwert\n",
    "number = 1\n",
    "# Schleife\n",
    "while number <= 4:\n",
    "    print(number)\n",
    "    number += 1"
   ]
  },
  {
   "cell_type": "markdown",
   "metadata": {
    "slideshow": {
     "slide_type": "fragment"
    }
   },
   "source": [
    "#### Hinweis\n",
    "Der **+=** Operator ist eine verkürzte Variante von:\\\n",
    "number <span style=\"color:red\">=</span> number <span style=\"color:red\">+</span> 1. "
   ]
  },
  {
   "cell_type": "markdown",
   "metadata": {
    "slideshow": {
     "slide_type": "subslide"
    }
   },
   "source": [
    "Eine <font color=\"red\">while</font> Schleife in Kombination mit einer Benutzereingabe ist ideal, um den Ablauf eines Scripts oder Programms von \"außen\" zu steuern. "
   ]
  },
  {
   "cell_type": "code",
   "execution_count": null,
   "metadata": {
    "slideshow": {
     "slide_type": "-"
    }
   },
   "outputs": [],
   "source": [
    "# unsere Benutzeraufforderung mit zwei Zeilen\n",
    "prompt = \"\\nHilfe, ich bin in einer while Schleife gefangen!\"\n",
    "prompt += \"\\nBitte gebe 'Beenden' ein, um mich zu befreien.\\n \"\n",
    "\n",
    "responds = \"\"\n",
    "while responds != \"Beenden\":\n",
    "    # Benutzereingabe\n",
    "    responds = input(prompt)\n",
    "    # Bedingte Anweisung\n",
    "    if responds == \"Beenden\":\n",
    "        print(\"Danke, du hast mich gerettet!\")\n",
    "    else:    \n",
    "        print(\"So wird das leider nichts!\")"
   ]
  },
  {
   "cell_type": "markdown",
   "metadata": {
    "slideshow": {
     "slide_type": "slide"
    }
   },
   "source": [
    "## Funktionen\n",
    "Eine Funktion in Python:\n",
    "- ist ein Stück wiederverwendbaren Codes\n",
    "- ist eine maßgeschneiderte Lösung für eine bestimmte Aufgabe oder Standardoperation\n",
    "- kann einem viel Arbeit ersparen. \n",
    "> Warum selbst einen Code schreiben, wenn jemand anderes einem bereits die optimale Lösung zur Verfügung stellt."
   ]
  },
  {
   "cell_type": "code",
   "execution_count": null,
   "metadata": {
    "slideshow": {
     "slide_type": "-"
    }
   },
   "outputs": [],
   "source": [
    "mountain_heights = [1414, 1493, 1241, 1415]\n",
    "\n",
    "min(mountain_heights)"
   ]
  },
  {
   "cell_type": "markdown",
   "metadata": {
    "slideshow": {
     "slide_type": "subslide"
    }
   },
   "source": [
    "Wir kennen bereits einige Funktionen in Python:\n",
    "- len()\n",
    "- type()\n",
    "- input()\n",
    "- eval()\n",
    "- range()"
   ]
  },
  {
   "cell_type": "code",
   "execution_count": null,
   "metadata": {
    "slideshow": {
     "slide_type": "-"
    }
   },
   "outputs": [],
   "source": [
    "print(len(mountain_heights))\n",
    "print(type(mountain_heights))"
   ]
  },
  {
   "cell_type": "markdown",
   "metadata": {
    "slideshow": {
     "slide_type": "subslide"
    }
   },
   "source": [
    "### Argumente und Parameter\n",
    "- Einer Funktion werden in der Regel Eingangswerte oder <font color=\"red\">Argumente</font> zur Auswertung übergeben.\n",
    "- Argumente werden innerhalb der runden Klammer **()** einem bestimmten \n",
    "<font color=\"red\">Parameter</font> der Funktion zugewiesen.\n",
    "\n",
    "Aber woher wissen wir, welche Parameter definiert sind?\n",
    "\n",
    "> *help()*"
   ]
  },
  {
   "cell_type": "markdown",
   "metadata": {
    "slideshow": {
     "slide_type": "fragment"
    }
   },
   "source": [
    "```help(range)```\n",
    "\n",
    "\n",
    "<img style=\"float: left;\" src=\"Images\\help.png\">\n",
    "\n",
    "\n",
    "#### Optionale Eingangswerte\n",
    "```[, Parameter]```"
   ]
  },
  {
   "cell_type": "markdown",
   "metadata": {
    "slideshow": {
     "slide_type": "subslide"
    }
   },
   "source": [
    "### Eigene Funktionen\n",
    "Gerade bei immer wiederkehrenden Aufgaben und Operationen kann es sinnvoll sein, mit dem dafür entwickelten Code eine eigene Funktion zu definieren."
   ]
  },
  {
   "cell_type": "code",
   "execution_count": null,
   "metadata": {
    "slideshow": {
     "slide_type": "-"
    }
   },
   "outputs": [],
   "source": [
    "number = 5\n",
    "\n",
    "def quadriert(x):\n",
    "    \"\"\"Eine Zahl quadrieren\"\"\"\n",
    "    x = x**2\n",
    "    print(x)\n",
    "\n",
    "quadriert(number)"
   ]
  },
  {
   "cell_type": "markdown",
   "metadata": {
    "slideshow": {
     "slide_type": "-"
    }
   },
   "source": [
    "Funktionen werden mit dem Schlüsselwort **def** eingeleitet!"
   ]
  },
  {
   "cell_type": "markdown",
   "metadata": {
    "slideshow": {
     "slide_type": "fragment"
    }
   },
   "source": [
    "#### Hinweis\n",
    "Standardmäßig sollte eine Dokumentation der Funktion am Beginn des Codeblocks als <span style=\"color:red\">*docsting*</span> angelegt werden.\n",
    "> **\"\"\"** Dokumentation **\"\"\"**"
   ]
  },
  {
   "cell_type": "markdown",
   "metadata": {
    "slideshow": {
     "slide_type": "subslide"
    }
   },
   "source": [
    "#### Ein erweitertes Beispiel"
   ]
  },
  {
   "cell_type": "code",
   "execution_count": null,
   "metadata": {
    "slideshow": {
     "slide_type": "fragment"
    }
   },
   "outputs": [],
   "source": [
    "mountain_heights = [1414, 1493, 1241, 1415]\n",
    "\n",
    "# Meter in Fuß umrechen\n",
    "def m_to_ft(liste):\n",
    "    \"\"\" Umrechnung von Meter in Fuß\"\"\"\n",
    "    out = [item * 3.281 for item in liste]\n",
    "    return out\n",
    "\n",
    "# Neue Variable mit Werten in Fuß\n",
    "mountain_heights_ft = m_to_ft(mountain_heights)  \n",
    "print(mountain_heights_ft)"
   ]
  },
  {
   "cell_type": "markdown",
   "metadata": {
    "slideshow": {
     "slide_type": "-"
    }
   },
   "source": [
    "Mit <span style=\"color:red\">*return*</span> am Ende der Funktion kann die Rückgabe des Ergebnis spezifizieren werden."
   ]
  },
  {
   "cell_type": "markdown",
   "metadata": {
    "slideshow": {
     "slide_type": "slide"
    }
   },
   "source": [
    "## Dateien lesen und schreiben\n",
    "Der Lese- und Schreibvorgang in Python ist ähnlich wie bei einem Buch. Wir müssen jede Datei zunächst **öffnen**, um darin **lesen** oder **schreiben** zu können. Und wenn wir damit fertig sind, sollte die Datei auch wieder **geschlossen** werden.\n",
    "\n",
    "Hier eine kleine Einführung anhand des **txt** Dateiformat.\n",
    "\n",
    "<img style=\"float: right;\" src=\"Images\\book.png\" alt=\"drawing\" width=\"800\"/>"
   ]
  },
  {
   "cell_type": "code",
   "execution_count": null,
   "metadata": {
    "slideshow": {
     "slide_type": "-"
    }
   },
   "outputs": [],
   "source": [
    "# Pfad zu einer Textdatei mit den Monatsnamen\n",
    "path = \"Daten\\Monate.txt\""
   ]
  },
  {
   "cell_type": "markdown",
   "metadata": {
    "slideshow": {
     "slide_type": "subslide"
    }
   },
   "source": [
    "### Datei öffnen\n",
    "Die <span style=\"color:red\">*open*</span> Funktion benötigt als erstes Argumente einen Pfad zur Datei. Optional, aber wichtig, ist die Wahl des <font color=\"red\">mode</font> Parameter.\\\n",
    "\n",
    "\n",
    "Die wichtigsten *mode* Optionen sind:\\\n",
    "```\"r\"```: reading (lesen)\\\n",
    "```\"w\"```: writing (schreiben)\\\n",
    "```\"a\"```: appending (anhängen)\\\n",
    "```\"r+\"```: reading + writing in der gleichen Datei"
   ]
  },
  {
   "cell_type": "code",
   "execution_count": null,
   "metadata": {
    "slideshow": {
     "slide_type": "-"
    }
   },
   "outputs": [],
   "source": [
    "# Datei im Lesemodus öffnen\n",
    "month_file = open(path,\"r\")"
   ]
  },
  {
   "cell_type": "markdown",
   "metadata": {
    "slideshow": {
     "slide_type": "subslide"
    }
   },
   "source": [
    "### Datei lesen\n",
    "Es gibt mehrere Möglichkeiten eine Datei zu lesen:\\\n",
    "\n",
    "```<file>.read()```: gibt den gesamter Inhalt als einen zusammenhängenden String aus\\\n",
    "```<file>.readline()```: gibt die nächste Zeile der Datei aus\\\n",
    "```<file>.readlines()```: gibt eine Liste aller Zeilen in der Datei aus"
   ]
  },
  {
   "cell_type": "code",
   "execution_count": null,
   "metadata": {
    "slideshow": {
     "slide_type": "fragment"
    }
   },
   "outputs": [],
   "source": [
    "# Die komplette Datei lesen\n",
    "month_file.read()  "
   ]
  },
  {
   "cell_type": "markdown",
   "metadata": {
    "slideshow": {
     "slide_type": "-"
    }
   },
   "source": [
    "#### Achtung\n",
    "Einmal gelesen, kann eine Datei nicht noch einmal aus der gleichen Dateivariable (month_file) gelesen werden."
   ]
  },
  {
   "cell_type": "code",
   "execution_count": null,
   "metadata": {
    "slideshow": {
     "slide_type": "fragment"
    }
   },
   "outputs": [],
   "source": [
    "# gibt die nächste Zeile in der Datei aus\n",
    "month_file = open(path,\"r\")\n",
    "month_file.readline()"
   ]
  },
  {
   "cell_type": "code",
   "execution_count": null,
   "metadata": {
    "slideshow": {
     "slide_type": "fragment"
    }
   },
   "outputs": [],
   "source": [
    "# gibt eine Liste der Zeilen in der Datei wider\n",
    "month_file = open(path,\"r\")\n",
    "month_file.readlines()"
   ]
  },
  {
   "cell_type": "markdown",
   "metadata": {
    "slideshow": {
     "slide_type": "subslide"
    }
   },
   "source": [
    "### Datei schreiben\n",
    "Um in eine Datei schreiben zu können, müssen wir beim öffnen den Schreibmodus **\"w\"** aktivieren. "
   ]
  },
  {
   "cell_type": "code",
   "execution_count": null,
   "metadata": {
    "slideshow": {
     "slide_type": "-"
    }
   },
   "outputs": [],
   "source": [
    "## Lese die Monatsnamen aus der alten Datei\n",
    "path = \"Daten\\Monate.txt\"\n",
    "# open mit \"read\" mode\n",
    "month_file = open(path,\"r\")\n",
    "# read\n",
    "month = month_file.read()"
   ]
  },
  {
   "cell_type": "code",
   "execution_count": null,
   "metadata": {
    "slideshow": {
     "slide_type": "-"
    }
   },
   "outputs": [],
   "source": [
    "## Erstelle eine neue Datei\n",
    "new_path = \"Daten\\Monate_mit_Titel.txt\"\n",
    "# open mit \"write\" mode\n",
    "new_month_file = open(new_path,\"w\")\n",
    "\n",
    "# Titel, den wir unserer neuen Datei hinzufügen möchten\n",
    "title = \"Kalendermonate\\n\"\n",
    "\n",
    "# write\n",
    "new_month_file.write(title)\n",
    "new_month_file.write(month)"
   ]
  },
  {
   "cell_type": "markdown",
   "metadata": {
    "slideshow": {
     "slide_type": "-"
    }
   },
   "source": [
    "#### Achtung\n",
    "Der ursprüngliche Inhalt einer bereits existierenden Datei die im Schreibmodus **\"w\"** geöffnet wird, wird **gelöscht**."
   ]
  },
  {
   "cell_type": "markdown",
   "metadata": {
    "slideshow": {
     "slide_type": "subslide"
    }
   },
   "source": [
    "#### Datei schließen\n",
    "Damit wird die Datei komplett geschlossen. Wichtig weil:\n",
    "- Windows behandelt offene Dateien generell als gesperrt (kein Schreibzugriff).\n",
    "- Auswirkung auf Performance durch RAM Belegung.\n",
    "- Python hat zwar eine auto-close Funktion, aber es ist nicht klar wann und ob eine Datei geschlossen wird."
   ]
  },
  {
   "cell_type": "code",
   "execution_count": null,
   "metadata": {
    "slideshow": {
     "slide_type": "-"
    }
   },
   "outputs": [],
   "source": [
    "# alte und neue Datei schließen\n",
    "month_file.close()\n",
    "new_month_file.close()"
   ]
  },
  {
   "cell_type": "code",
   "execution_count": null,
   "metadata": {
    "scrolled": true,
    "slideshow": {
     "slide_type": "fragment"
    }
   },
   "outputs": [],
   "source": [
    "# Neue Datei anschauen\n",
    "new_month_file = open(new_path,\"r\")\n",
    "print(new_month_file.read()) \n",
    "new_month_file.close()"
   ]
  },
  {
   "cell_type": "markdown",
   "metadata": {
    "slideshow": {
     "slide_type": "fragment"
    }
   },
   "source": [
    "## ENDE"
   ]
  }
 ],
 "metadata": {
  "celltoolbar": "Slideshow",
  "kernelspec": {
   "display_name": "Python 3",
   "language": "python",
   "name": "python3"
  },
  "language_info": {
   "codemirror_mode": {
    "name": "ipython",
    "version": 3
   },
   "file_extension": ".py",
   "mimetype": "text/x-python",
   "name": "python",
   "nbconvert_exporter": "python",
   "pygments_lexer": "ipython3",
   "version": "3.7.10"
  },
  "toc": {
   "base_numbering": 1,
   "nav_menu": {},
   "number_sections": true,
   "sideBar": true,
   "skip_h1_title": false,
   "title_cell": "Table of Contents",
   "title_sidebar": "Contents",
   "toc_cell": false,
   "toc_position": {},
   "toc_section_display": true,
   "toc_window_display": false
  }
 },
 "nbformat": 4,
 "nbformat_minor": 4
}
