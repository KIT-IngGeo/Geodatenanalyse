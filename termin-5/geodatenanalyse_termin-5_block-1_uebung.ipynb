{
 "cells": [
  {
   "cell_type": "markdown",
   "id": "faced-manner",
   "metadata": {},
   "source": [
    "# Geodatenanalyse 1\n",
    "\n",
    "\n",
    "## Termin 5 - Block 1\n",
    "\n",
    "## Datenvisualisierung in Python - Teil 1\n",
    "\n",
    "**Hinweis**: Dieser Ünbungsblock soll ca. 40 Minuten dauern. Danach gibt es ca. 10 Minuten Zeit für die gemeinsame Diskussion der Lösungen."
   ]
  },
  {
   "cell_type": "code",
   "execution_count": 5,
   "id": "satisfied-organ",
   "metadata": {},
   "outputs": [],
   "source": [
    "import numpy as np\n",
    "from matplotlib import pyplot as plt"
   ]
  },
  {
   "cell_type": "markdown",
   "id": "racial-trailer",
   "metadata": {},
   "source": [
    "## Übung 1\n",
    "\n",
    "Bilde folgende zwei Funktionen im Interval $]0, 100]$ ab:\n",
    "- $f(x) = \\sqrt{x} - 4$\n",
    "- $f(x) = log_e(x)$"
   ]
  },
  {
   "cell_type": "code",
   "execution_count": 6,
   "id": "empirical-administrator",
   "metadata": {},
   "outputs": [],
   "source": [
    "# Übung 1"
   ]
  },
  {
   "cell_type": "markdown",
   "id": "married-vietnamese",
   "metadata": {},
   "source": [
    "## Übung 2\n",
    "\n",
    "Bei dieser Übung geht es um das Erstellen einer einfachen Abbildung. Im Labor wurden Temperaturdaten gemessen, welche zur schnellen Auswertung visualisiert werden sollen.\n",
    "\n",
    "- **Aufgabe 1**: Erstelle ein Liniendiagramm der Spalten \"Observed T [K]\" über die Zeit in Stunden mit beiden Datensätzen.\n",
    "- **Aufgabe 2**: Fülle die Datenlücken mit linearer Interpolation und erstelle eine Abbildung, in der die interpolierten Datenlücken farbig sichtbar werden.\n",
    "\n",
    "*Hinweis*: Bitte nicht die Achsenbeschriftungen vergessen!\n",
    "\n",
    "Datendateien: \n",
    "- *datasets/model_T8.csv*\n",
    "- *datasets/model_T22.csv*\n"
   ]
  },
  {
   "cell_type": "code",
   "execution_count": 7,
   "id": "basic-magnet",
   "metadata": {},
   "outputs": [],
   "source": [
    "# Übung 2 / Aufgabe 1"
   ]
  },
  {
   "cell_type": "code",
   "execution_count": 8,
   "id": "joint-boating",
   "metadata": {},
   "outputs": [],
   "source": [
    "# Übung 2 / Aufgabe 2"
   ]
  },
  {
   "cell_type": "markdown",
   "id": "handy-jones",
   "metadata": {},
   "source": [
    "## Übung 3\n",
    "\n",
    "Im Datenverzeichnis ist eine Datei, welche hydraulische Spaltöffnungen enthält (*datasets/hydraulic_apertures.csv*) (Hale et. al., 2020). Diese wurden im Labor an derselben Probe aber mit zwei unterschiedlichen Verfahren gemessen (*Method A* und *Method B*).\n",
    "\n",
    "Erstelle und speichere eine Box-Plot Abbildung, welche einen einfachen Einblick in die Statistik der Ergebnisse beider Verfahren gibt.\n",
    "\n",
    "> Hale, S., Naab, C., Butscher, C. et al. Method Comparison to Determine Hydraulic Apertures of Natural Fractures. Rock Mech Rock Eng 53, 1467–1476 (2020). [https://doi.org/10.1007/s00603-019-01966-7](https://doi.org/10.1007/s00603-019-01966-7)"
   ]
  },
  {
   "cell_type": "code",
   "execution_count": 9,
   "id": "funky-station",
   "metadata": {
    "scrolled": true
   },
   "outputs": [],
   "source": [
    "# Übung 3"
   ]
  },
  {
   "cell_type": "markdown",
   "id": "norwegian-stomach",
   "metadata": {},
   "source": [
    "## ENDE"
   ]
  }
 ],
 "metadata": {
  "kernelspec": {
   "display_name": "Python 3",
   "language": "python",
   "name": "python3"
  },
  "language_info": {
   "codemirror_mode": {
    "name": "ipython",
    "version": 3
   },
   "file_extension": ".py",
   "mimetype": "text/x-python",
   "name": "python",
   "nbconvert_exporter": "python",
   "pygments_lexer": "ipython3",
   "version": "3.7.10"
  },
  "toc": {
   "base_numbering": 1,
   "nav_menu": {},
   "number_sections": true,
   "sideBar": true,
   "skip_h1_title": false,
   "title_cell": "Table of Contents",
   "title_sidebar": "Contents",
   "toc_cell": false,
   "toc_position": {},
   "toc_section_display": true,
   "toc_window_display": false
  }
 },
 "nbformat": 4,
 "nbformat_minor": 5
}
