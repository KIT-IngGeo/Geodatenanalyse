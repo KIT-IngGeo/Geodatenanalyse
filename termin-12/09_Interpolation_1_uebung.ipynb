{
 "cells": [
  {
   "cell_type": "markdown",
   "metadata": {},
   "source": [
    "# Geodatenanalyse 1\n",
    "\n",
    "## Übung 9: Deterministische Interpolationsverfahren - Übung"
   ]
  },
  {
   "cell_type": "markdown",
   "metadata": {},
   "source": [
    "Folgende Python Packages, bzw. Libraries enthalten verschiedene, nützliche Funktionen für die Interpolation von räumlichen Daten: \n",
    "\n",
    "- scipy.interpolate: Univariate & Multivariate Interpolation, Funktionen für lineare, Spline, Nearest Neighbour und Radiale Basisfunktion Interpolation\n",
    "\n",
    "- scipy.spatial: Delauney Tesselation, Voronoi Diagramme und plotting Funktionen\n",
    "\n",
    "- Inverse Distance Weighting: z.B. über PyGeM (https://mathlab.github.io/PyGeM/index.html), oder andere Funktionen (https://github.com/paulbrodersen/inverse_distance_weighting)\n",
    "\n",
    "In dieser Übung werden wir uns die Funktionen in `scipy` näher anschauen. Als Beispieldatensatz dienen gemessene Grundwasserparameter (Temperatur und Höhe) in Karlsruhe (Menberg et al., 2013). "
   ]
  },
  {
   "cell_type": "markdown",
   "metadata": {},
   "source": [
    "### 1. scipy.spatial und scipy.interpolate.griddata\n",
    "\n",
    "Ladet zunächst mit Hilfe von pandas die Daten aus der csv-Datei (\"interp_data.csv) als pandas DataFrame ein. \n",
    "\n",
    "Dann wollen wir ein regelmäßiges Grid von Datenpunkten erzeugen, das die Ausgabepunkte der Interpolation darstellt. Definiert dafür zuerst die Ausdehnung des Bereichs mit Hilfe von vier Variablen (z.B. xmin, max, ymin, ymax). Wendet dafür die Funktionen `.min` und `.max` auf die Spalten mit den Rechts- und Hochwerten in dem DataFrame an. Der so definierte Bereich sollte den durch die Messpunkte abgedeckten Bereich umschließen, zuzüglich eines kleinen Puffers an den Rändern. Dies könnt ihr erreichen, indem ihr auf die Maximum- und Minimumwerte einen zusätzlichen kleinen Werte dazuaddiert, bzw. abzieht.  \n",
    "\n",
    "Fasst die vier Variablen anschließend zu einem Array zusammen (`arrays = Wert1, Wert2, Wert3, Wert4`). \n",
    "\n",
    "Erstellt dann zwei Arrays für die x- und y-Koordinaten der Gridpunkte. Benutzt dafür die Funktion `np.mgrid[xmin:xmax:xstep, ymin:ymax:ystep]`, und definiert zwei Outputs.  \n",
    "\n",
    "Stellt anschließend die Grid-Punkte mit Hilfe eines Scatteplots graphisch dar, um die räumliche Verteilung zu inspizieren. "
   ]
  },
  {
   "cell_type": "code",
   "execution_count": null,
   "metadata": {},
   "outputs": [],
   "source": [
    "# [1]\n",
    "# benötigte Packages laden\n",
    "\n",
    "# Daten aus csv Datei einlesen \n",
    "\n",
    "# Ausdehnung des Bereichs inklusive Puffer definieren und zusammenfassen\n",
    "\n",
    "# grid erzeugen\n",
    "\n",
    "# scatterplot des grids erzeugen"
   ]
  },
  {
   "cell_type": "markdown",
   "metadata": {},
   "source": [
    "Als nächstes wollen wir die Temperaturdaten mit Hilfe der Funktion `scipy.interpolate.griddata()` interpolieren. \n",
    "\n",
    "Als Inputs werden dafür zum Einen die Koordinaten der ursprünglichen Messpunkte als sog. Tuple benötigt. Schreibt dafür die jeweils zusammengehörigen x- und y-Koordinaten in einen gemeinsamen Array (Index [[]]). Um die reinen Zahlenwerte aus einem DataFrame zu extrahieren kann man die Funktion `.value` benutzen, also als `data[[Wert1, Wert2]].value`. \n",
    "\n",
    "Die Interpolationsfunktion `scipy.interpolate.griddata()` benötigt neben diesen Tupeln noch die zu interpolierenden Werte (`data.Parameter.value`) und das Grid, auf dem interpoliert werden soll, als Inputs. \n",
    "\n",
    "`scipy.interpolate.griddata()` unterstützt verschiedene Interpolationsfunktionen, die über den Input \"method=...\" spezifizert werden können: \"nearest\" für Nearest Neighbour, \"linear\" für eine einfache lineare Interpolation, und \"cubic\" für eine kubische Spline-Interpolation.  \n",
    "\n",
    "Definiert drei mit diesen Methoden interpolierte Datensätze und plottet die Ergebnisse zum Vergleich nebeneinander. Zum Plotten von Rasterdaten eignet sich die Funktion `matplotlib.pyplot.imshow()`, die als Inputs das darzustellende Raster (mit `raster.T` transponiert), den Ausgangspunkt (`origin='lower'`) und die Randkoordinaten des Rasters (`extent=area`) benötigt. Als Randkoordinaten könnt ihr hier die im vorherigen Schritt als Koordinaten für die Ausdehnung des Bereichs definierte Variable nutzen. \n",
    "\n",
    "Wie gefallen Euch die Ergebnisse der Interpolation?\n"
   ]
  },
  {
   "cell_type": "code",
   "execution_count": null,
   "metadata": {},
   "outputs": [],
   "source": [
    "# [2]\n",
    "# benötigte Packages laden\n",
    "\n",
    "# ursprüngliche Koordinaten in Array mit Tupeln umwandeln\n",
    "\n",
    "# mit griddata drei interpolierte Datensätze erzeugen\n",
    "\n",
    "#  Abbildung mit 3 subplots definieren"
   ]
  },
  {
   "cell_type": "markdown",
   "metadata": {},
   "source": [
    "### 2. scipy.interpolate.rbf\n",
    "\n",
    "Neben den Interpolationsmethoden oben, gibt es in `scipy` auch verschiedenen Möglichkeiten zur Interpolation mit Radialen Basisfunktionen (RBFs). Die default-Einstellung von `scipy.interpolate.Rbf()` ist dabei eine Multi-quadratische Funktion, die exakt durch die Stützpunkte geht (exakte Interpolation). \n",
    "\n",
    "Definiert nun in dem nächsten Skript zuerst ein Interpolationsobjekt mit Hilfe von `scipy.interpolate.Rdf()`, mit den x- und y-Koordinaten Eurer Messpunkte, sowie den Messwerten als Inputs (`(x-Werte, y-Werte, Messwerte)`). \n",
    "\n",
    "Wendet dieses Interpolationsobjekt dann auf die x- und y-Koordinaten des Grids von oben an (`object(x-grid, y-grid)`), und visualisiert anschließend die Ergebnisse. \n",
    "\n",
    "Zum visuellen Vergleich der gemessenen und interpolierten Werte könnt ihr euch in der gleichen Abbildung auch die Messwerte darstellen lassen (als Scatterplot mit den Messwerten als Farbe der Punkte,`c=data.Messwerte`). "
   ]
  },
  {
   "cell_type": "code",
   "execution_count": null,
   "metadata": {},
   "outputs": [],
   "source": [
    "# [3]\n",
    "# benötigte Packages laden\n",
    "\n",
    "# Interpolationsobjekt erstellen\n",
    "\n",
    "# Interpolationsobjekt anwenden \n",
    "\n",
    "# Abbildung mit imshow und scatter erstellen \n"
   ]
  },
  {
   "cell_type": "markdown",
   "metadata": {},
   "source": [
    "Da die gemessenen Grundwassertemperaturen sicherlich mit gewissen Messfehlern behaftet sind, ist eine exakte Interpolation der Werte nicht unbedingt sinvoll. Mit der Angabe des Arguments `smooth=...` und einem beliebigen Werten > 0 in der Funktion `scipy.interpolate.Rbf()` geht die Interpolation nicht mehr exakt durch die Messpunkte. Damit könnt Ihr das erzeugte Bild der Grundwassertemperaturen etwas glätten.\n",
    "\n",
    "Ergänzt eurer Skript von von oben mit dem entsprechenden Argument, und probiert verschiedenene Werte für `smooth=...` aus. "
   ]
  },
  {
   "cell_type": "code",
   "execution_count": null,
   "metadata": {},
   "outputs": [],
   "source": [
    "# [4] \n",
    "# wie [3] mit ergänztem Attribut in Interpolation"
   ]
  },
  {
   "cell_type": "markdown",
   "metadata": {},
   "source": [
    "## Ende\n",
    "\n",
    "### Referenzen\n",
    "\n",
    "Menberg et al. (2013): Long-term evolution of anthropogenic heat fluxes into a subsurface urban heat island, Environ. Sci. Technol. 47(17) (2013) 9747-9755\n",
    "\n",
    "https://colab.research.google.com/github/agile-geoscience/xlines/blob/master/notebooks/11_Gridding_map_data.ipynb"
   ]
  }
 ],
 "metadata": {
  "kernelspec": {
   "display_name": "Python 3",
   "language": "python",
   "name": "python3"
  },
  "language_info": {
   "codemirror_mode": {
    "name": "ipython",
    "version": 3
   },
   "file_extension": ".py",
   "mimetype": "text/x-python",
   "name": "python",
   "nbconvert_exporter": "python",
   "pygments_lexer": "ipython3",
   "version": "3.8.5-final"
  }
 },
 "nbformat": 4,
 "nbformat_minor": 4
}
