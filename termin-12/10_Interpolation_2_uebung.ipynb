{
 "cells": [
  {
   "cell_type": "markdown",
   "metadata": {},
   "source": [
    "# Geodatenanalyse 1\n",
    "\n",
    "## Übung 10: Interpolationsmethoden: Kriging - Übung"
   ]
  },
  {
   "cell_type": "markdown",
   "metadata": {},
   "source": [
    " Folgende Python Packages, bzw. Libraries enthalten verschiedene, nützliche Funktionen für die Interpolation von räumlichen Daten mit Hilfe von Kriging: \n",
    " \n",
    " - SciKit GStat: bietet detaillierte Möglichkeiten zur Analyse der Variogramme mit verschiedenen Modellen, allerdings nur für Ordinary Kriging (d.h. Daten ohne Trend oder drift) https://mmaelicke.github.io/scikit-gstat/install.html\n",
    " \n",
    " - PyKrige: beinhaltete eine Implementierung von Ordinary und Universal Kriging, dafür aber weniger Funktionalität für eine detaillierte Variogrammanalyse https://geostat-framework.readthedocs.io/projects/pykrige/en/stable/index.html\n",
    "\n",
    "In dieser Übung schauen wir uns die Funktionen in SciKit GStat genauer an. "
   ]
  },
  {
   "cell_type": "markdown",
   "metadata": {},
   "source": [
    "Lest dafür zuerst die Daten aus `interp_data.csv` mit Hilfe von `pandas` ein."
   ]
  },
  {
   "cell_type": "code",
   "execution_count": null,
   "metadata": {},
   "outputs": [],
   "source": [
    "# [1]\n",
    "# benötigte Packages einladen\n",
    "\n",
    "# Daten als DataFrame einlesen"
   ]
  },
  {
   "cell_type": "markdown",
   "metadata": {},
   "source": [
    "Dann erfolgt die Variogrammanalye, für die wir zunächst eine Visulasoierung der Semivarianz erstellen werden. \n",
    "\n",
    "Erzeugt dafür ein Variogram-Objekt mit der Funktion `skgstat.Variogram()`. Als Inputs werden die Koordinaten der Daten als Array mit der Dimension (m, n), sowie die Messwerte benötigt. \n",
    "\n",
    "Die graphische Darstellung kann dann ganz einfach mit `V-Objekt.plot()` erfolgen. Inputs müssen hier nicht definiert werden, da für diesen Zweck die default-Einstellungen ausreichend sind. \n",
    "\n",
    "Je nach Rechenleistung Eures PCs kann die Ausführung einen Augenblick dauern. "
   ]
  },
  {
   "cell_type": "code",
   "execution_count": null,
   "metadata": {},
   "outputs": [],
   "source": [
    "# [2]\n",
    "# benötigte Packages einladen\n",
    "\n",
    "# Variogrammobjekt erzeugen\n",
    "\n",
    "# Variogrammobjekt plotten\n"
   ]
  },
  {
   "cell_type": "markdown",
   "metadata": {},
   "source": [
    "Am Histogram ist nun zu erkennen, dass Werte im Bereich von Lags über 8.000 nicht gut durch die Daten unterstützt werden. Daher sollten wir die Größe der berücksichtigten Lags entsprechend reduzieren: `V-Objekt.maxlag = 8000`. \n",
    "\n",
    "Da wir über 90 Messwerte haben können wir außerdem die Anzahl der Lag-Klassen etwas erhöhen: `V-Objekt.n_lags=15`. \n",
    "\n",
    "Lasst Euch anschließend das veränderte Variogram anzeigen und vergleicht es mit dem von oben. "
   ]
  },
  {
   "cell_type": "code",
   "execution_count": null,
   "metadata": {},
   "outputs": [],
   "source": [
    "# [3]\n",
    "# maxlag und nlag des Variogrammobjekts anpassen\n",
    "\n",
    "# Variogrammobjekt plotten"
   ]
  },
  {
   "cell_type": "markdown",
   "metadata": {},
   "source": [
    "Diese Anpassung sieht nun allerdings besonders im Bereich der kurzen Distanzen (niedriege Lags) visuell nicht sehr überzeugend aus. Gerade dieser Bereich ist jedoch wichtig für die Bestimmung der Gewichte für das Kriging. \n",
    "\n",
    "Wenn nicht anders definiert nimmt `skgstat.Variogram()` ein sphärisches Varianzmodell an. Erstellt neben diesem noch zwei weitere Variogrammobjekte mit anderen Modellen (\"exponential\" und \"gaussian\") über die Angabe von `V-Objekt.model ='name'` (die anderen Angaben zu den Modellen von oben bleiben davon unbeeinflusst). \n",
    "\n",
    "Die Variogram-Klasse hat außerdem eine eingebaute Funktionalität um den RMSE (`rmse`) der Anpassung zu berechnen: `V-Objekt.rmse`. Lasst Euch damit die Fehler der Anpassungen ausgeben.\n",
    "\n",
    "Plottet die verschiedenen Anpassungen zum Vergleich nebeneinander (`matplotlib.subplots()`) und vergleicht den visuellen Eindruck der Anpassung mit den berechneten RMSE-Werten. "
   ]
  },
  {
   "cell_type": "code",
   "execution_count": null,
   "metadata": {},
   "outputs": [],
   "source": [
    "# [4]\n",
    "# benötigte Packages einladen \n",
    "\n",
    "# drei Variogrammobjekte erzeugen\n",
    "\n",
    "# jeweils den RMSE berechnen\n",
    "\n",
    "# die drei Objekte plotten\n"
   ]
  },
  {
   "cell_type": "markdown",
   "metadata": {},
   "source": [
    "Wählt nun das passenste Variogramm-Modell aus und führt ein Ordinary Kriging (`skgstat.OrdinaryKriging()`) durch. Dafür sind folgende Schritte nötig: \n",
    "\n",
    "- für das Variogramm-Objekt von oben das gewünschte Modell angeben (`V-Objekt.model ='name'`). \n",
    "\n",
    "- Interpolationsobjekt definieren: `OrdinaryKriging(Variogramm, min_points=2, max_points=8)`. Die Auswahl der minimal und maximal berücksichtigten Anzahl an Nachbarpunkten orientiert sich an Anzahl und Abstand zwischen den Messpunkten (eine Art Optimierungsparameter)\n",
    "\n",
    "- gleichmäßiges Grid mit den zu interpolierenden Koordinaten erstellen (siehe letzte Übung)\n",
    "\n",
    "- Die `.transform()` Funktion auf das Interpolationsobjekt anwenden: Die x- und y-Koordinaten werden dabei als einzelne 1D Numpy Arrays benötigt. Erzeugen könnt Ihr diese z.B. über `array.flatten()` \n",
    "\n",
    "- Ergebnis mit `plt.imshow()` visualisieren. Dafür müsst Ihr den eben erzeugten 1-DArray mit den interpolierten Werten wieder umstruktieren, d.h. in seine ursprüngliche Form bringen, z.B. mit `array.reshape(dimensions)`\n",
    "\n",
    "- plottet auch die Lage der Messpunkte zu dem interpolierten Raster (siehe letzte Übung)."
   ]
  },
  {
   "cell_type": "code",
   "execution_count": null,
   "metadata": {},
   "outputs": [],
   "source": [
    "# [5]\n",
    "# benötigte Packages einladen\n",
    "\n",
    "# Variogramm-Model für das Variogrammobjekt von oben angeben\n",
    "\n",
    "# Interpolationsobjekt erzeugen\n",
    "\n",
    "# Grid für die Interpolation erstellen\n",
    "\n",
    "# 1D Arrays daraus erzeugen\n",
    "\n",
    "# transform anwenden\n",
    "\n",
    "# die mit transform erzeugte Variable auf 2D umstrukturieren \n",
    "\n",
    "# Abbildung mit imshow erstellen\n"
   ]
  },
  {
   "cell_type": "markdown",
   "metadata": {},
   "source": [
    "## Ende\n",
    "\n",
    "### Referenzen\n",
    "\n",
    "Menberg et al. (2013): Long-term evolution of anthropogenic heat fluxes into a subsurface urban heat island, Environ. Sci. Technol. 47(17) (2013) 9747-9755\n",
    "\n",
    "https://mmaelicke.github.io/scikit-gstat/tutorials/01_getting_started.html"
   ]
  }
 ],
 "metadata": {
  "kernelspec": {
   "display_name": "Python 3",
   "language": "python",
   "name": "python3"
  },
  "language_info": {
   "codemirror_mode": {
    "name": "ipython",
    "version": 3
   },
   "file_extension": ".py",
   "mimetype": "text/x-python",
   "name": "python",
   "nbconvert_exporter": "python",
   "pygments_lexer": "ipython3",
   "version": "3.8.5-final"
  }
 },
 "nbformat": 4,
 "nbformat_minor": 4
}
