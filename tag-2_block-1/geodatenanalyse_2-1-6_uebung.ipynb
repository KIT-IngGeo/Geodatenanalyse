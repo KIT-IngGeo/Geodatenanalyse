{
 "cells": [
  {
   "cell_type": "markdown",
   "id": "approved-petersburg",
   "metadata": {},
   "source": [
    "# Geodatenanalyse 1\n",
    "\n",
    "\n",
    "## Tag 2 / Block 1 - Übung 6\n",
    "\n",
    "## Datenvisualisierung in Python - Teil 2\n",
    "\n",
    "**Hinweis**: Dieser Ünbungsblock soll ca. 40 Minuten dauern. Danach gibt es ca. 10 Minuten Zeit für die gemeinsame Diskussion der Lösungen.\n"
   ]
  },
  {
   "cell_type": "code",
   "execution_count": 2,
   "id": "blind-accommodation",
   "metadata": {},
   "outputs": [],
   "source": [
    "import numpy as np\n",
    "from matplotlib import pyplot as plt"
   ]
  },
  {
   "cell_type": "markdown",
   "id": "empty-silly",
   "metadata": {},
   "source": [
    "## Übung 1\n",
    "\n",
    "Die Europäische Umweltagentur (EEA) hat einen Datensatz zusammengestellt, durch welchen man den Zusammenhang zwischen Energienutzung, Wirtschaftsleistung und Populationsgröße gut darstellen kann. Diese Daten sind in der Datei *EEA_dataset.csv* zusammengestellt.\n",
    "\n",
    "- **Aufgabe 1**: Erstelle eine Punktwolke, in welcher der Zusammenhang zwischen den drei Größen gut dargestellt ist.\n",
    "- **Aufgabe 2**: Markiere den weltweiten Durchschnitt für beide Achsen.\n",
    "- **Aufgabe 3**: Hebe Deutschland farbig hervor.\n",
    "\n",
    "*Hinweis*: Bitte beachtet auch die Achsenlimits für eine bedeutungsvolle Darstellung.\n",
    "\n",
    "Datenquelle: [European Environment Agency](https://www.eea.europa.eu/data-and-maps/figures/correlation-of-per-capita-energy)"
   ]
  },
  {
   "cell_type": "code",
   "execution_count": 1,
   "id": "operating-reggae",
   "metadata": {
    "scrolled": false
   },
   "outputs": [],
   "source": [
    "# Übung 1"
   ]
  },
  {
   "cell_type": "markdown",
   "id": "intensive-pound",
   "metadata": {},
   "source": [
    "## Übung 2\n",
    "\n",
    "Die Datei *FG_rainfall.csv* enthält Messungen zum Gesamtniederschlag mehrerer Jahre für die Forschungsstation Fowlers Gap im Outback (Wüste) von Australien.\n",
    "\n",
    "- **Aufgabe 1**: Erstelle eine Karte, welche die Stationen sowie ein Raster der Niederschlagsmenge für ein Jahr zeigt.\n",
    "- **Aufgabe 2**: Erstelle Kontouren, welche nach dem linearen und kubischen Verfahren erstellt wurden.\n",
    "- **Aufgabe 3**: Vergleiche die Kontouren mit dem Raster aus der Aufgabe 1. Was sind hier die Probleme? Diskutiere die Vor- und Nachteile. Wie könnte man die Daten besser darstellen?"
   ]
  },
  {
   "cell_type": "code",
   "execution_count": 3,
   "id": "anonymous-maintenance",
   "metadata": {
    "scrolled": true
   },
   "outputs": [],
   "source": [
    "# Übung 2"
   ]
  },
  {
   "cell_type": "markdown",
   "id": "military-pastor",
   "metadata": {},
   "source": [
    "## ENDE"
   ]
  }
 ],
 "metadata": {
  "kernelspec": {
   "display_name": "Python 3",
   "language": "python",
   "name": "python3"
  },
  "language_info": {
   "codemirror_mode": {
    "name": "ipython",
    "version": 3
   },
   "file_extension": ".py",
   "mimetype": "text/x-python",
   "name": "python",
   "nbconvert_exporter": "python",
   "pygments_lexer": "ipython3",
   "version": "3.7.10"
  }
 },
 "nbformat": 4,
 "nbformat_minor": 5
}
