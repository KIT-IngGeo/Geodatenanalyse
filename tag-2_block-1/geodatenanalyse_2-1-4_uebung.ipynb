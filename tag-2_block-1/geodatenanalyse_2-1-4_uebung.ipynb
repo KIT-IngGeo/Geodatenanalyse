{
 "cells": [
  {
   "cell_type": "markdown",
   "id": "economic-writer",
   "metadata": {},
   "source": [
    "# Geodatenanalyse 1\n",
    "\n",
    "\n",
    "## Tag 2 / Block 1 - Übung 4\n",
    "\n",
    "## Einführung in *NumPy*\n",
    "\n",
    "**Hinweis**: Dieser Ünbungsblock soll ca. 40 Minuten dauern. Danach gibt es ca. 10 Minuten Zeit für die gemeinsame Diskussion der Lösungen."
   ]
  },
  {
   "cell_type": "code",
   "execution_count": 1,
   "id": "green-graham",
   "metadata": {},
   "outputs": [],
   "source": [
    "import numpy as np"
   ]
  },
  {
   "cell_type": "markdown",
   "id": "commercial-wealth",
   "metadata": {},
   "source": [
    "## Übung 1\n",
    "\n",
    "Erstellung von Objekten:\n",
    "\n",
    "- **Aufgabe 1**: Erstelle eine regelmäßige Sequenz zwischen 0 und 1000, mit einem Inkrement von 4.\n",
    "- **Aufgabe 2**: Erstelle eine Matrix mit 10 x 20 Einträgen, welche einer regelmäßigen Sequenz folgt.\n",
    "- **Aufgabe 3**: Erstelle eine Matrix mit 100 x 100 zufälligen Einträgen zwischen 0 und 1. Schreibe alle Werte, die über 0.35 liegen, in einen Vektor."
   ]
  },
  {
   "cell_type": "code",
   "execution_count": 2,
   "id": "skilled-bread",
   "metadata": {},
   "outputs": [],
   "source": [
    "# Aufgabe 1"
   ]
  },
  {
   "cell_type": "code",
   "execution_count": 3,
   "id": "informed-envelope",
   "metadata": {},
   "outputs": [],
   "source": [
    "# Aufgabe 2"
   ]
  },
  {
   "cell_type": "code",
   "execution_count": 4,
   "id": "historic-average",
   "metadata": {},
   "outputs": [],
   "source": [
    "# Aufgabe 3"
   ]
  },
  {
   "cell_type": "markdown",
   "id": "democratic-november",
   "metadata": {},
   "source": [
    "## Übung 2\n",
    "\n",
    "Indizierung:\n",
    "\n",
    "- **Aufgabe 1**: Erstelle einen Vektor mit 1000 zufälligen Werten. Erstelle einen zweiten Vektor, welcher jeden dritten Wert des ersten Vektors enthält.\n",
    "- **Aufgabe 2**: Erstelle eine 10 x 10 Matrix mit zufälligen Werten. Setze alle Werte unter 0.5 ins Negative.\n",
    "- **Aufgabe 3**: Betrachten wir einen gegebenen Vektor, wie addiert man 1 zu jedem Element, das durch einen zweiten Vektor indiziert wird (Vorsicht bei wiederholten Indizes)?\n",
    "- **Aufgabe 4**: Erstelle zwei Vektoren: Einer mit 20 zufälligen Integern zwischen 0 und 10, einer mit 10 zufälligen Werten zwischen 0 und 5. Entferne alle Werte vom ersten Vektor, welche auch im zweiten Vektor enthalten sind."
   ]
  },
  {
   "cell_type": "code",
   "execution_count": 5,
   "id": "intimate-accused",
   "metadata": {},
   "outputs": [],
   "source": [
    "# Aufgabe 1"
   ]
  },
  {
   "cell_type": "code",
   "execution_count": 6,
   "id": "intended-comedy",
   "metadata": {
    "scrolled": false
   },
   "outputs": [],
   "source": [
    "# Aufgabe 2"
   ]
  },
  {
   "cell_type": "code",
   "execution_count": 7,
   "id": "fitted-dealing",
   "metadata": {},
   "outputs": [],
   "source": [
    "# Aufgabe 3"
   ]
  },
  {
   "cell_type": "code",
   "execution_count": 8,
   "id": "athletic-montgomery",
   "metadata": {},
   "outputs": [],
   "source": [
    "# Aufgabe 4"
   ]
  },
  {
   "cell_type": "markdown",
   "id": "executive-local",
   "metadata": {},
   "source": [
    "## Übung 3\n",
    "\n",
    "Erweiterte Funktionalität:\n",
    "\n",
    "- **Aufgabe 1**: Erstelle einen Vektor mit 1000 zufälligen ganzen Zahlen zwischen 0 und 100. Finde den häufigsten Wert in diesem Vektor.\n",
    "- **Aufgabe 2**: Erstelle einen Vektor mit 10 Werten der Sinusfunktion im Intervall [0 und $\\pi$]. Erweitere diesen Vektor um das Zehnfache durch lineare Interpolation.\n",
    "\n",
    "- **Aufgabe 3**: Erstelle einen Vektor mit 1000 zufälligen Werten. Berechne den gleitenden Durchschnitt über 10 Werte."
   ]
  },
  {
   "cell_type": "code",
   "execution_count": 9,
   "id": "removable-place",
   "metadata": {},
   "outputs": [],
   "source": [
    "# Aufgabe 1"
   ]
  },
  {
   "cell_type": "code",
   "execution_count": 10,
   "id": "military-trunk",
   "metadata": {},
   "outputs": [],
   "source": [
    "# Aufgabe 2"
   ]
  },
  {
   "cell_type": "code",
   "execution_count": 11,
   "id": "intellectual-conservation",
   "metadata": {},
   "outputs": [],
   "source": [
    "# Aufgabe 3"
   ]
  },
  {
   "cell_type": "markdown",
   "id": "verified-mitchell",
   "metadata": {},
   "source": [
    "## ENDE"
   ]
  }
 ],
 "metadata": {
  "kernelspec": {
   "display_name": "Python 3",
   "language": "python",
   "name": "python3"
  },
  "language_info": {
   "codemirror_mode": {
    "name": "ipython",
    "version": 3
   },
   "file_extension": ".py",
   "mimetype": "text/x-python",
   "name": "python",
   "nbconvert_exporter": "python",
   "pygments_lexer": "ipython3",
   "version": "3.7.10"
  }
 },
 "nbformat": 4,
 "nbformat_minor": 5
}
