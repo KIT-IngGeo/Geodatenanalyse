{
 "cells": [
  {
   "cell_type": "markdown",
   "metadata": {
    "slideshow": {
     "slide_type": "slide"
    }
   },
   "source": [
    "# Geodatenanalyse 1\n",
    "\n",
    "\n",
    "## Tag 2 / Block 1 - Teil 4\n",
    "\n",
    "## Einführung in *NumPy*\n",
    "\n",
    "Ca. 20-30 Minuten"
   ]
  },
  {
   "cell_type": "markdown",
   "metadata": {
    "slideshow": {
     "slide_type": "slide"
    }
   },
   "source": [
    "## Inhalt\n",
    "- Was ist *NumPy*?\n",
    "- Überblick über *NumPy* Objekte\n",
    "- Überblick über Operationen und Methoden\n",
    "- Einführung in die Indizierung und das Ausschneiden\n",
    "- Kurzer Überblick über die erweiterte Funktionalität\n",
    "- Kurzer Einblick in die linearen Algebra\n",
    "- Kurzer Überblick über die Datums- und Zeitfunktionalität"
   ]
  },
  {
   "cell_type": "markdown",
   "metadata": {
    "slideshow": {
     "slide_type": "slide"
    }
   },
   "source": [
    "## Was ist *NumPy*?\n",
    "\n",
    "- *NumPy* (von *Numeric Python*) ist das grundlegende Paket für wissenschaftliches Rechnen in Python\n",
    "- Es ist eine Python-Bibliothek, die ein mehrdimensionales Array-Objekt, verschiedene abgeleitete Objekte (z. B. maskierte Arrays und Matrizen) und eine Reihe von Routinen für schnelle Operationen auf Arrays bereitstellt\n",
    "- Darunter mathematische, logische, Formmanipulationen, Sortieren, Auswählen\n",
    "- Grundlegende lineare Algebra, grundlegende statistische Operationen, Zufallssimulation und vieles mehr\n",
    "- Und erweitert noch die diskrete Fourier-Transformationen\n",
    "\n",
    "**Bemerkung**: *NumPy* wurde kürzlich mit einer Veröffentlichung im Fachjournal *Nature* geehrt: [Harris et a. (2020) Array programming with NumPy](https://www.nature.com/articles/s41586-020-2649-2)"
   ]
  },
  {
   "cell_type": "code",
   "execution_count": 1,
   "metadata": {
    "slideshow": {
     "slide_type": "fragment"
    }
   },
   "outputs": [],
   "source": [
    "import numpy as np"
   ]
  },
  {
   "cell_type": "markdown",
   "metadata": {
    "slideshow": {
     "slide_type": "subslide"
    }
   },
   "source": [
    "Wie gehe ich mit langen Datensätzen um? \n",
    "Wie kann ich Vektoren oder Matrizen am besten verarbeiten?\n",
    "\n",
    "Nehmen wir an wir haben *a*, *b* und *c* mit vielen Speicherplätzen, d.h. Vektoren oder *Arrays*. \n",
    "\n",
    "Man möchte nun folgende Berechnung mit allen Elementen durchführen: \n",
    "\n",
    "$c = a \\cdot b$\n",
    "\n",
    "Die Lösung in C oder C++ wäre eine Schleife:\n",
    "\n",
    "```c\n",
    "for (i = 0; i < rows; i++): {\n",
    "  c[i] = a[i]*b[i];\n",
    "}\n",
    "```"
   ]
  },
  {
   "cell_type": "code",
   "execution_count": 2,
   "metadata": {
    "scrolled": true,
    "slideshow": {
     "slide_type": "subslide"
    }
   },
   "outputs": [
    {
     "name": "stdout",
     "output_type": "stream",
     "text": [
      "[9, 16, 16, 6, 27]\n"
     ]
    }
   ],
   "source": [
    "a = [1, 2, 4, 2, 3]\n",
    "b = [9, 8, 4, 3, 9]\n",
    "c = []\n",
    "\n",
    "for index, value in enumerate(a):\n",
    "    c.append(a[index]*b[index])\n",
    "    \n",
    "print(c)"
   ]
  },
  {
   "cell_type": "markdown",
   "metadata": {
    "slideshow": {
     "slide_type": "subslide"
    }
   },
   "source": [
    "Genau für solche Operationen wurde *NumPy* geschrieben! \n",
    "\n",
    "Hiermit lassen sich Schleifen oder auch geschachtelte Schleifen vermeiden."
   ]
  },
  {
   "cell_type": "code",
   "execution_count": 3,
   "metadata": {},
   "outputs": [
    {
     "name": "stdout",
     "output_type": "stream",
     "text": [
      "[ 9 16 16  6 27]\n"
     ]
    }
   ],
   "source": [
    "a = np.array([1, 2, 4, 2, 3])\n",
    "b = np.array([9, 8, 4, 3, 9])\n",
    "\n",
    "c = a*b\n",
    "\n",
    "print(c)"
   ]
  },
  {
   "cell_type": "markdown",
   "metadata": {
    "slideshow": {
     "slide_type": "subslide"
    }
   },
   "source": [
    "Durch die Optmierung spart man bei größeren Datenmengen viel Rechenzeit:"
   ]
  },
  {
   "cell_type": "code",
   "execution_count": 4,
   "metadata": {
    "slideshow": {
     "slide_type": "fragment"
    }
   },
   "outputs": [],
   "source": [
    "a = [1, 2, 4, 2, 3]\n",
    "b = [9, 8, 4, 3, 9]\n",
    "c = []"
   ]
  },
  {
   "cell_type": "code",
   "execution_count": 5,
   "metadata": {
    "slideshow": {
     "slide_type": "fragment"
    }
   },
   "outputs": [
    {
     "name": "stdout",
     "output_type": "stream",
     "text": [
      "1.4 µs ± 48.4 ns per loop (mean ± std. dev. of 7 runs, 1000000 loops each)\n"
     ]
    }
   ],
   "source": [
    "%%timeit\n",
    "for index, value in enumerate(a):\n",
    "    c.append(a[index]*b[index])"
   ]
  },
  {
   "cell_type": "code",
   "execution_count": 6,
   "metadata": {
    "slideshow": {
     "slide_type": "fragment"
    }
   },
   "outputs": [],
   "source": [
    "a = np.array([1, 2, 4, 2, 3])\n",
    "b = np.array([9, 8, 4, 3, 9])"
   ]
  },
  {
   "cell_type": "code",
   "execution_count": 7,
   "metadata": {
    "slideshow": {
     "slide_type": "fragment"
    }
   },
   "outputs": [
    {
     "name": "stdout",
     "output_type": "stream",
     "text": [
      "427 ns ± 18.8 ns per loop (mean ± std. dev. of 7 runs, 1000000 loops each)\n"
     ]
    }
   ],
   "source": [
    "%%timeit\n",
    "c = a*b"
   ]
  },
  {
   "cell_type": "markdown",
   "metadata": {
    "slideshow": {
     "slide_type": "slide"
    }
   },
   "source": [
    "## Überblick über *NumPy* Objekte"
   ]
  },
  {
   "cell_type": "markdown",
   "metadata": {
    "slideshow": {
     "slide_type": "subslide"
    }
   },
   "source": [
    "### Datentypen von NumPy\n",
    "\n",
    "Ähnlich wie vorher schon besprochen hat **NumPy** unterschiedliche Datentypen.\n",
    "\n",
    "Zusätzlich zu den bereits bekannten gibt es die Folgenden:\n",
    "\n",
    "- **float64**: Double precision float, equivalent to two 32-bit floats\n",
    "\n",
    "- **complex64**: Complex number, represented by two 32-bit floats (real and imaginary components)\n",
    "\n",
    "- **complex128**: Complex number, represented by two 64-bit floats (real and imaginary components)"
   ]
  },
  {
   "cell_type": "code",
   "execution_count": 8,
   "metadata": {
    "scrolled": true,
    "slideshow": {
     "slide_type": "subslide"
    }
   },
   "outputs": [
    {
     "name": "stdout",
     "output_type": "stream",
     "text": [
      "<class 'numpy.ndarray'>\n"
     ]
    }
   ],
   "source": [
    "# Datentyp herausfinden\n",
    "import numpy as np\n",
    "a = np.array([1.54378])\n",
    "print(type(a))"
   ]
  },
  {
   "cell_type": "markdown",
   "metadata": {
    "slideshow": {
     "slide_type": "slide"
    }
   },
   "source": [
    "Außerdem gibt es spezielle aber **wichtige** Datentypen:\n",
    "\n",
    "- **Kein Wert (Engl. not a number)**: Viele Datensätze haben Lücken. Wie kann man diese beschreiben? Dafür gibt es die Konstante **np.nan**\n",
    "\n",
    "- **Unendlich (Engl. infinity)**: Wenn eine Rechenoperation zu einem Wert führt, welcher nicht mehr darstellbar ist, dann wird dieser Wert durch die Konstante **np.inf**"
   ]
  },
  {
   "cell_type": "code",
   "execution_count": 9,
   "metadata": {
    "slideshow": {
     "slide_type": "subslide"
    }
   },
   "outputs": [
    {
     "name": "stdout",
     "output_type": "stream",
     "text": [
      "nan\n"
     ]
    }
   ],
   "source": [
    "# kein Wert\n",
    "a = np.nan\n",
    "print(a)"
   ]
  },
  {
   "cell_type": "code",
   "execution_count": 10,
   "metadata": {
    "slideshow": {
     "slide_type": "subslide"
    }
   },
   "outputs": [
    {
     "name": "stdout",
     "output_type": "stream",
     "text": [
      "inf\n"
     ]
    }
   ],
   "source": [
    "# unendlich\n",
    "a = np.inf\n",
    "print(a)"
   ]
  },
  {
   "cell_type": "markdown",
   "metadata": {
    "slideshow": {
     "slide_type": "slide"
    }
   },
   "source": [
    "Zur Identifikation spezieller Werte gibt es einige Methoden:\n",
    "\n",
    "- Diese liefern ein *boolean* Objekt mit *True* (wahr) oder *False* (falsch) zurück\n",
    "\n",
    "- Damit kann man indizieren (kommt später)"
   ]
  },
  {
   "cell_type": "code",
   "execution_count": 11,
   "metadata": {
    "slideshow": {
     "slide_type": "subslide"
    }
   },
   "outputs": [
    {
     "name": "stdout",
     "output_type": "stream",
     "text": [
      "[ True False False False]\n",
      "[False  True False  True]\n"
     ]
    }
   ],
   "source": [
    "# Vektor erstellen\n",
    "a = np.array([np.nan, 0.234, np.inf, 3])\n",
    "\n",
    "# Testfunktionen\n",
    "nans = np.isnan(a)\n",
    "print(nans)\n",
    "\n",
    "finite = np.isfinite(a)\n",
    "print(finite)"
   ]
  },
  {
   "cell_type": "markdown",
   "metadata": {
    "slideshow": {
     "slide_type": "slide"
    }
   },
   "source": [
    "**Hinweis**: Mit *NumPy* werden auch *imaginäre Zahlen* $\\Im(z)$ berechenbar:\n",
    "\n",
    "$z = a + bi$\n",
    "\n",
    "$i^2 = -1$"
   ]
  },
  {
   "cell_type": "code",
   "execution_count": 12,
   "metadata": {
    "scrolled": true,
    "slideshow": {
     "slide_type": "subslide"
    }
   },
   "outputs": [
    {
     "name": "stdout",
     "output_type": "stream",
     "text": [
      "(2+3j)\n"
     ]
    }
   ],
   "source": [
    "# eine komplexe Zahl speichern\n",
    "z = 2 + 3j\n",
    "print(z)"
   ]
  },
  {
   "cell_type": "markdown",
   "metadata": {
    "slideshow": {
     "slide_type": "slide"
    }
   },
   "source": [
    "###  Objekte in *NumPy*\n",
    "\n",
    "*NumPy* hat einige Objekte, welche man unbeding kennen sollte:\n",
    "\n",
    "- **array**: für einen eindimensionalen Vektor\n",
    "- **matrix**: für eine zweidimensionale Matrix\n",
    "- **ndarray**: für ein n-dimensionales Objekt!"
   ]
  },
  {
   "cell_type": "code",
   "execution_count": 13,
   "metadata": {
    "slideshow": {
     "slide_type": "subslide"
    }
   },
   "outputs": [
    {
     "name": "stdout",
     "output_type": "stream",
     "text": [
      "9\n",
      "(9,)\n",
      "<class 'numpy.ndarray'>\n"
     ]
    }
   ],
   "source": [
    "# ein Vektor\n",
    "a = np.array([1, 0, 4, 6, 5, 9, 8, 9, 2])\n",
    "print(a.size)\n",
    "print(a.shape)\n",
    "print(type(a))"
   ]
  },
  {
   "cell_type": "code",
   "execution_count": 14,
   "metadata": {
    "slideshow": {
     "slide_type": "subslide"
    }
   },
   "outputs": [
    {
     "name": "stdout",
     "output_type": "stream",
     "text": [
      "4\n",
      "(2, 2)\n",
      "<class 'numpy.matrix'>\n"
     ]
    }
   ],
   "source": [
    "# eine Matrix\n",
    "A = np.matrix([[1, 2], [3, 4]])\n",
    "print(A.size)\n",
    "print(A.shape)\n",
    "print(type(A))"
   ]
  },
  {
   "cell_type": "code",
   "execution_count": 15,
   "metadata": {
    "scrolled": true,
    "slideshow": {
     "slide_type": "subslide"
    }
   },
   "outputs": [
    {
     "name": "stdout",
     "output_type": "stream",
     "text": [
      "24\n",
      "(2, 3, 4)\n",
      "<class 'numpy.ndarray'>\n"
     ]
    }
   ],
   "source": [
    "# ein mehrdimensionales Array\n",
    "AA = np.array([[[ 0.,  0.,  0.,  0.], [ 0.,  0.,  0.,  0.], [ 0.,  0.,  0.,  0.]], \n",
    "               [[ 0.,  0.,  0.,  0.], [ 0.,  0.,  0.,  0.], [ 0.,  0.,  0.,  0.]]])\n",
    "print(AA.size)\n",
    "print(AA.shape)\n",
    "print(type(AA))"
   ]
  },
  {
   "cell_type": "markdown",
   "metadata": {
    "slideshow": {
     "slide_type": "slide"
    }
   },
   "source": [
    "## Überblick über Operationen und Methoden\n",
    "\n",
    "- **WICHTIG**: Wir müssen uns daran gewöhnen, dass eine Varibale nun ganze Zahlenreihen oder Matrizen enthalten kann\n",
    "\n",
    "- Mit *NumPy* lassen sich viele Berechnungen vereinfacht programmieren"
   ]
  },
  {
   "cell_type": "markdown",
   "metadata": {
    "slideshow": {
     "slide_type": "slide"
    }
   },
   "source": [
    "### Beispiele für Berechnungen\n",
    "\n",
    "Mathematische Operationen"
   ]
  },
  {
   "cell_type": "code",
   "execution_count": 16,
   "metadata": {
    "scrolled": true,
    "slideshow": {
     "slide_type": "subslide"
    }
   },
   "outputs": [
    {
     "name": "stdout",
     "output_type": "stream",
     "text": [
      "[[ 55 130]]\n"
     ]
    }
   ],
   "source": [
    "a = np.array([1, 2, 3, 4, 5])\n",
    "b = np.matrix([[1, 2, 3, 4, 5], [6, 7, 8, 9, 10]])\n",
    "\n",
    "# Matrixmultiplication\n",
    "c = b.dot(a)\n",
    "print(c)"
   ]
  },
  {
   "cell_type": "code",
   "execution_count": 17,
   "metadata": {
    "slideshow": {
     "slide_type": "subslide"
    }
   },
   "outputs": [
    {
     "name": "stdout",
     "output_type": "stream",
     "text": [
      "[[  1   4   9  16  25]\n",
      " [ 36  49  64  81 100]]\n"
     ]
    }
   ],
   "source": [
    "b = np.array([[1, 2, 3, 4, 5], [6, 7, 8, 9, 10]])\n",
    "\n",
    "# quadrieren\n",
    "c = b**2\n",
    "print(c)"
   ]
  },
  {
   "cell_type": "markdown",
   "metadata": {
    "slideshow": {
     "slide_type": "slide"
    }
   },
   "source": [
    "Eingebaute Methoden (Funktionen):"
   ]
  },
  {
   "cell_type": "code",
   "execution_count": 18,
   "metadata": {
    "slideshow": {
     "slide_type": "subslide"
    }
   },
   "outputs": [
    {
     "name": "stdout",
     "output_type": "stream",
     "text": [
      "[[1.         1.41421356 1.73205081 2.         2.23606798]\n",
      " [2.44948974 2.64575131 2.82842712 3.         3.16227766]]\n"
     ]
    }
   ],
   "source": [
    "b = np.array([[1, 2, 3, 4, 5], [6, 7, 8, 9, 10]])\n",
    "\n",
    "# Wurzel ziehen\n",
    "c = np.sqrt(b)\n",
    "print(c)"
   ]
  },
  {
   "cell_type": "code",
   "execution_count": 19,
   "metadata": {
    "slideshow": {
     "slide_type": "subslide"
    }
   },
   "outputs": [
    {
     "name": "stdout",
     "output_type": "stream",
     "text": [
      "[ 1  3  6 10 15 21 28 36 45 55]\n"
     ]
    }
   ],
   "source": [
    "b = np.array([1, 2, 3, 4, 5, 6, 7, 8, 9, 10])\n",
    "\n",
    "# kumulative Summe\n",
    "c = np.cumsum(b)\n",
    "print(c)"
   ]
  },
  {
   "cell_type": "code",
   "execution_count": 20,
   "metadata": {
    "slideshow": {
     "slide_type": "subslide"
    }
   },
   "outputs": [
    {
     "name": "stdout",
     "output_type": "stream",
     "text": [
      "4.4\n"
     ]
    }
   ],
   "source": [
    "a = np.array([1, 2])\n",
    "b = np.array([5, 3])\n",
    "\n",
    "# lineare Interpolation\n",
    "c = np.interp(1.3, a, b)\n",
    "print(c)"
   ]
  },
  {
   "cell_type": "markdown",
   "metadata": {
    "slideshow": {
     "slide_type": "subslide"
    }
   },
   "source": [
    "In *NumPy* sind unzählige Funktionen eingebaut.\n",
    "\n",
    "Einen Überblick gibt es hier: [NumPy's Mathematical Functions](https://numpy.org/doc/stable/reference/routines.math.html)\n",
    "\n",
    "**Achtung**: Viele weiterführende mathematische Funktionen fehlen aber auch.\n",
    "\n",
    "Dafür gibt es andere Pakete, zum Beispiel:\n",
    "- [SciPy](https://www.scipy.org/): ist eine freie (BSD-lizenzierte) Python-Bibliothek für reelle und komplexe Fließkomma-Arithmetik mit beliebiger Genauigkeit\n",
    "\n",
    "- [math](https://mpmath.org/): ist ein Python-basiertes Ökosystem von Open-Source-Software für Mathematik, Wissenschaft und Technik\n",
    "\n",
    "Viele dieser Pakete lassen sich einwandfrei mit *NumPy* Datentypen verwenden."
   ]
  },
  {
   "cell_type": "markdown",
   "metadata": {
    "slideshow": {
     "slide_type": "slide"
    }
   },
   "source": [
    "Ein Beispiel für die Verwendung von **SciPy** ist die Verwendung der [Fehlerfunktion](https://de.wikipedia.org/wiki/Fehlerfunktion):\n",
    "\n",
    "$erf(x) = \\frac{2}{\\sqrt{\\pi}} \\int_0^x{e^{-r^2}} d r$"
   ]
  },
  {
   "cell_type": "code",
   "execution_count": 21,
   "metadata": {
    "scrolled": true,
    "slideshow": {
     "slide_type": "subslide"
    }
   },
   "outputs": [
    {
     "name": "stdout",
     "output_type": "stream",
     "text": [
      "[0.11246292 0.84270079 0.99532227 0.99997791 0.99999998]\n"
     ]
    }
   ],
   "source": [
    "import scipy.special as sp\n",
    "\n",
    "# Fehlerfunktion ausrechnen\n",
    "a = np.array([0.1, 1, 2, 3, 4])\n",
    "print(sp.erf(a))"
   ]
  },
  {
   "cell_type": "code",
   "execution_count": 22,
   "metadata": {
    "slideshow": {
     "slide_type": "subslide"
    }
   },
   "outputs": [
    {
     "name": "stdout",
     "output_type": "stream",
     "text": [
      "3.14159265358979\n"
     ]
    },
    {
     "data": {
      "text/plain": [
       "'3.141592653589793115997963468544185161590576171875'"
      ]
     },
     "execution_count": 22,
     "metadata": {},
     "output_type": "execute_result"
    }
   ],
   "source": [
    "import mpmath as mp\n",
    "\n",
    "# Präzision bestimmen\n",
    "mp.dps = 50\n",
    "\n",
    "# Präzision ansehen ...\n",
    "print(mp.pi)\n",
    "mp.nstr(mp.pi, 50)"
   ]
  },
  {
   "cell_type": "markdown",
   "metadata": {
    "slideshow": {
     "slide_type": "slide"
    }
   },
   "source": [
    "## Einführung in die Indizierung und das Ausschneiden\n",
    "\n",
    "**ACHTUNG**: Verständnis dieses Teils ist sehr wichtig, da die Indizierung eines der besten Möglichkeiten für die schnelle Datenverarbeitung bietet!"
   ]
  },
  {
   "cell_type": "markdown",
   "metadata": {
    "slideshow": {
     "slide_type": "subslide"
    }
   },
   "source": [
    "Wie erfolgt der Zugriff auf einzelne Werte in einem Datenkontainer?\n",
    "\n",
    "<p align=\"left\">\n",
    "  <img src=\"figures/cube.jpg\" width=400 align='left' />\n",
    "</p>\n",
    "\n",
    "\n",
    "\n"
   ]
  },
  {
   "cell_type": "markdown",
   "metadata": {
    "slideshow": {
     "slide_type": "subslide"
    }
   },
   "source": [
    "Durch Indizierung!"
   ]
  },
  {
   "cell_type": "code",
   "execution_count": 23,
   "metadata": {
    "scrolled": false,
    "slideshow": {
     "slide_type": "subslide"
    }
   },
   "outputs": [
    {
     "name": "stdout",
     "output_type": "stream",
     "text": [
      "[[[0.3673859  0.17756745 0.16544107 0.85422259 0.44779675]\n",
      "  [0.01197298 0.71649245 0.2450408  0.691531   0.1626829 ]\n",
      "  [0.4897386  0.25152484 0.08911375 0.06109532 0.29627129]\n",
      "  [0.45819125 0.40729052 0.65466665 0.20318133 0.87140017]\n",
      "  [0.81615331 0.42939957 0.6830261  0.98934915 0.7889858 ]]\n",
      "\n",
      " [[0.88592486 0.16715522 0.54239313 0.7160568  0.78541266]\n",
      "  [0.3166467  0.84390107 0.54211943 0.70051833 0.56278033]\n",
      "  [0.45227286 0.00601564 0.264527   0.59114325 0.1265211 ]\n",
      "  [0.83817172 0.22367332 0.62901986 0.51398511 0.06042844]\n",
      "  [0.44323453 0.68523895 0.05890148 0.83307351 0.23899888]]\n",
      "\n",
      " [[0.18482661 0.60242332 0.77591234 0.42876808 0.03235423]\n",
      "  [0.90752746 0.83511801 0.52440243 0.48772998 0.29091379]\n",
      "  [0.43424719 0.42734538 0.56953568 0.23348437 0.31604487]\n",
      "  [0.49222599 0.76281646 0.23255543 0.62418574 0.08358814]\n",
      "  [0.20563113 0.81827995 0.67260066 0.55539161 0.78979739]]\n",
      "\n",
      " [[0.08779339 0.9723563  0.90607195 0.35806429 0.84137215]\n",
      "  [0.64202427 0.27848246 0.24751236 0.76061275 0.60527805]\n",
      "  [0.95678776 0.78326719 0.63977235 0.07257942 0.99242176]\n",
      "  [0.81268696 0.3975188  0.96684687 0.50599034 0.68802232]\n",
      "  [0.3387962  0.25512657 0.18046071 0.87594198 0.90002665]]\n",
      "\n",
      " [[0.19146865 0.23227458 0.61270359 0.39334515 0.74462585]\n",
      "  [0.00143662 0.33819452 0.18909691 0.87607994 0.98930207]\n",
      "  [0.32404159 0.53808191 0.69451784 0.16673485 0.45084744]\n",
      "  [0.8421095  0.33889123 0.21939241 0.71408204 0.7048586 ]\n",
      "  [0.2432542  0.84095511 0.67235464 0.20185105 0.60468758]]]\n"
     ]
    }
   ],
   "source": [
    "# ein 3D Array mit zufälligen Zahlen\n",
    "a = np.random.rand(5, 5, 5)\n",
    "print(a)"
   ]
  },
  {
   "cell_type": "markdown",
   "metadata": {
    "slideshow": {
     "slide_type": "subslide"
    }
   },
   "source": [
    "Wie kann ich jetzt gezielt auf Werte zugreifen?\n",
    "\n",
    "Zum Beispiel, gib mir alle Werte der ersten Zeile:"
   ]
  },
  {
   "cell_type": "code",
   "execution_count": 24,
   "metadata": {
    "slideshow": {
     "slide_type": "subslide"
    }
   },
   "outputs": [
    {
     "name": "stdout",
     "output_type": "stream",
     "text": [
      "[[0.3673859  0.17756745 0.16544107 0.85422259 0.44779675]\n",
      " [0.88592486 0.16715522 0.54239313 0.7160568  0.78541266]\n",
      " [0.18482661 0.60242332 0.77591234 0.42876808 0.03235423]\n",
      " [0.08779339 0.9723563  0.90607195 0.35806429 0.84137215]\n",
      " [0.19146865 0.23227458 0.61270359 0.39334515 0.74462585]]\n"
     ]
    }
   ],
   "source": [
    "print(a[:, 0])"
   ]
  },
  {
   "cell_type": "markdown",
   "metadata": {
    "slideshow": {
     "slide_type": "subslide"
    }
   },
   "source": [
    "Oder, gib mir alle Werte der ersten Spalte:"
   ]
  },
  {
   "cell_type": "code",
   "execution_count": 25,
   "metadata": {
    "scrolled": true,
    "slideshow": {
     "slide_type": "subslide"
    }
   },
   "outputs": [
    {
     "name": "stdout",
     "output_type": "stream",
     "text": [
      "[[0.3673859  0.17756745 0.16544107 0.85422259 0.44779675]\n",
      " [0.01197298 0.71649245 0.2450408  0.691531   0.1626829 ]\n",
      " [0.4897386  0.25152484 0.08911375 0.06109532 0.29627129]\n",
      " [0.45819125 0.40729052 0.65466665 0.20318133 0.87140017]\n",
      " [0.81615331 0.42939957 0.6830261  0.98934915 0.7889858 ]]\n"
     ]
    }
   ],
   "source": [
    "print(a[0, :])"
   ]
  },
  {
   "cell_type": "markdown",
   "metadata": {
    "slideshow": {
     "slide_type": "slide"
    }
   },
   "source": [
    "Überblick:\n",
    "\n",
    "- die Dimensionen werden beim Zugriff mit Kommas getrennt\n",
    "- der Operator \":\" steht für alles, was in einer Dimension vorhanden ist\n",
    "- Mit diesem Operator kann man beliebige Sequenzen ansprechen"
   ]
  },
  {
   "cell_type": "markdown",
   "metadata": {
    "slideshow": {
     "slide_type": "subslide"
    }
   },
   "source": [
    "Überblick:\n",
    "\n",
    "<p align=\"left\">\n",
    "  <img src=\"figures/indexing.png\" width=400 align='left' />\n",
    "</p>\n",
    "\n",
    "Quelle: [Opengenus](https://iq.opengenus.org/2d-array-in-numpy/)"
   ]
  },
  {
   "cell_type": "markdown",
   "metadata": {
    "slideshow": {
     "slide_type": "slide"
    }
   },
   "source": [
    "Machen wir ein paar Beispiele:"
   ]
  },
  {
   "cell_type": "code",
   "execution_count": 26,
   "metadata": {
    "scrolled": true,
    "slideshow": {
     "slide_type": "subslide"
    }
   },
   "outputs": [
    {
     "name": "stdout",
     "output_type": "stream",
     "text": [
      "[[ 0  1  2  3  4  5  6  7  8  9]\n",
      " [10 11 12 13 14 15 16 17 18 19]\n",
      " [20 21 22 23 24 25 26 27 28 29]\n",
      " [30 31 32 33 34 35 36 37 38 39]\n",
      " [40 41 42 43 44 45 46 47 48 49]\n",
      " [50 51 52 53 54 55 56 57 58 59]\n",
      " [60 61 62 63 64 65 66 67 68 69]\n",
      " [70 71 72 73 74 75 76 77 78 79]\n",
      " [80 81 82 83 84 85 86 87 88 89]\n",
      " [90 91 92 93 94 95 96 97 98 99]]\n"
     ]
    }
   ],
   "source": [
    "# zuerst machen wir eine Sequenz\n",
    "a = np.arange(0,100).reshape(10,10)\n",
    "print(a)"
   ]
  },
  {
   "cell_type": "code",
   "execution_count": 27,
   "metadata": {
    "slideshow": {
     "slide_type": "subslide"
    }
   },
   "outputs": [
    {
     "name": "stdout",
     "output_type": "stream",
     "text": [
      "[30 40 50 60]\n"
     ]
    }
   ],
   "source": [
    "# gib mir Zeile 3-6 der ersten Spalte\n",
    "print(a[3:7, 0])"
   ]
  },
  {
   "cell_type": "code",
   "execution_count": 28,
   "metadata": {
    "slideshow": {
     "slide_type": "subslide"
    }
   },
   "outputs": [
    {
     "name": "stdout",
     "output_type": "stream",
     "text": [
      "[2 3 4 5]\n"
     ]
    }
   ],
   "source": [
    "# gib mir Spalte 2-5 der ersten Zeile\n",
    "print(a[0, 2:6])"
   ]
  },
  {
   "cell_type": "code",
   "execution_count": 29,
   "metadata": {
    "slideshow": {
     "slide_type": "subslide"
    }
   },
   "outputs": [
    {
     "name": "stdout",
     "output_type": "stream",
     "text": [
      "[ 0 20 40 60 80]\n"
     ]
    }
   ],
   "source": [
    "# gib mir jede weite Zeile der ersten Spalte\n",
    "print(a[::2, 0])"
   ]
  },
  {
   "cell_type": "markdown",
   "metadata": {
    "slideshow": {
     "slide_type": "slide"
    }
   },
   "source": [
    "**Zusammenfassung**:\n",
    "\n",
    "- Die Indizierung jeder Dimension erfolgt generell so: **Anfang:Ende:Inkrement**\n",
    "- Achtung: Das Ende ist nicht mit eingerechnet, z.B. 2:5:1 wird zu [2, 3, 4]\n",
    "- Das Weglassen von **Anfang**: Fängt bei null an\n",
    "- Das Weglassen von **Ende**: Hört am Schluss auf\n",
    "- Das Weglassen von **Inkrement**: Standard ist 1\n",
    "- Negative Werte von **Inkrement**: Zugriff erfolgt rückwärts!"
   ]
  },
  {
   "cell_type": "code",
   "execution_count": 30,
   "metadata": {
    "slideshow": {
     "slide_type": "subslide"
    }
   },
   "outputs": [
    {
     "name": "stdout",
     "output_type": "stream",
     "text": [
      "[90 70 50 30 10]\n"
     ]
    }
   ],
   "source": [
    "# gib mir jede weite Zeile der ersten Spalte\n",
    "# aber rückwärts!\n",
    "print(a[::-2, 0])"
   ]
  },
  {
   "cell_type": "markdown",
   "metadata": {
    "slideshow": {
     "slide_type": "slide"
    }
   },
   "source": [
    "### Logische Indizierung\n",
    "\n",
    "Werte in einem *NumPy* Objekt können auch durch logische Indizierung gefunden und bearbeitet werden.\n",
    "\n",
    "Bei der logischen Indizierung wird zuerst ein *boolean* *Array* erstellt und verwendet. \n",
    "\n",
    "Dieses wird dann zur Erkennung der Werte verwendet."
   ]
  },
  {
   "cell_type": "code",
   "execution_count": 31,
   "metadata": {
    "slideshow": {
     "slide_type": "subslide"
    }
   },
   "outputs": [
    {
     "name": "stdout",
     "output_type": "stream",
     "text": [
      "[ True False  True  True False False  True False False False]\n"
     ]
    }
   ],
   "source": [
    "# erstelle ein array mit Zufallswerten\n",
    "a = np.random.rand(10)\n",
    "idx = (a > 0.5)\n",
    "print(idx)"
   ]
  },
  {
   "cell_type": "code",
   "execution_count": 32,
   "metadata": {
    "scrolled": false,
    "slideshow": {
     "slide_type": "subslide"
    }
   },
   "outputs": [
    {
     "name": "stdout",
     "output_type": "stream",
     "text": [
      "[0.96752362 0.84657305 0.62573478 0.2560058  0.37384204 0.51846612\n",
      " 0.20182223]\n"
     ]
    }
   ],
   "source": [
    "# zeige alle Wert, die über 0.2 liegen\n",
    "b = a[a > 0.2]\n",
    "print(b)"
   ]
  },
  {
   "cell_type": "code",
   "execution_count": 33,
   "metadata": {
    "slideshow": {
     "slide_type": "subslide"
    }
   },
   "outputs": [
    {
     "name": "stdout",
     "output_type": "stream",
     "text": [
      "[0.62573478 0.2560058  0.37384204 0.51846612 0.20182223]\n"
     ]
    }
   ],
   "source": [
    "# zeige alle Wert, die über 0.2 und unter 0.8 liegen\n",
    "b = a[(a > 0.2) & (a < 0.8)]\n",
    "print(b)"
   ]
  },
  {
   "cell_type": "markdown",
   "metadata": {
    "slideshow": {
     "slide_type": "slide"
    }
   },
   "source": [
    "## Kurzer Überblick über die erweiterte Funktionalität"
   ]
  },
  {
   "cell_type": "markdown",
   "metadata": {
    "slideshow": {
     "slide_type": "subslide"
    }
   },
   "source": [
    "### Einfache Erstellung oft benötigter Objekte\n",
    "\n",
    "Für die einfache und schnelle Erstellung von Objekten gibt es viele hilfreiche Funtionen:"
   ]
  },
  {
   "cell_type": "code",
   "execution_count": 34,
   "metadata": {
    "slideshow": {
     "slide_type": "subslide"
    }
   },
   "outputs": [
    {
     "name": "stdout",
     "output_type": "stream",
     "text": [
      "[[0. 0. 0. 0.]\n",
      " [0. 0. 0. 0.]\n",
      " [0. 0. 0. 0.]\n",
      " [0. 0. 0. 0.]]\n",
      "[[1. 1. 1. 1.]\n",
      " [1. 1. 1. 1.]\n",
      " [1. 1. 1. 1.]\n",
      " [1. 1. 1. 1.]]\n"
     ]
    }
   ],
   "source": [
    "# Erstellung eines Null-Objektes\n",
    "a = np.zeros((4, 4))\n",
    "print(a)\n",
    "\n",
    "# Erstellung eines Eins-Objekts\n",
    "a = np.ones((4, 4))\n",
    "print(a)"
   ]
  },
  {
   "cell_type": "markdown",
   "metadata": {
    "slideshow": {
     "slide_type": "slide"
    }
   },
   "source": [
    "**Achtung**: Leider gibt es diese Funktion nicht für *NaN! Hier muss man sich etwas behelfen."
   ]
  },
  {
   "cell_type": "code",
   "execution_count": 35,
   "metadata": {
    "slideshow": {
     "slide_type": "fragment"
    }
   },
   "outputs": [
    {
     "name": "stdout",
     "output_type": "stream",
     "text": [
      "[[nan nan nan]\n",
      " [nan nan nan]\n",
      " [nan nan nan]]\n"
     ]
    }
   ],
   "source": [
    "# Erstellung einer leeren Matrix \n",
    "a = np.empty((3, 3))\n",
    "a[:] = np.nan\n",
    "print(a)"
   ]
  },
  {
   "cell_type": "markdown",
   "metadata": {
    "slideshow": {
     "slide_type": "fragment"
    }
   },
   "source": [
    "**Vorsicht**: Die Methode *empty()* setz einen Zeiger auf einen freien Speicherplatz! Die dortigen Werte können zufällig sein, sind also nicht verlässlich."
   ]
  },
  {
   "cell_type": "markdown",
   "metadata": {
    "slideshow": {
     "slide_type": "slide"
    }
   },
   "source": [
    "### Kombination von Objekten\n",
    "\n",
    "Für die einfache und schnelle Kombination von Objekten gibt es hilfreiche Funtionen:"
   ]
  },
  {
   "cell_type": "code",
   "execution_count": 36,
   "metadata": {
    "scrolled": true,
    "slideshow": {
     "slide_type": "subslide"
    }
   },
   "outputs": [
    {
     "name": "stdout",
     "output_type": "stream",
     "text": [
      "(10,)\n",
      "(10,)\n",
      "(20,)\n",
      "(20,)\n",
      "(2, 10)\n"
     ]
    }
   ],
   "source": [
    "# erstelle zwei gleichlange Vektoren\n",
    "a = np.random.rand(10)\n",
    "print(a.shape)\n",
    "b = np.random.rand(10)\n",
    "print(b.shape)\n",
    "\n",
    "# horizontale Kombination\n",
    "c = np.hstack((a, b))\n",
    "print(c.shape)\n",
    "c = np.concatenate((a, b), axis=0)\n",
    "print(c.shape)\n",
    "\n",
    "# vertikale Kombination\n",
    "c = np.vstack((a, b))\n",
    "print(c.shape)"
   ]
  },
  {
   "cell_type": "code",
   "execution_count": 37,
   "metadata": {
    "slideshow": {
     "slide_type": "subslide"
    }
   },
   "outputs": [
    {
     "name": "stdout",
     "output_type": "stream",
     "text": [
      "[0.15141506 0.95655461 0.00508223 0.42992441 0.45601741 0.39952651\n",
      " 0.10269261 0.34179717 0.71773812 0.76870422]\n",
      "<built-in method transpose of numpy.ndarray object at 0x000001FC3F9924B0>\n",
      "[0.15141506 0.95655461 0.00508223 0.42992441 0.45601741 0.39952651\n",
      " 0.10269261 0.34179717 0.71773812 0.76870422]\n"
     ]
    }
   ],
   "source": [
    "# Objekt umdrehen (transpose)\n",
    "print(a)\n",
    "b = a.transpose\n",
    "print(b)\n",
    "# oder Auch\n",
    "b = a.T\n",
    "print(b)"
   ]
  },
  {
   "cell_type": "markdown",
   "metadata": {
    "slideshow": {
     "slide_type": "slide"
    }
   },
   "source": [
    "### Sortieren von Werten in einem Objekt\n",
    "\n",
    "Für die einfache und schnelle Sortierung von Werten gibt es viele hilfreiche Funtionen:"
   ]
  },
  {
   "cell_type": "code",
   "execution_count": 38,
   "metadata": {
    "slideshow": {
     "slide_type": "subslide"
    }
   },
   "outputs": [
    {
     "name": "stdout",
     "output_type": "stream",
     "text": [
      "[9 7 1 4 5 2 6 3 3 1]\n",
      "[1 1 2 3 3 4 5 6 7 9]\n"
     ]
    }
   ],
   "source": [
    "# erstelle zufällige Werte\n",
    "a = np.random.randint(0, 10, 10)\n",
    "print(a)\n",
    "\n",
    "# sortiere diese Werte\n",
    "b = np.sort(a)\n",
    "print(b)"
   ]
  },
  {
   "cell_type": "markdown",
   "metadata": {
    "slideshow": {
     "slide_type": "slide"
    }
   },
   "source": [
    "### Suchen von Werten in einem Objekt\n",
    "\n",
    "Für die einfache und schnelle Suche von Werten gibt es viele hilfreiche Funtionen:"
   ]
  },
  {
   "cell_type": "code",
   "execution_count": 39,
   "metadata": {
    "scrolled": true,
    "slideshow": {
     "slide_type": "subslide"
    }
   },
   "outputs": [
    {
     "name": "stdout",
     "output_type": "stream",
     "text": [
      "[6 0 3 1 2 6 5 2 3 1 4 0 6 2 6 2 9 7 3 1 3 4 2 8 3 0 4 0 3 9 3 8 9 3 1 4 7\n",
      " 7 8 3 9 1 7 1 5 6 7 4 6 5]\n",
      "[False False  True False False False False False  True False False False\n",
      " False False False False False False  True False  True False False False\n",
      "  True False False False  True False  True False False  True False False\n",
      " False False False  True False False False False False False False False\n",
      " False False]\n",
      "(array([ 2,  8, 18, 20, 24, 28, 30, 33, 39], dtype=int64),)\n"
     ]
    }
   ],
   "source": [
    "# erstelle zufällige Werte\n",
    "a = np.random.randint(0, 10, 50)\n",
    "print(a)\n",
    "\n",
    "# identifiziere die Werte\n",
    "bol = (a == 3)\n",
    "print(bol)\n",
    "\n",
    "# zeige den Index diser Werte\n",
    "idx = np.where(bol)\n",
    "print(idx)"
   ]
  },
  {
   "cell_type": "markdown",
   "metadata": {
    "slideshow": {
     "slide_type": "slide"
    }
   },
   "source": [
    "### Einfache Statistiken\n",
    "\n",
    "Für einfache Statistiken gibt es viele hilfreiche Funtionen:"
   ]
  },
  {
   "cell_type": "code",
   "execution_count": 40,
   "metadata": {
    "slideshow": {
     "slide_type": "subslide"
    }
   },
   "outputs": [
    {
     "name": "stdout",
     "output_type": "stream",
     "text": [
      "9.561138972924432e-05\n",
      "0.5045254903951111\n",
      "3675\n"
     ]
    }
   ],
   "source": [
    "# erstelle zufällige Werte\n",
    "a = np.random.rand(10000)\n",
    "\n",
    "# der kleinste Wert\n",
    "b = np.min(a)\n",
    "print(b)\n",
    "\n",
    "# der Häufigste (Median) aller Werte\n",
    "b = np.median(a)\n",
    "print(b)\n",
    "\n",
    "# finde den Index des maximalen Wertes\n",
    "b = np.argmax(a)\n",
    "print(b)"
   ]
  },
  {
   "cell_type": "markdown",
   "metadata": {},
   "source": [
    "### Laden von Textdateien\n",
    "\n",
    "Auch Textdateien mit Daten können eingelesen werden:"
   ]
  },
  {
   "cell_type": "code",
   "execution_count": 41,
   "metadata": {},
   "outputs": [
    {
     "name": "stdout",
     "output_type": "stream",
     "text": [
      "[[310. 222.]\n",
      " [200. 153.]\n",
      " [160.  31.]\n",
      " [370. 584.]\n",
      " [ 90. 312.]\n",
      " [ 20. 599.]\n",
      " [ 50.  61.]\n",
      " [310.  79.]\n",
      " [ 80. 482.]\n",
      " [200. 141.]]\n"
     ]
    }
   ],
   "source": [
    "# Datei zum Lesen öffnen\n",
    "file = open(\"datasets/hydraulic_apertures.csv\", \"r\")\n",
    "\n",
    "# Datei in NumPy einlesen ...\n",
    "data = np.genfromtxt(file, delimiter=\",\", skip_header=1)\n",
    "\n",
    "# Datei schliessen\n",
    "file.close()\n",
    "\n",
    "print(data[:10, :])"
   ]
  },
  {
   "cell_type": "markdown",
   "metadata": {
    "slideshow": {
     "slide_type": "slide"
    }
   },
   "source": [
    "## Kurzer Überblick über die lineare Algebra"
   ]
  },
  {
   "cell_type": "markdown",
   "metadata": {
    "slideshow": {
     "slide_type": "slide"
    }
   },
   "source": [
    "**Beispiel**: Lösung eines Gleichungssystems mit drei Unbekannten:\n",
    "\n",
    "$2x + 4y -2z = 5$\n",
    "\n",
    "$x -5y + 3z = 10$\n",
    "\n",
    "$3x -2y -z = 8$"
   ]
  },
  {
   "cell_type": "markdown",
   "metadata": {
    "slideshow": {
     "slide_type": "subslide"
    }
   },
   "source": [
    "\n",
    "\\begin{align*}\n",
    "\\left[\\begin{array}{ccc}\n",
    "2 & 4 & -2 \\\\\n",
    "1 & -5 & 3 \\\\\n",
    "3 & -2 & -1\n",
    "\\end{array}\\right]\n",
    "\\begin{bmatrix}\n",
    "  x  \\\\\n",
    "  y  \\\\\n",
    "  z\n",
    "\\end{bmatrix} \n",
    "= \\begin{bmatrix}\n",
    "  5  \\\\\n",
    "  10  \\\\\n",
    "  8\n",
    "\\end{bmatrix}\n",
    "\\end{align*}\n",
    "\n",
    "\\begin{align*}\n",
    "\\mathbf{A} \\cdot x = b\n",
    "\\end{align*}\n",
    "\n",
    "\\begin{align*}\n",
    "x = \\mathbf{A}^{-1} \\cdot b\n",
    "\\end{align*}"
   ]
  },
  {
   "cell_type": "code",
   "execution_count": 42,
   "metadata": {
    "scrolled": true,
    "slideshow": {
     "slide_type": "subslide"
    }
   },
   "outputs": [
    {
     "name": "stdout",
     "output_type": "stream",
     "text": [
      "[[4.19444444]\n",
      " [0.72222222]\n",
      " [3.13888889]]\n"
     ]
    }
   ],
   "source": [
    "# Koeffizienten\n",
    "coeff = np.matrix([[2, 4, -2], [1, -5, 3], [3, -2, -1]])\n",
    "\n",
    "# Lösung\n",
    "solution = np.matrix([[5], [10], [8]])\n",
    "\n",
    "# Inversmatrix\n",
    "coeff_inv = np.linalg.inv(coeff)\n",
    "\n",
    "# Matrix-Multiplikation\n",
    "unknown = coeff_inv.dot(solution)\n",
    "print(unknown)"
   ]
  },
  {
   "cell_type": "markdown",
   "metadata": {
    "slideshow": {
     "slide_type": "slide"
    }
   },
   "source": [
    "## Kurzer Überblick über die Datums- und Zeitfunktionalität\n",
    "\n",
    "- Bisher haben wir nur Daten angeschaut\n",
    "\n",
    "- Was ist mit Zeitreihen? Diese kommen häufig in den Geowissenschaften vor\n",
    "\n",
    "- Zeitreihen sind ein langes Thema, hier gibt es nur einen kurzen EInstieg\n",
    "\n",
    "- Mehr kommt dann später wenn das Paket *Pandas* vorgestellt wird"
   ]
  },
  {
   "cell_type": "code",
   "execution_count": 43,
   "metadata": {
    "scrolled": true,
    "slideshow": {
     "slide_type": "subslide"
    }
   },
   "outputs": [
    {
     "name": "stdout",
     "output_type": "stream",
     "text": [
      "2021-03-10\n"
     ]
    }
   ],
   "source": [
    "# Ein Datum\n",
    "date = np.datetime64('2021-03-10')\n",
    "print(date)"
   ]
  },
  {
   "cell_type": "code",
   "execution_count": 44,
   "metadata": {
    "slideshow": {
     "slide_type": "subslide"
    }
   },
   "outputs": [
    {
     "name": "stdout",
     "output_type": "stream",
     "text": [
      "2021-03-10T12:00\n"
     ]
    }
   ],
   "source": [
    "# Ein Datum und eine Zeit\n",
    "datetime = np.datetime64('2021-03-10T12:00')\n",
    "print(datetime)"
   ]
  },
  {
   "cell_type": "markdown",
   "metadata": {
    "slideshow": {
     "slide_type": "slide"
    }
   },
   "source": [
    "Auch Zeitdifferenzen lassen sich in *NumPy* gut dastellen:"
   ]
  },
  {
   "cell_type": "code",
   "execution_count": 45,
   "metadata": {
    "slideshow": {
     "slide_type": "subslide"
    }
   },
   "outputs": [
    {
     "name": "stdout",
     "output_type": "stream",
     "text": [
      "1 hours\n"
     ]
    }
   ],
   "source": [
    "# eine Zeitdifferenz in Stunden\n",
    "delta_t = np.timedelta64(1, 'h')\n",
    "print(delta_t)"
   ]
  },
  {
   "cell_type": "code",
   "execution_count": 46,
   "metadata": {
    "slideshow": {
     "slide_type": "subslide"
    }
   },
   "outputs": [
    {
     "name": "stdout",
     "output_type": "stream",
     "text": [
      "2021-03-13T02:22\n"
     ]
    }
   ],
   "source": [
    "# Ein Datum\n",
    "date = np.datetime64('2021-03-10')\n",
    "# Zeitdifferenz in Tagen\n",
    "delta_t1 = np.timedelta64(3, 'D')\n",
    "# Zeitdifferenz in Stunden\n",
    "delta_t2 = np.timedelta64(2, 'h')\n",
    "# Zeitdifferenz in Minuten\n",
    "delta_t3 = np.timedelta64(22, 'm')\n",
    "# das Ergebnis einer Zeitrechnung\n",
    "result = date + delta_t1 + delta_t2 + delta_t3\n",
    "print(result)"
   ]
  },
  {
   "cell_type": "markdown",
   "metadata": {
    "slideshow": {
     "slide_type": "fragment"
    }
   },
   "source": [
    "**ACHTUNG**: Leider ist *NumPy*'s Zeitfunktionalität sehr begrenzt! Für weitere Möglichkeit benötigt man andere Pakete."
   ]
  },
  {
   "cell_type": "markdown",
   "metadata": {
    "slideshow": {
     "slide_type": "slide"
    }
   },
   "source": [
    "### Das *datetime* Paket in Python\n",
    "\n",
    "- Das *datetime* Paket bietet viel mehr Funktionalität als *NumPy*\n",
    "\n",
    "- Allerdings muss man beachten, dass es ein anderer Objekttyp ist\n",
    "\n",
    "- Natürlich kann man Variablen konvertieren\n",
    "\n",
    "- Leider gibt es hier oft Verwirrungen"
   ]
  },
  {
   "cell_type": "code",
   "execution_count": 47,
   "metadata": {
    "slideshow": {
     "slide_type": "fragment"
    }
   },
   "outputs": [],
   "source": [
    "import datetime as dt"
   ]
  },
  {
   "cell_type": "code",
   "execution_count": 48,
   "metadata": {
    "slideshow": {
     "slide_type": "slide"
    }
   },
   "outputs": [
    {
     "name": "stdout",
     "output_type": "stream",
     "text": [
      "2021-03-12 00:00:00\n"
     ]
    }
   ],
   "source": [
    "# Beispiel eines Datumsobjektes\n",
    "date = dt.datetime(2021, 3, 12)\n",
    "print(date)"
   ]
  },
  {
   "cell_type": "code",
   "execution_count": 49,
   "metadata": {
    "scrolled": true,
    "slideshow": {
     "slide_type": "fragment"
    }
   },
   "outputs": [
    {
     "name": "stdout",
     "output_type": "stream",
     "text": [
      "2021-03-12 13:15:00\n"
     ]
    }
   ],
   "source": [
    "# Beispiel eines Datums- und Zeitobjektes\n",
    "datetime = dt.datetime(2021, 3, 12, 13, 15)\n",
    "print(datetime)"
   ]
  },
  {
   "cell_type": "code",
   "execution_count": 50,
   "metadata": {
    "slideshow": {
     "slide_type": "fragment"
    }
   },
   "outputs": [
    {
     "name": "stdout",
     "output_type": "stream",
     "text": [
      "2021-03-04 17:12:11.878242\n"
     ]
    }
   ],
   "source": [
    "# Was ist die momentane Zeit?\n",
    "now = dt.datetime.now()\n",
    "print(now)"
   ]
  },
  {
   "cell_type": "code",
   "execution_count": 51,
   "metadata": {
    "slideshow": {
     "slide_type": "slide"
    }
   },
   "outputs": [
    {
     "name": "stdout",
     "output_type": "stream",
     "text": [
      "0:15:13\n"
     ]
    }
   ],
   "source": [
    "# Beispiel für eine Zeitdifferenz\n",
    "delta_t = dt.timedelta(minutes=13, seconds=133)\n",
    "print(delta_t)"
   ]
  },
  {
   "cell_type": "code",
   "execution_count": 52,
   "metadata": {
    "slideshow": {
     "slide_type": "fragment"
    }
   },
   "outputs": [
    {
     "name": "stdout",
     "output_type": "stream",
     "text": [
      "2021-03-04 17:45:24.900186\n"
     ]
    }
   ],
   "source": [
    "# Beispiel für eine Zeitrechnung\n",
    "now = dt.datetime.now()\n",
    "# wieviel Zeit wollen wir dazu zählen\n",
    "delta = dt.timedelta(minutes=33, seconds=13)\n",
    "\n",
    "# wann ist das ...?\n",
    "future = now + delta\n",
    "print(future)"
   ]
  },
  {
   "cell_type": "markdown",
   "metadata": {
    "slideshow": {
     "slide_type": "slide"
    }
   },
   "source": [
    "### Konvertierung zwischen *NumPy* und *datetime*"
   ]
  },
  {
   "cell_type": "code",
   "execution_count": 53,
   "metadata": {
    "slideshow": {
     "slide_type": "subslide"
    }
   },
   "outputs": [
    {
     "ename": "TypeError",
     "evalue": "Cannot interpret 'datetime.datetime(2021, 3, 12, 13, 15)' as a data type",
     "output_type": "error",
     "traceback": [
      "\u001b[1;31m---------------------------------------------------------------------------\u001b[0m",
      "\u001b[1;31mTypeError\u001b[0m                                 Traceback (most recent call last)",
      "\u001b[1;32m<ipython-input-53-394917178a62>\u001b[0m in \u001b[0;36m<module>\u001b[1;34m\u001b[0m\n\u001b[0;32m      1\u001b[0m \u001b[1;31m# von NumPy nach datetime\u001b[0m\u001b[1;33m\u001b[0m\u001b[1;33m\u001b[0m\u001b[1;33m\u001b[0m\u001b[0m\n\u001b[1;32m----> 2\u001b[1;33m \u001b[0mwhen\u001b[0m \u001b[1;33m=\u001b[0m \u001b[0mnp\u001b[0m\u001b[1;33m.\u001b[0m\u001b[0mdatetime64\u001b[0m\u001b[1;33m(\u001b[0m\u001b[1;34m'2021-03-12T12:33:34'\u001b[0m\u001b[1;33m)\u001b[0m\u001b[1;33m.\u001b[0m\u001b[0mastype\u001b[0m\u001b[1;33m(\u001b[0m\u001b[0mdatetime\u001b[0m\u001b[1;33m)\u001b[0m\u001b[1;33m\u001b[0m\u001b[1;33m\u001b[0m\u001b[0m\n\u001b[0m\u001b[0;32m      3\u001b[0m \u001b[0mprint\u001b[0m\u001b[1;33m(\u001b[0m\u001b[0mwhen\u001b[0m\u001b[1;33m)\u001b[0m\u001b[1;33m\u001b[0m\u001b[1;33m\u001b[0m\u001b[0m\n",
      "\u001b[1;31mTypeError\u001b[0m: Cannot interpret 'datetime.datetime(2021, 3, 12, 13, 15)' as a data type"
     ]
    }
   ],
   "source": [
    "# von NumPy nach datetime\n",
    "when = np.datetime64('2021-03-12T12:33:34').astype(datetime)\n",
    "print(when)"
   ]
  },
  {
   "cell_type": "code",
   "execution_count": null,
   "metadata": {
    "scrolled": true,
    "slideshow": {
     "slide_type": "subslide"
    }
   },
   "outputs": [],
   "source": [
    "# von datetime nach NumPy\n",
    "when = np.datetime64(dt.datetime.now())\n",
    "print(when)"
   ]
  },
  {
   "cell_type": "code",
   "execution_count": null,
   "metadata": {
    "slideshow": {
     "slide_type": "subslide"
    }
   },
   "outputs": [],
   "source": [
    "# an welchem Wochentag wurde ich geboren?\n",
    "when = dt.datetime(1981, 4, 4)\n",
    "print(when.weekday())\n",
    "print(when.strftime('%A'))"
   ]
  },
  {
   "cell_type": "markdown",
   "metadata": {
    "slideshow": {
     "slide_type": "slide"
    }
   },
   "source": [
    "## Weitere Funktionalität\n",
    "\n",
    "Was hier präsentiert wurde waren nur die absoluten Grundlagen von *NumPy* und *datetime*.\n",
    "\n",
    "- Einen Überblick über *NumPy* gibt es hier: [*NumPy* Referenz](https://numpy.org/doc/stable/reference/)\n",
    "\n",
    "- Einen Überblick über *datetime* gibt es hier: [*datetime* Referenz](https://docs.python.org/3/library/datetime.html)"
   ]
  },
  {
   "cell_type": "markdown",
   "metadata": {},
   "source": [
    "## ENDE"
   ]
  }
 ],
 "metadata": {
  "celltoolbar": "Slideshow",
  "kernelspec": {
   "display_name": "Python 3",
   "language": "python",
   "name": "python3"
  },
  "language_info": {
   "codemirror_mode": {
    "name": "ipython",
    "version": 3
   },
   "file_extension": ".py",
   "mimetype": "text/x-python",
   "name": "python",
   "nbconvert_exporter": "python",
   "pygments_lexer": "ipython3",
   "version": "3.7.10"
  }
 },
 "nbformat": 4,
 "nbformat_minor": 4
}
