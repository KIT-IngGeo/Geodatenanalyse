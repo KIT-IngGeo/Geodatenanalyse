{
 "cells": [
  {
   "cell_type": "markdown",
   "metadata": {},
   "source": [
    "# Geodatenanalyse 1\n",
    "\n",
    "## Übung 11: Lineare Regression - Übung"
   ]
  },
  {
   "cell_type": "markdown",
   "metadata": {},
   "source": [
    "In dieser Übung werden wir ein Beispiel zur linearen Regression in Python durchführen. "
   ]
  },
  {
   "cell_type": "markdown",
   "metadata": {},
   "source": [
    "### Multiple Lineare Regression mit scikit-learn\n",
    "\n",
    "Für diese Übung werden wir einen der Demo-Datensätze aus scikit-learn benutzten. Die \"Boston Housing Data\" enthält Daten zu 506 Häusern in Boston in Form von 13 Parametern. Wir wollen versuchen den Wert eines Hauses (\"MEDV\") in Abhängigkeit mehrerer anderer Parameter vorhersagen (= abhängige Variable). \n",
    "\n",
    "Importiert dazu aus den scikit-learn Beispieldaten (`sklearn.datasets`) die Funktion `load_boston()`, und ladet mit deren Hilfe den Datensatz in Euren Code (`data = load_boston()`). Wandelt anschließend die eigentlichen Daten (boston_dataset.data) in einen pandas DataFrame um, mit den \"feature_names\" als Spalten (`columns = data.feature_names`). \n",
    "\n",
    "Erstellt für den DataFrame zusätzlich eine weitere Spalte mit dem Namen \"MEDV\" durch Anhängen des Attributes `boston_dataset.target` an den Datensatz."
   ]
  },
  {
   "cell_type": "code",
   "execution_count": null,
   "metadata": {},
   "outputs": [],
   "source": [
    "# [1]\n",
    "# packages laden\n",
    "\n",
    "# Datensatz einlesen und in pandas DataFrame umwandeln\n",
    "\n",
    "# Spalte \"MEDV\" hinzufügen"
   ]
  },
  {
   "cell_type": "markdown",
   "metadata": {},
   "source": [
    "Verschafft Euch nun einen Überblick über die Daten (explorativen Datenanalyse). Erstellt dafür eine Korrelationsmatrix mit allen Variablen, und visualisiert diese (s. Übung Bivariate Statistik). \n",
    "\n",
    "Wenn Ihr für Eure Heatmap `seaborn` benutzt, könnt Ihr mit dem Befehl `sns.set(rc={'figure.figsize':(15,10)})` die Abbildungsgröße anpassen, sodass alle Wert zu lesen sind. "
   ]
  },
  {
   "cell_type": "code",
   "execution_count": null,
   "metadata": {},
   "outputs": [],
   "source": [
    "# [2]\n",
    "# packages laden\n",
    "\n",
    "# Korrelationsmatrix berechnen\n",
    "\n",
    "# Korrelationsmatrix darstellen\n"
   ]
  },
  {
   "cell_type": "markdown",
   "metadata": {},
   "source": [
    "Wählt nun für die multiple lineare Regression der abhängigen Variablen MEDV zwei geeignete unabhängige Variablen aus: \n",
    "\n",
    "- diese sollten möglichst stark (> 0.7) mit der abhängigen Variablen \"MEDV\" korrelieren  \n",
    "\n",
    "- aber weniger stark miteinander korrelieren (< 0.7)\n",
    "\n",
    "Speichert nun die Werte der zwei unabhängigen Variablen in einen separaten DataFrame (z.B. \"X\") ab, ebenso die abhängige Variable (z.B. \"Y\")."
   ]
  },
  {
   "cell_type": "code",
   "execution_count": null,
   "metadata": {},
   "outputs": [],
   "source": [
    "# [3]\n",
    "# Werte der gewählten Variablen in DataFrame abspeichern"
   ]
  },
  {
   "cell_type": "markdown",
   "metadata": {},
   "source": [
    "Nun werden wir diesen Datensatz zur späteren Validierung in einen Trainings- und Test-Teil aufteilen. Die Funktion `sklearn.model_selection.train_test_split()` benötigt als Inputs die unabhängigen, sowie abhängigen Variablen und eine Angabe für die Größe des Test-Teils (`test_size=0.2`).\n",
    "\n",
    "So werden zufallsbasiert 20% der Daten in dem Test-Datensatz abgespeichert, die übrigen 80% in dem Trainingsdatensatz. Entsprechend müssen für die Funktion vier Outputs definiert werden (z.B. als X_train, X_test, Y_train, Y_test)."
   ]
  },
  {
   "cell_type": "code",
   "execution_count": null,
   "metadata": {},
   "outputs": [],
   "source": [
    "# [4]\n",
    "# packages laden \n",
    "\n",
    "# Datensatz aufteilen"
   ]
  },
  {
   "cell_type": "markdown",
   "metadata": {},
   "source": [
    "Führt nun mit dem Trainingsdatensatz und der Funktion `sklearn.linear_model.LinearRegression()` eine lineare Regression durch. \n",
    "\n",
    "Wie die letzten Übungen auch, muss dafür zuerst ein Linear-Regression-Objekt erzeugt werden (mit den default Einstellungen). Passt dann über das Attribut `.fit` das Regressions-Objekt an die beiden Traniningsdatensätze (X und Y) an. "
   ]
  },
  {
   "cell_type": "code",
   "execution_count": null,
   "metadata": {},
   "outputs": [],
   "source": [
    "# [5]\n",
    "# packages laden \n",
    "\n",
    "# Regressionsobjekt erstellen\n",
    "\n",
    "# Regressionsobjekt anpassen "
   ]
  },
  {
   "cell_type": "markdown",
   "metadata": {},
   "source": [
    "Nun wollen wir das angepasste multiple lineare Modell mit Hilfe geeigneter Fehlermaße und den Testdaten validieren. Importiert dafür aus `sklearn.metrics` den `mean_squared_error` und das Bestimmtheitsmaß `r2_score`. \n",
    "\n",
    "Wertet das Linear-Regression-Objekt über das Attribut `.predict()` für die Werte der beiden abhängigen Variablen aus um Vorhersagewerte für die unabhängige Variable für beide Fälle zu erhalten. Tut dies sowohl mit den Trainingsdaten, als auch mit den Testdaten. \n",
    "\n",
    "Um die Anpassung des Regressionsmodells an sich zu bewerten, bestimmt den RMSE zwischen den beobachteten und vorhergesagten Werten der abhängigen Variable an den Werten der unabhängigen Variable im Trainingsdatensatz. \n",
    "\n",
    "Um das Regressionsmodells außerhalb dieser Punkte zu validieren, verfahrt ebenso mit dem Testdatensatz, und vergleicht die beiden RMSE-Werte. "
   ]
  },
  {
   "cell_type": "code",
   "execution_count": null,
   "metadata": {},
   "outputs": [],
   "source": [
    "# [6]\n",
    "# packages laden\n",
    "\n",
    "# Modelvorhersagen für Trainingsdaten\n",
    "\n",
    "# Fehlermaße (RMSE, r2) für Vorhersage mit Trainingsdaten berechnen und ausgeben lassen\n",
    "\n",
    "# Modelvorhersagen für Testsdaten\n",
    "\n",
    "# Fehlermaße (RMSE, r2) für Vorhersage mit Testdaten berechnen und ausgeben lassen\n"
   ]
  },
  {
   "cell_type": "markdown",
   "metadata": {},
   "source": [
    "Beurteilt nun zum Einen die Anpassung des linearen Modells an sich, als auch die Evaluation mit den Testdaten. Seid Ihr mit dem Ergebnis der Regression zufrieden?\n",
    "\n",
    "Wenn Ihr noch Zeit habt, könnt Ihr die Daten und Ergebisse und der multiplen linearen Regression noch visualisierenm, z.B. um die Daten optisch auf Ausreisser, Linearität usw. überprüfen. \n",
    "\n",
    "## Ende\n",
    "\n",
    "### Referenzen: \n",
    "\n",
    "https://towardsdatascience.com/introduction-to-linear-regression-in-python-c12a072bedf0\n",
    "\n",
    "\n",
    "https://towardsdatascience.com/linear-regression-on-boston-housing-dataset-f409b7e4a155\n"
   ]
  }
 ],
 "metadata": {
  "kernelspec": {
   "display_name": "Python 3",
   "language": "python",
   "name": "python3"
  },
  "language_info": {
   "codemirror_mode": {
    "name": "ipython",
    "version": 3
   },
   "file_extension": ".py",
   "mimetype": "text/x-python",
   "name": "python",
   "nbconvert_exporter": "python",
   "pygments_lexer": "ipython3",
   "version": "3.8.5-final"
  }
 },
 "nbformat": 4,
 "nbformat_minor": 4
}
