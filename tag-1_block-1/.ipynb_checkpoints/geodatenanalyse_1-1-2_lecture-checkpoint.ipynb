{
 "cells": [
  {
   "cell_type": "markdown",
   "metadata": {
    "slideshow": {
     "slide_type": "slide"
    }
   },
   "source": [
    "# Geodatenanalyse 1\n",
    "\n",
    "\n",
    "## Tag 1 / Block 1 / Teil 2\n",
    "\n",
    "### Vorlesung\n",
    "\n",
    "Ca. 20 Minuten"
   ]
  },
  {
   "cell_type": "markdown",
   "metadata": {
    "slideshow": {
     "slide_type": "slide"
    }
   },
   "source": [
    "## Inhalt\n",
    "- Variablen und einfache Datentypen\n",
    "- Listen\n",
    "- Schleifen"
   ]
  },
  {
   "cell_type": "markdown",
   "metadata": {
    "slideshow": {
     "slide_type": "slide"
    }
   },
   "source": [
    "## Python als Taschenrechner\n",
    "Python kann für einfache Rechenoperationen genutzt werden."
   ]
  },
  {
   "cell_type": "code",
   "execution_count": 1,
   "metadata": {
    "slideshow": {
     "slide_type": "fragment"
    }
   },
   "outputs": [
    {
     "name": "stdout",
     "output_type": "stream",
     "text": [
      "5\n",
      "1\n"
     ]
    }
   ],
   "source": [
    "# Addieren und Subtrahieren\n",
    "print(3 + 2)\n",
    "print(3 - 2)"
   ]
  },
  {
   "cell_type": "code",
   "execution_count": 2,
   "metadata": {
    "slideshow": {
     "slide_type": "fragment"
    }
   },
   "outputs": [
    {
     "name": "stdout",
     "output_type": "stream",
     "text": [
      "6\n",
      "3.0\n"
     ]
    }
   ],
   "source": [
    "# Multiplizieren und Dividieren\n",
    "print(3 * 2)\n",
    "print(6 / 2)"
   ]
  },
  {
   "cell_type": "code",
   "execution_count": 3,
   "metadata": {
    "slideshow": {
     "slide_type": "fragment"
    }
   },
   "outputs": [
    {
     "name": "stdout",
     "output_type": "stream",
     "text": [
      "9\n",
      "1\n"
     ]
    }
   ],
   "source": [
    "# Exponenten und Modulus\n",
    "print(3 ** 2)\n",
    "print(16 % 3)"
   ]
  },
  {
   "cell_type": "markdown",
   "metadata": {
    "slideshow": {
     "slide_type": "slide"
    }
   },
   "source": [
    "## Variablen und Zuweisung von Werten\n",
    "- Variablen in Python sind **case-sensitive**. Das heißt Groß- und Kleinschreibung ist zu beachten.\n",
    "- Werte lassen sich Variablen zuweisen und einfach abrufen\n",
    "\n",
    "#### Werte\n",
    "940 cm<sup>3</sup>\\\n",
    "1880 g"
   ]
  },
  {
   "cell_type": "code",
   "execution_count": 4,
   "metadata": {
    "slideshow": {
     "slide_type": "fragment"
    }
   },
   "outputs": [
    {
     "data": {
      "text/plain": [
       "940"
      ]
     },
     "execution_count": 4,
     "metadata": {},
     "output_type": "execute_result"
    }
   ],
   "source": [
    "# Werte zuweisen\n",
    "volume = 940\n",
    "mass   = 1880\n",
    "\n",
    "volume"
   ]
  },
  {
   "cell_type": "markdown",
   "metadata": {
    "slideshow": {
     "slide_type": "slide"
    }
   },
   "source": [
    "### Beispiel: Dichte berechnen\n",
    "$$\\rho = \\frac{m}{V}$$"
   ]
  },
  {
   "cell_type": "code",
   "execution_count": 5,
   "metadata": {
    "slideshow": {
     "slide_type": "fragment"
    }
   },
   "outputs": [
    {
     "data": {
      "text/plain": [
       "2.0"
      ]
     },
     "execution_count": 5,
     "metadata": {},
     "output_type": "execute_result"
    }
   ],
   "source": [
    "1880 / 940"
   ]
  },
  {
   "cell_type": "code",
   "execution_count": 6,
   "metadata": {
    "slideshow": {
     "slide_type": "fragment"
    }
   },
   "outputs": [
    {
     "data": {
      "text/plain": [
       "2.0"
      ]
     },
     "execution_count": 6,
     "metadata": {},
     "output_type": "execute_result"
    }
   ],
   "source": [
    "mass / volume"
   ]
  },
  {
   "cell_type": "code",
   "execution_count": 7,
   "metadata": {
    "slideshow": {
     "slide_type": "fragment"
    }
   },
   "outputs": [
    {
     "data": {
      "text/plain": [
       "2.0"
      ]
     },
     "execution_count": 7,
     "metadata": {},
     "output_type": "execute_result"
    }
   ],
   "source": [
    "density = mass / volume\n",
    "density"
   ]
  },
  {
   "cell_type": "markdown",
   "metadata": {
    "slideshow": {
     "slide_type": "slide"
    }
   },
   "source": [
    "## Reproduzierbarkeit der Ergebnisse\n",
    "Wenn wir einen beliebigen Variablenwert verändern, wird dieser für alle nachfolgenden Berechnungen angepasst"
   ]
  },
  {
   "cell_type": "code",
   "execution_count": 8,
   "metadata": {
    "slideshow": {
     "slide_type": "fragment"
    }
   },
   "outputs": [
    {
     "name": "stdout",
     "output_type": "stream",
     "text": [
      "2.0\n"
     ]
    }
   ],
   "source": [
    "# Maße des Metallquader\n",
    "length  = 18.8 # verändern\n",
    "width   = 10.0\n",
    "height  = 5.0\n",
    "\n",
    "# Resultierendes Volumen\n",
    "volume  = length * width * height\n",
    "\n",
    "# Dichteberechnung\n",
    "mass    = 1880\n",
    "density = mass / volume\n",
    "\n",
    "print(density)"
   ]
  },
  {
   "cell_type": "markdown",
   "metadata": {
    "slideshow": {
     "slide_type": "slide"
    }
   },
   "source": [
    "## Datentypen in Python\n",
    "In Python wird der Datentyp festgelegt, sobald einer Variable ein Wert zu gewiesen wird. Zur einfachen Überprüfung des Datentyp lässt sich die <span style=\"color:red\">*type*</span> Funktion verwenden."
   ]
  },
  {
   "cell_type": "code",
   "execution_count": 9,
   "metadata": {
    "slideshow": {
     "slide_type": "fragment"
    }
   },
   "outputs": [
    {
     "data": {
      "text/plain": [
       "float"
      ]
     },
     "execution_count": 9,
     "metadata": {},
     "output_type": "execute_result"
    }
   ],
   "source": [
    "type(density)"
   ]
  },
  {
   "cell_type": "markdown",
   "metadata": {
    "slideshow": {
     "slide_type": "fragment"
    }
   },
   "source": [
    "Der Datentyp <span style=\"color:red\">*float*</span> steht in Python für Reelle Zahlen $\\mathbb{R}$ mit einem ganzzahligen Teil und einem Bruchteil.\n",
    "\n",
    "#### Erklärung\n",
    "*float* ist Englisch für *schweben*. Vor und nach dem Komma gibt es keine festgelegte Anzahl an Ziffern; das Komma ist also flexibel und schwebt sozusagen."
   ]
  },
  {
   "cell_type": "code",
   "execution_count": 10,
   "metadata": {
    "slideshow": {
     "slide_type": "fragment"
    }
   },
   "outputs": [
    {
     "data": {
      "text/plain": [
       "int"
      ]
     },
     "execution_count": 10,
     "metadata": {},
     "output_type": "execute_result"
    }
   ],
   "source": [
    "students = 13\n",
    "type(students)"
   ]
  },
  {
   "cell_type": "markdown",
   "metadata": {
    "slideshow": {
     "slide_type": "slide"
    }
   },
   "source": [
    "## Datentypen in Python (2)\n",
    "Neben Datentypen für Zahlen wie <span style=\"color:red\">*int*</span> und <span style=\"color:red\">*float*</span> gibt es in Python noch viele mehr. Zu den Wichtigsten und am häufigsten verwendeten gehören:\n",
    "\n",
    "- **boolean**: Ja / Nein Abfrage; Zugehörigkeit und Filtern von Daten\n",
    "- **string**:  Text"
   ]
  },
  {
   "cell_type": "code",
   "execution_count": 11,
   "metadata": {
    "slideshow": {
     "slide_type": "fragment"
    }
   },
   "outputs": [
    {
     "data": {
      "text/plain": [
       "bool"
      ]
     },
     "execution_count": 11,
     "metadata": {},
     "output_type": "execute_result"
    }
   ],
   "source": [
    "a = True  # Ja\n",
    "b = False # Nein\n",
    "type(a)"
   ]
  },
  {
   "cell_type": "code",
   "execution_count": 12,
   "metadata": {
    "slideshow": {
     "slide_type": "fragment"
    }
   },
   "outputs": [
    {
     "data": {
      "text/plain": [
       "str"
      ]
     },
     "execution_count": 12,
     "metadata": {},
     "output_type": "execute_result"
    }
   ],
   "source": [
    "x = \"Hello World\"\n",
    "y = 'foo'\n",
    "type(x)"
   ]
  },
  {
   "cell_type": "markdown",
   "metadata": {
    "slideshow": {
     "slide_type": "slide"
    }
   },
   "source": [
    "## Listen\n",
    "\n",
    "- kann **mehrere Variablen / Elemente** und damit eine Vielzahl an Informationen enthalten "
   ]
  },
  {
   "cell_type": "code",
   "execution_count": 13,
   "metadata": {
    "slideshow": {
     "slide_type": "fragment"
    }
   },
   "outputs": [
    {
     "name": "stdout",
     "output_type": "stream",
     "text": [
      "['Belchen', 'Feldberg', 'Kandel', 'Herzogenhorn']\n"
     ]
    }
   ],
   "source": [
    "# mehrere Variablen\n",
    "mountain1 = \"Belchen\"\n",
    "mountain2 = \"Feldberg\"\n",
    "mountain3 = \"Kandel\"\n",
    "mountain4 = \"Herzogenhorn\"\n",
    "\n",
    "# eine Liste\n",
    "mountains = [mountain1, mountain2, mountain3, mountain4]\n",
    "print(mountains)"
   ]
  },
  {
   "cell_type": "markdown",
   "metadata": {
    "slideshow": {
     "slide_type": "fragment"
    }
   },
   "source": [
    "Eine Liste <span style=\"color:red\">*list*</span> ist in Python durch eckige Klammern <span style=\"color:red\">[ ]</span> gekennzeichnet "
   ]
  },
  {
   "cell_type": "markdown",
   "metadata": {
    "slideshow": {
     "slide_type": "subslide"
    }
   },
   "source": [
    "- kann Elemente mit **beliebigen Datentypen** enthalten\n",
    "- die Elemente müssen **nicht** miteinander **verknüpft** sein.\n",
    "- auch die Liste ist ein Datentyp in Python\n",
    "    > Anything you want can be put in a *list*   "
   ]
  },
  {
   "cell_type": "code",
   "execution_count": 53,
   "metadata": {
    "slideshow": {
     "slide_type": "fragment"
    }
   },
   "outputs": [
    {
     "name": "stdout",
     "output_type": "stream",
     "text": [
      "['Belchen', 1414, 'Feldberg', 1493, 'Kandel', 1241, 'Herzogenhorn', 1415]\n"
     ]
    }
   ],
   "source": [
    "# beliebige Datentypen\n",
    "mountain_heights = [mountain1, 1414, mountain2, 1493, mountain3, 1241, mountain4, 1415]\n",
    "\n",
    "print(mountain_heights)"
   ]
  },
  {
   "cell_type": "code",
   "execution_count": 54,
   "metadata": {
    "slideshow": {
     "slide_type": "fragment"
    }
   },
   "outputs": [
    {
     "name": "stdout",
     "output_type": "stream",
     "text": [
      "[['Belchen', 1414], ['Feldberg', 1493], ['Kandel', 1241], ['Herzogenhorn', 1415]]\n"
     ]
    }
   ],
   "source": [
    "# Liste als Datentyp -> Liste von Listen: \"nested list\"\n",
    "mountain_heights = [[mountain1, 1414],\n",
    "                [mountain2, 1493],\n",
    "                [mountain3, 1241],\n",
    "                [mountain4, 1415]]\n",
    "\n",
    "print(mountain_heights)"
   ]
  },
  {
   "cell_type": "markdown",
   "metadata": {
    "slideshow": {
     "slide_type": "fragment"
    }
   },
   "source": [
    "#### Tipp\n",
    "Eine Liste enthält in der Regel eine Vielzahl von Elementen. Wähle den Plural bei der Namensgebung (z.B. *Namen*, *Personen*, *Werte*)!"
   ]
  },
  {
   "cell_type": "markdown",
   "metadata": {
    "slideshow": {
     "slide_type": "slide"
    }
   },
   "source": [
    "## Listen (2)\n",
    "### Elemente und Indizes\n",
    "Die Elemente einer Liste haben eine **bestimmte Reihenfolge**. Deshalb kann über die Position in der Liste, bzw. den <span style=\"color:red\">*Index*</span>, auf jedes Element gezielt zugegriffen werden.\n"
   ]
  },
  {
   "cell_type": "code",
   "execution_count": 16,
   "metadata": {
    "slideshow": {
     "slide_type": "fragment"
    }
   },
   "outputs": [
    {
     "name": "stdout",
     "output_type": "stream",
     "text": [
      "Der zweite Berg in unserer Liste mit dem Namen Feldberg hat den Index 1!\n"
     ]
    }
   ],
   "source": [
    "print(\"Der zweite Berg in unserer Liste mit dem Namen\", mountains[1], \"hat den Index 1!\")"
   ]
  },
  {
   "cell_type": "markdown",
   "metadata": {
    "slideshow": {
     "slide_type": "fragment"
    }
   },
   "source": [
    "Ein bestimmtes Element einer Liste lässt sich also durch ```Liste[Index]``` abrufen.\n",
    "\n",
    "#### Achtung\n",
    "In Python ist das erste Element einer Liste an Position 0, nicht 1!\n",
    "\n",
    "```mountains = [\"Belchen\",\"Feldberg\",\"Kandel\",\"Herzogenhorn\"]```"
   ]
  },
  {
   "cell_type": "markdown",
   "metadata": {
    "slideshow": {
     "slide_type": "subslide"
    }
   },
   "source": [
    "### Beispiel: Verwendung einzelner Elemente"
   ]
  },
  {
   "cell_type": "code",
   "execution_count": 17,
   "metadata": {
    "slideshow": {
     "slide_type": "fragment"
    }
   },
   "outputs": [
    {
     "name": "stdout",
     "output_type": "stream",
     "text": [
      "Der höchste Berg im Schwarzwald ist der Feldberg mit 1493 Metern.\n"
     ]
    }
   ],
   "source": [
    "#Liste 1 mit Elementen vom Datentype string\n",
    "mountains = [\"Belchen\",\"Feldberg\",\"Kandel\",\"Herzogenhorn\"]\n",
    "\n",
    "#Liste 2 mit Elementen vom Datentype integer\n",
    "heights = [1414,1493,1241,1415]\n",
    "\n",
    "# Beide Listen lassen sich indizieren um den passenden Wert für die Nachricht zu entnehmen\n",
    "message = \"Der höchste Berg im Schwarzwald ist der \" + mountains[1] + \" mit \" + str(heights[1]) + \" Metern.\"\n",
    "print(message)"
   ]
  },
  {
   "cell_type": "markdown",
   "metadata": {
    "slideshow": {
     "slide_type": "slide"
    }
   },
   "source": [
    "## Listen (3)\n",
    "### Verändern, Hinzufügen und Entfernen von Elementen\n",
    "\n",
    "Die meißten Listen werden **dynamisch** erstellt. Das heißt, sie werden im Laufe einer Anwendung verändert indem Elemente zum Beispiel hinzugefügt oder gelöscht werden."
   ]
  },
  {
   "cell_type": "markdown",
   "metadata": {
    "slideshow": {
     "slide_type": "fragment"
    }
   },
   "source": [
    "#### Verändern\n",
    "Die Elemente einer List lassen sich durch Neuzuweisung über den Index direkt überschreiben."
   ]
  },
  {
   "cell_type": "code",
   "execution_count": 18,
   "metadata": {
    "slideshow": {
     "slide_type": "fragment"
    }
   },
   "outputs": [
    {
     "name": "stdout",
     "output_type": "stream",
     "text": [
      "['Belchen', 'Feldberg', 'Kandel', 'Herzogenhorn']\n",
      "['Schauinsland', 'Feldberg', 'Kandel', 'Herzogenhorn']\n"
     ]
    }
   ],
   "source": [
    "mountains = [\"Belchen\",\"Feldberg\",\"Kandel\",\"Herzogenhorn\"]\n",
    "print(mountains)\n",
    "mountains[0] = \"Schauinsland\"\n",
    "print(mountains)"
   ]
  },
  {
   "cell_type": "markdown",
   "metadata": {
    "slideshow": {
     "slide_type": "subslide"
    }
   },
   "source": [
    "#### Hinzufügen\n",
    "Zusätzliche Elemente können entweder am Ender der Liste mit der Funktion <span style=\"color:red\">*append()*</span> \"angehängt\" werden, oder über den Index an einer bestimmten Position innerhalb der Liste mit der Funktion <span style=\"color:red\">*insert()*</span> eingefügt werden.\n",
    "\n",
    "```list.append()```\n",
    "\n",
    "```list.insert()```"
   ]
  },
  {
   "cell_type": "code",
   "execution_count": 19,
   "metadata": {
    "slideshow": {
     "slide_type": "fragment"
    }
   },
   "outputs": [
    {
     "name": "stdout",
     "output_type": "stream",
     "text": [
      "['Belchen', 'Kandel', 'Herzogenhorn']\n"
     ]
    }
   ],
   "source": [
    "# Anhängen von Elementen am Ende der Liste\n",
    "mountains = [] # leere Liste\n",
    "\n",
    "mountains.append(\"Belchen\")\n",
    "mountains.append(\"Kandel\")\n",
    "mountains.append(\"Herzogenhorn\")\n",
    "print(mountains)"
   ]
  },
  {
   "cell_type": "code",
   "execution_count": 20,
   "metadata": {
    "slideshow": {
     "slide_type": "fragment"
    }
   },
   "outputs": [
    {
     "name": "stdout",
     "output_type": "stream",
     "text": [
      "['Belchen', 'Feldberg', 'Kandel', 'Herzogenhorn']\n"
     ]
    }
   ],
   "source": [
    "# Einfügen von Elementen\n",
    "mountains.insert(1, \"Feldberg\")\n",
    "print(mountains)"
   ]
  },
  {
   "cell_type": "markdown",
   "metadata": {
    "slideshow": {
     "slide_type": "subslide"
    }
   },
   "source": [
    "#### Entfernen\n",
    "Es gibt mehrere Möglichkeiten Elemente aus einer Liste zu entfernen. Welche Funktion die Richtige ist, hängt davon ab, ob man den Eintrag per Index <span style=\"color:red\">*del*</span> oder per Wert <span style=\"color:red\">*remove()*</span> entfernen möchte und ob man diesen für spätere Operationen noch benötigt <span style=\"color:red\">*pop()*</span>.\n",
    "\n",
    "```del list[index]```\n",
    "\n",
    "```list.pop()```\n",
    "```list.remove()```"
   ]
  },
  {
   "cell_type": "code",
   "execution_count": 21,
   "metadata": {
    "slideshow": {
     "slide_type": "fragment"
    }
   },
   "outputs": [
    {
     "name": "stdout",
     "output_type": "stream",
     "text": [
      "['Belchen', 'Feldberg', 'Kandel']\n"
     ]
    }
   ],
   "source": [
    "# Entfernen eines Elements an einer bestimmten Position\n",
    "del mountains[3]\n",
    "print(mountains)"
   ]
  },
  {
   "cell_type": "code",
   "execution_count": 22,
   "metadata": {
    "slideshow": {
     "slide_type": "fragment"
    }
   },
   "outputs": [
    {
     "name": "stdout",
     "output_type": "stream",
     "text": [
      "['Feldberg', 'Kandel', 'Herzogenhorn']\n",
      "Belchen\n"
     ]
    }
   ],
   "source": [
    "# Entfernen und Weiterverwenden eines Elements\n",
    "mountains = [\"Belchen\",\"Feldberg\",\"Kandel\",\"Herzogenhorn\"]\n",
    "visited = mountains.pop(0)\n",
    "print(mountains)\n",
    "print(visited)"
   ]
  },
  {
   "cell_type": "code",
   "execution_count": 23,
   "metadata": {
    "slideshow": {
     "slide_type": "fragment"
    }
   },
   "outputs": [
    {
     "name": "stdout",
     "output_type": "stream",
     "text": [
      "['Belchen', 'Feldberg', 'Herzogenhorn']\n"
     ]
    }
   ],
   "source": [
    "# Entfernen eines Elements mit einem bestimmten Wert\n",
    "mountains = [\"Belchen\",\"Feldberg\",\"Kandel\",\"Herzogenhorn\"]\n",
    "mountains.remove(\"Kandel\")\n",
    "print(mountains)"
   ]
  },
  {
   "cell_type": "markdown",
   "metadata": {
    "slideshow": {
     "slide_type": "slide"
    }
   },
   "source": [
    "## Listen (4)\n",
    "### *Slicing* - Zerteilen einer Liste\n",
    "Durch <span style=\"color:red\">*slicing*</span> lässt sich eine Teilmenge, bzw einen Wertebereich <span style=\"color:red\">*range*</span> aus mehreren Elementen einer Liste erstellen.\\\n",
    "```list[start:stop]```"
   ]
  },
  {
   "cell_type": "code",
   "execution_count": 24,
   "metadata": {
    "slideshow": {
     "slide_type": "fragment"
    }
   },
   "outputs": [
    {
     "name": "stdout",
     "output_type": "stream",
     "text": [
      "['a', 'n', 'd']\n"
     ]
    }
   ],
   "source": [
    "# Liste\n",
    "letters = [\"K\",\"a\",\"n\",\"d\",\"e\",\"l\"]\n",
    "\n",
    "# Teilmenge einer Liste\n",
    "print(letters[1:4])"
   ]
  },
  {
   "cell_type": "markdown",
   "metadata": {
    "slideshow": {
     "slide_type": "fragment"
    }
   },
   "source": [
    "<img style=\"float: right;\" src=\"Images\\Indexing.png\">"
   ]
  },
  {
   "cell_type": "markdown",
   "metadata": {
    "slideshow": {
     "slide_type": "slide"
    }
   },
   "source": [
    "#### vom Anfang, und bis zum Ende\n",
    "Der Start- und Stopwert können jeweils auch weggelassen werden, um alle Wert der ursprünglichen Liste bis zu oder ab einem bestimmten Index in die Teilmenge mit einzubeziehen.\\\n",
    "```list[start:]``` oder\n",
    "```list[:stop]```"
   ]
  },
  {
   "cell_type": "code",
   "execution_count": 25,
   "metadata": {
    "slideshow": {
     "slide_type": "fragment"
    }
   },
   "outputs": [
    {
     "name": "stdout",
     "output_type": "stream",
     "text": [
      "['K', 'a']\n",
      "['n', 'd', 'e', 'l']\n"
     ]
    }
   ],
   "source": [
    "print(letters[:2])\n",
    "print(letters[2:])"
   ]
  },
  {
   "cell_type": "markdown",
   "metadata": {
    "slideshow": {
     "slide_type": "fragment"
    }
   },
   "source": [
    "<img style=\"float: right;\" src=\"Images\\idx_p2.png\">"
   ]
  },
  {
   "cell_type": "markdown",
   "metadata": {
    "slideshow": {
     "slide_type": "subslide"
    }
   },
   "source": [
    "#### Überspringen\n",
    "Das *slicing* kann durch einen weiteren Wert ergänzt werden, um eine Sprungweite <span style=\"color:red\">*step*</span> anzugeben.\\\n",
    "```list[start:stop:step]```"
   ]
  },
  {
   "cell_type": "markdown",
   "metadata": {
    "slideshow": {
     "slide_type": "fragment"
    }
   },
   "source": [
    "<img style=\"float: right;\" src=\"Images\\idx_p3.png\">"
   ]
  },
  {
   "cell_type": "code",
   "execution_count": 26,
   "metadata": {
    "slideshow": {
     "slide_type": "fragment"
    }
   },
   "outputs": [
    {
     "name": "stdout",
     "output_type": "stream",
     "text": [
      "['K', 'n', 'e']\n"
     ]
    }
   ],
   "source": [
    "print(letters[0:5:2])"
   ]
  },
  {
   "cell_type": "markdown",
   "metadata": {
    "slideshow": {
     "slide_type": "subslide"
    }
   },
   "source": [
    "#### Negativer Index\n",
    "Eine Liste kann auch rückwärts indiziiert werden. Dies kann besonders hilfreich sein, wenn die zuletzt hinzugefügten Werte einer Liste, zum Beispiel nach Verwenden der <span style=\"color:red\">*append*</span> Funktion, von Interesse sind."
   ]
  },
  {
   "cell_type": "markdown",
   "metadata": {
    "slideshow": {
     "slide_type": "fragment"
    }
   },
   "source": [
    "<img style=\"float: right;\" src=\"Images\\idx_p4.png\">"
   ]
  },
  {
   "cell_type": "code",
   "execution_count": 27,
   "metadata": {
    "slideshow": {
     "slide_type": "fragment"
    }
   },
   "outputs": [
    {
     "name": "stdout",
     "output_type": "stream",
     "text": [
      "['d', 'e', 'l']\n"
     ]
    }
   ],
   "source": [
    "print(letters[-3:])"
   ]
  },
  {
   "cell_type": "markdown",
   "metadata": {
    "slideshow": {
     "slide_type": "slide"
    }
   },
   "source": [
    "## Listen (5)\n",
    "### Schleifen\n",
    "Häufig möchte man für alle Elemente einer Liste die selbe Operation durchführen. Je länger die Liste, desto aufwendiger wird es jedes Element einzeln aufzurufen. Mit der <span style=\"color:red\">*for*</span> Schleife (*loop*) können Operationen auf eine beliebige Anzahl an Elemente einer Liste effizient angewendet werden."
   ]
  },
  {
   "cell_type": "code",
   "execution_count": 28,
   "metadata": {
    "slideshow": {
     "slide_type": "fragment"
    }
   },
   "outputs": [
    {
     "name": "stdout",
     "output_type": "stream",
     "text": [
      "Eiche\n",
      "Buche\n",
      "Birke\n"
     ]
    }
   ],
   "source": [
    "# einfaches Beispiel\n",
    "trees = [\"Eiche\",\"Buche\",\"Birke\"]\n",
    "for tree in trees:\n",
    "    print(tree)       "
   ]
  },
  {
   "cell_type": "markdown",
   "metadata": {
    "slideshow": {
     "slide_type": "fragment"
    }
   },
   "source": [
    "- Der Doppelpunkt markiert den Start der Schleife\n",
    "- Der Code mit der Operation wird eingerückt (Tab)"
   ]
  },
  {
   "cell_type": "markdown",
   "metadata": {
    "slideshow": {
     "slide_type": "subslide"
    }
   },
   "source": [
    "Eine Schleife kann auch mehrere Operationen enthalten:"
   ]
  },
  {
   "cell_type": "code",
   "execution_count": 29,
   "metadata": {
    "slideshow": {
     "slide_type": "fragment"
    }
   },
   "outputs": [
    {
     "name": "stdout",
     "output_type": "stream",
     "text": [
      "Die Eiche ist ein Baum.\n",
      "Ich werde heute eine Eiche pflanzen.\n",
      "\n",
      "Die Buche ist ein Baum.\n",
      "Ich werde heute eine Buche pflanzen.\n",
      "\n",
      "Die Birke ist ein Baum.\n",
      "Ich werde heute eine Birke pflanzen.\n",
      "\n",
      "['Eiche', 'Buche', 'Birke']\n"
     ]
    }
   ],
   "source": [
    "# erweitert\n",
    "for tree in trees:\n",
    "    print(\"Die\",tree, \"ist ein Baum.\")\n",
    "    print(\"Ich werde heute eine\", tree, \"pflanzen.\" +\"\\n\")\n",
    "\n",
    "print(trees)    "
   ]
  },
  {
   "cell_type": "markdown",
   "metadata": {
    "slideshow": {
     "slide_type": "slide"
    }
   },
   "source": [
    "\n",
    "## Listen (6)\n",
    "### Nützliche Tools für numerische Listen\n",
    "#### Numerische Listen\n",
    "Listen sind besonders für das Speichern von Zahlen geeignet. Python bietet einige hilfreiche Werkzeuge und Funktionen für eine effiziente und schnelle Verarbeitung. Hierzu gehört zum Beispiel die <span style=\"color:red\">*range()*</span> Funktion. Damit lassen sich schnell einfache Zahlenabfolgen generieren. Genau wie beim *slicing* wird unser Wertebereich, also *range()* durch einen Startwert, Stopwert, und optional eine Sprungweite angegeben.\n",
    "\n",
    "```range(start,stop,step)```"
   ]
  },
  {
   "cell_type": "code",
   "execution_count": 47,
   "metadata": {
    "slideshow": {
     "slide_type": "subslide"
    }
   },
   "outputs": [
    {
     "name": "stdout",
     "output_type": "stream",
     "text": [
      "[1, 2, 3, 4, 5, 6, 7, 8, 9]\n",
      "[1, 3, 5, 7, 9]\n"
     ]
    }
   ],
   "source": [
    "# numerische Liste\n",
    "numbers = list(range(1,10))\n",
    "print(numbers)\n",
    "\n",
    "numbers_2 = list(range(1,10,2))\n",
    "print(numbers_2)"
   ]
  },
  {
   "cell_type": "code",
   "execution_count": 48,
   "metadata": {
    "slideshow": {
     "slide_type": "fragment"
    }
   },
   "outputs": [
    {
     "name": "stdout",
     "output_type": "stream",
     "text": [
      "1\n",
      "2\n",
      "3\n",
      "4\n"
     ]
    }
   ],
   "source": [
    "# Looping direkt mit der range Funktion\n",
    "for value in range(1,5):\n",
    "    print(value)"
   ]
  },
  {
   "cell_type": "code",
   "execution_count": 52,
   "metadata": {
    "slideshow": {
     "slide_type": "fragment"
    }
   },
   "outputs": [
    {
     "name": "stdout",
     "output_type": "stream",
     "text": [
      "1\n",
      "2\n",
      "3\n",
      "4\n",
      "5\n"
     ]
    }
   ],
   "source": [
    "# Oder als Liste, auch hier kann, wenn nötig, einfach indiziert werden\n",
    "for value in numbers[:5]:\n",
    "    print(value)"
   ]
  },
  {
   "cell_type": "markdown",
   "metadata": {
    "slideshow": {
     "slide_type": "subslide"
    }
   },
   "source": [
    "#### List comprehension\n",
    "In Python gibt es außerdem eine schnelle und elegante Möglichkeit eine Operation in einer Schleife auszuführen und direkt in eine Liste zu überführen."
   ]
  },
  {
   "cell_type": "code",
   "execution_count": 31,
   "metadata": {
    "slideshow": {
     "slide_type": "fragment"
    }
   },
   "outputs": [
    {
     "name": "stdout",
     "output_type": "stream",
     "text": [
      "[1, 4, 9, 16]\n"
     ]
    }
   ],
   "source": [
    "numbers = range(1,5)\n",
    "calculated = [number**2 for number in numbers]\n",
    "print(calculated)"
   ]
  }
 ],
 "metadata": {
  "celltoolbar": "Slideshow",
  "kernelspec": {
   "display_name": "Python 3",
   "language": "python",
   "name": "python3"
  },
  "language_info": {
   "codemirror_mode": {
    "name": "ipython",
    "version": 3
   },
   "file_extension": ".py",
   "mimetype": "text/x-python",
   "name": "python",
   "nbconvert_exporter": "python",
   "pygments_lexer": "ipython3",
   "version": "3.7.6"
  }
 },
 "nbformat": 4,
 "nbformat_minor": 4
}
