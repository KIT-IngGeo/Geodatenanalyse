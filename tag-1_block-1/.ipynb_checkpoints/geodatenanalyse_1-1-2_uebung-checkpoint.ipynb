{
 "cells": [
  {
   "cell_type": "markdown",
   "metadata": {},
   "source": [
    "# Geodatenanalyse 1\n",
    "\n",
    "## Tag 1 / Block 1 - Übung 2\n",
    "\n",
    "**Hinweis**: Dieser Ünbungsblock soll ca. 40 Minuten dauern. Danach gibt es ca. 10 Minuten Zeit für die gemeinsame Diskussion der Lösungen.\n"
   ]
  },
  {
   "cell_type": "markdown",
   "metadata": {},
   "source": [
    "### Aufgabe 1\n",
    "#### 1.1 Einfache Rechenoperationen\n",
    "Schreibe jeweils ein Rechenbeispiel für eine Addition, Substraktion, Multiplikation und Division bei der die Zahl 9 heraus kommt.\n",
    "\n",
    "#### Hinweis\n",
    "Nutze die *print()* Funktion um alle deine Ergebnisse in dieser und den nachfolgenden Ausgabe zu sehen."
   ]
  },
  {
   "cell_type": "code",
   "execution_count": null,
   "metadata": {},
   "outputs": [],
   "source": []
  },
  {
   "cell_type": "markdown",
   "metadata": {},
   "source": [
    "#### 1.2 Zinsen\n",
    "- Wie hoch ist dein Endkapital bei einer Einlage von 10000 Euro, einem Zinsatz von 2 % p.a. und einer Laufzeit von 10 Jahren?\n",
    "> $$Einlage * Zinsatz^{Laufzeit}$$\n",
    "\n",
    "- Speichere dein Endkapital in einer Variablen. Welchen Datentype hat deine berechnete Einlage?\n",
    "- Schreibe eine Nachricht als Ausgabe, die dein Endkapital als ganze Zahl vom Type *integer* ausweist:\n",
    "> Mein Endkapital beträgt: 12189"
   ]
  },
  {
   "cell_type": "code",
   "execution_count": 1,
   "metadata": {},
   "outputs": [
    {
     "name": "stdout",
     "output_type": "stream",
     "text": [
      "\n"
     ]
    }
   ],
   "source": [
    "# Berechnung\n",
    "\n",
    "# Variable\n",
    "\n",
    "# Datentype\n",
    "\n",
    "# Nachricht\n",
    "print()"
   ]
  },
  {
   "cell_type": "markdown",
   "metadata": {},
   "source": [
    "### Aufgabe 2\n",
    "\n",
    "#### 2.1 Variablen zuweisen\n",
    "- Du spielst \"Stadt, Land, Fluss\". Wähle einen beliebigen Buchstaben des Alphabets und überlege dir eine Stadt, ein Land und den Namen eines Flusses mit dem entsprechenden Anfangsbuchstaben. Weise jedes deiner drei Ergebnisse einer entsprechenden Variablen zu, wie z.B.: \n",
    "> city = \"Karlsruhe\"\n",
    "\n",
    "- Füge deinem Code einen Kommentar hinzu, der einen Hinweis auf den von dir gewählten Buchstaben enthält.\n",
    "\n",
    "\n",
    "- Gebe für jede Variable eine einfache selbst gewählte und individuelle Nachricht aus. Eine Nachricht könnte zum Beispiel sein: \n",
    "> \"In Karlsruhe scheint heute die Sonne.\"\n"
   ]
  },
  {
   "cell_type": "code",
   "execution_count": 3,
   "metadata": {},
   "outputs": [
    {
     "name": "stdout",
     "output_type": "stream",
     "text": [
      "\n",
      "\n",
      "\n"
     ]
    }
   ],
   "source": [
    "# Für mein Beispiel habe ich den Buchstaben \"K\" gewählt\n",
    "city = ___\n",
    "country = ___\n",
    "river = ___\n",
    "\n",
    "## Individuelle Nachricht\n",
    "# für city\n",
    "print()\n",
    "# für country\n",
    "print()\n",
    "# für river\n",
    "print()"
   ]
  },
  {
   "cell_type": "markdown",
   "metadata": {},
   "source": [
    "#### 2.2 Liste erstellen und indizieren\n",
    "- Erstelle eine Liste \"*game*\" aus den Stadt-Land-Fluss Variablen.\n",
    "\n",
    "\n",
    "- Gebe das dritte Element deiner Liste aus.\n",
    "\n",
    "\n",
    "- Mit drei Elementen ist unsere Liste noch verhältnismäßig kurz und wir können die Anzahl der Elemente ohne Probleme auf einen Blick bestimmen. Oft möchten wir die Listenlänge aber dynamisch als Variable verwenden können. Zum Beispiel um die aktuelle Anzahl Besucher einer Veranstaltung oder Einrichtung abzufragen, oder die Menge der Daten zu bestimmen, die wir in einer Visualisierung auswerten möchten. Spätestens bei sehr langen Listen benötigen wir also eine entsprechende Funktion. Schaue dir hierzu folgende Funktion an und gebe damit eine entsprechende Nachricht mit der Listenlänge aus:\n",
    ">len()\n"
   ]
  },
  {
   "cell_type": "code",
   "execution_count": 4,
   "metadata": {},
   "outputs": [
    {
     "name": "stdout",
     "output_type": "stream",
     "text": [
      "\n",
      "\n"
     ]
    }
   ],
   "source": [
    "# Erstellen\n",
    "game = ___\n",
    "# Index\n",
    "print()\n",
    "# Länge mit len()\n",
    "print()"
   ]
  },
  {
   "cell_type": "markdown",
   "metadata": {},
   "source": [
    "### Aufgabe 3\n",
    "#### 3.1 Liste verändern\n",
    "- Verwende deine zuvor erstellte Liste aus A2.2 und ersetze dein Land mit Hilfe des Listenindex durch den Namen eines anderen Landes.\n",
    "\n",
    "\n",
    "- Füge deiner Liste drei weitere Einträge (Elemente) hinzu. Überlege dir hierfür einen weiteren beliebigen Stadt- und zwei weitere Ländernamen. Eines der drei neuen Elemente sollte dabei als zweites Element in deiner Liste zu finden sein."
   ]
  },
  {
   "cell_type": "code",
   "execution_count": 6,
   "metadata": {},
   "outputs": [
    {
     "name": "stdout",
     "output_type": "stream",
     "text": [
      "\n"
     ]
    }
   ],
   "source": [
    "# Namen ersetzen\n",
    "\n",
    "\n",
    "print(game)"
   ]
  },
  {
   "cell_type": "code",
   "execution_count": 5,
   "metadata": {},
   "outputs": [
    {
     "name": "stdout",
     "output_type": "stream",
     "text": [
      "\n"
     ]
    }
   ],
   "source": [
    "# Weitere Elemente hinzufügen\n",
    "\n",
    "\n",
    "\n",
    "\n",
    "print(game)"
   ]
  },
  {
   "cell_type": "markdown",
   "metadata": {},
   "source": [
    "#### 3.2 Liste kopieren\n",
    "\n",
    "Unsere Liste enthält jetzt zwei Städte, drei Länder und einen Fluss. Für unseren nächsten Bearbeitungsschritte hätten wir gerne eine **neue** Liste *countries*, in der alle ursprünglichen Elemente unserer *game* Liste enthalten sind. Gleichzeitig soll die Liste *game* von zukünftigen Änderungen in *countries* nicht betroffen sein.\n",
    "\n",
    "- Kopiere zunächst die *game* Liste und erstelle die Liste *countries*. Schaue dir hierzu folgende Funktion an:\n",
    "> copy()"
   ]
  },
  {
   "cell_type": "markdown",
   "metadata": {},
   "source": [
    "#### 3.3 Einträge löschen\n",
    "In unserer neuen *countries* Liste interessieren wir uns vor allem für die Ländereinträge, denn wir möchten diese später nutzen um weitere länderspezifische Informationen zu speichern und zu sammeln. Dazu müssen wir die *countries* Liste aber zunächst von den Fluss- und Städteeinträgen bereinigen.\n",
    "\n",
    "- Entferne den Flusseintrag, mit Hilfe der ursprünglichen *river* Variable aus A2.1, aus der neuen Liste.\n",
    "\n",
    "Für die Städtenamen haben wir eventuell später noch Verwendung. Deshalb entfernen wir sie aus *countries* und fügen sie einer neuen Liste *cities* hinzu.\n",
    "\n",
    "- Erstelle eine neue, leere Liste mit dem Namen *cities*\n",
    "\n",
    "- Entferne die Städte nacheinander aus deiner Liste. Aber stelle sicher, dass gleichzeitig die jeweiligen Städtenamen zur neuen Liste *cities* hinzugefügt werden.\n",
    "\n",
    "#### Hinweis\n",
    "\n",
    "Du kannst Funktionen auch kombinieren:\\\n",
    "```list1.append(list2.pop())```"
   ]
  },
  {
   "cell_type": "code",
   "execution_count": 8,
   "metadata": {},
   "outputs": [],
   "source": [
    "# Erstelle eine Kopie\n",
    "countries = ___\n",
    "\n"
   ]
  },
  {
   "cell_type": "code",
   "execution_count": 10,
   "metadata": {},
   "outputs": [
    {
     "name": "stdout",
     "output_type": "stream",
     "text": [
      "\n"
     ]
    }
   ],
   "source": [
    "# Entferne den Flusseintrag\n",
    "\n",
    "\n",
    "print(countries)"
   ]
  },
  {
   "cell_type": "code",
   "execution_count": 9,
   "metadata": {},
   "outputs": [
    {
     "name": "stdout",
     "output_type": "stream",
     "text": [
      "\n",
      "\n"
     ]
    }
   ],
   "source": [
    "# Entfernen der Städteeinträge aus der Liste mit gleichzeitiger Speicherung der aussortierten Einträge\n",
    "cities = ___\n",
    "\n",
    "\n",
    "\n",
    "print(cities)\n",
    "print(countries)"
   ]
  },
  {
   "cell_type": "markdown",
   "metadata": {},
   "source": [
    "#### 3.3 Liste aus Listen erstellen\n",
    "Recherchiere Fläche- und Einwohnerzahl der Länder in deiner Liste *countries*, damit wir diese als zusätzliche Information hinzufügen können.\n",
    "\n",
    "- Weise die Werte jeweils einer eigenen, sinnvollen Variablen zu. Zum Beispiel:\n",
    "\n",
    "```\n",
    "#Flächen\n",
    "IT_area = \n",
    "...\n",
    "# Bevölkerung\n",
    "IT_pop =\n",
    "...\n",
    "```\n",
    "\n",
    "- Füge die Variablen dann dem entsprechenden Ländereintrag in deiner Liste *countries* hinzu, so dass du drei Listen innerhalb deiner ursprünglichen Liste erhälst:\n",
    "\n",
    "```\n",
    "countries = [[\"Italien\",IT_area,IT_pop],[...],[...]]\n",
    "```\n",
    "\n",
    "- Schaue dir den Datentyp von *countries* an. \n",
    "\n",
    "\n",
    "- Du siehst, wir befinden uns immer noch in einer Liste. Wir können also weiterhin indizieren, um gewünschte Elemente aus unserer Liste abfragen. Der einzige Unterschied ist, dass jedes unserer Elemente in *countries* jetzt drei Unterelemente in einer neuen Liste enthält.\n",
    "\n",
    "    Was also, wenn uns zum Beispiel nur die Fläche des zweiten Landes in unserer Liste interessiert? Probiere es aus:\n",
    "\n",
    "> countries[1][1]\n",
    "\n",
    "- Gebe mit Hilfe des Index für jedes Land in deiner *countries* Liste eine individuelle Nachricht mit dem gleichen Text aus. Weise dabei auf die jeweilige Fläche und Bevölkerungszahl hin. Deine Nachricht könnte zum Beispiel wie folgt aussehen:\n",
    "> \"In Italien leben laut aktueller Zählung 60.026.546 Menschen auf einer Fläche von 301.338 km<sup>2</sup>\\.\""
   ]
  },
  {
   "cell_type": "code",
   "execution_count": 11,
   "metadata": {},
   "outputs": [
    {
     "name": "stdout",
     "output_type": "stream",
     "text": [
      "\n",
      "\n",
      "\n",
      "\n"
     ]
    }
   ],
   "source": [
    "# Flächen\n",
    "\n",
    "\n",
    "# Bevölkerung\n",
    "\n",
    "# Liste mit Listen\n",
    "countries = ___\n",
    "\n",
    "# Ergebnis\n",
    "print(countries)\n",
    "\n",
    "# Datentyp \n",
    "\n",
    "\n",
    "# Fläche des zweiten Landes in unserer Liste\n",
    "\n",
    "\n",
    "# Individuelle Nachrichten\n",
    "print()\n",
    "print()\n",
    "print()"
   ]
  },
  {
   "cell_type": "markdown",
   "metadata": {},
   "source": [
    "### Aufgabe 4\n",
    "#### 4.1 Schleifen\n",
    "In Aufgabe 3.3 mussten wir für jede Nachricht eine gesonderte *print* Operation schreiben. Eleganter lässt sich dies mit einer Schleife lösen.\n",
    "\n",
    "- Gebe die gleiche individuelle Nachricht für jedes Land in deiner \"countries\" Liste noch einmal aus, aber verwende dieses Mal eine Schleife.\n",
    "> for country in countries: \n",
    "       ...\n",
    "\n",
    "- Uns interessiert außerdem die Bevölkerungsdichte in jedem Land. Rechne und gebe diese ebenfalls über die Schleife aus. Für die Ausgabe hätten wir gerne die Zahl ohne Kommastellen.\n"
   ]
  },
  {
   "cell_type": "code",
   "execution_count": 13,
   "metadata": {},
   "outputs": [],
   "source": [
    "# Schleife\n",
    "for country in countries:\n",
    "    ___"
   ]
  },
  {
   "cell_type": "markdown",
   "metadata": {},
   "source": [
    "### Aufgabe 5\n",
    "#### 5.1 Numerische Listen\n",
    "Verwende die range() Funktion zum Erstellen numerischer Listen.\n",
    "\n",
    "- **Liste 1:** Ganze Zahlen von 0 - 100\n",
    "- **Liste 2:** Nur die geraden Zahlen von 0 - 100\n",
    "- **Liste 3:** Gerade Zahlen von 100 - 0"
   ]
  },
  {
   "cell_type": "code",
   "execution_count": 14,
   "metadata": {},
   "outputs": [
    {
     "name": "stdout",
     "output_type": "stream",
     "text": [
      "\n",
      "\n",
      "\n"
     ]
    }
   ],
   "source": [
    "list1 = ___\n",
    "list2 = ___\n",
    "list3 = ___\n",
    "\n",
    "print(list1)\n",
    "print(list2)\n",
    "print(list3)"
   ]
  },
  {
   "cell_type": "markdown",
   "metadata": {},
   "source": [
    "#### 5.2 Slicing\n",
    "- Gebe die ersten 30 Werte der Liste 1 aus.\n",
    "\n",
    "- Gebe die letzten 30 Werte der Liste 1 aus.\n",
    "\n",
    "- Gebe die Werte von 30 bis 50 der Liste 1 aus.\n",
    "\n",
    "- Gebe die kleinsten 10 Werte der Liste 3 aus."
   ]
  },
  {
   "cell_type": "code",
   "execution_count": 15,
   "metadata": {},
   "outputs": [
    {
     "name": "stdout",
     "output_type": "stream",
     "text": [
      " \n",
      "\n",
      " \n",
      "\n",
      " \n",
      "\n",
      "\n"
     ]
    }
   ],
   "source": [
    "# ersten 30 Werte\n",
    "slice_1 = ___\n",
    "print(slice_1,\"\\n\")\n",
    "# letzten 30 Werte\n",
    "slice_2 = ___\n",
    "print(slice_2,\"\\n\")\n",
    "# Werte 30 - 50\n",
    "slice_3 = ___\n",
    "print(slice_3,\"\\n\")\n",
    "# Die kleinsten 10 Werte (befinden sich am Ende der Liste)\n",
    "slice_4 = ___\n",
    "print(slice_4)"
   ]
  },
  {
   "cell_type": "markdown",
   "metadata": {},
   "source": [
    "#### Hinweis\n",
    "Eine weitere Möglichkeit eine sogenannte *shallow copy* einer Liste wie bei der *copy()* Methode zu erzeugen, ist der *slicing* Syntax:\n",
    "> new_list = list[:]"
   ]
  },
  {
   "cell_type": "markdown",
   "metadata": {},
   "source": [
    "## ENDE"
   ]
  }
 ],
 "metadata": {
  "kernelspec": {
   "display_name": "Python 3",
   "language": "python",
   "name": "python3"
  },
  "language_info": {
   "codemirror_mode": {
    "name": "ipython",
    "version": 3
   },
   "file_extension": ".py",
   "mimetype": "text/x-python",
   "name": "python",
   "nbconvert_exporter": "python",
   "pygments_lexer": "ipython3",
   "version": "3.7.10"
  }
 },
 "nbformat": 4,
 "nbformat_minor": 4
}
