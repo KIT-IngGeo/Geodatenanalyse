{
 "cells": [
  {
   "cell_type": "markdown",
   "id": "leading-explosion",
   "metadata": {
    "slideshow": {
     "slide_type": "slide"
    }
   },
   "source": [
    "# Geodatenanalyse 1\n",
    "## Tag 3 / Block 1 / Teil 1\n",
    "### Vorlesung\n",
    "\n",
    "Ca. 20 Minuten\n"
   ]
  },
  {
   "cell_type": "markdown",
   "id": "departmental-moore",
   "metadata": {
    "slideshow": {
     "slide_type": "slide"
    }
   },
   "source": [
    "## Inhalt\n",
    "- Was ist *Pandas*?\n",
    "- Überblick über *Pandas* Objekte (*Series*, *Dataframe*)\n",
    "- Dateien laden und speichern\n",
    "- Indizierung, Datenabfrage und -manipulationen\n",
    "\\\n",
    "\\\n",
    "\\\n",
    "\\\n",
    "\\\n",
    "\\\n",
    "Die offizielle Pandas Homepage mit vertiefenden Beispielen:\n",
    "https://pandas.pydata.org/docs/getting_started/index.html"
   ]
  },
  {
   "cell_type": "markdown",
   "id": "accomplished-prize",
   "metadata": {
    "slideshow": {
     "slide_type": "slide"
    }
   },
   "source": [
    "## Was ist Pandas?\n",
    "\n",
    "Pandas ist eine Python-Bibliotek zur Sichtung, Aufbreitung und Analyse von Daten.\n",
    "\n",
    "Das Herzstück von Pandas das **DataFrame-Objekt**. Dabei handelt es sich um eine zweidimensionale, tabellenartige Datenstruktur in der Daten verschiedener Typen (einschließlich Zeichen, Ganzzahlen, Gleitkommawerte, kategoriale Daten usw.) in Spalten gespeichert werden können. Damit ähnelt es einer Excel oder SQL-Tabelle.\n",
    "\n",
    "![DataFrame](Images\\DataFrame2.png)\n",
    "\n",
    "\n",
    "https://pandas.pydata.org/about/index.html"
   ]
  },
  {
   "cell_type": "markdown",
   "id": "immune-colon",
   "metadata": {
    "slideshow": {
     "slide_type": "subslide"
    }
   },
   "source": [
    "## Mit Pandas arbeiten\n",
    "Für das Laden von Pandas wird standardmäßig der Alias <font color='red'>pd</font> verwendet."
   ]
  },
  {
   "cell_type": "code",
   "execution_count": 2,
   "id": "soviet-adolescent",
   "metadata": {
    "slideshow": {
     "slide_type": "-"
    }
   },
   "outputs": [],
   "source": [
    "# Laden von Pandas\n",
    "import pandas as pd"
   ]
  },
  {
   "cell_type": "markdown",
   "id": "muslim-salad",
   "metadata": {
    "slideshow": {
     "slide_type": "subslide"
    }
   },
   "source": [
    "## Eine Tabelle selbst erstellen\n",
    "Wir haben zum Beispiel eine Liste mit Städten, die uns interessieren. Wir kennen den Namen (characters), die Einwohnerzahl (integer) und wissen, ob wir sie bereits besucht haben oder nicht (yes/no)."
   ]
  },
  {
   "cell_type": "code",
   "execution_count": 25,
   "id": "breeding-saying",
   "metadata": {
    "slideshow": {
     "slide_type": "-"
    }
   },
   "outputs": [
    {
     "data": {
      "text/html": [
       "<div>\n",
       "<style scoped>\n",
       "    .dataframe tbody tr th:only-of-type {\n",
       "        vertical-align: middle;\n",
       "    }\n",
       "\n",
       "    .dataframe tbody tr th {\n",
       "        vertical-align: top;\n",
       "    }\n",
       "\n",
       "    .dataframe thead th {\n",
       "        text-align: right;\n",
       "    }\n",
       "</style>\n",
       "<table border=\"1\" class=\"dataframe\">\n",
       "  <thead>\n",
       "    <tr style=\"text-align: right;\">\n",
       "      <th></th>\n",
       "      <th>Name</th>\n",
       "      <th>Population</th>\n",
       "      <th>Status</th>\n",
       "    </tr>\n",
       "  </thead>\n",
       "  <tbody>\n",
       "    <tr>\n",
       "      <th>0</th>\n",
       "      <td>Berlin</td>\n",
       "      <td>3645000</td>\n",
       "      <td>yes</td>\n",
       "    </tr>\n",
       "    <tr>\n",
       "      <th>1</th>\n",
       "      <td>London</td>\n",
       "      <td>8982000</td>\n",
       "      <td>no</td>\n",
       "    </tr>\n",
       "    <tr>\n",
       "      <th>2</th>\n",
       "      <td>Wien</td>\n",
       "      <td>1897000</td>\n",
       "      <td>yes</td>\n",
       "    </tr>\n",
       "    <tr>\n",
       "      <th>3</th>\n",
       "      <td>Lissabon</td>\n",
       "      <td>504718</td>\n",
       "      <td>yes</td>\n",
       "    </tr>\n",
       "  </tbody>\n",
       "</table>\n",
       "</div>"
      ],
      "text/plain": [
       "       Name  Population Status\n",
       "0    Berlin     3645000    yes\n",
       "1    London     8982000     no\n",
       "2      Wien     1897000    yes\n",
       "3  Lissabon      504718    yes"
      ]
     },
     "execution_count": 25,
     "metadata": {},
     "output_type": "execute_result"
    }
   ],
   "source": [
    "df = pd.DataFrame(\n",
    "    {\n",
    "        \"Name\": [\"Berlin\", \"London\", \"Wien\", \"Lissabon\"],\n",
    "        \"Population\": [3645000, 8982000, 1897000, 504718],\n",
    "        \"Status\": [\"yes\", \"no\", \"yes\", \"yes\"],\n",
    "    }\n",
    ")\n",
    "df"
   ]
  },
  {
   "cell_type": "code",
   "execution_count": 24,
   "id": "welsh-transaction",
   "metadata": {
    "slideshow": {
     "slide_type": "-"
    }
   },
   "outputs": [
    {
     "data": {
      "text/plain": [
       "pandas.core.frame.DataFrame"
      ]
     },
     "execution_count": 24,
     "metadata": {},
     "output_type": "execute_result"
    }
   ],
   "source": [
    "type(df)"
   ]
  },
  {
   "cell_type": "markdown",
   "id": "atlantic-magnet",
   "metadata": {
    "slideshow": {
     "slide_type": "fragment"
    }
   },
   "source": [
    "- In unserem **DataFrame** <font color='red'>df</font> finden sich drei Spalten für <font color='red'>Name</font>, <font color='red'>Population</font> und <font color='red'>Status</font> wieder.\n",
    "- Ein fortlaufender Index wird automatisch erstellt\n",
    "\n",
    "#### Hinweis\n",
    "Es gibt viele Möglichkeiten einen **DataFrame** zu erstellen. Das Python Dictionary  <font color='red'>dict</font> bietet sich dafür jedoch besonders an. Der Schlüssel <font color='red'>key</font> wird im **DataFrame** direkt als Spaltenüberschrift verwendet, und die zugehörige Liste als Spalteneintrag übernommen."
   ]
  },
  {
   "cell_type": "markdown",
   "id": "intended-works",
   "metadata": {
    "slideshow": {
     "slide_type": "subslide"
    }
   },
   "source": [
    "\n",
    "\n",
    "Die gleichen Daten in einer Exceltabelle:\n",
    "\n",
    "![Excel-Beispiel](Images\\Excel.png)\n"
   ]
  },
  {
   "cell_type": "markdown",
   "id": "acoustic-evans",
   "metadata": {
    "slideshow": {
     "slide_type": "subslide"
    }
   },
   "source": [
    "## Die Spalten eines DataFrame\n",
    "Jede Spalte eines Pandas **DataFrame** entspricht einer <font color='red'>Series</font>. Dies ist die zweite zentrale Datenstruktur in Pandas.\n",
    "\n",
    "![Series](Images\\Series.png)"
   ]
  },
  {
   "cell_type": "markdown",
   "id": "coastal-solomon",
   "metadata": {
    "slideshow": {
     "slide_type": "subslide"
    }
   },
   "source": [
    "Nehmen wir zum Beispiel die Spalte <font color='red'>Population</font> aus unserem pandas **DataFrame**  <font color='red'>df</font>. Das Resultat ist eine **Series**:"
   ]
  },
  {
   "cell_type": "code",
   "execution_count": 35,
   "id": "reasonable-chicago",
   "metadata": {
    "slideshow": {
     "slide_type": "-"
    }
   },
   "outputs": [
    {
     "data": {
      "text/plain": [
       "0    3645000\n",
       "1    8982000\n",
       "2    1897000\n",
       "3     504718\n",
       "Name: Population, dtype: int64"
      ]
     },
     "execution_count": 35,
     "metadata": {},
     "output_type": "execute_result"
    }
   ],
   "source": [
    "df[\"Population\"]"
   ]
  },
  {
   "cell_type": "code",
   "execution_count": 23,
   "id": "weekly-slope",
   "metadata": {
    "slideshow": {
     "slide_type": "-"
    }
   },
   "outputs": [
    {
     "data": {
      "text/plain": [
       "pandas.core.series.Series"
      ]
     },
     "execution_count": 23,
     "metadata": {},
     "output_type": "execute_result"
    }
   ],
   "source": [
    "type(df[\"Population\"])"
   ]
  },
  {
   "cell_type": "markdown",
   "id": "applicable-hamilton",
   "metadata": {
    "slideshow": {
     "slide_type": "fragment"
    }
   },
   "source": [
    "#### Hinweis\n",
    "Die Auswahl einer Spalte im Pandas **DataFrame** über die Spaltennamen, ähnelt der Auswahl eines Wertes im Python Dictionary über den Schlüssel. Auch hier wird der Spaltenname in eckigen Klammern angegeben <font color='red'>[]</font>:\n",
    "\n",
    "```df[column label]```"
   ]
  },
  {
   "cell_type": "markdown",
   "id": "lyric-terrorist",
   "metadata": {
    "slideshow": {
     "slide_type": "subslide"
    }
   },
   "source": [
    "## Numerische Werte\n",
    "Um in letzter Konsequenz die (numerische) Werte aus einer **Series** zu extrahieren, verwenden wir das <font color='red'>values</font> Attribute\\\n",
    "```Series.values```"
   ]
  },
  {
   "cell_type": "code",
   "execution_count": 33,
   "id": "retained-crown",
   "metadata": {
    "slideshow": {
     "slide_type": "-"
    }
   },
   "outputs": [
    {
     "data": {
      "text/plain": [
       "array([3645000, 8982000, 1897000,  504718], dtype=int64)"
      ]
     },
     "execution_count": 33,
     "metadata": {},
     "output_type": "execute_result"
    }
   ],
   "source": [
    "populations = df[\"Population\"].values\n",
    "populations"
   ]
  },
  {
   "cell_type": "code",
   "execution_count": 34,
   "id": "fresh-roberts",
   "metadata": {
    "slideshow": {
     "slide_type": "fragment"
    }
   },
   "outputs": [
    {
     "data": {
      "text/plain": [
       "numpy.ndarray"
      ]
     },
     "execution_count": 34,
     "metadata": {},
     "output_type": "execute_result"
    }
   ],
   "source": [
    "type(populations)"
   ]
  },
  {
   "cell_type": "markdown",
   "id": "visible-issue",
   "metadata": {
    "slideshow": {
     "slide_type": "-"
    }
   },
   "source": [
    "Das Ergebnis ist ein **NumPy-Array**! \n",
    "\n",
    "Tatsächlich ist Pandas eng verknüpft mit NumPy, der Python-Bibliothek für schnelle numerische Array-Berechnungen.\n",
    "\n",
    "Dies bedeutet, dass **Series** und **DataFrame** in Pandas im Prinzip eindimensionale bzw. zweidimensionale, beschriftete (<font color='red'>labeled</font>) **Numpy-Arrays** sind."
   ]
  },
  {
   "cell_type": "markdown",
   "id": "alike-peeing",
   "metadata": {
    "slideshow": {
     "slide_type": "slide"
    }
   },
   "source": [
    "## Dateien laden und speichern"
   ]
  },
  {
   "cell_type": "markdown",
   "id": "recovered-yellow",
   "metadata": {},
   "source": [
    "### Beispiel für indexing"
   ]
  },
  {
   "cell_type": "code",
   "execution_count": 37,
   "id": "frank-leader",
   "metadata": {
    "slideshow": {
     "slide_type": "slide"
    }
   },
   "outputs": [],
   "source": [
    "# Python Bibliotek zur Daten-Visualisierung basierend auf matplotlib\n",
    "# https://seaborn.pydata.org/\n",
    "import seaborn as sns"
   ]
  },
  {
   "cell_type": "code",
   "execution_count": 38,
   "id": "ambient-cooperation",
   "metadata": {
    "slideshow": {
     "slide_type": "fragment"
    }
   },
   "outputs": [
    {
     "data": {
      "text/plain": [
       "pandas.core.frame.DataFrame"
      ]
     },
     "execution_count": 38,
     "metadata": {},
     "output_type": "execute_result"
    }
   ],
   "source": [
    "# Seaborn hat einige gute Beispieldatensätze\n",
    "iris = sns.load_dataset('iris')\n",
    "type(iris)"
   ]
  },
  {
   "cell_type": "code",
   "execution_count": 39,
   "id": "certified-macro",
   "metadata": {},
   "outputs": [
    {
     "data": {
      "text/html": [
       "<div>\n",
       "<style scoped>\n",
       "    .dataframe tbody tr th:only-of-type {\n",
       "        vertical-align: middle;\n",
       "    }\n",
       "\n",
       "    .dataframe tbody tr th {\n",
       "        vertical-align: top;\n",
       "    }\n",
       "\n",
       "    .dataframe thead th {\n",
       "        text-align: right;\n",
       "    }\n",
       "</style>\n",
       "<table border=\"1\" class=\"dataframe\">\n",
       "  <thead>\n",
       "    <tr style=\"text-align: right;\">\n",
       "      <th></th>\n",
       "      <th>sepal_length</th>\n",
       "      <th>sepal_width</th>\n",
       "      <th>petal_length</th>\n",
       "      <th>petal_width</th>\n",
       "      <th>species</th>\n",
       "    </tr>\n",
       "  </thead>\n",
       "  <tbody>\n",
       "    <tr>\n",
       "      <th>0</th>\n",
       "      <td>5.1</td>\n",
       "      <td>3.5</td>\n",
       "      <td>1.4</td>\n",
       "      <td>0.2</td>\n",
       "      <td>setosa</td>\n",
       "    </tr>\n",
       "    <tr>\n",
       "      <th>1</th>\n",
       "      <td>4.9</td>\n",
       "      <td>3.0</td>\n",
       "      <td>1.4</td>\n",
       "      <td>0.2</td>\n",
       "      <td>setosa</td>\n",
       "    </tr>\n",
       "    <tr>\n",
       "      <th>2</th>\n",
       "      <td>4.7</td>\n",
       "      <td>3.2</td>\n",
       "      <td>1.3</td>\n",
       "      <td>0.2</td>\n",
       "      <td>setosa</td>\n",
       "    </tr>\n",
       "    <tr>\n",
       "      <th>3</th>\n",
       "      <td>4.6</td>\n",
       "      <td>3.1</td>\n",
       "      <td>1.5</td>\n",
       "      <td>0.2</td>\n",
       "      <td>setosa</td>\n",
       "    </tr>\n",
       "    <tr>\n",
       "      <th>4</th>\n",
       "      <td>5.0</td>\n",
       "      <td>3.6</td>\n",
       "      <td>1.4</td>\n",
       "      <td>0.2</td>\n",
       "      <td>setosa</td>\n",
       "    </tr>\n",
       "    <tr>\n",
       "      <th>...</th>\n",
       "      <td>...</td>\n",
       "      <td>...</td>\n",
       "      <td>...</td>\n",
       "      <td>...</td>\n",
       "      <td>...</td>\n",
       "    </tr>\n",
       "    <tr>\n",
       "      <th>145</th>\n",
       "      <td>6.7</td>\n",
       "      <td>3.0</td>\n",
       "      <td>5.2</td>\n",
       "      <td>2.3</td>\n",
       "      <td>virginica</td>\n",
       "    </tr>\n",
       "    <tr>\n",
       "      <th>146</th>\n",
       "      <td>6.3</td>\n",
       "      <td>2.5</td>\n",
       "      <td>5.0</td>\n",
       "      <td>1.9</td>\n",
       "      <td>virginica</td>\n",
       "    </tr>\n",
       "    <tr>\n",
       "      <th>147</th>\n",
       "      <td>6.5</td>\n",
       "      <td>3.0</td>\n",
       "      <td>5.2</td>\n",
       "      <td>2.0</td>\n",
       "      <td>virginica</td>\n",
       "    </tr>\n",
       "    <tr>\n",
       "      <th>148</th>\n",
       "      <td>6.2</td>\n",
       "      <td>3.4</td>\n",
       "      <td>5.4</td>\n",
       "      <td>2.3</td>\n",
       "      <td>virginica</td>\n",
       "    </tr>\n",
       "    <tr>\n",
       "      <th>149</th>\n",
       "      <td>5.9</td>\n",
       "      <td>3.0</td>\n",
       "      <td>5.1</td>\n",
       "      <td>1.8</td>\n",
       "      <td>virginica</td>\n",
       "    </tr>\n",
       "  </tbody>\n",
       "</table>\n",
       "<p>150 rows × 5 columns</p>\n",
       "</div>"
      ],
      "text/plain": [
       "     sepal_length  sepal_width  petal_length  petal_width    species\n",
       "0             5.1          3.5           1.4          0.2     setosa\n",
       "1             4.9          3.0           1.4          0.2     setosa\n",
       "2             4.7          3.2           1.3          0.2     setosa\n",
       "3             4.6          3.1           1.5          0.2     setosa\n",
       "4             5.0          3.6           1.4          0.2     setosa\n",
       "..            ...          ...           ...          ...        ...\n",
       "145           6.7          3.0           5.2          2.3  virginica\n",
       "146           6.3          2.5           5.0          1.9  virginica\n",
       "147           6.5          3.0           5.2          2.0  virginica\n",
       "148           6.2          3.4           5.4          2.3  virginica\n",
       "149           5.9          3.0           5.1          1.8  virginica\n",
       "\n",
       "[150 rows x 5 columns]"
      ]
     },
     "execution_count": 39,
     "metadata": {},
     "output_type": "execute_result"
    }
   ],
   "source": [
    "iris"
   ]
  },
  {
   "cell_type": "code",
   "execution_count": 40,
   "id": "beneficial-relevance",
   "metadata": {},
   "outputs": [
    {
     "data": {
      "text/plain": [
       "(150, 5)"
      ]
     },
     "execution_count": 40,
     "metadata": {},
     "output_type": "execute_result"
    }
   ],
   "source": [
    "iris.shape"
   ]
  },
  {
   "cell_type": "code",
   "execution_count": 41,
   "id": "structural-auditor",
   "metadata": {},
   "outputs": [
    {
     "data": {
      "text/plain": [
       "Index(['sepal_length', 'sepal_width', 'petal_length', 'petal_width',\n",
       "       'species'],\n",
       "      dtype='object')"
      ]
     },
     "execution_count": 41,
     "metadata": {},
     "output_type": "execute_result"
    }
   ],
   "source": [
    "iris.columns"
   ]
  },
  {
   "cell_type": "markdown",
   "id": "three-hydrogen",
   "metadata": {},
   "source": [
    "DataFrames can be sliced like numpy arrays or python lists"
   ]
  },
  {
   "cell_type": "code",
   "execution_count": null,
   "id": "unable-therapist",
   "metadata": {},
   "outputs": [],
   "source": [
    "iris.iloc[:3,:]"
   ]
  },
  {
   "cell_type": "code",
   "execution_count": null,
   "id": "right-moscow",
   "metadata": {},
   "outputs": [],
   "source": [
    "iris.iloc[-3:,:]"
   ]
  },
  {
   "cell_type": "code",
   "execution_count": null,
   "id": "dependent-consortium",
   "metadata": {},
   "outputs": [],
   "source": [
    "iris.loc[:3,\"species\"]"
   ]
  },
  {
   "cell_type": "markdown",
   "id": "loaded-affiliation",
   "metadata": {},
   "source": [
    "### Daten inspizieren und anzeigen"
   ]
  },
  {
   "cell_type": "code",
   "execution_count": null,
   "id": "distinct-university",
   "metadata": {},
   "outputs": [],
   "source": [
    "iris.head()"
   ]
  },
  {
   "cell_type": "code",
   "execution_count": null,
   "id": "adjusted-suicide",
   "metadata": {},
   "outputs": [],
   "source": [
    "iris.head(2)"
   ]
  },
  {
   "cell_type": "code",
   "execution_count": null,
   "id": "metallic-reasoning",
   "metadata": {},
   "outputs": [],
   "source": [
    "iris.tail()"
   ]
  },
  {
   "cell_type": "code",
   "execution_count": null,
   "id": "hairy-matthew",
   "metadata": {},
   "outputs": [],
   "source": [
    "iris.tail(3)"
   ]
  },
  {
   "cell_type": "code",
   "execution_count": null,
   "id": "boolean-building",
   "metadata": {},
   "outputs": [],
   "source": [
    "iris.info()"
   ]
  },
  {
   "cell_type": "code",
   "execution_count": null,
   "id": "material-envelope",
   "metadata": {},
   "outputs": [],
   "source": [
    "iris.describe()"
   ]
  },
  {
   "cell_type": "markdown",
   "id": "authentic-guess",
   "metadata": {},
   "source": [
    "### Transposing"
   ]
  },
  {
   "cell_type": "code",
   "execution_count": null,
   "id": "legal-incentive",
   "metadata": {},
   "outputs": [],
   "source": [
    "iris.T"
   ]
  },
  {
   "cell_type": "markdown",
   "id": "acoustic-compression",
   "metadata": {},
   "source": [
    "### Broadcasting\n",
    "Pandas erlaubt das zuordnen von Werten durch sogenanntes Broadcasting\n"
   ]
  },
  {
   "cell_type": "code",
   "execution_count": null,
   "id": "cardiac-environment",
   "metadata": {},
   "outputs": [],
   "source": [
    "import numpy as np\n",
    "iris_new = iris.copy()\n",
    "\n",
    "# Boradcasting np.nan an jedes zweite Element\n",
    "iris_new.iloc[::2,1] = np.nan\n",
    "iris_new.head(6)"
   ]
  }
 ],
 "metadata": {
  "celltoolbar": "Slideshow",
  "kernelspec": {
   "display_name": "Python 3",
   "language": "python",
   "name": "python3"
  },
  "language_info": {
   "codemirror_mode": {
    "name": "ipython",
    "version": 3
   },
   "file_extension": ".py",
   "mimetype": "text/x-python",
   "name": "python",
   "nbconvert_exporter": "python",
   "pygments_lexer": "ipython3",
   "version": "3.7.6"
  }
 },
 "nbformat": 4,
 "nbformat_minor": 5
}
