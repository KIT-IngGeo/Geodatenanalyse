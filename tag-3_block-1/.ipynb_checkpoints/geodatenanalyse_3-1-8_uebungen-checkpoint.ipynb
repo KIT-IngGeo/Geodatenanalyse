{
 "cells": [
  {
   "cell_type": "markdown",
   "id": "subject-commissioner",
   "metadata": {},
   "source": [
    "# Geodatenanalyse 1\n",
    "\n",
    "## Tag 3 / Block 1 / Teil 8"
   ]
  },
  {
   "cell_type": "markdown",
   "id": "difficult-timothy",
   "metadata": {},
   "source": [
    "### Aufgabe 1\n",
    "Wir möchten uns den Datensatz des NASA Exoplanten Archives, den wir in der vorherigen Übung bereits kennen gelernt haben, jetzt noch etwas genauer anschauen.\n",
    "\n",
    "Zusätzlich zu den allgemeinen Informationen zu Planetennamen, Anzahl der Sterne und Planeten im System sowie Entdeckungs-Methode, -Jahr und -Einrichtung, die uns bereits aus der .xlsx Datei:\n",
    "\n",
    " > *NASA_exoplanets.xlsx*\n",
    " \n",
    "bekannt sind, gibt es noch eine Vielzahl weiterer Parameter die erhoben wurden. Einige davon finden sich in mehreren .csv Dateien im Übungsordner:\n",
    "\n",
    "**Planeten Parameter**\n",
    "- planet_part1.csv\n",
    "- planet_part2.csv\n",
    "\n",
    "**System Daten**\n",
    "- system_data.csv\n",
    "\n",
    "**Stellar Daten**\n",
    "- stellar_data.csv"
   ]
  },
  {
   "cell_type": "markdown",
   "id": "exposed-class",
   "metadata": {},
   "source": [
    "#### 1.1 Daten zusammenführen\n",
    "- Lade die NASA_exoplanten Datei und alle zusätzlichen tabellarischen Daten aus den <font color=\"green\">csv. Dateien</font> jeweils in einen Pandas **DataFrame**.\n",
    "- Schaue dir die neuen Datensätze genau an. Gibt es Gemeinsamkeiten, wie zum Beispiel eine Kennung? Wie lassen sie sich kombinieren? \n",
    "- Verwende die <font color=\"red\">concat()</font> und <font color=\"red\">merge()</font> Methoden um alle Daten in einem **DataFrame** zusammenzuführen.\n",
    "- Wieviele Spalten und Zeilen hat der komplette **DataFrame**?"
   ]
  },
  {
   "cell_type": "code",
   "execution_count": 137,
   "id": "blind-stuart",
   "metadata": {},
   "outputs": [],
   "source": [
    "# Importiere Pandas\n",
    "import ___ as __"
   ]
  },
  {
   "cell_type": "code",
   "execution_count": 138,
   "id": "sorted-biodiversity",
   "metadata": {},
   "outputs": [],
   "source": [
    "## Laden der Datensätze\n",
    "# Exceltabelle\n",
    "exoplanets = ___\n",
    "# Planeten Daten Teil 1\n",
    "planet_data_1 = ___\n",
    "# Planeten Daten Teil 2\n",
    "planet_data_2 = ___    \n",
    "# System Daten\n",
    "system_data = ___\n",
    "# Stellar Daten\n",
    "stellar_data = ___"
   ]
  },
  {
   "cell_type": "code",
   "execution_count": 1,
   "id": "classified-breathing",
   "metadata": {},
   "outputs": [],
   "source": [
    "## Daten untersuchen mit Methoden wie .head(), .tail(), .info(), .shape()."
   ]
  },
  {
   "cell_type": "code",
   "execution_count": 2,
   "id": "touched-biology",
   "metadata": {},
   "outputs": [],
   "source": [
    "# Zusammenfügen der Datensätze mit .concat() und .merge()"
   ]
  },
  {
   "cell_type": "code",
   "execution_count": 3,
   "id": "danish-whale",
   "metadata": {},
   "outputs": [],
   "source": [
    "# Wieviele Spalten und Zeilen hat der komplette DataFrame?"
   ]
  },
  {
   "cell_type": "markdown",
   "id": "olympic-parade",
   "metadata": {},
   "source": [
    "### Aufgabe 2\n",
    "#### 2.1 Split-Apply-Combine\n",
    "Nutze die <font color=\"red\">groupby()</font> Methode um verschiedene Statistiken zu berechnen:\n",
    "\n",
    "- Was ist für jede Methode die jeweils maximal gemessene Entfernung eines Exoplaneten?\n",
    "\n",
    "- Wie groß ist die  <font color=\"green\">mittlere</font> <font color=\"peachpuff\">relative Masse der Exoplaneten</font> (im Verhältnis zur Erde) in Abhängigkeit von der <font color=\"darkred\">Anzahl der Sterne</font> und der <font color=\"darkred\">Anzahl Planeten</font> in einem System?\n",
    "\n",
    "#### 2.2 Ergebnis darstellen\n",
    "Erstelle für das Ergebnis zu den mittleren relativen Massen aus der vorherigen Teilaufgabe 2.1 einen Barplot. Stelle die relativen Masse als abhängige Variable dar.\n",
    "\n",
    "**Hinweis:**\n",
    "mit der <font color=\"red\">.unstack(level=0)</font> Methode kannst du aus einer **Series** wieder einen **DataFrame** machen."
   ]
  },
  {
   "cell_type": "code",
   "execution_count": 5,
   "id": "capable-compiler",
   "metadata": {},
   "outputs": [],
   "source": [
    "# Maximal gemessene Entfernung eines Exoplaneten für jede Methode"
   ]
  },
  {
   "cell_type": "code",
   "execution_count": 4,
   "id": "burning-growing",
   "metadata": {},
   "outputs": [],
   "source": [
    "#  Mittlere relative Masse der Exoplaneten\n",
    "# in Abhängigkeit der Anzahl Sterne und Planeten in einem System?"
   ]
  },
  {
   "cell_type": "code",
   "execution_count": 6,
   "id": "adjacent-finland",
   "metadata": {},
   "outputs": [],
   "source": [
    "## Ergebnisse Darstellen\n",
    "# Barplot für relative Massen nach Anzahl Planeten und Sterne geordnet"
   ]
  },
  {
   "cell_type": "markdown",
   "id": "usual-medication",
   "metadata": {},
   "source": [
    "### Aufgabe 3\n",
    "Wir möchten das Entdeckungsjahr (*disc_year*) als Datum setzten, um den Funktionsumfang von Pandas **datetime** nutzen zu können.\n",
    "\n",
    "#### 3.1 Entdeckungsjahr konvertieren\n",
    "Formatiere die <font color=\"green\">disc_year</font> Spalte als **datetime** mit dem Datentyp *datetime64[ns]*. Damit das Datum in der Spalte <font color=\"green\">disc_year</font> von der <font color=\"red\">to_datetime</font> Methode korrekt interpretiert wird, müssen wir einen zusätzlichen Formatparameter angeben: \n",
    "> format=\"%Y\"\n",
    "\n",
    "#### 3.2 Entdeckungen von Exoplaneten über die Zeit\n",
    "- Was ist das frühste Jahr in dem ein Exoplanet entdeckt wurde?\n",
    "- Wieviele Entdeckungen wurden jedes Jahr gemacht? Stelle dein Ergebnis als Barplot da. \\\n",
    "\n",
    "    **Hinweis:** Nutze hierfür die <font color=\"red\">groupby()</font> Methode in Kombination mit der <font color=\"red\">count()</font> Methode.\n",
    "\n",
    "#### extra:\n",
    "- Wieviele Entdeckungen wurden jedes Jahr jeweils mit der \"Radial Velocity\",\"Transit\" und \"Microlensing\" Methode gemacht? Erinnere dich an die logischen Filter und die <font color=\"red\">isin()</font> Methode aus der vorherigen Vorlesung.\n",
    "- Erstelle auch hierfür einen Barplot.\n",
    "\n",
    "#### 3.3 Datetime index\n",
    "- Setze das Entdeckungsjahr als neuen Index und sortiere ihr aufsteigend, von der ersten Entdeckung bis Heute.\n",
    "- Erstelle einen neuen **DataFrame** für die Distanzwerte (*distance*) der Exoplaneten die im Zeitraum von Anfang 1998 bis Ende 2010 entdeckt wurden."
   ]
  },
  {
   "cell_type": "code",
   "execution_count": 173,
   "id": "afraid-digit",
   "metadata": {},
   "outputs": [
    {
     "name": "stdout",
     "output_type": "stream",
     "text": [
      "<class 'pandas.core.frame.DataFrame'>\n",
      "Int64Index: 4352 entries, 0 to 4351\n",
      "Data columns (total 21 columns):\n",
      " #   Column            Non-Null Count  Dtype         \n",
      "---  ------            --------------  -----         \n",
      " 0   pl_name           4352 non-null   object        \n",
      " 1   number_stars      4352 non-null   int64         \n",
      " 2   number_planets    4352 non-null   int64         \n",
      " 3   discoverymethod   4352 non-null   object        \n",
      " 4   disc_year         4352 non-null   datetime64[ns]\n",
      " 5   disc_facility     4352 non-null   object        \n",
      " 6   disc_pub_date     4352 non-null   object        \n",
      " 7   controversial     4352 non-null   int64         \n",
      " 8   orbital_period    4212 non-null   float64       \n",
      " 9   radius_earth      4338 non-null   float64       \n",
      " 10  radius_jupiter    4336 non-null   float64       \n",
      " 11  mass_earth        4330 non-null   float64       \n",
      " 12  mass_jupiter      4330 non-null   float64       \n",
      " 13  equi_temp         3242 non-null   float64       \n",
      " 14  ra                4352 non-null   float64       \n",
      " 15  dec               4352 non-null   float64       \n",
      " 16  distance          4347 non-null   float64       \n",
      " 17  stellar_spectype  1218 non-null   object        \n",
      " 18  st_radius_sun     4021 non-null   float64       \n",
      " 19  st_mass_sun       4331 non-null   float64       \n",
      " 20  stellar_age       3445 non-null   float64       \n",
      "dtypes: datetime64[ns](1), float64(12), int64(3), object(5)\n",
      "memory usage: 748.0+ KB\n"
     ]
    }
   ],
   "source": [
    "# Entdeckungsjahr in datetime konvertieren\n",
    "exoplanets.disc_year = ___"
   ]
  },
  {
   "cell_type": "code",
   "execution_count": 7,
   "id": "respective-parent",
   "metadata": {},
   "outputs": [],
   "source": [
    "# Was ist das frühste Jahr in dem ein Exoplanet entdeckt wurde?"
   ]
  },
  {
   "cell_type": "code",
   "execution_count": 8,
   "id": "closing-surveillance",
   "metadata": {},
   "outputs": [],
   "source": [
    "# Wieviele Entdeckungen wurden jedes Jahr gemacht?"
   ]
  },
  {
   "cell_type": "code",
   "execution_count": 9,
   "id": "manufactured-monitor",
   "metadata": {},
   "outputs": [],
   "source": [
    "# Plotting\n",
    "import matplotlib.pyplot as plt\n",
    "# Plotting Style\n",
    "plt.style.use('ggplot')"
   ]
  },
  {
   "cell_type": "code",
   "execution_count": 116,
   "id": "dangerous-customer",
   "metadata": {},
   "outputs": [],
   "source": [
    "# Logischer Filter\n",
    "mask = ___\n",
    "exoplanets = exoplanets.loc[mask,:]"
   ]
  },
  {
   "cell_type": "code",
   "execution_count": 10,
   "id": "endless-start",
   "metadata": {},
   "outputs": [],
   "source": [
    "# Wieviele Entdeckungen wurden jedes Jahr jeweils mit der \n",
    "# \"Radial Velocity\",\"Transit\" und \"Microlensing\" Methode gemacht? "
   ]
  },
  {
   "cell_type": "code",
   "execution_count": 11,
   "id": "shaped-amino",
   "metadata": {},
   "outputs": [],
   "source": [
    "# Barplot"
   ]
  },
  {
   "cell_type": "code",
   "execution_count": 12,
   "id": "pregnant-jacket",
   "metadata": {},
   "outputs": [],
   "source": [
    "# Setze das Entdeckungsjahr als neuen Index und sortiere ihr aufsteigend\n",
    "df_new = ___"
   ]
  },
  {
   "cell_type": "code",
   "execution_count": 13,
   "id": "finished-peeing",
   "metadata": {},
   "outputs": [
    {
     "data": {
      "text/plain": [
       "''"
      ]
     },
     "execution_count": 13,
     "metadata": {},
     "output_type": "execute_result"
    }
   ],
   "source": [
    "# DataFrame für die Distanzen von 1998-2010\n",
    "dist_1998_2010 = ___\n",
    "dist_1998_2010"
   ]
  }
 ],
 "metadata": {
  "kernelspec": {
   "display_name": "Python 3",
   "language": "python",
   "name": "python3"
  },
  "language_info": {
   "codemirror_mode": {
    "name": "ipython",
    "version": 3
   },
   "file_extension": ".py",
   "mimetype": "text/x-python",
   "name": "python",
   "nbconvert_exporter": "python",
   "pygments_lexer": "ipython3",
   "version": "3.7.6"
  }
 },
 "nbformat": 4,
 "nbformat_minor": 5
}
