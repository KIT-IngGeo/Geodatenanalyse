{
 "cells": [
  {
   "cell_type": "markdown",
   "id": "engaged-sponsorship",
   "metadata": {},
   "source": [
    "Pandas ist eng verknüpft mit NumPy, der Python-Bibliothek für schnelle numerische Array-Berechnungen. Zum Beispiel lässt sich mit Hilfe des *.values* Attribut ein DataFrame direkt als NumPy-Array darstellen. Darüber hinaus, können die Pandas eignenen Datenstrukturen auch an NumPy-Methoden übergeben werden."
   ]
  },
  {
   "cell_type": "code",
   "execution_count": 16,
   "id": "polished-twenty",
   "metadata": {},
   "outputs": [
    {
     "data": {
      "text/html": [
       "<div>\n",
       "<style scoped>\n",
       "    .dataframe tbody tr th:only-of-type {\n",
       "        vertical-align: middle;\n",
       "    }\n",
       "\n",
       "    .dataframe tbody tr th {\n",
       "        vertical-align: top;\n",
       "    }\n",
       "\n",
       "    .dataframe thead th {\n",
       "        text-align: right;\n",
       "    }\n",
       "</style>\n",
       "<table border=\"1\" class=\"dataframe\">\n",
       "  <thead>\n",
       "    <tr style=\"text-align: right;\">\n",
       "      <th></th>\n",
       "      <th>Girth</th>\n",
       "      <th>Height</th>\n",
       "      <th>Volume</th>\n",
       "    </tr>\n",
       "  </thead>\n",
       "  <tbody>\n",
       "    <tr>\n",
       "      <th>0</th>\n",
       "      <td>8.3</td>\n",
       "      <td>70</td>\n",
       "      <td>10.3</td>\n",
       "    </tr>\n",
       "    <tr>\n",
       "      <th>1</th>\n",
       "      <td>8.6</td>\n",
       "      <td>65</td>\n",
       "      <td>10.3</td>\n",
       "    </tr>\n",
       "    <tr>\n",
       "      <th>2</th>\n",
       "      <td>8.8</td>\n",
       "      <td>63</td>\n",
       "      <td>10.2</td>\n",
       "    </tr>\n",
       "    <tr>\n",
       "      <th>3</th>\n",
       "      <td>10.5</td>\n",
       "      <td>72</td>\n",
       "      <td>16.4</td>\n",
       "    </tr>\n",
       "    <tr>\n",
       "      <th>4</th>\n",
       "      <td>10.7</td>\n",
       "      <td>81</td>\n",
       "      <td>18.8</td>\n",
       "    </tr>\n",
       "  </tbody>\n",
       "</table>\n",
       "</div>"
      ],
      "text/plain": [
       "   Girth  Height  Volume\n",
       "0    8.3      70    10.3\n",
       "1    8.6      65    10.3\n",
       "2    8.8      63    10.2\n",
       "3   10.5      72    16.4\n",
       "4   10.7      81    18.8"
      ]
     },
     "execution_count": 16,
     "metadata": {},
     "output_type": "execute_result"
    }
   ],
   "source": [
    "import statsmodels.api as sm\n",
    "import numpy as np\n",
    "import pandas as pd\n",
    "\n",
    "# R Dataset of Black Cherry Trees\n",
    "# https://stat.ethz.ch/R-manual/R-devel/library/datasets/html/00Index.html\n",
    "df = sm.datasets.get_rdataset(\"trees\").data\n",
    "df.head()"
   ]
  },
  {
   "cell_type": "code",
   "execution_count": 14,
   "id": "eastern-mixture",
   "metadata": {},
   "outputs": [
    {
     "name": "stdout",
     "output_type": "stream",
     "text": [
      "<class 'pandas.core.frame.DataFrame'>\n",
      "RangeIndex: 31 entries, 0 to 30\n",
      "Data columns (total 3 columns):\n",
      " #   Column  Non-Null Count  Dtype  \n",
      "---  ------  --------------  -----  \n",
      " 0   Girth   31 non-null     float64\n",
      " 1   Height  31 non-null     int64  \n",
      " 2   Volume  31 non-null     float64\n",
      "dtypes: float64(2), int64(1)\n",
      "memory usage: 872.0 bytes\n"
     ]
    }
   ],
   "source": [
    "df.info()"
   ]
  },
  {
   "cell_type": "markdown",
   "id": "curious-concentration",
   "metadata": {},
   "source": [
    "Aufgaben:\n",
    "- Schaue dir Anfang und Ende des Datensatzes mit der head() und tail() Methode an. Was ist das Volumen des ersten und letzten Baumes in der Liste\n",
    "\n",
    "- Erstelle eine Variable \"Volumen\" mit den Baumvolumen als NumPy-Array. Überprüfe den Datentype der neuen Variablen.\n",
    "\n",
    "- Wende die Numpy-Methoden *mean*, *min* und *max* auf den Datensatz an. \n"
   ]
  },
  {
   "cell_type": "code",
   "execution_count": 24,
   "id": "clear-aging",
   "metadata": {},
   "outputs": [
    {
     "name": "stdout",
     "output_type": "stream",
     "text": [
      "Girth     13.248387\n",
      "Height    76.000000\n",
      "Volume    30.170968\n",
      "dtype: float64\n"
     ]
    },
    {
     "data": {
      "text/plain": [
       "pandas.core.series.Series"
      ]
     },
     "execution_count": 24,
     "metadata": {},
     "output_type": "execute_result"
    }
   ],
   "source": [
    "mean = np.mean(df)\n",
    "print(mean)\n",
    "type(mean)"
   ]
  },
  {
   "cell_type": "code",
   "execution_count": 18,
   "id": "moved-burton",
   "metadata": {},
   "outputs": [
    {
     "data": {
      "text/plain": [
       "Girth     20.6\n",
       "Height    87.0\n",
       "Volume    77.0\n",
       "dtype: float64"
      ]
     },
     "execution_count": 18,
     "metadata": {},
     "output_type": "execute_result"
    }
   ],
   "source": [
    "np.max(df)"
   ]
  },
  {
   "cell_type": "code",
   "execution_count": 23,
   "id": "simplified-liberty",
   "metadata": {},
   "outputs": [
    {
     "data": {
      "text/plain": [
       "pandas.core.frame.DataFrame"
      ]
     },
     "execution_count": 23,
     "metadata": {},
     "output_type": "execute_result"
    }
   ],
   "source": [
    "describe = df.describe()\n",
    "type(describe)"
   ]
  }
 ],
 "metadata": {
  "kernelspec": {
   "display_name": "Python 3",
   "language": "python",
   "name": "python3"
  },
  "language_info": {
   "codemirror_mode": {
    "name": "ipython",
    "version": 3
   },
   "file_extension": ".py",
   "mimetype": "text/x-python",
   "name": "python",
   "nbconvert_exporter": "python",
   "pygments_lexer": "ipython3",
   "version": "3.7.6"
  }
 },
 "nbformat": 4,
 "nbformat_minor": 5
}
