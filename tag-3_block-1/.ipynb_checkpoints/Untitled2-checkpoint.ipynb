{
 "cells": [
  {
   "cell_type": "code",
   "execution_count": null,
   "id": "freelance-license",
   "metadata": {},
   "outputs": [],
   "source": [
    "# Setting a new Theme\n",
    "!jt -t grade3 -tfs 13 -fs 13 -ofs 13 -dfs 13 -N -T"
   ]
  },
  {
   "cell_type": "code",
   "execution_count": null,
   "id": "stylish-borough",
   "metadata": {},
   "outputs": [],
   "source": [
    "## and reset\n",
    "!jt -r"
   ]
  }
 ],
 "metadata": {
  "kernelspec": {
   "display_name": "Python 3",
   "language": "python",
   "name": "python3"
  },
  "language_info": {
   "codemirror_mode": {
    "name": "ipython",
    "version": 3
   },
   "file_extension": ".py",
   "mimetype": "text/x-python",
   "name": "python",
   "nbconvert_exporter": "python",
   "pygments_lexer": "ipython3",
   "version": "3.7.6"
  }
 },
 "nbformat": 4,
 "nbformat_minor": 5
}
