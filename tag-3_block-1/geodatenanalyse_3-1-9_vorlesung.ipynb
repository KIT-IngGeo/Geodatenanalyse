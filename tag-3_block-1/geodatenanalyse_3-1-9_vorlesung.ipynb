{
 "cells": [
  {
   "cell_type": "markdown",
   "metadata": {
    "slideshow": {
     "slide_type": "slide"
    }
   },
   "source": [
    "# Geodatenanalyse 1\n",
    "\n",
    "\n",
    "## Tag 2 / Block 1 - Teil 9\n",
    "\n",
    "## Numerische und symbolische Berechnungen\n",
    "\n",
    "Ca. 20 Minuten"
   ]
  },
  {
   "cell_type": "code",
   "execution_count": 1,
   "metadata": {},
   "outputs": [],
   "source": [
    "import numpy as np"
   ]
  },
  {
   "cell_type": "markdown",
   "metadata": {
    "slideshow": {
     "slide_type": "slide"
    }
   },
   "source": [
    "## Inhalt\n",
    "- Übersicht über *mpmath*\n",
    "- Übersicht über *SymPy*\n"
   ]
  },
  {
   "cell_type": "markdown",
   "metadata": {},
   "source": [
    "## Was ist *mpmath*?\n",
    "\n",
    "<img width=200 style=\"float: left;\" src=\"images\\mpmath.svg\">"
   ]
  },
  {
   "cell_type": "markdown",
   "metadata": {},
   "source": [
    "- *mpmath* kann als Ersatz für Pythons float/complex-Typen und math/cmath-Module mit beliebiger Genauigkeit verwendet werden, beherrscht aber auch wesentlich fortgeschrittenere Mathematik. \n",
    "\n",
    "- Fast jede Berechnung kann genauso gut mit 10- oder 1000-stelliger Genauigkeit durchgeführt werden, entweder mit reellen oder komplexen Zahlen\n",
    "\n",
    "- *mpmath* implementiert in vielen Fällen effiziente Algorithmen, die für extrem hochpräzise Arbeiten gut skalieren\n",
    "\n",
    "Weitere Infos unter der [Paketbeschreibung für *mpmath*](https://mpmath.org)"
   ]
  },
  {
   "cell_type": "code",
   "execution_count": 2,
   "metadata": {},
   "outputs": [],
   "source": [
    "from mpmath import mp"
   ]
  },
  {
   "cell_type": "markdown",
   "metadata": {
    "slideshow": {
     "slide_type": "slide"
    }
   },
   "source": [
    "### Beliebige Präzision für Fließkommazahlen\n",
    "\n",
    "- *mpmath* kann also für eine beliebige Genauigkeit von Berechnungen verwendet werden\n",
    "\n",
    "- Der Standard in *NumPy* ist ca. 15 Dezimalstellen\n",
    "\n",
    "- Die Dezimalpräzision von *mpmath* muss entsprechend eingestellt werden"
   ]
  },
  {
   "cell_type": "markdown",
   "metadata": {
    "slideshow": {
     "slide_type": "subslide"
    }
   },
   "source": [
    "Oder als grafische Darstellung:\n",
    "\n",
    "<img width=500 style=\"float: left;\" src=\"images\\double.png\">"
   ]
  },
  {
   "cell_type": "markdown",
   "metadata": {
    "slideshow": {
     "slide_type": "subslide"
    }
   },
   "source": [
    "Wie werden Fließkommazahlen intern gespeichert?\n",
    "\n",
    "<img width=200 style=\"float: left;\" src=\"images\\floats.svg\">"
   ]
  },
  {
   "cell_type": "markdown",
   "metadata": {},
   "source": [
    "**Hinweis**: Für eine Fließkommazahl mit doppelter Präzision ergibt sich hiermit eine Genauigkeit von ~15.9 Nachkommastellen"
   ]
  },
  {
   "cell_type": "code",
   "execution_count": 3,
   "metadata": {
    "slideshow": {
     "slide_type": "subslide"
    }
   },
   "outputs": [
    {
     "name": "stdout",
     "output_type": "stream",
     "text": [
      "3.141592653589793\n"
     ]
    }
   ],
   "source": [
    "# Kreiszahl Pi in NumPy\n",
    "print(np.pi)"
   ]
  },
  {
   "cell_type": "code",
   "execution_count": 4,
   "metadata": {
    "slideshow": {
     "slide_type": "subslide"
    }
   },
   "outputs": [
    {
     "name": "stdout",
     "output_type": "stream",
     "text": [
      "3.1415926535897932384626433832795028841971693993751\n"
     ]
    }
   ],
   "source": [
    "# Kreiszahl Pi in mpmath\n",
    "mp.dps = 50\n",
    "mp.nprint(mp.pi, 50)"
   ]
  },
  {
   "cell_type": "markdown",
   "metadata": {},
   "source": [
    "### Zahlen definieren\n",
    "\n",
    "- *mpmath* braucht intern ein eigenes Speicherobjekt für Zahlen\n",
    "\n",
    "- Der Grund ist, dass beliebige Präzisionen eine andere Speicherverarbeitung benötigen\n",
    "\n",
    "- Das Praktische ist, dass alles intern geregelt wird"
   ]
  },
  {
   "cell_type": "markdown",
   "metadata": {},
   "source": [
    "Es gibt drei Zahlentypen:\n",
    "\n",
    "- Fließkomma: *mpf()*\n",
    "\n",
    "- Komplex: *mpc(real, imaginary)*\n",
    "\n",
    "- Matrix: *matrix()*"
   ]
  },
  {
   "cell_type": "markdown",
   "metadata": {
    "slideshow": {
     "slide_type": "subslide"
    }
   },
   "source": [
    "Die Konvertierung ist ganz einfach:"
   ]
  },
  {
   "cell_type": "code",
   "execution_count": 5,
   "metadata": {
    "slideshow": {
     "slide_type": "subslide"
    }
   },
   "outputs": [
    {
     "name": "stdout",
     "output_type": "stream",
     "text": [
      "1.56789654\n"
     ]
    }
   ],
   "source": [
    "# von String nach mpmath\n",
    "value = mp.mpmathify('1.56789654')\n",
    "print(value)"
   ]
  },
  {
   "cell_type": "markdown",
   "metadata": {},
   "source": [
    "### Genauigkeit\n",
    "\n",
    "Normale Fliesskommaoperationen haben eine begrenzte Genauigkeit:"
   ]
  },
  {
   "cell_type": "code",
   "execution_count": 6,
   "metadata": {
    "scrolled": true
   },
   "outputs": [
    {
     "name": "stdout",
     "output_type": "stream",
     "text": [
      "0.16666666666666666\n"
     ]
    }
   ],
   "source": [
    "print(1/6)"
   ]
  },
  {
   "cell_type": "markdown",
   "metadata": {},
   "source": [
    "In *mpmath* kann diese Genauigkeit beliebig angepasst werden:"
   ]
  },
  {
   "cell_type": "code",
   "execution_count": 7,
   "metadata": {},
   "outputs": [
    {
     "name": "stdout",
     "output_type": "stream",
     "text": [
      "0.1666666666666666666666666666666666666666666666666666666666666666666666666666666666666666666666666667\n"
     ]
    }
   ],
   "source": [
    "mp.nprint(mp.fdiv(1, 6, dps=100), 100)"
   ]
  },
  {
   "cell_type": "markdown",
   "metadata": {},
   "source": [
    "### Große und kleine Zahlen"
   ]
  },
  {
   "cell_type": "markdown",
   "metadata": {},
   "source": [
    "Ein weiteres Beispiel ist die Reichweite von Zahlen, z.B. in *NumPy*:"
   ]
  },
  {
   "cell_type": "code",
   "execution_count": 8,
   "metadata": {},
   "outputs": [
    {
     "name": "stdout",
     "output_type": "stream",
     "text": [
      "-1.7976931348623157e+308\n",
      "-inf\n"
     ]
    }
   ],
   "source": [
    "min_value = -np.finfo(np.float64).max\n",
    "print(min_value)\n",
    "\n",
    "value = -1.7976931348623157e+309\n",
    "print(value)"
   ]
  },
  {
   "cell_type": "code",
   "execution_count": 9,
   "metadata": {
    "scrolled": true
   },
   "outputs": [
    {
     "name": "stdout",
     "output_type": "stream",
     "text": [
      "1.7976931348623157e+308\n",
      "inf\n"
     ]
    }
   ],
   "source": [
    "max_value = np.finfo(np.float64).max\n",
    "print(max_value)\n",
    "\n",
    "value = 1.7976931348623157e+309\n",
    "print(value)"
   ]
  },
  {
   "cell_type": "markdown",
   "metadata": {},
   "source": [
    "In *mpmath*, diese können beliebig angepasst werden:"
   ]
  },
  {
   "cell_type": "code",
   "execution_count": 10,
   "metadata": {
    "scrolled": true
   },
   "outputs": [
    {
     "name": "stdout",
     "output_type": "stream",
     "text": [
      "1.45e+500\n"
     ]
    }
   ],
   "source": [
    "# eine sehr große Zahl\n",
    "print(mp.mpf('1.45e+500'))"
   ]
  },
  {
   "cell_type": "code",
   "execution_count": 11,
   "metadata": {},
   "outputs": [
    {
     "name": "stdout",
     "output_type": "stream",
     "text": [
      "1.45e-500\n"
     ]
    }
   ],
   "source": [
    "# eine sehr kleine Zahl\n",
    "print(mp.mpf('1.45e-500'))"
   ]
  },
  {
   "cell_type": "markdown",
   "metadata": {},
   "source": [
    "## Wurzelsuche\n",
    "\n",
    "- Berechnungsprobleme von analytischen Gleichungen sind oft nicht explizit lösbar\n",
    "\n",
    "- FÜr eine Berechnung von Lösungen benötigt man eine Iteration\n",
    "\n",
    "- Diese lässt sich mit *mpmath* sehr genau berechnen"
   ]
  },
  {
   "cell_type": "markdown",
   "metadata": {},
   "source": [
    "Man finde $(x, ...)$ für welche gilt:\n",
    "\n",
    "$f(x, ...) = 0$"
   ]
  },
  {
   "cell_type": "code",
   "execution_count": 12,
   "metadata": {
    "scrolled": true
   },
   "outputs": [
    {
     "name": "stdout",
     "output_type": "stream",
     "text": [
      "0.0\n",
      "3.1415926535897932384626433832795028841971693993751\n"
     ]
    }
   ],
   "source": [
    "root = mp.findroot(mp.sin, 1)\n",
    "mp.nprint(root, 50)\n",
    "\n",
    "root = mp.findroot(mp.sin, 2)\n",
    "mp.nprint(root, 50)"
   ]
  },
  {
   "cell_type": "markdown",
   "metadata": {},
   "source": [
    "*HINWEIS*: Es wird immer der Wert, der dem Startwert am nächsten liegt, gefunden!"
   ]
  },
  {
   "cell_type": "code",
   "execution_count": 13,
   "metadata": {
    "scrolled": true
   },
   "outputs": [
    {
     "name": "stdout",
     "output_type": "stream",
     "text": [
      "x:     3.7323352311858883240062645623172913036110961827885886423\n",
      "error: 0.25\n",
      "x:     3.1139109832498230716511235569414417040838978259571341738\n",
      "error: 1.4823352311858883240062645623172913036110961827885886423\n",
      "x:     3.1431877351979023357707663048591772020460079912756894676\n",
      "error: 0.61842424793606525235514100537584959952719835683145446844\n",
      "x:     3.1415924616005042552341086595358394436792065219791972602\n",
      "error: 0.029276751948079264119642747917735497962110165318555293806\n",
      "x:     3.1415926535898746412765027067321058589458723440407032878\n",
      "error: 0.0015952735973980805366576453233377583668014692964922074903\n",
      "x:     3.1415926535897932384626433827794200083644198996892138584\n",
      "error: 0.00000019198937038604239404719626641526666582206150602768376694\n",
      "x:     3.1415926535897932384626433832795028841971693993751058215\n",
      "error: 0.000000000000081402813859323952685850581452444351489429440892159753236\n",
      "x:     3.141592653589793238462643383279502884197169399375105821\n",
      "error: 5.0008287583274949968589196313054599041587080054930926116e-28\n",
      "x:     3.141592653589793238462643383279502884197169399375105821\n",
      "error: 5.5057256448737550694118106546852120001228573427456905247e-55\n",
      "3.1415926535897932384626433832795028841971693993751\n"
     ]
    }
   ],
   "source": [
    "root = mp.findroot(mp.sin, 2, verbose=True)\n",
    "mp.nprint(root, 50)"
   ]
  },
  {
   "cell_type": "markdown",
   "metadata": {},
   "source": [
    "Das funktioniert auch mit einer beliebigen definierten Funktion, und sogar mit mehreren Variablen:"
   ]
  },
  {
   "cell_type": "code",
   "execution_count": 14,
   "metadata": {},
   "outputs": [
    {
     "name": "stdout",
     "output_type": "stream",
     "text": [
      "[ 1.6180339887498948482]\n",
      "[-2.6180339887498948482]\n"
     ]
    }
   ],
   "source": [
    "def function(x1, x2):\n",
    "    return x1**2 + x2, 5*x1**2 - 3*x1 + 2*x2 - 3\n",
    "\n",
    "root = mp.findroot(function, (1, 1))\n",
    "mp.nprint(root, 20)"
   ]
  },
  {
   "cell_type": "markdown",
   "metadata": {},
   "source": [
    "## Numerische Integration\n",
    "\n",
    "- Viele Berechnungsprobleme benötigen die Integration von Gleichungen\n",
    "\n",
    "- Diese sind oft analytisch nicht lösbar\n",
    "\n",
    "- Dafür kann man sie aber numerisch ausrechnen"
   ]
  },
  {
   "cell_type": "markdown",
   "metadata": {
    "slideshow": {
     "slide_type": "subslide"
    }
   },
   "source": [
    "Folgende einfache Beispielrechnung:\n",
    "\n",
    "$y = \\int_{0.1}^{2.8} sin(x) dx$"
   ]
  },
  {
   "cell_type": "code",
   "execution_count": 15,
   "metadata": {
    "slideshow": {
     "slide_type": "subslide"
    }
   },
   "outputs": [
    {
     "name": "stdout",
     "output_type": "stream",
     "text": [
      "1.9372265059466838586\n"
     ]
    }
   ],
   "source": [
    "value = mp.quad(mp.sin, [0.1, 2.8])\n",
    "\n",
    "mp.nprint(value, 20)"
   ]
  },
  {
   "cell_type": "markdown",
   "metadata": {
    "slideshow": {
     "slide_type": "slide"
    }
   },
   "source": [
    "### Anwendungsbeispiel Pumpversuch\n",
    "\n",
    "Auswertung eines Pumpversuchs anhand von [Theis (1935)](https://doi.org/10.1029/TR016i002p00519).\n",
    "\n",
    "Hier wird die folgende Integralexponentialfunktion verwendet:\n",
    "\n",
    "$Ei_1(x) = \\int_{x}^{\\infty} \\frac{e^{-t}}{t} dt$\n"
   ]
  },
  {
   "cell_type": "code",
   "execution_count": 16,
   "metadata": {
    "slideshow": {
     "slide_type": "subslide"
    }
   },
   "outputs": [
    {
     "name": "stdout",
     "output_type": "stream",
     "text": [
      "0.21938393439552027368\n"
     ]
    }
   ],
   "source": [
    "def exp_int(x):\n",
    "    return mp.exp(-x)/x\n",
    "\n",
    "value = mp.quad(exp_int, [1, mp.inf])\n",
    "mp.nprint(value, 20)"
   ]
  },
  {
   "cell_type": "markdown",
   "metadata": {
    "slideshow": {
     "slide_type": "subslide"
    }
   },
   "source": [
    "**Hinweis**: Diese Funktion ist so wichtig, dass sie bereits in *mpmath* integriert ist:"
   ]
  },
  {
   "cell_type": "code",
   "execution_count": 17,
   "metadata": {
    "slideshow": {
     "slide_type": "subslide"
    }
   },
   "outputs": [
    {
     "name": "stdout",
     "output_type": "stream",
     "text": [
      "0.048900510708061119567\n"
     ]
    }
   ],
   "source": [
    "value = mp.e1(2)\n",
    "mp.nprint(value, 20)"
   ]
  },
  {
   "cell_type": "markdown",
   "metadata": {
    "slideshow": {
     "slide_type": "subslide"
    }
   },
   "source": [
    "**Hinweis**: Man könnte diese Funktionalität mit einer Ausgleichungsrechnung kombinieren, um somit einen Pumpversuch auswerten zu können!"
   ]
  },
  {
   "cell_type": "markdown",
   "metadata": {
    "slideshow": {
     "slide_type": "subslide"
    }
   },
   "source": [
    "**Hinweis**: *mpmath* hat eine der besten Sammlungen an integrierten mathematischen Funktionen! Siehe [Mathematical functions](https://mpmath.org/doc/current/functions/index.html)"
   ]
  },
  {
   "cell_type": "markdown",
   "metadata": {
    "slideshow": {
     "slide_type": "slide"
    }
   },
   "source": [
    "## Was ist *SymPy*?\n",
    "\n",
    "<img width=200 style=\"float: left;\" src=\"images\\sympy_logo.png\">"
   ]
  },
  {
   "cell_type": "markdown",
   "metadata": {
    "slideshow": {
     "slide_type": "subslide"
    }
   },
   "source": [
    "- SymPy ist eine Python-Bibliothek für symbolische Mathematik. \n",
    "\n",
    "- SymPy zielt darauf ab, ein vollwertiges Computer-Algebra-System (CAS) zu werden und dabei den Code so einfach wie möglich zu halten, um verständlich und leicht erweiterbar zu sein. \n",
    "\n",
    "- SymPy ist komplett in Python geschrieben.\n",
    "\n",
    "Weitere Infos unter [SymPy](https://www.sympy.org)"
   ]
  },
  {
   "cell_type": "code",
   "execution_count": 18,
   "metadata": {
    "slideshow": {
     "slide_type": "subslide"
    }
   },
   "outputs": [],
   "source": [
    "import sympy as sp\n",
    "sp.init_printing()"
   ]
  },
  {
   "cell_type": "markdown",
   "metadata": {
    "slideshow": {
     "slide_type": "slide"
    }
   },
   "source": [
    "### Symbolische Mathematik\n",
    "\n",
    "- Bis jetzt haben wir ausschließlich numerische Berechnungen gemacht\n",
    "\n",
    "- Mit *SymPy* lassen sich symbolische Berechnungen durchführen\n",
    "\n",
    "- Das bietet einige Vorteile für bestimmte Aufgaben"
   ]
  },
  {
   "cell_type": "code",
   "execution_count": 28,
   "metadata": {},
   "outputs": [],
   "source": [
    "x, y = sp.symbols('x y')\n",
    "\n",
    "expr = x + 2*y"
   ]
  },
  {
   "cell_type": "code",
   "execution_count": 26,
   "metadata": {
    "scrolled": true
   },
   "outputs": [
    {
     "data": {
      "image/png": "[encoded data removed]",
      "text/latex": [
       "$\\displaystyle x^{2} + 2 x y$"
      ],
      "text/plain": [
       " 2        \n",
       "x  + 2⋅x⋅y"
      ]
     },
     "execution_count": 26,
     "metadata": {},
     "output_type": "execute_result"
    }
   ],
   "source": [
    "expr1 = sp.expand(x*expr)\n",
    "expr1"
   ]
  },
  {
   "cell_type": "markdown",
   "metadata": {
    "slideshow": {
     "slide_type": "slide"
    }
   },
   "source": [
    "### Variablen ersetzen\n",
    "\n",
    "Variablen können entweder durch Symbole oder aber auch durch Zahlen ersetzt werden:"
   ]
  },
  {
   "cell_type": "code",
   "execution_count": 29,
   "metadata": {
    "slideshow": {
     "slide_type": "subslide"
    }
   },
   "outputs": [
    {
     "data": {
      "image/png": "[encoded data removed]",
      "text/latex": [
       "$\\displaystyle x^{2} + 4 x \\left(x - 3\\right) - z$"
      ],
      "text/plain": [
       " 2                  \n",
       "x  + 4⋅x⋅(x - 3) - z"
      ]
     },
     "execution_count": 29,
     "metadata": {},
     "output_type": "execute_result"
    }
   ],
   "source": [
    "x, y, z = sp.symbols('x y z')\n",
    "\n",
    "# eine Funktion\n",
    "expr = x**2 + 4*x*y - z\n",
    "\n",
    "# ersetze beliebige Variablen\n",
    "expr.subs([(y, x - 3)])"
   ]
  },
  {
   "cell_type": "markdown",
   "metadata": {
    "slideshow": {
     "slide_type": "subslide"
    }
   },
   "source": [
    "Wenn sie durch Zahlen ersetzt werden, dann ist es eine numerische Lösung:"
   ]
  },
  {
   "cell_type": "code",
   "execution_count": 30,
   "metadata": {
    "slideshow": {
     "slide_type": "subslide"
    }
   },
   "outputs": [
    {
     "data": {
      "image/png": "[encoded data removed]",
      "text/latex": [
       "$\\displaystyle 43$"
      ],
      "text/plain": [
       "43"
      ]
     },
     "execution_count": 30,
     "metadata": {},
     "output_type": "execute_result"
    }
   ],
   "source": [
    "expr.subs([(x, 5), (y, 1), (z, 2)])"
   ]
  },
  {
   "cell_type": "markdown",
   "metadata": {},
   "source": [
    "### Variablen ausrechnen\n",
    "\n",
    "Hierfür ist die Funktion *evalf()* zuständig:"
   ]
  },
  {
   "cell_type": "code",
   "execution_count": 31,
   "metadata": {},
   "outputs": [
    {
     "data": {
      "image/png": "[encoded data removed]",
      "text/latex": [
       "$\\displaystyle 20.5672$"
      ],
      "text/plain": [
       "20.5672000000000"
      ]
     },
     "execution_count": 31,
     "metadata": {},
     "output_type": "execute_result"
    }
   ],
   "source": [
    "expr.evalf(subs={x: 1.34, y: 4.56, z: 5.67})"
   ]
  },
  {
   "cell_type": "markdown",
   "metadata": {},
   "source": [
    "### Ableitungen und Integrationen\n",
    "\n",
    "Die folgende Funktion wird definiert:\n",
    "\n",
    "$f(x) = x \\cdot sin(x^2) + 2$ \n",
    "\n",
    "Wie heißt die Ableitung?"
   ]
  },
  {
   "cell_type": "code",
   "execution_count": 32,
   "metadata": {},
   "outputs": [
    {
     "data": {
      "image/png": "[encoded data removed]",
      "text/latex": [
       "$\\displaystyle x \\sin{\\left(x^{2} \\right)} + 2$"
      ],
      "text/plain": [
       "     ⎛ 2⎞    \n",
       "x⋅sin⎝x ⎠ + 2"
      ]
     },
     "execution_count": 32,
     "metadata": {},
     "output_type": "execute_result"
    }
   ],
   "source": [
    "# Funktion definieren\n",
    "expr = x*sp.sin(x**2) + 2\n",
    "expr"
   ]
  },
  {
   "cell_type": "markdown",
   "metadata": {},
   "source": [
    "**Hinweis**: Hier muss man die Produkt- und Kettenregeln anwenden ... könnt ihr euch noch erinnern?"
   ]
  },
  {
   "cell_type": "code",
   "execution_count": 33,
   "metadata": {},
   "outputs": [
    {
     "data": {
      "image/png": "[encoded data removed]",
      "text/latex": [
       "$\\displaystyle 2 x^{2} \\cos{\\left(x^{2} \\right)} + \\sin{\\left(x^{2} \\right)}$"
      ],
      "text/plain": [
       "   2    ⎛ 2⎞      ⎛ 2⎞\n",
       "2⋅x ⋅cos⎝x ⎠ + sin⎝x ⎠"
      ]
     },
     "execution_count": 33,
     "metadata": {},
     "output_type": "execute_result"
    }
   ],
   "source": [
    "# Funktion ableiten\n",
    "diff_expr = sp.diff(expr)\n",
    "diff_expr"
   ]
  },
  {
   "cell_type": "markdown",
   "metadata": {},
   "source": [
    "**Frage**: Was ist der Wert dieser Funktion für $x = \\pi$?"
   ]
  },
  {
   "cell_type": "code",
   "execution_count": 34,
   "metadata": {
    "scrolled": true
   },
   "outputs": [
    {
     "data": {
      "image/png": "[encoded data removed]",
      "text/latex": [
       "$\\displaystyle -18.2485960588673$"
      ],
      "text/plain": [
       "-18.2485960588673"
      ]
     },
     "execution_count": 34,
     "metadata": {},
     "output_type": "execute_result"
    }
   ],
   "source": [
    "diff_expr.evalf(subs={x: np.pi})"
   ]
  },
  {
   "cell_type": "markdown",
   "metadata": {},
   "source": [
    "Was ist die Integration dieser Funktion?"
   ]
  },
  {
   "cell_type": "code",
   "execution_count": 35,
   "metadata": {
    "scrolled": true
   },
   "outputs": [
    {
     "data": {
      "image/png": "[encoded data removed]",
      "text/latex": [
       "$\\displaystyle 2 x - \\frac{\\cos{\\left(x^{2} \\right)}}{2}$"
      ],
      "text/plain": [
       "         ⎛ 2⎞\n",
       "      cos⎝x ⎠\n",
       "2⋅x - ───────\n",
       "         2   "
      ]
     },
     "execution_count": 35,
     "metadata": {},
     "output_type": "execute_result"
    }
   ],
   "source": [
    "# Funktion integrieren\n",
    "int_expr = sp.integrate(expr)\n",
    "int_expr"
   ]
  },
  {
   "cell_type": "markdown",
   "metadata": {},
   "source": [
    "Und der numerische Wert?"
   ]
  },
  {
   "cell_type": "code",
   "execution_count": 36,
   "metadata": {},
   "outputs": [
    {
     "data": {
      "image/png": "[encoded data removed]",
      "text/latex": [
       "$\\displaystyle 6.73452798814612$"
      ],
      "text/plain": [
       "6.73452798814612"
      ]
     },
     "execution_count": 36,
     "metadata": {},
     "output_type": "execute_result"
    }
   ],
   "source": [
    "int_expr.evalf(subs={x: np.pi})"
   ]
  },
  {
   "cell_type": "markdown",
   "metadata": {},
   "source": [
    "Oder auch komplizierter:"
   ]
  },
  {
   "cell_type": "code",
   "execution_count": 39,
   "metadata": {},
   "outputs": [
    {
     "data": {
      "image/png": "[encoded data removed]",
      "text/latex": [
       "$\\displaystyle \\frac{x^{2} e^{x} \\sin{\\left(x \\right)}}{2} + \\frac{x^{2} e^{x} \\cos{\\left(x \\right)}}{2} - x e^{x} \\sin{\\left(x \\right)} + \\frac{e^{x} \\sin{\\left(x \\right)}}{2} - \\frac{e^{x} \\cos{\\left(x \\right)}}{2}$"
      ],
      "text/plain": [
       " 2  x           2  x                         x           x       \n",
       "x ⋅ℯ ⋅sin(x)   x ⋅ℯ ⋅cos(x)      x          ℯ ⋅sin(x)   ℯ ⋅cos(x)\n",
       "──────────── + ──────────── - x⋅ℯ ⋅sin(x) + ───────── - ─────────\n",
       "     2              2                           2           2    "
      ]
     },
     "execution_count": 39,
     "metadata": {},
     "output_type": "execute_result"
    }
   ],
   "source": [
    "expr = sp.integrate(x**2 * sp.exp(x) * sp.cos(x), x)\n",
    "expr"
   ]
  },
  {
   "cell_type": "markdown",
   "metadata": {},
   "source": [
    "Mit Vereinfachung:"
   ]
  },
  {
   "cell_type": "code",
   "execution_count": 40,
   "metadata": {},
   "outputs": [
    {
     "data": {
      "image/png": "[encoded data removed]",
      "text/latex": [
       "$\\displaystyle \\frac{\\sqrt{2} \\left(x^{2} \\sin{\\left(x + \\frac{\\pi}{4} \\right)} - x \\sin{\\left(x + \\frac{\\pi}{4} \\right)} + x \\cos{\\left(x + \\frac{\\pi}{4} \\right)} - \\cos{\\left(x + \\frac{\\pi}{4} \\right)}\\right) e^{x}}{2}$"
      ],
      "text/plain": [
       "   ⎛ 2    ⎛    π⎞        ⎛    π⎞        ⎛    π⎞      ⎛    π⎞⎞  x\n",
       "√2⋅⎜x ⋅sin⎜x + ─⎟ - x⋅sin⎜x + ─⎟ + x⋅cos⎜x + ─⎟ - cos⎜x + ─⎟⎟⋅ℯ \n",
       "   ⎝      ⎝    4⎠        ⎝    4⎠        ⎝    4⎠      ⎝    4⎠⎠   \n",
       "────────────────────────────────────────────────────────────────\n",
       "                               2                                "
      ]
     },
     "execution_count": 40,
     "metadata": {},
     "output_type": "execute_result"
    }
   ],
   "source": [
    "expr = sp.simplify(expr)\n",
    "expr"
   ]
  },
  {
   "cell_type": "markdown",
   "metadata": {},
   "source": [
    "### Lineare Gleichungssysteme\n",
    "\n",
    "Auch einfache Gleichungssysteme können symbolisch gelöst werden:"
   ]
  },
  {
   "cell_type": "code",
   "execution_count": 41,
   "metadata": {},
   "outputs": [
    {
     "name": "stdout",
     "output_type": "stream",
     "text": [
      "FiniteSet((z - 2, 3 - 2*z, z))\n"
     ]
    }
   ],
   "source": [
    "# definiere die Gleichungen\n",
    "eq1 = x + y + z - 1\n",
    "eq2 = y + 2*z - 3\n",
    "\n",
    "# finde die Lösung\n",
    "sol = sp.linsolve([eq1, eq2], (x, y, z))\n",
    "print(sol)"
   ]
  },
  {
   "cell_type": "markdown",
   "metadata": {
    "slideshow": {
     "slide_type": "subslide"
    }
   },
   "source": [
    "**Achtung**: *SymPy* sollte nur für symbolische Lösungen verwendet werden. Für rein numerische Lösungen ist *SymPy* zu langsam."
   ]
  },
  {
   "cell_type": "markdown",
   "metadata": {},
   "source": [
    "### Nicht-lineare Gleichungssysteme\n",
    "\n",
    "Eine besondere Stärke liegt in der Lösung von nicht-linearen Systemen.\n",
    "\n",
    "Zum Beispiel:\n",
    "\n",
    "<img width=150 style=\"float: left;\" src=\"images\\non-linear.png\">"
   ]
  },
  {
   "cell_type": "code",
   "execution_count": 42,
   "metadata": {},
   "outputs": [
    {
     "data": {
      "image/png": "[encoded data removed]",
      "text/latex": [
       "$\\displaystyle \\left[ \\left( - \\frac{1}{2} + \\frac{\\sqrt{3}}{2}, \\  c_{1} - \\frac{3 \\sqrt{3}}{2} + \\frac{3}{2}, \\  - c_{1} - \\frac{5}{2} + \\frac{5 \\sqrt{3}}{2}\\right), \\  \\left( - \\frac{\\sqrt{3}}{2} - \\frac{1}{2}, \\  c_{1} + \\frac{3}{2} + \\frac{3 \\sqrt{3}}{2}, \\  - c_{1} - \\frac{5 \\sqrt{3}}{2} - \\frac{5}{2}\\right)\\right]$"
      ],
      "text/plain": [
       "⎡⎛  1   √3       3⋅√3   3        5   5⋅√3⎞  ⎛  √3   1       3   3⋅√3        5⋅\n",
       "⎢⎜- ─ + ──, c₁ - ──── + ─, -c₁ - ─ + ────⎟, ⎜- ── - ─, c₁ + ─ + ────, -c₁ - ──\n",
       "⎣⎝  2   2         2     2        2    2  ⎠  ⎝  2    2       2    2           2\n",
       "\n",
       "√3   5⎞⎤\n",
       "── - ─⎟⎥\n",
       "     2⎠⎦"
      ]
     },
     "execution_count": 42,
     "metadata": {},
     "output_type": "execute_result"
    }
   ],
   "source": [
    "# Symbole definieren\n",
    "x,y,z = sp.symbols('x,y,z')\n",
    "\n",
    "# Parameter definieren\n",
    "c1 = sp.Symbol('c1')\n",
    "\n",
    "# Gleichungen aufstellen\n",
    "f = sp.Eq(2*x**2 + y + z, 1)\n",
    "g = sp.Eq(x + 2*y + z, c1)\n",
    "h = sp.Eq(-2*x + y, -z)\n",
    "\n",
    "# Gleichungssystem lösen ...\n",
    "solution = sp.solve([f, g, h], (x, y, z))\n",
    "solution"
   ]
  },
  {
   "cell_type": "code",
   "execution_count": 43,
   "metadata": {},
   "outputs": [
    {
     "data": {
      "image/png": "[encoded data removed]",
      "text/latex": [
       "$\\displaystyle \\frac{5}{2} - \\frac{3 \\sqrt{3}}{2}$"
      ],
      "text/plain": [
       "5   3⋅√3\n",
       "─ - ────\n",
       "2    2  "
      ]
     },
     "execution_count": 43,
     "metadata": {},
     "output_type": "execute_result"
    }
   ],
   "source": [
    "solution[0][1].subs([(c1, 1)])"
   ]
  },
  {
   "cell_type": "code",
   "execution_count": 44,
   "metadata": {},
   "outputs": [
    {
     "data": {
      "image/png": "[encoded data removed]",
      "text/latex": [
       "$\\displaystyle 0.366025403784439$"
      ],
      "text/plain": [
       "0.366025403784439"
      ]
     },
     "execution_count": 44,
     "metadata": {},
     "output_type": "execute_result"
    }
   ],
   "source": [
    "solution[0][0].evalf()"
   ]
  },
  {
   "cell_type": "markdown",
   "metadata": {},
   "source": [
    "### Gewöhnliche Differentialgleichungen\n",
    "\n",
    "*SymPy* kann gewöhnliche Differentialgleichungen lösen.\n",
    "\n",
    "Ein Beispiel:"
   ]
  },
  {
   "cell_type": "code",
   "execution_count": null,
   "metadata": {
    "scrolled": true
   },
   "outputs": [],
   "source": [
    "# Symbol definieren\n",
    "x = sp.symbols('x')\n",
    "\n",
    "# Funktionssymbole definieren\n",
    "f, g = sp.symbols('f g', cls=sp.Function)\n",
    "\n",
    "# Differentialgleichung definieren\n",
    "diffeq = sp.Eq(f(x).diff(x, x) - 2*f(x).diff(x) + f(x), sp.sin(x))\n",
    "diffeq"
   ]
  },
  {
   "cell_type": "code",
   "execution_count": null,
   "metadata": {},
   "outputs": [],
   "source": [
    "# Differentialgleichung lösen\n",
    "soln = sp.dsolve(diffeq, f(x))\n",
    "soln"
   ]
  },
  {
   "cell_type": "markdown",
   "metadata": {},
   "source": [
    "Weitere Beispiele siehe ..."
   ]
  },
  {
   "cell_type": "markdown",
   "metadata": {},
   "source": [
    "## *SciPy* als übergreifende Bibliothek\n",
    "\n",
    "[SciPy](https://www.scipy.org) (ausgesprochen \"Sigh Pie\") ist ein Python-basiertes Ökosystem von Open-Source-Software für Mathematik, Wissenschaft und Technik\n",
    "\n",
    "<img width=600 style=\"float: left;\" src=\"images\\scipy.png\">"
   ]
  },
  {
   "cell_type": "markdown",
   "metadata": {},
   "source": [
    "**Hinweis**: Die *SciPy* Kernbibliothek enthält einige wertvolle Funktionen, siehe auch [SciPy Referenz](https://docs.scipy.org/doc/scipy/reference/py-modindex.html)"
   ]
  },
  {
   "cell_type": "markdown",
   "metadata": {
    "scrolled": true
   },
   "source": [
    "### ENDE\n"
   ]
  }
 ],
 "metadata": {
  "celltoolbar": "Slideshow",
  "kernelspec": {
   "display_name": "Python 3",
   "language": "python",
   "name": "python3"
  },
  "language_info": {
   "codemirror_mode": {
    "name": "ipython",
    "version": 3
   },
   "file_extension": ".py",
   "mimetype": "text/x-python",
   "name": "python",
   "nbconvert_exporter": "python",
   "pygments_lexer": "ipython3",
   "version": "3.7.10"
  }
 },
 "nbformat": 4,
 "nbformat_minor": 4
}
