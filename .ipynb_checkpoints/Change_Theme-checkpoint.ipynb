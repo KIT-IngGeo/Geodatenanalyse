{
 "cells": [
  {
   "cell_type": "code",
   "execution_count": 4,
   "id": "impressed-begin",
   "metadata": {},
   "outputs": [],
   "source": [
    "# Setting a new Theme\n",
    "!jt -t grade3 -tfs 17 -fs 13 -ofs 14 -dfs 13 -nfs 13 -N -T"
   ]
  },
  {
   "cell_type": "markdown",
   "id": "magnetic-argument",
   "metadata": {},
   "source": [
    "Check Markdown size"
   ]
  },
  {
   "cell_type": "code",
   "execution_count": 3,
   "id": "satisfied-source",
   "metadata": {},
   "outputs": [
    {
     "data": {
      "text/plain": [
       "4"
      ]
     },
     "execution_count": 3,
     "metadata": {},
     "output_type": "execute_result"
    }
   ],
   "source": [
    "2+2"
   ]
  },
  {
   "cell_type": "code",
   "execution_count": 10,
   "id": "careful-lover",
   "metadata": {},
   "outputs": [],
   "source": [
    "!jt -t gruvboxd -tfs 13 -fs 13 -ofs 13 -dfs 13 -N -T"
   ]
  },
  {
   "cell_type": "code",
   "execution_count": 7,
   "id": "perfect-canadian",
   "metadata": {},
   "outputs": [],
   "source": [
    "!jt -t solarizedl -tfs 13 -fs 13 -ofs 13 -dfs 13 -N -T"
   ]
  },
  {
   "cell_type": "code",
   "execution_count": null,
   "id": "italian-porcelain",
   "metadata": {},
   "outputs": [],
   "source": [
    "## and reset\n",
    "!jt -r"
   ]
  }
 ],
 "metadata": {
  "kernelspec": {
   "display_name": "Python 3",
   "language": "python",
   "name": "python3"
  },
  "language_info": {
   "codemirror_mode": {
    "name": "ipython",
    "version": 3
   },
   "file_extension": ".py",
   "mimetype": "text/x-python",
   "name": "python",
   "nbconvert_exporter": "python",
   "pygments_lexer": "ipython3",
   "version": "3.7.6"
  }
 },
 "nbformat": 4,
 "nbformat_minor": 5
}
