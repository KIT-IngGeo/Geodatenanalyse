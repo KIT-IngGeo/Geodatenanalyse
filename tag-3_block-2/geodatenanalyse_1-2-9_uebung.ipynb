{
 "cells": [
  {
   "cell_type": "markdown",
   "metadata": {},
   "source": [
    "# Geodatenanalyse 1\n",
    "\n",
    "## Tag 1 / Block 2 / Übung 9: Fortgeschrittene Sensitivitätsanalyse\n",
    "\n",
    "\n",
    "Für fortgeschrittene Sensitivitätsanalysen gibt es in Python das Package `SALib` (https://salib.readthedocs.io/en/latest/index.html), in dem viele gängige Methoden (z.B. Morris Method, Sobol Indices) und die benötigten Sampling-Strategien implementiert sind. "
   ]
  },
  {
   "cell_type": "markdown",
   "metadata": {},
   "source": [
    "### 1. Morris Method\n",
    "\n",
    "Die Morris Method in SALib ist unterteilt in zwei Algorithmen: `SALib.analyze.morris.sample()` zum Generieren von Modell-Inputs nach der Factorial Sammpling Strategie, und `SALib.analyze.morris.analyze()`, mit der die Elemenatry Effects der Modell-Inputs und Outputs analysiert werden können. \n",
    "\n",
    "`SALib.analyze.morris.sample()` benötigt als Input-Argument ein Python Dictionary mit der folgenden Angaben: \n",
    "\n",
    "'{'num_vars': Anzahl_unsichere_Parameter, 'names': [Name1, Name2, ...], 'bounds':[[min1, max1], [min2, max2], ...]}'\n",
    "\n",
    "Daneben müssen als weitere Inputs noch die Anzahl der Pfade (Trajectories), sowie die Anzahl der Gridpunkte \"num_levels=...\" für das Factorial Sampling angegeben werden.\n",
    "\n",
    "Definiert nun zuerst ein Python Dictionary mit den entsprechenden Angaben zu dem analytischen Abbaumodell aus den letzten Übungen, und erzeugt Euch dann mit `morris.sample()` einen Inputdatensatz mit einen Factorial Sammpling. \n",
    "\n",
    "Inspiziert anschließend den generierten Inputdatensatz um die Factorial Sampling Strategie nachzuvollziehen.  \n",
    "\n"
   ]
  },
  {
   "cell_type": "code",
   "execution_count": null,
   "metadata": {},
   "outputs": [],
   "source": [
    "# hier Code eingeben"
   ]
  },
  {
   "cell_type": "markdown",
   "metadata": {},
   "source": [
    "Venwendet nun die eben erzeugten Modell-Inputs, um mit einer `for` Schleife und dem analytischen Modell der letzten Übungen die entsprechenden Outputs (hydraulische Leitfähigkeit und biologische Abbaurate) zu berechnen. \n",
    "\n",
    "Lasst Euch danach mit `morris.analyze()` die Elementary Effects ausrechnen und statistisch auswerten. Gebt als Inputs das Dictionary von oben, den Input-Datensatz (als Arraya), den Output-Vektor mit der Abbaurate (als Array), sowie \"print_to_console=True\" und Euer gewähltes \"num_levels=...\" an. \n",
    "\n",
    "Welcher Unterschiede bzw. Vorteile zeigen die Ergebnisse der Morris Method im Vergleich zur Contribution-to-Variance Analyse aus der letzten Übung? \n"
   ]
  },
  {
   "cell_type": "code",
   "execution_count": null,
   "metadata": {},
   "outputs": [],
   "source": [
    "# hier Code eingeben"
   ]
  },
  {
   "cell_type": "markdown",
   "metadata": {},
   "source": [
    "Visualisiert nun die Ergebnisse in einem mu-sigma-plot (s. Folie 7 der Vorlesung). Was könnt Ihr aufgrund der Lage der Punkte im Diagramm, bzw. das Verhälntis, von sigma/mu über das Modell sagen? "
   ]
  },
  {
   "cell_type": "code",
   "execution_count": null,
   "metadata": {},
   "outputs": [],
   "source": [
    "# hier Code eingeben"
   ]
  },
  {
   "cell_type": "markdown",
   "metadata": {},
   "source": [
    "### 2. Sobol Indizes\n",
    "\n",
    "Die Algorithmen zur Bestimmung der Sobol Indizes sind in SALib nach dem gleichen Schema implementiert wie die Morris Method. \n",
    "\n",
    "Mit `SALib.sample.saltelli.sample()` erfolgt das Generieren der Input-Wertematrix, dann werden mit diesen Matrix die Modelloutputs bestimmt, und mit `SALib.analyze.sobol.analyze()` erfolgt die Bestimmung der Indizes. \n",
    "\n",
    "Als Input Dictionary könnt Ihr das gleiche wie oben nehmen, daneben muss bei `SALib.sample.saltelli.sample()` nur die Anzahl der gewünschten Samples \"N\" angegeben werden. Als Inputs für `sobol.analyze()` sind das Eingangs-Dictionary, sowie die Modell-Ouputs erforderlich. Mit \"print_to_console=True\" könnt Ihr Euch die Indizes wieder direkt ausgeben lassen. \n",
    "\n",
    "Schaut Euch die Werte an, und vergleicht sie mit den Ergebnissen der Morris Method und Contribution-to-Variance Analyse. "
   ]
  },
  {
   "cell_type": "code",
   "execution_count": null,
   "metadata": {},
   "outputs": [],
   "source": [
    "# hier Code eingeben"
   ]
  },
  {
   "cell_type": "markdown",
   "metadata": {},
   "source": [
    "Um die Werte der Efekte Erster Ordnung und der Totalen Effekte zu vergleichen, visualisiert diese beiden in einer Graphik. Vergleicht dabei die verschiedenen Effekte in Bezug auf die einzelnen Parameter und interpretiert diese. "
   ]
  },
  {
   "cell_type": "code",
   "execution_count": null,
   "metadata": {},
   "outputs": [],
   "source": [
    "# hier Code eingeben"
   ]
  },
  {
   "cell_type": "markdown",
   "metadata": {},
   "source": [
    "## Ende\n",
    "\n",
    "### Referenzen: \n",
    "\n",
    "Würth et al. (2021): Quantifying biodegradation rate constants of o-xylene by combining compound-specific isotope analysis and groundwater dating. Journal of Contaminant Hydrology, 238, 103757"
   ]
  }
 ],
 "metadata": {
  "kernelspec": {
   "display_name": "Python 3",
   "language": "python",
   "name": "python3"
  },
  "language_info": {
   "codemirror_mode": {
    "name": "ipython",
    "version": 3
   },
   "file_extension": ".py",
   "mimetype": "text/x-python",
   "name": "python",
   "nbconvert_exporter": "python",
   "pygments_lexer": "ipython3",
   "version": "3.8.5-final"
  }
 },
 "nbformat": 4,
 "nbformat_minor": 4
}