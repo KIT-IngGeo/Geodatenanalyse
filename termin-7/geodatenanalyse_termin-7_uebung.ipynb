{
 "cells": [
  {
   "cell_type": "markdown",
   "id": "vertical-forty",
   "metadata": {},
   "source": [
    "# Geodatenanalyse 1\n",
    "\n",
    "## Termin 7\n",
    "\n",
    "### Einführung in den Umgang mit Datensätzen\n"
   ]
  },
  {
   "cell_type": "markdown",
   "id": "native-hawaiian",
   "metadata": {},
   "source": [
    "### Aufgabe 1\n",
    "#### 1.1 Erstelle einen eigenen DataFrame\n",
    "- Erstelle einen **DataFrame** mit <font color=\"green\">Name</font> und <font color=\"green\">Durchmesser</font> der Planeten unseres Sonnensystems. Lade dazu Pandas und nutze folgende Informationen:\n",
    "\n",
    "    - Merkur: 4879,4 km  \n",
    "    - Venus: 12103,6 km\n",
    "    - Erde: 12756,3 km\n",
    "    - Mars: 6792,4 km\n",
    "    - Jupiter: 142984 km\n",
    "    - Saturn: 120536 km\n",
    "    - Uranus: 51118 km\n",
    "\n",
    "- Gebe die Datentpyen der Spalten deines **DataFrame** aus."
   ]
  },
  {
   "cell_type": "code",
   "execution_count": 4,
   "id": "minimal-flour",
   "metadata": {},
   "outputs": [
    {
     "ename": "NameError",
     "evalue": "name 'pd' is not defined",
     "output_type": "error",
     "traceback": [
      "\u001b[1;31m---------------------------------------------------------------------------\u001b[0m",
      "\u001b[1;31mNameError\u001b[0m                                 Traceback (most recent call last)",
      "\u001b[1;32m<ipython-input-4-7d39d0daf3f6>\u001b[0m in \u001b[0;36m<module>\u001b[1;34m\u001b[0m\n\u001b[0;32m      2\u001b[0m \u001b[1;33m\u001b[0m\u001b[0m\n\u001b[0;32m      3\u001b[0m \u001b[1;31m# Erstelle einen DataFrame mithilfe eines Dictionary\u001b[0m\u001b[1;33m\u001b[0m\u001b[1;33m\u001b[0m\u001b[1;33m\u001b[0m\u001b[0m\n\u001b[1;32m----> 4\u001b[1;33m solar_system = pd.DataFrame(\n\u001b[0m\u001b[0;32m      5\u001b[0m     {\n\u001b[0;32m      6\u001b[0m \u001b[1;33m\u001b[0m\u001b[0m\n",
      "\u001b[1;31mNameError\u001b[0m: name 'pd' is not defined"
     ]
    }
   ],
   "source": [
    "# Lade Pandas\n",
    "import ___ as _\n",
    "\n",
    "# Erstelle einen DataFrame mithilfe eines Dictionary\n",
    "solar_system = pd.DataFrame(\n",
    "    {\n",
    "\n",
    "    }\n",
    ")\n",
    "\n",
    "# Gebe den fertigen DataFrame aus"
   ]
  },
  {
   "cell_type": "code",
   "execution_count": 1,
   "id": "qualified-gravity",
   "metadata": {},
   "outputs": [],
   "source": [
    "# Datentyp von \"Name\" und \"Durchmesser\""
   ]
  },
  {
   "cell_type": "markdown",
   "id": "ready-jumping",
   "metadata": {},
   "source": [
    "#### 1.2 Spalten abfragen und hinzufügen \n",
    "- Speichere die <font color=\"green\">Durchmesser</font> der Planeten als **NumPy-Array** in einer neuen Variablen **d**.\n",
    "- Erstelle eine Funktion (<font color=\"red\">def</font>) für die Berechnung von <font color=\"green\">Umfang</font> und <font color=\"green\">Oberfläche</font> der Planeten mit dem Durchmesser als Eingangsparameter. Wir treffen die vereinfachende Annahme, dass folgende Formeln gültig sind:\n",
    "> $$U = \\pi * d$$\n",
    "> $$O = \\pi * d^2$$\n",
    "\n",
    "- Berechne <font color=\"green\">Umfang</font> und <font color=\"green\">Oberfläche</font> aus **d** und mit Hilfe der neuen Funktion. Füge das Ergebnis einer **Kopie** deines **DateFrame** als zusätzliche Spalten hinzu.\n",
    "\n",
    "    **Hinweis:** Importiere NumPy um *Pi* mit ``np.pi`` zu erhalten.\n",
    "\n",
    "- Füge deinem original **DataFrame** ebenfalls eine Spalte für <font color=\"green\">Umfang</font> und <font color=\"green\">Oberfläche</font> hinzu. Verwende hierfür aber dieses Mal nicht den Umweg über den **NumPy-Array** und die dafür definierte Funktion, sondern nutze direkt die <font color=\"red\"> Series </font> für die Berechnung und Zuweisung einer neuen Spalte.\\\n",
    "``df[\"NeueSpalte\"] = Series + Berechnung``"
   ]
  },
  {
   "cell_type": "code",
   "execution_count": 5,
   "id": "alpha-gnome",
   "metadata": {},
   "outputs": [],
   "source": [
    "# Durchmesser als NumPy-Array"
   ]
  },
  {
   "cell_type": "code",
   "execution_count": 4,
   "id": "particular-bidding",
   "metadata": {},
   "outputs": [],
   "source": [
    "# Importieren von Numpy\n",
    "import ___ as ___"
   ]
  },
  {
   "cell_type": "code",
   "execution_count": 6,
   "id": "further-breakfast",
   "metadata": {},
   "outputs": [],
   "source": [
    "# Funktion zur Berechnung von Umfang und Oberfläche\n",
    "def planet_geometry(diameter):\n",
    "    U = ___\n",
    "    O = ___\n",
    "    return U, O"
   ]
  },
  {
   "cell_type": "code",
   "execution_count": 7,
   "id": "universal-chosen",
   "metadata": {},
   "outputs": [],
   "source": [
    "# Berechnen von Umfang und Oberfläche"
   ]
  },
  {
   "cell_type": "code",
   "execution_count": 7,
   "id": "unusual-maximum",
   "metadata": {},
   "outputs": [
    {
     "ename": "TypeError",
     "evalue": "'str' object does not support item assignment",
     "output_type": "error",
     "traceback": [
      "\u001b[1;31m---------------------------------------------------------------------------\u001b[0m",
      "\u001b[1;31mTypeError\u001b[0m                                 Traceback (most recent call last)",
      "\u001b[1;32m<ipython-input-7-57f7bf88389d>\u001b[0m in \u001b[0;36m<module>\u001b[1;34m\u001b[0m\n\u001b[0;32m      3\u001b[0m \u001b[1;33m\u001b[0m\u001b[0m\n\u001b[0;32m      4\u001b[0m \u001b[1;31m# Neue Spalten für Umfang und Oberfläche hinzufügen\u001b[0m\u001b[1;33m\u001b[0m\u001b[1;33m\u001b[0m\u001b[1;33m\u001b[0m\u001b[0m\n\u001b[1;32m----> 5\u001b[1;33m \u001b[0msolar_system_2\u001b[0m\u001b[1;33m[\u001b[0m\u001b[1;34m\"Umfang\"\u001b[0m\u001b[1;33m]\u001b[0m \u001b[1;33m=\u001b[0m \u001b[0m___\u001b[0m\u001b[1;33m\u001b[0m\u001b[1;33m\u001b[0m\u001b[0m\n\u001b[0m\u001b[0;32m      6\u001b[0m \u001b[0msolar_system_2\u001b[0m\u001b[1;33m[\u001b[0m\u001b[1;34m\"Oberflaeche\"\u001b[0m\u001b[1;33m]\u001b[0m \u001b[1;33m=\u001b[0m \u001b[0m___\u001b[0m\u001b[1;33m\u001b[0m\u001b[1;33m\u001b[0m\u001b[0m\n\u001b[0;32m      7\u001b[0m \u001b[1;33m\u001b[0m\u001b[0m\n",
      "\u001b[1;31mTypeError\u001b[0m: 'str' object does not support item assignment"
     ]
    }
   ],
   "source": [
    "# Kopie des DataFrame erstellen\n",
    "solar_system_2 = ___\n",
    "\n",
    "# Neue Spalten für Umfang und Oberfläche hinzufügen\n",
    "solar_system_2[\"Umfang\"] = ___\n",
    "solar_system_2[\"Oberflaeche\"] = ___\n",
    "\n",
    "# Copy ausgeben\n",
    "solar_system_2"
   ]
  },
  {
   "cell_type": "code",
   "execution_count": 9,
   "id": "prompt-rogers",
   "metadata": {},
   "outputs": [
    {
     "data": {
      "text/html": [
       "<div>\n",
       "<style scoped>\n",
       "    .dataframe tbody tr th:only-of-type {\n",
       "        vertical-align: middle;\n",
       "    }\n",
       "\n",
       "    .dataframe tbody tr th {\n",
       "        vertical-align: top;\n",
       "    }\n",
       "\n",
       "    .dataframe thead th {\n",
       "        text-align: right;\n",
       "    }\n",
       "</style>\n",
       "<table border=\"1\" class=\"dataframe\">\n",
       "  <thead>\n",
       "    <tr style=\"text-align: right;\">\n",
       "      <th></th>\n",
       "      <th>Name</th>\n",
       "      <th>Durchmesser</th>\n",
       "      <th>Umfang</th>\n",
       "      <th>Oberflaeche</th>\n",
       "    </tr>\n",
       "  </thead>\n",
       "  <tbody>\n",
       "    <tr>\n",
       "      <th>0</th>\n",
       "      <td>Merkur</td>\n",
       "      <td>4879.4</td>\n",
       "      <td>15329.087194</td>\n",
       "      <td>7.479675e+07</td>\n",
       "    </tr>\n",
       "    <tr>\n",
       "      <th>1</th>\n",
       "      <td>Venus</td>\n",
       "      <td>12103.6</td>\n",
       "      <td>38024.580842</td>\n",
       "      <td>4.602343e+08</td>\n",
       "    </tr>\n",
       "    <tr>\n",
       "      <th>2</th>\n",
       "      <td>Erde</td>\n",
       "      <td>12756.3</td>\n",
       "      <td>40075.098367</td>\n",
       "      <td>5.112100e+08</td>\n",
       "    </tr>\n",
       "    <tr>\n",
       "      <th>3</th>\n",
       "      <td>Mars</td>\n",
       "      <td>6792.4</td>\n",
       "      <td>21338.953940</td>\n",
       "      <td>1.449427e+08</td>\n",
       "    </tr>\n",
       "    <tr>\n",
       "      <th>4</th>\n",
       "      <td>Jupiter</td>\n",
       "      <td>142984.0</td>\n",
       "      <td>449197.483981</td>\n",
       "      <td>6.422805e+10</td>\n",
       "    </tr>\n",
       "    <tr>\n",
       "      <th>5</th>\n",
       "      <td>Saturn</td>\n",
       "      <td>120536.0</td>\n",
       "      <td>378675.012093</td>\n",
       "      <td>4.564397e+10</td>\n",
       "    </tr>\n",
       "    <tr>\n",
       "      <th>6</th>\n",
       "      <td>Uranus</td>\n",
       "      <td>51118.0</td>\n",
       "      <td>160591.933266</td>\n",
       "      <td>8.209138e+09</td>\n",
       "    </tr>\n",
       "  </tbody>\n",
       "</table>\n",
       "</div>"
      ],
      "text/plain": [
       "      Name  Durchmesser         Umfang   Oberflaeche\n",
       "0   Merkur       4879.4   15329.087194  7.479675e+07\n",
       "1    Venus      12103.6   38024.580842  4.602343e+08\n",
       "2     Erde      12756.3   40075.098367  5.112100e+08\n",
       "3     Mars       6792.4   21338.953940  1.449427e+08\n",
       "4  Jupiter     142984.0  449197.483981  6.422805e+10\n",
       "5   Saturn     120536.0  378675.012093  4.564397e+10\n",
       "6   Uranus      51118.0  160591.933266  8.209138e+09"
      ]
     },
     "execution_count": 9,
     "metadata": {},
     "output_type": "execute_result"
    }
   ],
   "source": [
    "# Alternative Zuweisung von Umfang und Oberfläche\n",
    "solar_system[\"Umfang\"] = ___\n",
    "solar_system[\"Oberflaeche\"] = ___\n",
    "solar_system"
   ]
  },
  {
   "cell_type": "markdown",
   "id": "cordless-thriller",
   "metadata": {},
   "source": [
    "#### 1.3 DataFrame speichern\n",
    "Speichere deinen **DataFrame** mit Hilfe der Pandas <font color=\"red\">to_*</font> Methode als <font color=\"green\">.csv Datei</font> in deinem Übungsordner. Erstelle hierfür einen Unterordner \"*Daten*\"."
   ]
  },
  {
   "cell_type": "code",
   "execution_count": 10,
   "id": "located-coordination",
   "metadata": {},
   "outputs": [],
   "source": [
    "solar_system.to_csv(\"example_data\\solar_system.csv\")"
   ]
  },
  {
   "cell_type": "markdown",
   "id": "arbitrary-essex",
   "metadata": {},
   "source": [
    "### Aufgabe 2\n",
    "Um uns mit den Funktionalitäten von Pandas vertraut zu machen, verwenden wir für im weiteren Verlauf einen Datensatz aus dem NASA Exoplanet Archive:\n",
    "\n",
    "https://exoplanetarchive.ipac.caltech.edu/\n",
    "\n",
    "Der Datensatz enthält Informationen zu den bisher entdeckten Exoplanten. Also Planeten außerhalb unseres Sonnensystems.\n",
    "\n",
    "#### 2.1 Eine Tabelle laden\n",
    "- Lade mit Hilfe der Pandas <font color=\"red\">read_*</font> Methode die tabellarischen Daten aus dem ersten Datenblatt (*Sheet*) der Excel-Datei: \n",
    "> *NASA_exoplanets.xlsx*\n",
    "\n",
    "    **Hinweis** Das erste Datenblatt einer Excel-Tabelle wird in Pandas automatisch ausgewählt und geladen. "
   ]
  },
  {
   "cell_type": "code",
   "execution_count": 8,
   "id": "acknowledged-variable",
   "metadata": {},
   "outputs": [
    {
     "data": {
      "text/plain": [
       "''"
      ]
     },
     "execution_count": 8,
     "metadata": {},
     "output_type": "execute_result"
    }
   ],
   "source": [
    "# Laden des NASA Exoplanet Archive Datensatz\n",
    "exoplanets = ___\n",
    "exoplanets"
   ]
  },
  {
   "cell_type": "markdown",
   "id": "prescribed-election",
   "metadata": {},
   "source": [
    "#### 2.2 Tabelle inspizieren und einen Überblick verschaffen\n",
    "- Schaue dir Anfang und Ende des Datensatzes mit der <font color=\"red\">head()</font> und <font color=\"red\">tail()</font> Methode an. Was ist das Jahr der Entdeckung (*disc_year*) des ersten und des letzten Exoplanten im **DataFrame**?\n",
    "\n",
    "- Verwende die <font color=\"red\">info()</font> Methode, um dir einen besseren Überblick über die Daten zu verschaffen. \n",
    "- Welchen Datentypen hat die *disc_year* Spalte des **DataFrame**? \n",
    "- Was ist die Dimension (*shape*) des **DataFrame**?"
   ]
  },
  {
   "cell_type": "code",
   "execution_count": 9,
   "id": "narrative-poverty",
   "metadata": {},
   "outputs": [],
   "source": [
    "# Anfang des DataFrame"
   ]
  },
  {
   "cell_type": "code",
   "execution_count": 10,
   "id": "right-seller",
   "metadata": {},
   "outputs": [],
   "source": [
    "#Ende des DataFrame"
   ]
  },
  {
   "cell_type": "code",
   "execution_count": 14,
   "id": "relevant-scientist",
   "metadata": {},
   "outputs": [],
   "source": [
    "# erster und letzter Eintrag\n",
    "erster_Eintrag = ___\n",
    "letzter_Eintrag = ___"
   ]
  },
  {
   "cell_type": "code",
   "execution_count": 11,
   "id": "functional-ambassador",
   "metadata": {},
   "outputs": [],
   "source": [
    "# Überblick verschaffen"
   ]
  },
  {
   "cell_type": "code",
   "execution_count": 16,
   "id": "cubic-diabetes",
   "metadata": {},
   "outputs": [],
   "source": [
    "# Datentyp von discovery year\n",
    "disc_year_type = ___"
   ]
  },
  {
   "cell_type": "code",
   "execution_count": 12,
   "id": "stretch-provider",
   "metadata": {},
   "outputs": [],
   "source": [
    "# Dimension des DataFrame"
   ]
  },
  {
   "cell_type": "markdown",
   "id": "hungarian-restriction",
   "metadata": {},
   "source": [
    "#### 2.3 Indizieren und Selektieren\n",
    "- Nutze die Label-basierte Abfrage mit <font color=\"red\">.loc</font> um:\n",
    "    - die gesamte Spalte *pl_name* als **DataFrame** zurückzugeben.\n",
    "    - die ersten 100 Zeilen der Spalten *number_stars* und *number_planets* als **DataFrame** zurückzugeben.\n",
    "    - jede zweite Zeile der Spalte *pl_name* als **Series** zurückgeben.\n",
    "\n",
    "- Nutze die Integer-basierte Abfrage mit <font color=\"red\">.iloc</font> um:\n",
    "    - die letzten 100 Zeilen aller Spalten als **DataFrame** zurückzugeben.\n",
    "    - Zeile 5,8 und 20 der beiden ersten Spalten als **DataFrame** zurückzugeben.\n",
    "    - das Entdeckungsjahr (*disc_year*) für den Index 250 zurückzugeben.\n",
    "    \n",
    "    \n",
    "**Achtung:** die Label-basierte Abfrage ist in Pandas **inklusiv**. Das heißt, der *Stopwert* wird beim indizieren ebenfalls mit ausgegeben.    "
   ]
  },
  {
   "cell_type": "code",
   "execution_count": 13,
   "id": "processed-falls",
   "metadata": {},
   "outputs": [],
   "source": [
    "# die letzten 100 Zeilen aller Spalten als DataFrame"
   ]
  },
  {
   "cell_type": "code",
   "execution_count": 14,
   "id": "union-situation",
   "metadata": {},
   "outputs": [],
   "source": [
    "# die drei ersten Zeilen und der beiden ersten Spalten als DataFrame"
   ]
  },
  {
   "cell_type": "code",
   "execution_count": 15,
   "id": "sunrise-scroll",
   "metadata": {},
   "outputs": [],
   "source": [
    "# das Entdeckungsjahr (*disc_year*) für den Index 250"
   ]
  },
  {
   "cell_type": "code",
   "execution_count": 16,
   "id": "great-hormone",
   "metadata": {},
   "outputs": [],
   "source": [
    "#die gesamte Spalte pl_name als DataFrame"
   ]
  },
  {
   "cell_type": "code",
   "execution_count": 17,
   "id": "distributed-female",
   "metadata": {},
   "outputs": [],
   "source": [
    "# die ersten 100 Zeilen der Spalten number_stars und number_planet als DataFrame"
   ]
  },
  {
   "cell_type": "code",
   "execution_count": 18,
   "id": "subsequent-ebony",
   "metadata": {},
   "outputs": [],
   "source": [
    "# jede zweite Zeile der Spalte pl_name als Series"
   ]
  },
  {
   "cell_type": "markdown",
   "id": "extraordinary-relative",
   "metadata": {},
   "source": [
    "## ENDE"
   ]
  }
 ],
 "metadata": {
  "kernelspec": {
   "display_name": "Python 3",
   "language": "python",
   "name": "python3"
  },
  "language_info": {
   "codemirror_mode": {
    "name": "ipython",
    "version": 3
   },
   "file_extension": ".py",
   "mimetype": "text/x-python",
   "name": "python",
   "nbconvert_exporter": "python",
   "pygments_lexer": "ipython3",
   "version": "3.7.10"
  },
  "toc": {
   "base_numbering": 1,
   "nav_menu": {},
   "number_sections": true,
   "sideBar": true,
   "skip_h1_title": false,
   "title_cell": "Table of Contents",
   "title_sidebar": "Contents",
   "toc_cell": false,
   "toc_position": {},
   "toc_section_display": true,
   "toc_window_display": false
  }
 },
 "nbformat": 4,
 "nbformat_minor": 5
}
