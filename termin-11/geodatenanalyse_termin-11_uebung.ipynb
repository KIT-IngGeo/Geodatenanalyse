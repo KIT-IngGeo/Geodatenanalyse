{
 "cells": [
  {
   "cell_type": "markdown",
   "id": "amended-anger",
   "metadata": {},
   "source": [
    "# Geodatenanalyse 1\n",
    "\n",
    "\n",
    "## Termin 11\n",
    "\n",
    "## Einführung in die Kartografie mit Python"
   ]
  },
  {
   "cell_type": "code",
   "execution_count": 1,
   "id": "bizarre-evaluation",
   "metadata": {},
   "outputs": [],
   "source": [
    "import cartopy\n",
    "import cartopy.crs as ccrs\n",
    "import matplotlib.pyplot as plt"
   ]
  },
  {
   "cell_type": "markdown",
   "id": "secure-smile",
   "metadata": {},
   "source": [
    "## Übung 1\n",
    "\n",
    "In dieser Übung geht es um die Erstellung von einfachen Karten:\n",
    "\n",
    "**Aufgabe 1**: Bilde Deutschland auf einer Karte ab. Verwende dazu die UTM Projektion (Zone 32). Bitte auch die Grenze einzeichnen.\n",
    "\n",
    "**Aufgabe 2**: Zeichne deinen Wohnort als roten Punkt auf diese Karte. Achtung: Die Koordinaten müssen über das Schlüsselwort *transform* richtig transformiert werden!"
   ]
  },
  {
   "cell_type": "code",
   "execution_count": 1,
   "id": "miniature-jamaica",
   "metadata": {},
   "outputs": [],
   "source": [
    "# Aufgabe 1\n",
    "\n",
    "# Hilfestellung: Das Koordinatensystem wird über die Unterklasse ccrs angesprochen\n",
    "\n",
    "# Für Grenzen, siehe in Cartopy eingebaute Features "
   ]
  },
  {
   "cell_type": "code",
   "execution_count": 2,
   "id": "optional-discrimination",
   "metadata": {
    "scrolled": true
   },
   "outputs": [],
   "source": [
    "# Aufgabe 2\n",
    "\n",
    "# Hilfestellung: Verwende hier den Geocoder von GeoPy. Dieser erlaubt eine Übersetzung von Postadressen in Geokoordinaten."
   ]
  },
  {
   "cell_type": "markdown",
   "id": "affecting-importance",
   "metadata": {},
   "source": [
    "## Übung 2\n",
    "\n",
    "In dieser Übung geht es um den Größenvergleich zweier Länder:\n",
    "\n",
    "**Aufgabe 1**: Bilde Australien auf einer Karte ab.\n",
    "\n",
    "**Aufgabe 2**: Bilde Kanada und Australien so ab, dass sie übereinander liegen. Nütze dafür die eingebauten Objekte in *cartopy* und das WGS84 Koordinatensystem. Welches Land ist flächenmäßig größer? Ist dieser Vergleich so richtig?\n",
    "\n",
    "**Aufgabe 3**: Transformiere beide Länder in eine flächengleiche Projektion (z.B. *Mollweide*). Bilde beide Länder in einer Grafik ab. Vergleiche die Abbildung mit der von AUfgabe 1."
   ]
  },
  {
   "cell_type": "code",
   "execution_count": 3,
   "id": "virgin-profession",
   "metadata": {},
   "outputs": [],
   "source": [
    "# Aufgabe 1\n",
    "\n",
    "import shapely\n",
    "import cartopy\n",
    "import pyproj\n",
    "\n",
    "# Hilfestellung: Die Länder können, wie in der Vorlesung gezeigt, über die eingebauten Features angesprochen werden.\n",
    "# Hier muss man über das Attribut \"SOVEREIGNT\" iterieren, um die richtigen zu finden."
   ]
  },
  {
   "cell_type": "code",
   "execution_count": 1,
   "id": "established-election",
   "metadata": {},
   "outputs": [],
   "source": [
    "# Aufgabe 2\n",
    "\n",
    "import shapely\n",
    "import cartopy\n",
    "import pyproj\n",
    "\n",
    "# Hilfestellung: Wie vorher, aber hier müssen die Mittelpunkte der Objekte verschoben werden."
   ]
  },
  {
   "cell_type": "code",
   "execution_count": 2,
   "id": "adolescent-minority",
   "metadata": {
    "scrolled": false
   },
   "outputs": [],
   "source": [
    "# Aufgabe 3\n",
    "\n",
    "import cartopy\n",
    "import shapely\n",
    "import pyproj\n",
    "import shapely\n",
    "from shapely.ops import transform\n",
    "\n",
    "# Hilfestellung: Welche Projektion erlaubt den Flächenvergleich? Ansonsten ist alles fast so wie vorher."
   ]
  },
  {
   "cell_type": "markdown",
   "id": "valued-award",
   "metadata": {},
   "source": [
    "## ENDE"
   ]
  }
 ],
 "metadata": {
  "kernelspec": {
   "display_name": "Python 3",
   "language": "python",
   "name": "python3"
  },
  "language_info": {
   "codemirror_mode": {
    "name": "ipython",
    "version": 3
   },
   "file_extension": ".py",
   "mimetype": "text/x-python",
   "name": "python",
   "nbconvert_exporter": "python",
   "pygments_lexer": "ipython3",
   "version": "3.7.10"
  },
  "toc": {
   "base_numbering": 1,
   "nav_menu": {},
   "number_sections": true,
   "sideBar": true,
   "skip_h1_title": false,
   "title_cell": "Table of Contents",
   "title_sidebar": "Contents",
   "toc_cell": false,
   "toc_position": {},
   "toc_section_display": true,
   "toc_window_display": false
  }
 },
 "nbformat": 4,
 "nbformat_minor": 5
}
