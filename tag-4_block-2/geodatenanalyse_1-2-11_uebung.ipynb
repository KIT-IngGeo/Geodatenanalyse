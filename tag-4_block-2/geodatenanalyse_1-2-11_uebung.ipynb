{
 "cells": [
  {
   "source": [
    "# Geodatenanalyse 1\n",
    "\n",
    "## Tag 4 / Block 2 / Übung 11: Interpolationsmethoden: Kriging"
   ],
   "cell_type": "markdown",
   "metadata": {}
  },
  {
   "source": [
    " Folgende Python Packages, bzw. Libraries enthalten verschiedene, nützliche Funktionen für die Interpolation von räumlichen Daten mit Hilfe von Kriging: \n",
    " \n",
    " - SciKit GStat: bietet detaillierte Möglichkeiten zur Analyse der Variogramme mit verschiedenen Modellen, allerdings nur für Ordinary Kriging (d.h. Daten ohne Trend oder drift) https://mmaelicke.github.io/scikit-gstat/install.html\n",
    " \n",
    " - PyKrige: beinhaltete eine Implementierung von Ordinary und Universal Kriging, dafür aber weniger Funktionalität für eine detaillierte Variogrammanalyse https://geostat-framework.readthedocs.io/projects/pykrige/en/stable/index.html"
   ],
   "cell_type": "markdown",
   "metadata": {}
  },
  {
   "source": [
    "### 1. SciKit GStat\n",
    "\n",
    "Lest wie in der letzten Übung zuerst die Daten aus `interp_data.csv` einlesen. \n",
    "\n"
   ],
   "cell_type": "markdown",
   "metadata": {}
  },
  {
   "cell_type": "code",
   "execution_count": null,
   "metadata": {},
   "outputs": [],
   "source": [
    "# hier Code eingeben"
   ]
  },
  {
   "source": [
    "Erstellt zunächst mit `skgstat.Variogram()` eine Visualisierung der Semivarianz. \n",
    "\n",
    "Erzeugt dafür ein Variogram-Objekt mit der Funktion `skgstat.Variogram()`. Als Inputs werden die Koordinaten der Daten als Array mit der Dimension (m, n), sowie die Messwerte benötigt. Die graphische Darstellung erfolgt mit `V-Objekt.plot()`. \n",
    "\n",
    "Je nach Rechenleistung Eures PCs kann die Ausführung einen Augenblick dauern. "
   ],
   "cell_type": "markdown",
   "metadata": {}
  },
  {
   "cell_type": "code",
   "execution_count": null,
   "metadata": {},
   "outputs": [],
   "source": [
    "# hier Code eingeben"
   ]
  },
  {
   "source": [
    "Am Histogram oben ist zu erkennen, dass Werte im Bereich von Lags über 8.000 nicht gut durch die Daten unterstützt werden. Daher sollten wir die Größe der berücksichtigten Lags entsprechend reduzieren, mit (`V-Objekt.maxlag = 8000`). \n",
    "\n",
    "Da wir über 90 Messwerte haben können wir außerdem die Anzahl der Lag-Klassen etwas erhöhen (`V-Objekt.n_lags=15`). Lasst Euch anschliepßend das veränderte Variogram anzeigen und vergleicht es mit dem von oben. "
   ],
   "cell_type": "markdown",
   "metadata": {}
  },
  {
   "cell_type": "code",
   "execution_count": null,
   "metadata": {},
   "outputs": [],
   "source": [
    "# hier Code eingeben"
   ]
  },
  {
   "source": [
    "Die Anpassung sieht besonders im Bereich der kurzen Distanzen (niedriege Lags) visuell nicht sehr überzeugend aus. Gerade dieser Bereich ist jedoch wichtig für die Bestimmung der Gewichte für das Kriging. \n",
    "\n",
    "Wenn nicht genauer spezifiziert nimmt `Variogram()` ein sphärisches Varianzmodell an. Testet nun neben diesem noch andere Modelle (\"exponential\" und \"gaussian\") über die Angabe von `V-Objekt.model ='name'`, und plottet die verschiedenen Anpassungen zum Vergleich nebeneinander. \n",
    "\n",
    "Die Variogram-Klasse hat außerdem eine eingebaute Funktionalität um den RMSE (`rmse`) der Anpassung zu berechnen: `V-Objekt.rmse`. Lasst Euch damit auch die Fehler der Anpassungen ausgeben, und vergleicht diese mit dem optischen Eindruck der Anpassung. \n"
   ],
   "cell_type": "markdown",
   "metadata": {}
  },
  {
   "cell_type": "code",
   "execution_count": null,
   "metadata": {},
   "outputs": [],
   "source": [
    "# hier Code eingeben"
   ]
  },
  {
   "source": [
    "Wählt nun das passenste Variogramm-Modell auswähl und führt ein Ordinary Kriging (`skgstat.OrdinaryKriging()`) durch. Dafür sind folgende Schritte nötig: \n",
    "\n",
    "- für das Variogramm-Objekt von oben das gewünschte Modell angeben. \n",
    "\n",
    "- Interpolationsobjekt definieren: `OrdinaryKriging(Variogramm, min_points=2, max_points=8)`. Die Auswahl der minimal und maximal berücksichtigten Anzahl an Nachbarpunkten orientiert sich an Anzahl und Abstand zwischen den Messpunkten (eine Art Optimierungsparameter)\n",
    "\n",
    "- gleichmäßiges Grid mit den zu interpolierenden Koordinaten erstellen (siehe letzte Übung)\n",
    "\n",
    "- Die `.transform()` Funktion auf das Interpolationsobjekt anwenden: Die x- und y-Koordinaten werden dabei als einzelne 1D Numpy Arrays benötigt. Erzeugen könnt Ihr diese z.B. über `array.flatten()` \n",
    "\n",
    "- Ergebnis mit `plt.imshow()` visualisieren. Dafür müsst Ihr den eben erzeugten Array mit den interpolierten Werten wieder umstruktieren, d.h. in seine ursprüngliche Form bringen, z.B. mit array.reshape(dimensions)\n",
    "\n",
    "- plottet auch die Lage der Messpunkte zu dem interpolierten Raster. "
   ],
   "cell_type": "markdown",
   "metadata": {}
  },
  {
   "cell_type": "code",
   "execution_count": null,
   "metadata": {},
   "outputs": [],
   "source": [
    "# hier Code eingeben"
   ]
  },
  {
   "source": [
    "Das sieht nun gar nicht mal schlecht aus :)"
   ],
   "cell_type": "markdown",
   "metadata": {}
  },
  {
   "source": [
    "### 2. PyKrige\n",
    "\n",
    "Wir wollen nun auch die Grundwasserhöhen interpolieren (Parameter \"GWHoehe\"). Erzeugt zuerst wieder eine einfache Kartendarstellung, z.B. als Scatterplot, und überpfüft die Werte visuell auf einen möglichen Trend oder Drift. "
   ],
   "cell_type": "markdown",
   "metadata": {}
  },
  {
   "cell_type": "code",
   "execution_count": null,
   "metadata": {},
   "outputs": [],
   "source": [
    "# hier Code eingeben"
   ]
  },
  {
   "source": [
    "Hier ist ein eindeutiger Trend in den Grundwasserhöhen zu sehen. Folglich sollte die Interpolation mit Universal Kriging unter Berücksichtigung des regionalen Trends durchgeführt werden. \n",
    "\n",
    "Erzeugt nun zuerst wieder mit `pykrige.uk.UniversalKriging` ein Interpolationsobjekt, mit den Inputs: x-Koordinaten, y-Koorinaten, Messwerte (alle drei jeweils array-like), variogram_model='exponential', `drift_terms=[\"regional_linear\"]`. \n",
    "\n",
    "mit `.execute()` könnt Ihr dann über dieses Objekt die Interpolation ausführen. Benötigte Inputs sind: \"points\" (als string der den Grid-Style definiert), x_grid (1D Array), y_grid (1D Array). Als Outputs gibt die Funktion die interpolierten Werte an den Grid-Koordinaten, und die Varianz der geschätzten Werte zurück.\n",
    "\n",
    "Schließlich könnt ihr (analog zu oben) das interpolierte Grid und die Varianz wieder auf ihre ursprünglichen Dimensionen transformieren, und z.B. mit `plt.imshow()` visualisieren. "
   ],
   "cell_type": "markdown",
   "metadata": {}
  },
  {
   "cell_type": "code",
   "execution_count": null,
   "metadata": {},
   "outputs": [],
   "source": [
    "# hier Code eingeben"
   ]
  },
  {
   "source": [
    "Diese Daten ergeben ein glattes, interpoliertes Raster. Aus der Varianz könnt Ihr nun auch die Unsicherheit der interpolierten Werte abschätzen. Wie würdet Ihr diese einordnen (groß, klein, vertretbar, ...)? Was fällt bei der räumlichen Verteilung auf?\n",
    "\n",
    "## Ende\n",
    "\n",
    "### Referenzen\n",
    "\n",
    "Menberg et al. (2013): Long-term evolution of anthropogenic heat fluxes into a subsurface urban heat island, Environ. Sci. Technol. 47(17) (2013) 9747-9755\n",
    "\n",
    "https://mmaelicke.github.io/scikit-gstat/tutorials/01_getting_started.html"
   ],
   "cell_type": "markdown",
   "metadata": {}
  }
 ],
 "metadata": {
  "kernelspec": {
   "display_name": "Python 3",
   "language": "python",
   "name": "python3"
  },
  "language_info": {
   "codemirror_mode": {
    "name": "ipython",
    "version": 3
   },
   "file_extension": ".py",
   "mimetype": "text/x-python",
   "name": "python",
   "nbconvert_exporter": "python",
   "pygments_lexer": "ipython3",
   "version": "3.8.5-final"
  }
 },
 "nbformat": 4,
 "nbformat_minor": 4
}