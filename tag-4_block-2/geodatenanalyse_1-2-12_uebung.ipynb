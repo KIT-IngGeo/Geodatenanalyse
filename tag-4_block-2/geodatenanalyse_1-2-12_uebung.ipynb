{
 "cells": [
  {
   "cell_type": "markdown",
   "metadata": {},
   "source": [
    "# Geodatenanalyse 1\n",
    "\n",
    "## Tag 4 / Block 2 / Übung 12: Gauß-Prozesse"
   ]
  },
  {
   "cell_type": "markdown",
   "metadata": {},
   "source": [
    "Diese Übung gibt eine kleine Einführung in die Interpolation mit Gauß-Prozessen mit `scikit-learn`. Die Dokumentation zu dem hier benutzten Python Package findet Ihr unter: https://scikit-learn.org/stable/modules/gaussian_process.html\n",
    "\n",
    "Wir verwenden Gauß-Prozesse hier zur Vorhersage von Grundwassertemperaturen, basierend auf Messwerten an bestimmten Koordinaten (x, y), also zur räumlichen 2D Interpolation. Lest dazu wie in den letzten Übungen zuerst die Daten aus \"interp_data.csv.\" ein. "
   ]
  },
  {
   "cell_type": "code",
   "execution_count": null,
   "metadata": {},
   "outputs": [],
   "source": [
    "# hier Code eingeben"
   ]
  },
  {
   "source": [
    "`sklearn.gaussian_process` nimmt als Erwartungswertfunktion stets die Nullwert-Funktion an, daher müssen wir nur die Kovarianzfunktion definieren. Ladet zunächst aus der Library mit der Kovarianzfunktionen (in sklearn Kernels genannt) `sklearn.gaussian_process.kernels`, die Kernels `ConstantKernel` und `RBF`. \n",
    "\n",
    "Wir wollen die quadratische Exponentialfunktion aus der Vorlesung als Kovarianzfunktion nehmen, die jedoch in dem Package nicht vordefiniert ist. Wir können aber einen benutzerdefinierten Kernel erzeugen der diesem gleicht. Definiert dafür einen eigenen Kernel als Produkt aus einem `ConstantKernel()` mit \"constant_value=1e2\" (das entspricht dem Magnituden-Term), und einem `RBF()` Kernel mit einer \"length_scale\" von 150. \n",
    "\n",
    "Die Werte entsprechen ersten Abschätzungen aufgrund der Skalen von x und y, und sind Startwerte, die im Laufe der Gauß-Prozess Interpolation automatisch angepasst werden. "
   ],
   "cell_type": "markdown",
   "metadata": {}
  },
  {
   "cell_type": "code",
   "execution_count": null,
   "metadata": {},
   "outputs": [],
   "source": [
    "# hier Code eingeben"
   ]
  },
  {
   "source": [
    "Ladet nun die Funktion `GaussianProcessRegressor()` aus `sklearn.gaussian_process` ein, und erstellt damit Gauß-Prozess Objekt.  \n",
    "\n",
    "Dafür werden folgende Inputs angegeben: \"normalize_y=True\", da Daten noch nicht standardisiert sind, als \"kernel\" den oben definierten angeben. Zusätzlich \"alpha=0.1\" definieren. Dies addiert einen kleinen Fehlerterm zu den Werten in der Diagonalen der Kovarianzmatrix und dient der numerischen Stabilität während der Anpassung. \n",
    "\n",
    "Danach könnt Ihr über `Gauß-Objekt.fit()` die Anpassung (bzw. Interpolation) durchführen. Als Inputs die Stützstellen der Interpolation (die Koordinaten der Messstellen) als Arrays oder Listen angeben, und die zu interpolierenden Werte spezifizieren (Grundwassertemperaturen). \n",
    "\n",
    "Sklearn gibt automatisch nochmal die Details der Anpassungsfunktion (inkl. des benutzten Kernels) aus. "
   ],
   "cell_type": "markdown",
   "metadata": {}
  },
  {
   "cell_type": "code",
   "execution_count": null,
   "metadata": {},
   "outputs": [],
   "source": [
    "# hier Code eingeben\n"
   ]
  },
  {
   "source": [
    "Jezt müsst Ihr noch analog zu vorhin wieder ein regelmäßiges Grid for x- und y-Koordinaten erzeugen, an denen die Vorhersage erfolgen soll. Dieses ebenfalls wieder in einen Array mit 2 Spalten umwandeln.  "
   ],
   "cell_type": "markdown",
   "metadata": {}
  },
  {
   "cell_type": "code",
   "execution_count": null,
   "metadata": {},
   "outputs": [],
   "source": [
    "# hier Code eingeben"
   ]
  },
  {
   "source": [
    "Nun könnt Ihr mit der Funktion `Gauß-Objekt.predict()` die Interpolation durchführen. Als Input wird hier nur das Grid benötigt.\n",
    "\n",
    "Danach könnt Ihr den Output wieder in seine urspüngliche Dimensionen zurück formatieren, und graphisch darstellen. Stellt zum Vergleich wie vorhin auch die Inputdaten (Messwerte) an ihren Koordinaten dar. "
   ],
   "cell_type": "markdown",
   "metadata": {}
  },
  {
   "cell_type": "code",
   "execution_count": null,
   "metadata": {},
   "outputs": [],
   "source": [
    "# hier Code eingeben"
   ]
  },
  {
   "source": [
    "Beurteilt das Ergebnis der Interpolation nun zunächst optisch. Seid Ihr mit der Interpolation zufrieden? Vergleicht das Ergebnis auch mit dem des Kriging von vorhin. \n",
    "\n",
    "Für eine genauere Abschätzung wollen wir nun noch die Differenz zwischen den abgeschätzten und gemessenen Werten an den Messpunkten berechnen. Wendet dafür die `Gauß-Objekt.predict()` Funktion auf die Koordinaten der Messstellen an, und plottet die berechnetetn Abweichungen in einem Histogramm. \n",
    "\n",
    "Lasst Euch außerdem die Standardabweichung dieser Abweichungen anzeigen (diese entspricht konzeptionell dem RMSE). "
   ],
   "cell_type": "markdown",
   "metadata": {}
  },
  {
   "cell_type": "code",
   "execution_count": null,
   "metadata": {},
   "outputs": [],
   "source": [
    "# hier Code eingeben"
   ]
  },
  {
   "source": [
    "Wie würdet Ihr den Fehler in der Anpassung bewerten? \n",
    "\n",
    "Das Ergebnis der Interpolation mit Gauß-Prozessen kann sehr einfach durch Änderung der Kovarianz-Funktion angepasst, bzw. manipuliert werden. Wir können zum Beispiel noch einen expliziten Term für die Berücksichtigung von möglichen Messfehlern einbauen. \n",
    "\n",
    "Erstellt dafür einen zweiten Kernel in dem Ihr zu dem Kernel oben einen \"WhiteKernel()\" mit dem Input \"noise_level=1e-4\" addiert. Dann führt die Definition des Gauß-Prozess Objektes und Anpassung analog zu oben durch. Lasst Euch von `gp.predict()` auch die Unsicherheit in der Vorhersage ausgeben, in dem Ihr als zusätzliches Argument \"return_std=True\" angebt, und einen zweiten Output (z.B. \"sigma\") definiert. "
   ],
   "cell_type": "markdown",
   "metadata": {}
  },
  {
   "cell_type": "code",
   "execution_count": null,
   "metadata": {},
   "outputs": [],
   "source": [
    "# hier Code eingeben"
   ]
  },
  {
   "source": [
    "Visualisiert nun erneut die Ergebnisse für die interpolierte Temperatur und den Fehler (die Standardabweichung) in der Interpolation in einer gemeinsamen Abbildung. Denkt daran, zunächst die Dimensionen der Arrays anzupassen, wenn Ihr \"matplotlib.pyplot.imshow()\" verwendet. "
   ],
   "cell_type": "markdown",
   "metadata": {}
  },
  {
   "cell_type": "code",
   "execution_count": null,
   "metadata": {},
   "outputs": [],
   "source": [
    "# hier Code eingeben"
   ]
  },
  {
   "source": [
    "Berechnet nun wie oben wieder die Abweichung zwischen Messwerten und interpolierten Werten an den Stützpunkten (Messstellen). "
   ],
   "cell_type": "markdown",
   "metadata": {}
  },
  {
   "cell_type": "code",
   "execution_count": null,
   "metadata": {},
   "outputs": [],
   "source": [
    "# hier Code eingeben"
   ]
  },
  {
   "cell_type": "markdown",
   "metadata": {},
   "source": [
    "Wie verhält sich die Abweichung im Vergleich zu der Anpassung ohne Berücksichtigung von Messfehlern, bzw. der Messgenauigkeit? \n",
    "\n",
    "Wenn ncoh Zeit könnt Ihr noch z.B. die Startwerte für die Hyperparameter (magnitude, lengthscale, noise level) ändern und beobachten wie sich das auf das Interpolationsergebnis auswirkt. \n",
    "\n",
    "## Ende\n",
    "\n",
    "### Referenzen\n",
    "\n",
    "Menberg et al. (2013): Long-term evolution of anthropogenic heat fluxes into a subsurface urban heat island, Environ. Sci. Technol. 47(17) (2013) 9747-9755\n",
    "\n",
    "https://colab.research.google.com/github/agile-geoscience/xlines/blob/master/notebooks/11_Gridding_map_data.ipynb"
   ]
  }
 ],
 "metadata": {
  "kernelspec": {
   "display_name": "Python 3",
   "language": "python",
   "name": "python3"
  },
  "language_info": {
   "codemirror_mode": {
    "name": "ipython",
    "version": 3
   },
   "file_extension": ".py",
   "mimetype": "text/x-python",
   "name": "python",
   "nbconvert_exporter": "python",
   "pygments_lexer": "ipython3",
   "version": "3.8.5-final"
  }
 },
 "nbformat": 4,
 "nbformat_minor": 4
}