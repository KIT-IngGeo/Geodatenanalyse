{
 "cells": [
  {
   "cell_type": "markdown",
   "metadata": {
    "slideshow": {
     "slide_type": "slide"
    }
   },
   "source": [
    "# Geodatenanalyse 1"
   ]
  },
  {
   "cell_type": "markdown",
   "metadata": {},
   "source": [
    "## Anaconda herunterladen und installieren\n",
    "\n",
    "Der Download von Anaconda ist hier: [Anaconda](https://www.anaconda.com/products/individual)\n",
    "\n",
    "Bitte hier für das jeweilige System die Installationsdatei herunterladen und installieren.\n"
   ]
  },
  {
   "cell_type": "markdown",
   "metadata": {},
   "source": [
    "## Anleitung zur automatischen Erstellung der Umgebung\n",
    "\n",
    "Die vorkonfigurierte Analyseumgebung (konfiguriert auf Python 3.7) ist in der Datei *geodatenanalyse.yml* auf GitHub gegeben. Bitte das Archiv der Kursmaterialien herunterladen und in einem beliebigen Pfad (<span style=\"color:red\">#PFAD#</span>) lokal abspeichern."
   ]
  },
  {
   "cell_type": "markdown",
   "metadata": {},
   "source": [
    "### Einmalige Einrichtung\n",
    "\n",
    "**Achtung**: Der Prozess kann eine Weile dauern ..."
   ]
  },
  {
   "cell_type": "markdown",
   "metadata": {},
   "source": [
    "#### Windows\n",
    "\n",
    "1 - *Anaconda Prompt* öffnen\n",
    "\n",
    "2 - Zum Archiv navigieren:\n",
    "\n",
    "``cd #PFAD#``\n",
    "\n",
    "3 - Umgebung installieren:\n",
    "\n",
    "``conda env create -f geodatenanalyse.yml python=3.7``"
   ]
  },
  {
   "cell_type": "markdown",
   "metadata": {},
   "source": [
    "#### McOS\n",
    "\n",
    "1 - *Shell command* öffnen\n",
    "\n",
    "2 - Zum Archiv navigieren:\n",
    "\n",
    "``cd #PFAD#``\n",
    "\n",
    "3 - Umgebung installieren:\n",
    "\n",
    "``conda env create -f geodatenanalyse.yml python=3.7``\n",
    "\n",
    "4 - Ausführungsrechte für den Notebook-Starter:\n",
    "\n",
    "``chmod +x start_geo_MAC.sh``\n"
   ]
  },
  {
   "cell_type": "markdown",
   "metadata": {},
   "source": [
    "#### Linux\n",
    "\n",
    "1 - *Terminal* öffnen\n",
    "\n",
    "2 - Zum Archiv navigieren:\n",
    "\n",
    "``cd #PFAD#``\n",
    "\n",
    "3 - Umgebung installieren:\n",
    "\n",
    "``conda env create -f geodatenanalyse.yml python=3.7``\n",
    "\n",
    "4 - Ausführungsrechte für den Notebook-Starter:\n",
    "\n",
    "``chmod +x start_geo_LINUX.sh``\n"
   ]
  },
  {
   "cell_type": "markdown",
   "metadata": {},
   "source": [
    "\n",
    "### Verwendung der Analyseumgebung"
   ]
  },
  {
   "cell_type": "markdown",
   "metadata": {},
   "source": [
    "#### Windows\n",
    "\n",
    "Die Analyseumgebung kann nun durch Doppelklick auf die Batch-Datei *starter_geo_WINDOWS.bat* geöffnet werden."
   ]
  },
  {
   "cell_type": "markdown",
   "metadata": {},
   "source": [
    "#### MacOS\n",
    "\n",
    "Die Analyseumgebung kann nun durch Aufruf der Bash-Datei im *Shell command* gestartet werden:\n",
    "\n",
    "``./starter_geo_MAC.sh``"
   ]
  },
  {
   "cell_type": "markdown",
   "metadata": {},
   "source": [
    "#### Linux\n",
    "\n",
    "Die Analyseumgebung kann nun durch Aufruf der Bash-Datei im *Terminal* gestartet werden:\n",
    "\n",
    "``./starter_geo_LINUX.sh``"
   ]
  },
  {
   "cell_type": "markdown",
   "metadata": {},
   "source": [
    "## Anleitung zur manuellen Erstellung der Umgebung\n",
    "\n",
    "**ACHTUNG**: Bitte diese Anleitung nur ausführen, wenn die automatische Einrichtung nicht klappt!"
   ]
  },
  {
   "cell_type": "markdown",
   "metadata": {},
   "source": [
    "### Für Windows\n",
    "\n",
    "1 - Add the right installation channel:\n",
    "\n",
    "``conda config --prepend channels conda-forge``\n",
    "\n",
    "2 - Create a new environment called \"geo\" and install *geopandas* and *jupyterlab*:\n",
    "\n",
    "``conda create -n geo  python=3.7 --strict-channel-priority geopandas jupyterlab``\n",
    "\n",
    "3 - Activate the new environment:\n",
    "\n",
    "``conda activate geo``\n",
    "\n",
    "4 - Add the user to the kernel:\n",
    "\n",
    "``python -m ipykernel install --user``\n",
    "\n",
    "*ACHTUNG*: Wenn das nicht funktioniert, dann wird eine andere Möglichkeit [hier beschrieben](https://geoffboeing.com/2014/09/using-geopandas-windows/)"
   ]
  },
  {
   "cell_type": "markdown",
   "metadata": {},
   "source": [
    "### Für MacOS oder Linux\n",
    "\n",
    "1 - Create a new environment called \"geo\" and install *geopandas* and *jupyterlab*:\n",
    "\n",
    "``conda create -n geo python=3.7``\n",
    "\n",
    "2 - Activate the new environment:\n",
    "\n",
    "``conda activate geo``\n",
    "\n",
    "3 - Add the user to the kernel:\n",
    "\n",
    "``python -m ipykernel install --user``"
   ]
  },
  {
   "cell_type": "markdown",
   "metadata": {},
   "source": [
    "### Für alle Betriebssysteme\n",
    "\n",
    "Weitere benötigte Pakete für alle Betriebssysteme:\n",
    "\n",
    "``conda install shapely cartopy xarray descartes contextily salib pykrige ruptures netcdf4``\n",
    "\n",
    "\n",
    "``pip install scikit-gstat``"
   ]
  },
  {
   "cell_type": "markdown",
   "metadata": {},
   "source": [
    "Ein Test, ob vor allem *GeoPandas* funktioniert:"
   ]
  },
  {
   "cell_type": "code",
   "execution_count": 1,
   "metadata": {},
   "outputs": [
    {
     "data": {
      "text/plain": [
       "'3010400'"
      ]
     },
     "execution_count": 1,
     "metadata": {},
     "output_type": "execute_result"
    }
   ],
   "source": [
    "from osgeo import gdal, ogr, osr\n",
    "from fiona.ogrext import Iterator, ItemsIterator, KeysIterator\n",
    "from geopandas import GeoDataFrame\n",
    "gdal.VersionInfo()"
   ]
  },
  {
   "cell_type": "markdown",
   "metadata": {},
   "source": [
    "Wenn dieser Test keine Fehlermeldung anzeigt, dann ist alles in Ordunug!"
   ]
  },
  {
   "cell_type": "markdown",
   "metadata": {},
   "source": [
    "### Manueller Aufruf von *Jupyter*\n",
    "\n",
    "Beim Aufruf von *Jupyter* müssen nun folgende Schritte durchgeführt werden:\n",
    "\n",
    "1 - ``conda activate geo``\n",
    "\n",
    "2 - ``jupyter notebook --notebook-dir=\"#PFAD#\"``\n"
   ]
  },
  {
   "cell_type": "markdown",
   "metadata": {},
   "source": [
    "## ENDE"
   ]
  }
 ],
 "metadata": {
  "celltoolbar": "Slideshow",
  "kernelspec": {
   "display_name": "Python 3",
   "language": "python",
   "name": "python3"
  },
  "language_info": {
   "codemirror_mode": {
    "name": "ipython",
    "version": 3
   },
   "file_extension": ".py",
   "mimetype": "text/x-python",
   "name": "python",
   "nbconvert_exporter": "python",
   "pygments_lexer": "ipython3",
   "version": "3.7.10"
  }
 },
 "nbformat": 4,
 "nbformat_minor": 4
}
