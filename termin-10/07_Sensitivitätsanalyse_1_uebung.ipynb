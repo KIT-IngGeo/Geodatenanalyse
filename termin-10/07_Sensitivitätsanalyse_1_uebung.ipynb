{
 "cells": [
  {
   "cell_type": "markdown",
   "metadata": {},
   "source": [
    "# Geodatenanalyse 1\n",
    "\n",
    "## Übung 7: Grundlagen der Sensitivitätsanalyse - Übung"
   ]
  },
  {
   "cell_type": "markdown",
   "metadata": {},
   "source": [
    "### Contribution-to-Variance\n",
    "\n",
    "\n",
    "\n",
    "Als Anwendungsbeispiel für eine Sensitivitätsanalyse werden wir das Model und die Unsicherheitsanalyse aus der letzten Übung verwenden. Kopiert daher zuerst das Skript mit der MC Simulation in dieses Notebook, damit ihr alle Input- und Outputwerte als Variablen zur Verfügung habt. "
   ]
  },
  {
   "cell_type": "code",
   "execution_count": null,
   "metadata": {},
   "outputs": [],
   "source": [
    "# [1]\n",
    "# Monte-Carlo Simulation zur Bestimmung der Abbaurate von O-Xylol\n"
   ]
  },
  {
   "cell_type": "markdown",
   "metadata": {},
   "source": [
    "Für die Contribution-to-Variance Analyse und die Berechnung von Kovarianzen und Korrelationen ist es praktisch, alle benötigten Werte in einem Pandas DataFrame zusammenzufassen, um sicherzustellen, dass die Dimensionen, Ausrichtung von Spalten usw. alle stimmen. \n",
    "\n",
    "Das Generieren eines DataFrame erfolgt über die Funktion `pandas.DataFrame()`, mit dem Syntax: \"data = pd.DataFrame({'column_name': column_value, ...})\". Die Spalten und Namen könnt Ihr aus dem Output des Monte Carlo Codes zusammensetzen. \n",
    "\n",
    "Berechnet anschließend die Kovarianzen (`data.cov()`) und Korrelationen nach Pearson (`data.corr()`) für den DataFrame. Welches Maß macht hier mehr Sinn für eine Betrachtung der Sensitivitäten? "
   ]
  },
  {
   "cell_type": "code",
   "execution_count": null,
   "metadata": {},
   "outputs": [],
   "source": [
    "# [2]\n",
    "# pandas package importieren\n",
    "\n",
    "# DataFrame generieren\n",
    "\n",
    "# Kovarianzen und Korrelation berechnen"
   ]
  },
  {
   "cell_type": "markdown",
   "metadata": {},
   "source": [
    "Stellt nun die Ergebnisse für die Sensitivitätsanalyse, sowohl für den kf-Wert als auch die Abbaurate mit Hilfe der Funktion `subplot` in `matplotlib` graphisch in einem Tornadoplot dar. Am einfachsten geht das über ein horizontales Blaknediagramm mit `matplotlib.pyplot.barh()`. \n",
    "\n",
    "Überlegt Euch auch genau welche Werte aus der Korrelations-, bzw- Kovarianzmatrix, in dem Plot dargestellt werden sollen, \n",
    "\n",
    "Fügt in der Abbildung schließlichen auch einen Titel (`title()`) und Achsenbeschrfitungen (`labels()`) ein.  "
   ]
  },
  {
   "cell_type": "code",
   "execution_count": null,
   "metadata": {},
   "outputs": [],
   "source": [
    "# [3]\n"
   ]
  },
  {
   "cell_type": "markdown",
   "metadata": {},
   "source": [
    "## Ende\n",
    "\n",
    "### Referenzen: \n",
    "\n",
    "Würth et al. (2021): Quantifying biodegradation rate constants of o-xylene by combining compound-specific isotope analysis and groundwater dating. Journal of Contaminant Hydrology, 238, 103757"
   ]
  }
 ],
 "metadata": {
  "kernelspec": {
   "display_name": "Python 3",
   "language": "python",
   "name": "python3"
  },
  "language_info": {
   "codemirror_mode": {
    "name": "ipython",
    "version": 3
   },
   "file_extension": ".py",
   "mimetype": "text/x-python",
   "name": "python",
   "nbconvert_exporter": "python",
   "pygments_lexer": "ipython3",
   "version": "3.8.5-final"
  }
 },
 "nbformat": 4,
 "nbformat_minor": 4
}
