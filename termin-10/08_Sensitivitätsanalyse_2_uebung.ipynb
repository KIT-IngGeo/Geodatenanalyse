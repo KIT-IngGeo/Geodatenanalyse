{
 "cells": [
  {
   "cell_type": "markdown",
   "metadata": {},
   "source": [
    "# Geodatenanalyse 1\n",
    "\n",
    "## Übung 8: Fortgeschrittene Sensitivitätsanalyse - Übung\n",
    "\n",
    "\n",
    "Für fortgeschrittene Sensitivitätsanalysen gibt es in Python das Package `SALib` (https://salib.readthedocs.io/en/latest/index.html), in dem viele gängige Methoden (z.B. Morris Method, Sobol Indices) und die benötigten Sampling-Strategien implementiert sind. "
   ]
  },
  {
   "cell_type": "markdown",
   "metadata": {},
   "source": [
    "### Sobol Indizes\n",
    "\n",
    "Zur Bestimmung der Sobol Indizes werden zwei Algorithmen aus SALib benötigt: Mit `SALib.sample.saltelli.sample()` erfolgt das Generieren der Input-Wertematrix, danach werden mit diesen Inputs die Modelloutputs erzeugt, und mit `SALib.analyze.sobol.analyze()` erfolgt schließlich die Bestimmung der Sobol-Indizes. \n",
    "\n",
    "`SALib.sample.saltelli.sample()` benötigt als Input-Argument ein Python Dictionary mit der folgenden Angaben: \n",
    "\n",
    "'{'num_vars': Anzahl_unsichere_Parameter, 'names': [Name1, Name2, ...], 'bounds':[[min1, max1], [min2, max2], ...]}'\n",
    "\n",
    "Definiert nun zuerst ein Python Dictionary mit den entsprechenden Angaben zu dem analytischen Abbaumodell aus den letzten Übungen, und erzeugt Euch dann mit `SALib.sample.saltelli.sample()` einen Inputdatensatz für das analytische Modell. \n",
    "\n",
    "Inspiziert anschließend den generierten Inputdatensatz um die  Sampling Strategie nachzuvollziehen.  "
   ]
  },
  {
   "cell_type": "code",
   "execution_count": null,
   "metadata": {},
   "outputs": [],
   "source": [
    "# [1] \n",
    "# benötigtes Package importieren\n",
    "\n",
    "# Dictionary erzeugen\n",
    "\n",
    "# Inputmatrix erzeugen\n",
    "\n",
    "# Datensatz inspizieren"
   ]
  },
  {
   "cell_type": "markdown",
   "metadata": {},
   "source": [
    "Venwendet nun die eben erzeugten Modell-Inputs, um mit einer `for` Schleife und dem analytischen Modell der letzten Übungen die entsprechenden Outputs (hydraulische Leitfähigkeit und biologische Abbaurate) zu berechnen (siehe Übung 8 Monte Carlo Methoden). "
   ]
  },
  {
   "cell_type": "code",
   "execution_count": null,
   "metadata": {},
   "outputs": [],
   "source": [
    "# [2]\n",
    "# Packages laden\n",
    "\n",
    "# Anzahl der Modelldurchläufe sowie leere Arrays für Outputs definieren \n",
    "\n",
    "# mit for-Schleife und analytischem Modell Outputs erzeugen\n"
   ]
  },
  {
   "cell_type": "markdown",
   "metadata": {},
   "source": [
    "Als Inputs für `SALib.analyze.sobol.analyze()` sind das Eingangs-Dictionary, sowie die Modell-Ouputs erforderlich. Mit der zusätzlichen Angabe von \"print_to_console=True\" könnt Ihr Euch die Indizes direkt ausgeben lassen. \n",
    "\n",
    "Schaut Euch die Werte an, und vergleicht sie mit den Ergebnissen der Morris Method und Contribution-to-Variance Analyse. "
   ]
  },
  {
   "cell_type": "code",
   "execution_count": null,
   "metadata": {},
   "outputs": [],
   "source": [
    "#[3]\n",
    "# Packages laden\n",
    "\n",
    "# Sobol Indizes berechnen"
   ]
  },
  {
   "cell_type": "markdown",
   "metadata": {},
   "source": [
    "Um die Effekte Erster Ordnung und Totalen Effekte zu vergleichen, visualisiert diese abschließend in einer Graphik. Vergleicht dabei die verschiedenen Effekte in Bezug auf die einzelnen Parameter und interpretiert diese. "
   ]
  },
  {
   "cell_type": "code",
   "execution_count": null,
   "metadata": {},
   "outputs": [],
   "source": [
    "#[4]\n"
   ]
  },
  {
   "cell_type": "markdown",
   "metadata": {},
   "source": [
    "## Ende\n",
    "\n",
    "### Referenzen: \n",
    "\n",
    "Würth et al. (2021): Quantifying biodegradation rate constants of o-xylene by combining compound-specific isotope analysis and groundwater dating. Journal of Contaminant Hydrology, 238, 103757"
   ]
  }
 ],
 "metadata": {
  "kernelspec": {
   "display_name": "Python 3",
   "language": "python",
   "name": "python3"
  },
  "language_info": {
   "codemirror_mode": {
    "name": "ipython",
    "version": 3
   },
   "file_extension": ".py",
   "mimetype": "text/x-python",
   "name": "python",
   "nbconvert_exporter": "python",
   "pygments_lexer": "ipython3",
   "version": "3.7.10"
  }
 },
 "nbformat": 4,
 "nbformat_minor": 4
}
