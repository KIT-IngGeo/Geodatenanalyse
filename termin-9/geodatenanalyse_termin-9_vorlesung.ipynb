{
 "cells": [
  {
   "cell_type": "markdown",
   "metadata": {
    "slideshow": {
     "slide_type": "slide"
    }
   },
   "source": [
    "# Geodatenanalyse 1\n",
    "## Termin 9\n",
    "### Funktionalität von *Pandas*\n"
   ]
  },
  {
   "cell_type": "markdown",
   "metadata": {
    "slideshow": {
     "slide_type": "slide"
    }
   },
   "source": [
    "## Inhalt\n",
    "- Kombinieren von Daten aus mehreren Tabellen (*merge* und *concat*)\n",
    "- *Group by*: Split-apply-combine Pattern (*groupby*)\n",
    "- Überblick über die Datums- und Zeitfunktionalität"
   ]
  },
  {
   "cell_type": "code",
   "execution_count": 1,
   "metadata": {
    "slideshow": {
     "slide_type": "fragment"
    }
   },
   "outputs": [],
   "source": [
    "# Importieren von Bibliotheken:\n",
    "import pandas as pd\n",
    "import seaborn as sns\n",
    "import matplotlib.pyplot as plt\n",
    "\n",
    "# Plotting Style\n",
    "plt.style.use('ggplot')"
   ]
  },
  {
   "cell_type": "markdown",
   "metadata": {
    "slideshow": {
     "slide_type": "slide"
    }
   },
   "source": [
    "## Kombinieren von Daten aus mehreren Tabellen\n",
    "Die beiden wichtigsten Funktionen zum kombinieren von Tabellen in Pandas sind:\n",
    "\n",
    "- **concat()**: Aneinanderhängen von Tabellen entlang einer Achse (zeilen- oder spaltenweise)\n",
    "- **merge()**: Zusammenfügen von Tabellen mittels einer gemeinsamen Kennung (ID-Spalte)\n",
    "\n",
    "\\\n",
    "\\\n",
    "\\\n",
    "\\\n",
    "\\\n",
    "Für die nachfolgende Einführung wird der folgende Beispieldatensatz verwendet:\\\n",
    "\\\n",
    "*R Palmer penguins dataset for data exploration & visualization*\n",
    "\n",
    "    Horst AM, Hill AP, Gorman KB (2020). palmerpenguins: Palmer\n",
    "    Archipelago (Antarctica) penguin data. R package version 0.1.0.\n",
    "    https://allisonhorst.github.io/palmerpenguins/. doi:10.5281/zenodo.3960218.\n",
    "\n",
    "Mehr Infos zum Datensatz unter:\n",
    "https://allisonhorst.github.io/palmerpenguins/articles/intro.html\n",
    "\n",
    "\\\n",
    "\\\n",
    "Diese Einführung basiert auf dem Pandas eigenen Tutorial zum Kombinieren von Tabellen:\\\n",
    "https://pandas.pydata.org/pandas-docs/stable/getting_started/intro_tutorials/08_combine_dataframes.html \\\n",
    "Dort finden sich viele weitere Informationen und Inhalte."
   ]
  },
  {
   "cell_type": "markdown",
   "metadata": {
    "slideshow": {
     "slide_type": "subslide"
    }
   },
   "source": [
    "### Aneinanderhängen von Tabellen\n",
    "Wir haben in unserem Beispiel **3 separate Tabellen** mit Daten zu 3 Pinguinarten, die entlang des Palmer-Archipels nahe Palmer Station nisten, und möchten diese in einer einzigen Tabelle zusammenführen.\n",
    "\n",
    "![PalmerPenguins](images\\Palmer_penguins.png)\n",
    "\n",
    "Artwork by @allison_horst"
   ]
  },
  {
   "cell_type": "code",
   "execution_count": 2,
   "metadata": {
    "slideshow": {
     "slide_type": "subslide"
    }
   },
   "outputs": [
    {
     "data": {
      "text/html": [
       "<div>\n",
       "<style scoped>\n",
       "    .dataframe tbody tr th:only-of-type {\n",
       "        vertical-align: middle;\n",
       "    }\n",
       "\n",
       "    .dataframe tbody tr th {\n",
       "        vertical-align: top;\n",
       "    }\n",
       "\n",
       "    .dataframe thead th {\n",
       "        text-align: right;\n",
       "    }\n",
       "</style>\n",
       "<table border=\"1\" class=\"dataframe\">\n",
       "  <thead>\n",
       "    <tr style=\"text-align: right;\">\n",
       "      <th></th>\n",
       "      <th>species</th>\n",
       "      <th>island</th>\n",
       "      <th>bill_length_mm</th>\n",
       "      <th>bill_depth_mm</th>\n",
       "      <th>flipper_length_mm</th>\n",
       "      <th>body_mass_g</th>\n",
       "      <th>sex</th>\n",
       "    </tr>\n",
       "  </thead>\n",
       "  <tbody>\n",
       "    <tr>\n",
       "      <th>0</th>\n",
       "      <td>Adelie</td>\n",
       "      <td>Torgersen</td>\n",
       "      <td>39.1</td>\n",
       "      <td>18.7</td>\n",
       "      <td>181.0</td>\n",
       "      <td>3750.0</td>\n",
       "      <td>Male</td>\n",
       "    </tr>\n",
       "    <tr>\n",
       "      <th>1</th>\n",
       "      <td>Adelie</td>\n",
       "      <td>Torgersen</td>\n",
       "      <td>39.5</td>\n",
       "      <td>17.4</td>\n",
       "      <td>186.0</td>\n",
       "      <td>3800.0</td>\n",
       "      <td>Female</td>\n",
       "    </tr>\n",
       "    <tr>\n",
       "      <th>2</th>\n",
       "      <td>Adelie</td>\n",
       "      <td>Torgersen</td>\n",
       "      <td>40.3</td>\n",
       "      <td>18.0</td>\n",
       "      <td>195.0</td>\n",
       "      <td>3250.0</td>\n",
       "      <td>Female</td>\n",
       "    </tr>\n",
       "  </tbody>\n",
       "</table>\n",
       "</div>"
      ],
      "text/plain": [
       "  species     island  bill_length_mm  bill_depth_mm  flipper_length_mm  \\\n",
       "0  Adelie  Torgersen            39.1           18.7              181.0   \n",
       "1  Adelie  Torgersen            39.5           17.4              186.0   \n",
       "2  Adelie  Torgersen            40.3           18.0              195.0   \n",
       "\n",
       "   body_mass_g     sex  \n",
       "0       3750.0    Male  \n",
       "1       3800.0  Female  \n",
       "2       3250.0  Female  "
      ]
     },
     "execution_count": 2,
     "metadata": {},
     "output_type": "execute_result"
    }
   ],
   "source": [
    "penguins_adelie = pd.read_excel(\"example_data\\penguins.xlsx\", sheet_name=\"Adelie\")\n",
    "penguins_adelie.head(3)"
   ]
  },
  {
   "cell_type": "code",
   "execution_count": 3,
   "metadata": {
    "slideshow": {
     "slide_type": "-"
    }
   },
   "outputs": [
    {
     "data": {
      "text/html": [
       "<div>\n",
       "<style scoped>\n",
       "    .dataframe tbody tr th:only-of-type {\n",
       "        vertical-align: middle;\n",
       "    }\n",
       "\n",
       "    .dataframe tbody tr th {\n",
       "        vertical-align: top;\n",
       "    }\n",
       "\n",
       "    .dataframe thead th {\n",
       "        text-align: right;\n",
       "    }\n",
       "</style>\n",
       "<table border=\"1\" class=\"dataframe\">\n",
       "  <thead>\n",
       "    <tr style=\"text-align: right;\">\n",
       "      <th></th>\n",
       "      <th>species</th>\n",
       "      <th>island</th>\n",
       "      <th>bill_length_mm</th>\n",
       "      <th>bill_depth_mm</th>\n",
       "      <th>flipper_length_mm</th>\n",
       "      <th>body_mass_g</th>\n",
       "      <th>sex</th>\n",
       "    </tr>\n",
       "  </thead>\n",
       "  <tbody>\n",
       "    <tr>\n",
       "      <th>0</th>\n",
       "      <td>Chinstrap</td>\n",
       "      <td>Dream</td>\n",
       "      <td>46.5</td>\n",
       "      <td>17.9</td>\n",
       "      <td>192</td>\n",
       "      <td>3500</td>\n",
       "      <td>Female</td>\n",
       "    </tr>\n",
       "    <tr>\n",
       "      <th>1</th>\n",
       "      <td>Chinstrap</td>\n",
       "      <td>Dream</td>\n",
       "      <td>50.0</td>\n",
       "      <td>19.5</td>\n",
       "      <td>196</td>\n",
       "      <td>3900</td>\n",
       "      <td>Male</td>\n",
       "    </tr>\n",
       "    <tr>\n",
       "      <th>2</th>\n",
       "      <td>Chinstrap</td>\n",
       "      <td>Dream</td>\n",
       "      <td>51.3</td>\n",
       "      <td>19.2</td>\n",
       "      <td>193</td>\n",
       "      <td>3650</td>\n",
       "      <td>Male</td>\n",
       "    </tr>\n",
       "  </tbody>\n",
       "</table>\n",
       "</div>"
      ],
      "text/plain": [
       "     species island  bill_length_mm  bill_depth_mm  flipper_length_mm  \\\n",
       "0  Chinstrap  Dream            46.5           17.9                192   \n",
       "1  Chinstrap  Dream            50.0           19.5                196   \n",
       "2  Chinstrap  Dream            51.3           19.2                193   \n",
       "\n",
       "   body_mass_g     sex  \n",
       "0         3500  Female  \n",
       "1         3900    Male  \n",
       "2         3650    Male  "
      ]
     },
     "execution_count": 3,
     "metadata": {},
     "output_type": "execute_result"
    }
   ],
   "source": [
    "penguins_chinstrap = pd.read_excel(\"example_data\\penguins.xlsx\", sheet_name=\"Chinstrap\")\n",
    "penguins_chinstrap.head(3)"
   ]
  },
  {
   "cell_type": "code",
   "execution_count": 4,
   "metadata": {
    "slideshow": {
     "slide_type": "-"
    }
   },
   "outputs": [
    {
     "data": {
      "text/html": [
       "<div>\n",
       "<style scoped>\n",
       "    .dataframe tbody tr th:only-of-type {\n",
       "        vertical-align: middle;\n",
       "    }\n",
       "\n",
       "    .dataframe tbody tr th {\n",
       "        vertical-align: top;\n",
       "    }\n",
       "\n",
       "    .dataframe thead th {\n",
       "        text-align: right;\n",
       "    }\n",
       "</style>\n",
       "<table border=\"1\" class=\"dataframe\">\n",
       "  <thead>\n",
       "    <tr style=\"text-align: right;\">\n",
       "      <th></th>\n",
       "      <th>species</th>\n",
       "      <th>island</th>\n",
       "      <th>bill_length_mm</th>\n",
       "      <th>bill_depth_mm</th>\n",
       "      <th>flipper_length_mm</th>\n",
       "      <th>body_mass_g</th>\n",
       "      <th>sex</th>\n",
       "    </tr>\n",
       "  </thead>\n",
       "  <tbody>\n",
       "    <tr>\n",
       "      <th>0</th>\n",
       "      <td>Gentoo</td>\n",
       "      <td>Biscoe</td>\n",
       "      <td>46.1</td>\n",
       "      <td>13.2</td>\n",
       "      <td>211.0</td>\n",
       "      <td>4500.0</td>\n",
       "      <td>Female</td>\n",
       "    </tr>\n",
       "    <tr>\n",
       "      <th>1</th>\n",
       "      <td>Gentoo</td>\n",
       "      <td>Biscoe</td>\n",
       "      <td>50.0</td>\n",
       "      <td>16.3</td>\n",
       "      <td>230.0</td>\n",
       "      <td>5700.0</td>\n",
       "      <td>Male</td>\n",
       "    </tr>\n",
       "    <tr>\n",
       "      <th>2</th>\n",
       "      <td>Gentoo</td>\n",
       "      <td>Biscoe</td>\n",
       "      <td>48.7</td>\n",
       "      <td>14.1</td>\n",
       "      <td>210.0</td>\n",
       "      <td>4450.0</td>\n",
       "      <td>Female</td>\n",
       "    </tr>\n",
       "  </tbody>\n",
       "</table>\n",
       "</div>"
      ],
      "text/plain": [
       "  species  island  bill_length_mm  bill_depth_mm  flipper_length_mm  \\\n",
       "0  Gentoo  Biscoe            46.1           13.2              211.0   \n",
       "1  Gentoo  Biscoe            50.0           16.3              230.0   \n",
       "2  Gentoo  Biscoe            48.7           14.1              210.0   \n",
       "\n",
       "   body_mass_g     sex  \n",
       "0       4500.0  Female  \n",
       "1       5700.0    Male  \n",
       "2       4450.0  Female  "
      ]
     },
     "execution_count": 4,
     "metadata": {},
     "output_type": "execute_result"
    }
   ],
   "source": [
    "penguins_gentoo = pd.read_excel(\"example_data\\penguins.xlsx\", sheet_name=\"Gentoo\")\n",
    "penguins_gentoo.head(3)"
   ]
  },
  {
   "cell_type": "markdown",
   "metadata": {
    "slideshow": {
     "slide_type": "subslide"
    }
   },
   "source": [
    "### Die concat() Methode\n",
    "Die Pandas <font color=\"red\">concad()</font> Methode ermöglicht das zeilen- oder spaltenweise Aneinanderhängen von Tabellen, die eine ähnliche Struktur aufweisen.\n",
    "\n",
    "![Concat](images\\Concat.png)"
   ]
  },
  {
   "cell_type": "code",
   "execution_count": 5,
   "metadata": {
    "slideshow": {
     "slide_type": "fragment"
    }
   },
   "outputs": [],
   "source": [
    "# concat() verwendet standardmäßig axis= 0 (zeileweise)\n",
    "penguins = pd.concat([penguins_adelie, penguins_chinstrap,penguins_gentoo], axis=0)"
   ]
  },
  {
   "cell_type": "code",
   "execution_count": 6,
   "metadata": {
    "slideshow": {
     "slide_type": "fragment"
    }
   },
   "outputs": [
    {
     "data": {
      "text/plain": [
       "array(['Adelie', 'Chinstrap', 'Gentoo'], dtype=object)"
      ]
     },
     "execution_count": 6,
     "metadata": {},
     "output_type": "execute_result"
    }
   ],
   "source": [
    "#Wieviele Arten finden sich in der neuen Tabelle?\n",
    "penguins.species.unique()"
   ]
  },
  {
   "cell_type": "markdown",
   "metadata": {
    "slideshow": {
     "slide_type": "subslide"
    }
   },
   "source": [
    "### Der neue Datensatz im Überblick: "
   ]
  },
  {
   "cell_type": "code",
   "execution_count": 7,
   "metadata": {
    "slideshow": {
     "slide_type": "-"
    }
   },
   "outputs": [
    {
     "name": "stdout",
     "output_type": "stream",
     "text": [
      "Dimension der Adelie-Pinguintabelle:  (152, 7)\n",
      "Dimension der Chinstrap-Pinguintabelle:  (68, 7)\n",
      "Dimension der Gentoo-Pinguintabelle:  (124, 7)\n",
      "Dimension der aneinandergehängten Tabelle:  (344, 7)\n"
     ]
    }
   ],
   "source": [
    "print(\"Dimension der Adelie-Pinguintabelle: \",penguins_adelie.shape)\n",
    "print(\"Dimension der Chinstrap-Pinguintabelle: \", penguins_chinstrap.shape)\n",
    "print(\"Dimension der Gentoo-Pinguintabelle: \", penguins_gentoo.shape)\n",
    "print(\"Dimension der aneinandergehängten Tabelle: \", penguins.shape)"
   ]
  },
  {
   "cell_type": "code",
   "execution_count": 8,
   "metadata": {
    "slideshow": {
     "slide_type": "fragment"
    }
   },
   "outputs": [
    {
     "data": {
      "text/plain": [
       "<AxesSubplot:xlabel='island', ylabel='Count'>"
      ]
     },
     "execution_count": 8,
     "metadata": {},
     "output_type": "execute_result"
    },
    {
     "data": {
      "image/png": "[encoded data removed]",
      "text/plain": [
       "<Figure size 864x360 with 1 Axes>"
      ]
     },
     "metadata": {},
     "output_type": "display_data"
    }
   ],
   "source": [
    "plt.figure(figsize=(12,5))\n",
    "sns.histplot(x=\"island\", hue=\"species\", multiple=\"stack\", data=penguins)"
   ]
  },
  {
   "cell_type": "markdown",
   "metadata": {
    "slideshow": {
     "slide_type": "slide"
    }
   },
   "source": [
    "### Kombinieren von Tabellen mit einer gemeinsamen Kennung\n",
    "Wir haben zusätzlich zu den Pinguindaten eine weitere Tabelle mit Informationen zur **geographischen Position der einzelnen Inseln**. Wir möchten beide Datensätze in einer gemeinsamen Tabelle zusammenführen."
   ]
  },
  {
   "cell_type": "code",
   "execution_count": 9,
   "metadata": {
    "slideshow": {
     "slide_type": "skip"
    }
   },
   "outputs": [],
   "source": [
    "penguins = pd.read_excel(\"example_data\\penguins.xlsx\", sheet_name=\"species\")"
   ]
  },
  {
   "cell_type": "markdown",
   "metadata": {
    "slideshow": {
     "slide_type": "-"
    }
   },
   "source": [
    "#### Die drei Inseln"
   ]
  },
  {
   "cell_type": "code",
   "execution_count": 10,
   "metadata": {
    "slideshow": {
     "slide_type": "-"
    }
   },
   "outputs": [
    {
     "data": {
      "text/plain": [
       "array(['Torgersen', 'Biscoe', 'Dream'], dtype=object)"
      ]
     },
     "execution_count": 10,
     "metadata": {},
     "output_type": "execute_result"
    }
   ],
   "source": [
    "penguins.island.unique()"
   ]
  },
  {
   "cell_type": "markdown",
   "metadata": {
    "slideshow": {
     "slide_type": "fragment"
    }
   },
   "source": [
    "#### Der Insel-Datensatz"
   ]
  },
  {
   "cell_type": "code",
   "execution_count": 11,
   "metadata": {
    "slideshow": {
     "slide_type": "-"
    }
   },
   "outputs": [
    {
     "data": {
      "text/html": [
       "<div>\n",
       "<style scoped>\n",
       "    .dataframe tbody tr th:only-of-type {\n",
       "        vertical-align: middle;\n",
       "    }\n",
       "\n",
       "    .dataframe tbody tr th {\n",
       "        vertical-align: top;\n",
       "    }\n",
       "\n",
       "    .dataframe thead th {\n",
       "        text-align: right;\n",
       "    }\n",
       "</style>\n",
       "<table border=\"1\" class=\"dataframe\">\n",
       "  <thead>\n",
       "    <tr style=\"text-align: right;\">\n",
       "      <th></th>\n",
       "      <th>island</th>\n",
       "      <th>latitude</th>\n",
       "      <th>longitude</th>\n",
       "    </tr>\n",
       "  </thead>\n",
       "  <tbody>\n",
       "    <tr>\n",
       "      <th>0</th>\n",
       "      <td>Torgersen</td>\n",
       "      <td>-64.773100</td>\n",
       "      <td>-64.074100</td>\n",
       "    </tr>\n",
       "    <tr>\n",
       "      <th>1</th>\n",
       "      <td>Biscoe</td>\n",
       "      <td>-65.704167</td>\n",
       "      <td>-65.872778</td>\n",
       "    </tr>\n",
       "    <tr>\n",
       "      <th>2</th>\n",
       "      <td>Dream</td>\n",
       "      <td>-64.726800</td>\n",
       "      <td>-64.224800</td>\n",
       "    </tr>\n",
       "  </tbody>\n",
       "</table>\n",
       "</div>"
      ],
      "text/plain": [
       "      island   latitude  longitude\n",
       "0  Torgersen -64.773100 -64.074100\n",
       "1     Biscoe -65.704167 -65.872778\n",
       "2      Dream -64.726800 -64.224800"
      ]
     },
     "execution_count": 11,
     "metadata": {},
     "output_type": "execute_result"
    }
   ],
   "source": [
    "islands = pd.read_excel(\"example_data\\PalmerArchipel_WGS84.xlsx\")\n",
    "islands"
   ]
  },
  {
   "cell_type": "markdown",
   "metadata": {
    "slideshow": {
     "slide_type": "subslide"
    }
   },
   "source": [
    "### Gemeinsame Kennung\n",
    "Mit der Pandas <font color=\"red\">merge()</font> Methode können Tabelle anhand einer gemeinsamen Kennung (ID) zusammengeführt werden. In unserem Fall: \n",
    "\n",
    "    islands"
   ]
  },
  {
   "cell_type": "code",
   "execution_count": 12,
   "metadata": {
    "slideshow": {
     "slide_type": "-"
    }
   },
   "outputs": [
    {
     "data": {
      "text/html": [
       "<div>\n",
       "<style scoped>\n",
       "    .dataframe tbody tr th:only-of-type {\n",
       "        vertical-align: middle;\n",
       "    }\n",
       "\n",
       "    .dataframe tbody tr th {\n",
       "        vertical-align: top;\n",
       "    }\n",
       "\n",
       "    .dataframe thead th {\n",
       "        text-align: right;\n",
       "    }\n",
       "</style>\n",
       "<table border=\"1\" class=\"dataframe\">\n",
       "  <thead>\n",
       "    <tr style=\"text-align: right;\">\n",
       "      <th></th>\n",
       "      <th>species</th>\n",
       "      <th>island</th>\n",
       "      <th>bill_length_mm</th>\n",
       "      <th>bill_depth_mm</th>\n",
       "      <th>flipper_length_mm</th>\n",
       "      <th>body_mass_g</th>\n",
       "      <th>sex</th>\n",
       "      <th>latitude</th>\n",
       "      <th>longitude</th>\n",
       "    </tr>\n",
       "  </thead>\n",
       "  <tbody>\n",
       "    <tr>\n",
       "      <th>0</th>\n",
       "      <td>Adelie</td>\n",
       "      <td>Torgersen</td>\n",
       "      <td>39.1</td>\n",
       "      <td>18.7</td>\n",
       "      <td>181.0</td>\n",
       "      <td>3750.0</td>\n",
       "      <td>Male</td>\n",
       "      <td>-64.7731</td>\n",
       "      <td>-64.0741</td>\n",
       "    </tr>\n",
       "    <tr>\n",
       "      <th>1</th>\n",
       "      <td>Adelie</td>\n",
       "      <td>Torgersen</td>\n",
       "      <td>39.5</td>\n",
       "      <td>17.4</td>\n",
       "      <td>186.0</td>\n",
       "      <td>3800.0</td>\n",
       "      <td>Female</td>\n",
       "      <td>-64.7731</td>\n",
       "      <td>-64.0741</td>\n",
       "    </tr>\n",
       "    <tr>\n",
       "      <th>2</th>\n",
       "      <td>Adelie</td>\n",
       "      <td>Torgersen</td>\n",
       "      <td>40.3</td>\n",
       "      <td>18.0</td>\n",
       "      <td>195.0</td>\n",
       "      <td>3250.0</td>\n",
       "      <td>Female</td>\n",
       "      <td>-64.7731</td>\n",
       "      <td>-64.0741</td>\n",
       "    </tr>\n",
       "    <tr>\n",
       "      <th>3</th>\n",
       "      <td>Adelie</td>\n",
       "      <td>Torgersen</td>\n",
       "      <td>NaN</td>\n",
       "      <td>NaN</td>\n",
       "      <td>NaN</td>\n",
       "      <td>NaN</td>\n",
       "      <td>NaN</td>\n",
       "      <td>-64.7731</td>\n",
       "      <td>-64.0741</td>\n",
       "    </tr>\n",
       "    <tr>\n",
       "      <th>4</th>\n",
       "      <td>Adelie</td>\n",
       "      <td>Torgersen</td>\n",
       "      <td>36.7</td>\n",
       "      <td>19.3</td>\n",
       "      <td>193.0</td>\n",
       "      <td>3450.0</td>\n",
       "      <td>Female</td>\n",
       "      <td>-64.7731</td>\n",
       "      <td>-64.0741</td>\n",
       "    </tr>\n",
       "    <tr>\n",
       "      <th>5</th>\n",
       "      <td>Adelie</td>\n",
       "      <td>Torgersen</td>\n",
       "      <td>39.3</td>\n",
       "      <td>20.6</td>\n",
       "      <td>190.0</td>\n",
       "      <td>3650.0</td>\n",
       "      <td>Male</td>\n",
       "      <td>-64.7731</td>\n",
       "      <td>-64.0741</td>\n",
       "    </tr>\n",
       "    <tr>\n",
       "      <th>6</th>\n",
       "      <td>Adelie</td>\n",
       "      <td>Torgersen</td>\n",
       "      <td>38.9</td>\n",
       "      <td>17.8</td>\n",
       "      <td>181.0</td>\n",
       "      <td>3625.0</td>\n",
       "      <td>Female</td>\n",
       "      <td>-64.7731</td>\n",
       "      <td>-64.0741</td>\n",
       "    </tr>\n",
       "    <tr>\n",
       "      <th>7</th>\n",
       "      <td>Adelie</td>\n",
       "      <td>Torgersen</td>\n",
       "      <td>39.2</td>\n",
       "      <td>19.6</td>\n",
       "      <td>195.0</td>\n",
       "      <td>4675.0</td>\n",
       "      <td>Male</td>\n",
       "      <td>-64.7731</td>\n",
       "      <td>-64.0741</td>\n",
       "    </tr>\n",
       "  </tbody>\n",
       "</table>\n",
       "</div>"
      ],
      "text/plain": [
       "  species     island  bill_length_mm  bill_depth_mm  flipper_length_mm  \\\n",
       "0  Adelie  Torgersen            39.1           18.7              181.0   \n",
       "1  Adelie  Torgersen            39.5           17.4              186.0   \n",
       "2  Adelie  Torgersen            40.3           18.0              195.0   \n",
       "3  Adelie  Torgersen             NaN            NaN                NaN   \n",
       "4  Adelie  Torgersen            36.7           19.3              193.0   \n",
       "5  Adelie  Torgersen            39.3           20.6              190.0   \n",
       "6  Adelie  Torgersen            38.9           17.8              181.0   \n",
       "7  Adelie  Torgersen            39.2           19.6              195.0   \n",
       "\n",
       "   body_mass_g     sex  latitude  longitude  \n",
       "0       3750.0    Male  -64.7731   -64.0741  \n",
       "1       3800.0  Female  -64.7731   -64.0741  \n",
       "2       3250.0  Female  -64.7731   -64.0741  \n",
       "3          NaN     NaN  -64.7731   -64.0741  \n",
       "4       3450.0  Female  -64.7731   -64.0741  \n",
       "5       3650.0    Male  -64.7731   -64.0741  \n",
       "6       3625.0  Female  -64.7731   -64.0741  \n",
       "7       4675.0    Male  -64.7731   -64.0741  "
      ]
     },
     "execution_count": 12,
     "metadata": {},
     "output_type": "execute_result"
    }
   ],
   "source": [
    "penguins_new = pd.merge(penguins, islands, how=\"left\", on=\"island\")\n",
    "penguins_new.head(8)"
   ]
  },
  {
   "cell_type": "markdown",
   "metadata": {
    "slideshow": {
     "slide_type": "fragment"
    }
   },
   "source": [
    "#### Alternativer Syntax"
   ]
  },
  {
   "cell_type": "code",
   "execution_count": 13,
   "metadata": {
    "slideshow": {
     "slide_type": "-"
    }
   },
   "outputs": [
    {
     "data": {
      "text/html": [
       "<div>\n",
       "<style scoped>\n",
       "    .dataframe tbody tr th:only-of-type {\n",
       "        vertical-align: middle;\n",
       "    }\n",
       "\n",
       "    .dataframe tbody tr th {\n",
       "        vertical-align: top;\n",
       "    }\n",
       "\n",
       "    .dataframe thead th {\n",
       "        text-align: right;\n",
       "    }\n",
       "</style>\n",
       "<table border=\"1\" class=\"dataframe\">\n",
       "  <thead>\n",
       "    <tr style=\"text-align: right;\">\n",
       "      <th></th>\n",
       "      <th>species</th>\n",
       "      <th>island</th>\n",
       "      <th>bill_length_mm</th>\n",
       "      <th>bill_depth_mm</th>\n",
       "      <th>flipper_length_mm</th>\n",
       "      <th>body_mass_g</th>\n",
       "      <th>sex</th>\n",
       "      <th>latitude</th>\n",
       "      <th>longitude</th>\n",
       "    </tr>\n",
       "  </thead>\n",
       "  <tbody>\n",
       "    <tr>\n",
       "      <th>0</th>\n",
       "      <td>Adelie</td>\n",
       "      <td>Torgersen</td>\n",
       "      <td>39.1</td>\n",
       "      <td>18.7</td>\n",
       "      <td>181.0</td>\n",
       "      <td>3750.0</td>\n",
       "      <td>Male</td>\n",
       "      <td>-64.7731</td>\n",
       "      <td>-64.0741</td>\n",
       "    </tr>\n",
       "    <tr>\n",
       "      <th>1</th>\n",
       "      <td>Adelie</td>\n",
       "      <td>Torgersen</td>\n",
       "      <td>39.5</td>\n",
       "      <td>17.4</td>\n",
       "      <td>186.0</td>\n",
       "      <td>3800.0</td>\n",
       "      <td>Female</td>\n",
       "      <td>-64.7731</td>\n",
       "      <td>-64.0741</td>\n",
       "    </tr>\n",
       "  </tbody>\n",
       "</table>\n",
       "</div>"
      ],
      "text/plain": [
       "  species     island  bill_length_mm  bill_depth_mm  flipper_length_mm  \\\n",
       "0  Adelie  Torgersen            39.1           18.7              181.0   \n",
       "1  Adelie  Torgersen            39.5           17.4              186.0   \n",
       "\n",
       "   body_mass_g     sex  latitude  longitude  \n",
       "0       3750.0    Male  -64.7731   -64.0741  \n",
       "1       3800.0  Female  -64.7731   -64.0741  "
      ]
     },
     "execution_count": 13,
     "metadata": {},
     "output_type": "execute_result"
    }
   ],
   "source": [
    "penguins_new_2 = penguins.merge(islands, how=\"left\", on=\"island\")\n",
    "penguins_new_2.head(2)"
   ]
  },
  {
   "cell_type": "markdown",
   "metadata": {
    "slideshow": {
     "slide_type": "-"
    }
   },
   "source": [
    "#### Hinweis\n",
    "Mit der Option <font color=\"red\">how=\"left\"</font> wird sichergestellt, dass nur Inselnamen, die in der linken Tabelle (penguins) vorkommen, in der neuen Tabelle landen."
   ]
  },
  {
   "cell_type": "markdown",
   "metadata": {
    "slideshow": {
     "slide_type": "subslide"
    }
   },
   "source": [
    "### Zusammenfassung:\n",
    " - Mit der Funktion <font color=\"red\">concat()</font> können mehrere Tabellen sowohl spalten- als auch zeilenweise aneinandergehängt werden.\n",
    " - Für das datenbankähnliche Zusammenführen von Tabellen kann die <font color=\"red\">merge()</font> Funtion verwendet werden."
   ]
  },
  {
   "cell_type": "markdown",
   "metadata": {
    "slideshow": {
     "slide_type": "slide"
    }
   },
   "source": [
    "### Ein genauerer Blick auf die Daten\n",
    "Für einen allgemeinen Überblick zu den gängigen statistischen Kennwerten eines **DataFrame** hatten wir bereits die Pandas Methode <font color='red'>describe()</font> kennen gelernt."
   ]
  },
  {
   "cell_type": "code",
   "execution_count": 14,
   "metadata": {
    "slideshow": {
     "slide_type": "-"
    }
   },
   "outputs": [
    {
     "data": {
      "text/html": [
       "<div>\n",
       "<style scoped>\n",
       "    .dataframe tbody tr th:only-of-type {\n",
       "        vertical-align: middle;\n",
       "    }\n",
       "\n",
       "    .dataframe tbody tr th {\n",
       "        vertical-align: top;\n",
       "    }\n",
       "\n",
       "    .dataframe thead th {\n",
       "        text-align: right;\n",
       "    }\n",
       "</style>\n",
       "<table border=\"1\" class=\"dataframe\">\n",
       "  <thead>\n",
       "    <tr style=\"text-align: right;\">\n",
       "      <th></th>\n",
       "      <th>bill_length_mm</th>\n",
       "      <th>bill_depth_mm</th>\n",
       "      <th>flipper_length_mm</th>\n",
       "      <th>body_mass_g</th>\n",
       "    </tr>\n",
       "  </thead>\n",
       "  <tbody>\n",
       "    <tr>\n",
       "      <th>count</th>\n",
       "      <td>342.000000</td>\n",
       "      <td>342.000000</td>\n",
       "      <td>342.000000</td>\n",
       "      <td>342.000000</td>\n",
       "    </tr>\n",
       "    <tr>\n",
       "      <th>mean</th>\n",
       "      <td>43.921930</td>\n",
       "      <td>17.151170</td>\n",
       "      <td>200.915205</td>\n",
       "      <td>4201.754386</td>\n",
       "    </tr>\n",
       "    <tr>\n",
       "      <th>std</th>\n",
       "      <td>5.459584</td>\n",
       "      <td>1.974793</td>\n",
       "      <td>14.061714</td>\n",
       "      <td>801.954536</td>\n",
       "    </tr>\n",
       "    <tr>\n",
       "      <th>min</th>\n",
       "      <td>32.100000</td>\n",
       "      <td>13.100000</td>\n",
       "      <td>172.000000</td>\n",
       "      <td>2700.000000</td>\n",
       "    </tr>\n",
       "    <tr>\n",
       "      <th>25%</th>\n",
       "      <td>39.225000</td>\n",
       "      <td>15.600000</td>\n",
       "      <td>190.000000</td>\n",
       "      <td>3550.000000</td>\n",
       "    </tr>\n",
       "    <tr>\n",
       "      <th>50%</th>\n",
       "      <td>44.450000</td>\n",
       "      <td>17.300000</td>\n",
       "      <td>197.000000</td>\n",
       "      <td>4050.000000</td>\n",
       "    </tr>\n",
       "    <tr>\n",
       "      <th>75%</th>\n",
       "      <td>48.500000</td>\n",
       "      <td>18.700000</td>\n",
       "      <td>213.000000</td>\n",
       "      <td>4750.000000</td>\n",
       "    </tr>\n",
       "    <tr>\n",
       "      <th>max</th>\n",
       "      <td>59.600000</td>\n",
       "      <td>21.500000</td>\n",
       "      <td>231.000000</td>\n",
       "      <td>6300.000000</td>\n",
       "    </tr>\n",
       "  </tbody>\n",
       "</table>\n",
       "</div>"
      ],
      "text/plain": [
       "       bill_length_mm  bill_depth_mm  flipper_length_mm  body_mass_g\n",
       "count      342.000000     342.000000         342.000000   342.000000\n",
       "mean        43.921930      17.151170         200.915205  4201.754386\n",
       "std          5.459584       1.974793          14.061714   801.954536\n",
       "min         32.100000      13.100000         172.000000  2700.000000\n",
       "25%         39.225000      15.600000         190.000000  3550.000000\n",
       "50%         44.450000      17.300000         197.000000  4050.000000\n",
       "75%         48.500000      18.700000         213.000000  4750.000000\n",
       "max         59.600000      21.500000         231.000000  6300.000000"
      ]
     },
     "execution_count": 14,
     "metadata": {},
     "output_type": "execute_result"
    }
   ],
   "source": [
    "penguins.describe()"
   ]
  },
  {
   "cell_type": "markdown",
   "metadata": {
    "slideshow": {
     "slide_type": "fragment"
    }
   },
   "source": [
    "Für die meißten statistischen Kennwerte hat Pandas eine Methode die direkt auf Spalten mit numerischen Daten angewendet werden kann:"
   ]
  },
  {
   "cell_type": "code",
   "execution_count": 15,
   "metadata": {
    "slideshow": {
     "slide_type": "-"
    }
   },
   "outputs": [
    {
     "data": {
      "text/plain": [
       "4201.754385964912"
      ]
     },
     "execution_count": 15,
     "metadata": {},
     "output_type": "execute_result"
    }
   ],
   "source": [
    "penguins[\"body_mass_g\"].mean()"
   ]
  },
  {
   "cell_type": "code",
   "execution_count": 16,
   "metadata": {
    "slideshow": {
     "slide_type": "-"
    }
   },
   "outputs": [
    {
     "data": {
      "text/plain": [
       "bill_length_mm    44.45\n",
       "bill_depth_mm     17.30\n",
       "dtype: float64"
      ]
     },
     "execution_count": 16,
     "metadata": {},
     "output_type": "execute_result"
    }
   ],
   "source": [
    "penguins[[\"bill_length_mm\",\"bill_depth_mm\"]].median()"
   ]
  },
  {
   "cell_type": "markdown",
   "metadata": {
    "slideshow": {
     "slide_type": "fragment"
    }
   },
   "source": [
    "#### Aber was, wenn ich einzelne Untergruppen, zum Beispiel die Pinguinart, unterscheiden möchte?"
   ]
  },
  {
   "cell_type": "markdown",
   "metadata": {
    "slideshow": {
     "slide_type": "slide"
    }
   },
   "source": [
    "## Groupby\n",
    "Mit \"*group by*\" beziehen wir uns auf einen Prozess, der einen oder mehrere der folgenden Schritte umfasst:\n",
    "- **Split**: Aufteilen der Daten in Gruppen anhand von bestimmten Kriterien.\n",
    "- **Apply**: Anwenden einer Funktion oder Methode auf jede der Gruppe.\n",
    "- **Combine**: Kombinieren und Zu Ergebnisse zu einer Datenstruktur.\n",
    "\n",
    "Ganz konkret findet dieses so genannte <font color=\"red\">split-apply-combine</font> Pattern Anwendung bei der Berechnung individueller Statistiken für einzelne Kategorien oder Gruppen innerhalb eines **DataFrame**.\n",
    "\n",
    "Mit der Pandas <font color=\"red\">groupby()</font> Methode werden alle Schritte des Pattern automatisch kombiniert.\n",
    "\n",
    "\\\n",
    "\\\n",
    "Quelle:\n",
    "https://pandas.pydata.org/pandas-docs/stable/getting_started/intro_tutorials/06_calculate_statistics.html"
   ]
  },
  {
   "cell_type": "markdown",
   "metadata": {
    "slideshow": {
     "slide_type": "slide"
    }
   },
   "source": [
    "### Beispiel\n",
    "- Was ist das <font color=\"green\">mittlere</font> **<font color=\"peachpuff\">Körpergewicht</font>** der einzelnen <font color=\"red\">Pinguinarten</font>?"
   ]
  },
  {
   "cell_type": "code",
   "execution_count": 17,
   "metadata": {
    "slideshow": {
     "slide_type": "fragment"
    }
   },
   "outputs": [
    {
     "data": {
      "text/plain": [
       "species\n",
       "Adelie       3700.662252\n",
       "Chinstrap    3733.088235\n",
       "Gentoo       5076.016260\n",
       "Name: body_mass_g, dtype: float64"
      ]
     },
     "execution_count": 17,
     "metadata": {},
     "output_type": "execute_result"
    }
   ],
   "source": [
    "penguins.groupby(\"species\")[\"body_mass_g\"].mean()"
   ]
  },
  {
   "cell_type": "markdown",
   "metadata": {
    "slideshow": {
     "slide_type": "-"
    }
   },
   "source": [
    "![Grupby](images\\Groupby.png)"
   ]
  },
  {
   "cell_type": "markdown",
   "metadata": {
    "slideshow": {
     "slide_type": "slide"
    }
   },
   "source": [
    "Wir können auch nach mehreren Eigenschaften gleichzeitig sortieren:"
   ]
  },
  {
   "cell_type": "code",
   "execution_count": 18,
   "metadata": {
    "slideshow": {
     "slide_type": "-"
    }
   },
   "outputs": [
    {
     "data": {
      "text/plain": [
       "species    island   \n",
       "Adelie     Biscoe       3709.659091\n",
       "           Dream        3688.392857\n",
       "           Torgersen    3706.372549\n",
       "Chinstrap  Dream        3733.088235\n",
       "Gentoo     Biscoe       5076.016260\n",
       "Name: body_mass_g, dtype: float64"
      ]
     },
     "execution_count": 18,
     "metadata": {},
     "output_type": "execute_result"
    }
   ],
   "source": [
    "penguins.groupby([\"species\",\"island\"])[\"body_mass_g\"].mean()"
   ]
  },
  {
   "cell_type": "markdown",
   "metadata": {
    "slideshow": {
     "slide_type": "-"
    }
   },
   "source": [
    "#### Hinweis\n",
    "Der Funktionsumfang von <font color=\"red\"> groupby()</font> ist enorm. Mehr dazu unter:\\\n",
    "https://pandas.pydata.org/pandas-docs/stable/user_guide/groupby.html"
   ]
  },
  {
   "cell_type": "markdown",
   "metadata": {
    "slideshow": {
     "slide_type": "slide"
    }
   },
   "source": [
    "## Überblick über die Datums- und Zeitfunktionalität\n",
    "Pandas hat eine Vielzahl von Funktionen zur einfachen Bearbeitung von Zeitreihendaten. Dazu gehört zum Beispiel:\n",
    "\n",
    "- Analysieren von Zeitreiheninformationen aus verschiedenen Quellen und Formaten\n",
    "- Resampling einer Zeitreihe in eine bestimmte Frequenz\n",
    "- Berechnungen mit relativen und absoluten Zeitschritten\n",
    "- Konvertieren von Datums- und Uhrzeitangaben mit Zeitzoneninformationen\n",
    "\n",
    "\\\n",
    "Pandas nutzt dafür die NumPy Datentypen *datetime64* und *timedelta64*, und hat ein eigenes **datetime** Objekt.\n",
    "\n",
    "\\\n",
    "\\\n",
    "Quelle:\n",
    "https://pandas.pydata.org/pandas-docs/stable/user_guide/timeseries.html"
   ]
  },
  {
   "cell_type": "markdown",
   "metadata": {
    "slideshow": {
     "slide_type": "slide"
    }
   },
   "source": [
    "### Pandas datetime \n",
    "#### Beispieldaten: Durchflussmessungen an der Dreisam"
   ]
  },
  {
   "cell_type": "code",
   "execution_count": 19,
   "metadata": {
    "slideshow": {
     "slide_type": "-"
    }
   },
   "outputs": [
    {
     "data": {
      "text/html": [
       "<div>\n",
       "<style scoped>\n",
       "    .dataframe tbody tr th:only-of-type {\n",
       "        vertical-align: middle;\n",
       "    }\n",
       "\n",
       "    .dataframe tbody tr th {\n",
       "        vertical-align: top;\n",
       "    }\n",
       "\n",
       "    .dataframe thead th {\n",
       "        text-align: right;\n",
       "    }\n",
       "</style>\n",
       "<table border=\"1\" class=\"dataframe\">\n",
       "  <thead>\n",
       "    <tr style=\"text-align: right;\">\n",
       "      <th></th>\n",
       "      <th>Messstellennummer</th>\n",
       "      <th>Stationsname</th>\n",
       "      <th>Gewaesser</th>\n",
       "      <th>Parameter</th>\n",
       "      <th>Datum/Uhrzeit</th>\n",
       "      <th>Wert</th>\n",
       "      <th>Einheit</th>\n",
       "      <th>Produkt</th>\n",
       "    </tr>\n",
       "  </thead>\n",
       "  <tbody>\n",
       "    <tr>\n",
       "      <th>0</th>\n",
       "      <td>61239</td>\n",
       "      <td>Ebnet Dreisam</td>\n",
       "      <td>Dreisam</td>\n",
       "      <td>Q</td>\n",
       "      <td>01.01.2021 00:00</td>\n",
       "      <td>6.558</td>\n",
       "      <td>m3/s</td>\n",
       "      <td>Stundenmittelwert</td>\n",
       "    </tr>\n",
       "    <tr>\n",
       "      <th>1</th>\n",
       "      <td>61239</td>\n",
       "      <td>Ebnet Dreisam</td>\n",
       "      <td>Dreisam</td>\n",
       "      <td>Q</td>\n",
       "      <td>01.01.2021 01:00</td>\n",
       "      <td>6.552</td>\n",
       "      <td>m3/s</td>\n",
       "      <td>Stundenmittelwert</td>\n",
       "    </tr>\n",
       "    <tr>\n",
       "      <th>2</th>\n",
       "      <td>61239</td>\n",
       "      <td>Ebnet Dreisam</td>\n",
       "      <td>Dreisam</td>\n",
       "      <td>Q</td>\n",
       "      <td>01.01.2021 02:00</td>\n",
       "      <td>6.574</td>\n",
       "      <td>m3/s</td>\n",
       "      <td>Stundenmittelwert</td>\n",
       "    </tr>\n",
       "  </tbody>\n",
       "</table>\n",
       "</div>"
      ],
      "text/plain": [
       "   Messstellennummer   Stationsname Gewaesser Parameter     Datum/Uhrzeit  \\\n",
       "0              61239  Ebnet Dreisam   Dreisam         Q  01.01.2021 00:00   \n",
       "1              61239  Ebnet Dreisam   Dreisam         Q  01.01.2021 01:00   \n",
       "2              61239  Ebnet Dreisam   Dreisam         Q  01.01.2021 02:00   \n",
       "\n",
       "    Wert Einheit            Produkt  \n",
       "0  6.558    m3/s  Stundenmittelwert  \n",
       "1  6.552    m3/s  Stundenmittelwert  \n",
       "2  6.574    m3/s  Stundenmittelwert  "
      ]
     },
     "execution_count": 19,
     "metadata": {},
     "output_type": "execute_result"
    }
   ],
   "source": [
    "# https://udo.lubw.baden-wuerttemberg.de/public/\n",
    "dreisam = pd.read_csv(\"example_data\\Dreisam_Durchfluss_h.csv\", sep=\",\")\n",
    "dreisam.head(3)"
   ]
  },
  {
   "cell_type": "code",
   "execution_count": 20,
   "metadata": {
    "slideshow": {
     "slide_type": "-"
    }
   },
   "outputs": [
    {
     "data": {
      "text/plain": [
       "array(['01.01.2021 00:00', '01.01.2021 01:00', '01.01.2021 02:00', ...,\n",
       "       '22.02.2021 20:00', '22.02.2021 21:00', '22.02.2021 22:00'],\n",
       "      dtype=object)"
      ]
     },
     "execution_count": 20,
     "metadata": {},
     "output_type": "execute_result"
    }
   ],
   "source": [
    "# Die Datum/Uhrzeit - Spalte ist vom Datentyp \"Objekt\"\n",
    "dreisam[\"Datum/Uhrzeit\"].values"
   ]
  },
  {
   "cell_type": "markdown",
   "metadata": {
    "slideshow": {
     "slide_type": "fragment"
    }
   },
   "source": [
    "Die Werte in <font color=\"red\">Datum/Uhrzeit</font> des **DataFrame** sind als Zeichenketten gespeichert. Damit lassen sich aber noch keine **datetime** Operationen durchführen. Erst unter Verwendung der <font color=\"red\">to_datetime</font> Funktion, wird aus der Zeichenabfolge, ein sogenanntes *datetime* Objekt vom Typ <font color=\"red\">datetime64[ns]</font>:"
   ]
  },
  {
   "cell_type": "code",
   "execution_count": 21,
   "metadata": {
    "slideshow": {
     "slide_type": "-"
    }
   },
   "outputs": [
    {
     "name": "stdout",
     "output_type": "stream",
     "text": [
      "<class 'pandas.core.frame.DataFrame'>\n",
      "RangeIndex: 1264 entries, 0 to 1263\n",
      "Data columns (total 9 columns):\n",
      " #   Column             Non-Null Count  Dtype         \n",
      "---  ------             --------------  -----         \n",
      " 0   Messstellennummer  1264 non-null   int64         \n",
      " 1   Stationsname       1264 non-null   object        \n",
      " 2   Gewaesser          1264 non-null   object        \n",
      " 3   Parameter          1264 non-null   object        \n",
      " 4   Datum/Uhrzeit      1264 non-null   object        \n",
      " 5   Wert               1264 non-null   float64       \n",
      " 6   Einheit            1264 non-null   object        \n",
      " 7   Produkt            1264 non-null   object        \n",
      " 8   datetime           1264 non-null   datetime64[ns]\n",
      "dtypes: datetime64[ns](1), float64(1), int64(1), object(6)\n",
      "memory usage: 89.0+ KB\n"
     ]
    }
   ],
   "source": [
    "dreisam[\"datetime\"] = pd.to_datetime(dreisam[\"Datum/Uhrzeit\"],dayfirst=True) # deutsches Datum\n",
    "dreisam.info()"
   ]
  },
  {
   "cell_type": "markdown",
   "metadata": {
    "slideshow": {
     "slide_type": "slide"
    }
   },
   "source": [
    "Tatsächlich lässt sich das **datetime** Objekt bereits beim Laden von Daten über die Pandas <font color=\"red\">read_*</font> Funktionen festlegen:"
   ]
  },
  {
   "cell_type": "code",
   "execution_count": 22,
   "metadata": {
    "slideshow": {
     "slide_type": "-"
    }
   },
   "outputs": [
    {
     "name": "stdout",
     "output_type": "stream",
     "text": [
      "<class 'pandas.core.frame.DataFrame'>\n",
      "RangeIndex: 1264 entries, 0 to 1263\n",
      "Data columns (total 8 columns):\n",
      " #   Column             Non-Null Count  Dtype         \n",
      "---  ------             --------------  -----         \n",
      " 0   Messstellennummer  1264 non-null   int64         \n",
      " 1   Stationsname       1264 non-null   object        \n",
      " 2   Gewaesser          1264 non-null   object        \n",
      " 3   Parameter          1264 non-null   object        \n",
      " 4   Datum/Uhrzeit      1264 non-null   datetime64[ns]\n",
      " 5   Wert               1264 non-null   float64       \n",
      " 6   Einheit            1264 non-null   object        \n",
      " 7   Produkt            1264 non-null   object        \n",
      "dtypes: datetime64[ns](1), float64(1), int64(1), object(5)\n",
      "memory usage: 79.1+ KB\n"
     ]
    }
   ],
   "source": [
    "dreisam_2 = pd.read_csv(\"example_data\\Dreisam_Durchfluss_h.csv\",sep=\",\", parse_dates=[\"Datum/Uhrzeit\"])\n",
    "dreisam_2.info()"
   ]
  },
  {
   "cell_type": "markdown",
   "metadata": {
    "slideshow": {
     "slide_type": "subslide"
    }
   },
   "source": [
    "### Analysieren der Daten mit datetime"
   ]
  },
  {
   "cell_type": "markdown",
   "metadata": {
    "slideshow": {
     "slide_type": "-"
    }
   },
   "source": [
    "#### Ausgabe eines bestimmten Zeitpunktes "
   ]
  },
  {
   "cell_type": "code",
   "execution_count": 23,
   "metadata": {
    "slideshow": {
     "slide_type": "-"
    }
   },
   "outputs": [
    {
     "data": {
      "text/plain": [
       "(Timestamp('2021-01-01 00:00:00'), Timestamp('2021-02-22 22:00:00'))"
      ]
     },
     "execution_count": 23,
     "metadata": {},
     "output_type": "execute_result"
    }
   ],
   "source": [
    "# Beginn und Ende der Zeitreihe\n",
    "dreisam[\"datetime\"].min(), dreisam[\"datetime\"].max()"
   ]
  },
  {
   "cell_type": "markdown",
   "metadata": {
    "slideshow": {
     "slide_type": "fragment"
    }
   },
   "source": [
    "#### Ausgabe einer Zeitdauer"
   ]
  },
  {
   "cell_type": "code",
   "execution_count": 24,
   "metadata": {
    "slideshow": {
     "slide_type": "-"
    }
   },
   "outputs": [
    {
     "data": {
      "text/plain": [
       "Timedelta('52 days 22:00:00')"
      ]
     },
     "execution_count": 24,
     "metadata": {},
     "output_type": "execute_result"
    }
   ],
   "source": [
    "# Einfache Berechnungen: Dauer der Zeitreihe\n",
    "dreisam[\"datetime\"].max() - dreisam[\"datetime\"].min()"
   ]
  },
  {
   "cell_type": "markdown",
   "metadata": {
    "slideshow": {
     "slide_type": "fragment"
    }
   },
   "source": [
    "Pandas unterscheid hier zwischen zwei verschiedenen Konzepten und Klassen:\n",
    "\n",
    "1. **Date times** als <font color=\"red\">Timestamp</font> - Ein bestimmtes Datum oder eine konkrete Uhrzeit. Zum Beispiel mit dem Datentyp <font color=\"red\">datetime64[ns]</font>. \n",
    "2. **Time deltas** als <font color=\"red\">Timedelta</font> - Eine absolute Zeitdauer mit dem Datentyp <font color=\"red\">timedelta64[ns]</font>."
   ]
  },
  {
   "cell_type": "markdown",
   "metadata": {
    "slideshow": {
     "slide_type": "slide"
    }
   },
   "source": [
    "### Weitere Datumsfunktionalitäten"
   ]
  },
  {
   "cell_type": "markdown",
   "metadata": {
    "slideshow": {
     "slide_type": "-"
    }
   },
   "source": [
    "Mit dem <font color=\"red\">dt</font> Accessor (Attribut) können wir uns zum Beispiel nur den Monat aus dem **datetime** Objekt ausgeben lassen:"
   ]
  },
  {
   "cell_type": "code",
   "execution_count": 25,
   "metadata": {
    "slideshow": {
     "slide_type": "-"
    }
   },
   "outputs": [
    {
     "data": {
      "text/html": [
       "<div>\n",
       "<style scoped>\n",
       "    .dataframe tbody tr th:only-of-type {\n",
       "        vertical-align: middle;\n",
       "    }\n",
       "\n",
       "    .dataframe tbody tr th {\n",
       "        vertical-align: top;\n",
       "    }\n",
       "\n",
       "    .dataframe thead th {\n",
       "        text-align: right;\n",
       "    }\n",
       "</style>\n",
       "<table border=\"1\" class=\"dataframe\">\n",
       "  <thead>\n",
       "    <tr style=\"text-align: right;\">\n",
       "      <th></th>\n",
       "      <th>Messstellennummer</th>\n",
       "      <th>Stationsname</th>\n",
       "      <th>Gewaesser</th>\n",
       "      <th>Parameter</th>\n",
       "      <th>Datum/Uhrzeit</th>\n",
       "      <th>Wert</th>\n",
       "      <th>Einheit</th>\n",
       "      <th>Produkt</th>\n",
       "      <th>datetime</th>\n",
       "      <th>Monat</th>\n",
       "    </tr>\n",
       "  </thead>\n",
       "  <tbody>\n",
       "    <tr>\n",
       "      <th>0</th>\n",
       "      <td>61239</td>\n",
       "      <td>Ebnet Dreisam</td>\n",
       "      <td>Dreisam</td>\n",
       "      <td>Q</td>\n",
       "      <td>01.01.2021 00:00</td>\n",
       "      <td>6.558</td>\n",
       "      <td>m3/s</td>\n",
       "      <td>Stundenmittelwert</td>\n",
       "      <td>2021-01-01 00:00:00</td>\n",
       "      <td>1</td>\n",
       "    </tr>\n",
       "    <tr>\n",
       "      <th>1</th>\n",
       "      <td>61239</td>\n",
       "      <td>Ebnet Dreisam</td>\n",
       "      <td>Dreisam</td>\n",
       "      <td>Q</td>\n",
       "      <td>01.01.2021 01:00</td>\n",
       "      <td>6.552</td>\n",
       "      <td>m3/s</td>\n",
       "      <td>Stundenmittelwert</td>\n",
       "      <td>2021-01-01 01:00:00</td>\n",
       "      <td>1</td>\n",
       "    </tr>\n",
       "    <tr>\n",
       "      <th>2</th>\n",
       "      <td>61239</td>\n",
       "      <td>Ebnet Dreisam</td>\n",
       "      <td>Dreisam</td>\n",
       "      <td>Q</td>\n",
       "      <td>01.01.2021 02:00</td>\n",
       "      <td>6.574</td>\n",
       "      <td>m3/s</td>\n",
       "      <td>Stundenmittelwert</td>\n",
       "      <td>2021-01-01 02:00:00</td>\n",
       "      <td>1</td>\n",
       "    </tr>\n",
       "  </tbody>\n",
       "</table>\n",
       "</div>"
      ],
      "text/plain": [
       "   Messstellennummer   Stationsname Gewaesser Parameter     Datum/Uhrzeit  \\\n",
       "0              61239  Ebnet Dreisam   Dreisam         Q  01.01.2021 00:00   \n",
       "1              61239  Ebnet Dreisam   Dreisam         Q  01.01.2021 01:00   \n",
       "2              61239  Ebnet Dreisam   Dreisam         Q  01.01.2021 02:00   \n",
       "\n",
       "    Wert Einheit            Produkt            datetime  Monat  \n",
       "0  6.558    m3/s  Stundenmittelwert 2021-01-01 00:00:00      1  \n",
       "1  6.552    m3/s  Stundenmittelwert 2021-01-01 01:00:00      1  \n",
       "2  6.574    m3/s  Stundenmittelwert 2021-01-01 02:00:00      1  "
      ]
     },
     "execution_count": 25,
     "metadata": {},
     "output_type": "execute_result"
    }
   ],
   "source": [
    "# Neue Spalte mit den Monaten\n",
    "dreisam[\"Monat\"] = dreisam[\"datetime\"].dt.month\n",
    "dreisam.head(3)"
   ]
  },
  {
   "cell_type": "markdown",
   "metadata": {
    "slideshow": {
     "slide_type": "fragment"
    }
   },
   "source": [
    "In Kombination mit der <font color=\"red\">groupby()</font> Funktion können wir auf einfache Art und Weise Mittelwerte für jeden Monat und Tag berechnen und plotten:"
   ]
  },
  {
   "cell_type": "code",
   "execution_count": 26,
   "metadata": {
    "slideshow": {
     "slide_type": "slide"
    }
   },
   "outputs": [
    {
     "data": {
      "image/png": "[encoded data removed]",
      "text/plain": [
       "<Figure size 864x432 with 1 Axes>"
      ]
     },
     "metadata": {},
     "output_type": "display_data"
    }
   ],
   "source": [
    "fig, ax = plt.subplots(figsize=(12, 6))\n",
    "\n",
    "# mittlerer Durchfluss nach Monat und Tag\n",
    "df = dreisam.groupby(by=[dreisam[\"datetime\"].dt.month,\n",
    "                         dreisam[\"datetime\"].dt.day])[\"Wert\"].mean()\n",
    "\n",
    "# Plotting\n",
    "df.unstack(level=0).plot(kind='bar',ax=ax)\n",
    "ax.set_xlabel(\"Day of the month\",fontsize = 20)\n",
    "ax.set_ylabel(\"Q $(m^3/s)$\", fontsize = 20)\n",
    "ax.legend(labels=[\"Januar\",\"Februar\"])\n",
    "plt.tight_layout()"
   ]
  },
  {
   "cell_type": "markdown",
   "metadata": {
    "slideshow": {
     "slide_type": "slide"
    }
   },
   "source": [
    "### Datetime als Index\n",
    "Den größten Funktionsumfang bietet Pandas allerdings, wenn wir die Datum- und Uhrzeitinformationen aus dem **datetime** Objekt als <font color=\"red\">Index</font> verwenden:"
   ]
  },
  {
   "cell_type": "code",
   "execution_count": 27,
   "metadata": {
    "slideshow": {
     "slide_type": "-"
    }
   },
   "outputs": [
    {
     "data": {
      "text/html": [
       "<div>\n",
       "<style scoped>\n",
       "    .dataframe tbody tr th:only-of-type {\n",
       "        vertical-align: middle;\n",
       "    }\n",
       "\n",
       "    .dataframe tbody tr th {\n",
       "        vertical-align: top;\n",
       "    }\n",
       "\n",
       "    .dataframe thead th {\n",
       "        text-align: right;\n",
       "    }\n",
       "</style>\n",
       "<table border=\"1\" class=\"dataframe\">\n",
       "  <thead>\n",
       "    <tr style=\"text-align: right;\">\n",
       "      <th></th>\n",
       "      <th>Messstellennummer</th>\n",
       "      <th>Stationsname</th>\n",
       "      <th>Gewaesser</th>\n",
       "      <th>Parameter</th>\n",
       "      <th>Datum/Uhrzeit</th>\n",
       "      <th>Wert</th>\n",
       "      <th>Einheit</th>\n",
       "      <th>Produkt</th>\n",
       "      <th>Monat</th>\n",
       "    </tr>\n",
       "    <tr>\n",
       "      <th>datetime</th>\n",
       "      <th></th>\n",
       "      <th></th>\n",
       "      <th></th>\n",
       "      <th></th>\n",
       "      <th></th>\n",
       "      <th></th>\n",
       "      <th></th>\n",
       "      <th></th>\n",
       "      <th></th>\n",
       "    </tr>\n",
       "  </thead>\n",
       "  <tbody>\n",
       "    <tr>\n",
       "      <th>2021-01-01 00:00:00</th>\n",
       "      <td>61239</td>\n",
       "      <td>Ebnet Dreisam</td>\n",
       "      <td>Dreisam</td>\n",
       "      <td>Q</td>\n",
       "      <td>01.01.2021 00:00</td>\n",
       "      <td>6.558</td>\n",
       "      <td>m3/s</td>\n",
       "      <td>Stundenmittelwert</td>\n",
       "      <td>1</td>\n",
       "    </tr>\n",
       "    <tr>\n",
       "      <th>2021-01-01 01:00:00</th>\n",
       "      <td>61239</td>\n",
       "      <td>Ebnet Dreisam</td>\n",
       "      <td>Dreisam</td>\n",
       "      <td>Q</td>\n",
       "      <td>01.01.2021 01:00</td>\n",
       "      <td>6.552</td>\n",
       "      <td>m3/s</td>\n",
       "      <td>Stundenmittelwert</td>\n",
       "      <td>1</td>\n",
       "    </tr>\n",
       "    <tr>\n",
       "      <th>2021-01-01 02:00:00</th>\n",
       "      <td>61239</td>\n",
       "      <td>Ebnet Dreisam</td>\n",
       "      <td>Dreisam</td>\n",
       "      <td>Q</td>\n",
       "      <td>01.01.2021 02:00</td>\n",
       "      <td>6.574</td>\n",
       "      <td>m3/s</td>\n",
       "      <td>Stundenmittelwert</td>\n",
       "      <td>1</td>\n",
       "    </tr>\n",
       "  </tbody>\n",
       "</table>\n",
       "</div>"
      ],
      "text/plain": [
       "                     Messstellennummer   Stationsname Gewaesser Parameter  \\\n",
       "datetime                                                                    \n",
       "2021-01-01 00:00:00              61239  Ebnet Dreisam   Dreisam         Q   \n",
       "2021-01-01 01:00:00              61239  Ebnet Dreisam   Dreisam         Q   \n",
       "2021-01-01 02:00:00              61239  Ebnet Dreisam   Dreisam         Q   \n",
       "\n",
       "                        Datum/Uhrzeit   Wert Einheit            Produkt  Monat  \n",
       "datetime                                                                        \n",
       "2021-01-01 00:00:00  01.01.2021 00:00  6.558    m3/s  Stundenmittelwert      1  \n",
       "2021-01-01 01:00:00  01.01.2021 01:00  6.552    m3/s  Stundenmittelwert      1  \n",
       "2021-01-01 02:00:00  01.01.2021 02:00  6.574    m3/s  Stundenmittelwert      1  "
      ]
     },
     "execution_count": 27,
     "metadata": {},
     "output_type": "execute_result"
    }
   ],
   "source": [
    "Q = dreisam.set_index(\"datetime\")\n",
    "Q.head(3)"
   ]
  },
  {
   "cell_type": "code",
   "execution_count": 28,
   "metadata": {
    "slideshow": {
     "slide_type": "fragment"
    }
   },
   "outputs": [
    {
     "name": "stdout",
     "output_type": "stream",
     "text": [
      "<class 'pandas.core.frame.DataFrame'>\n",
      "DatetimeIndex: 1264 entries, 2021-01-01 00:00:00 to 2021-02-22 22:00:00\n",
      "Data columns (total 9 columns):\n",
      " #   Column             Non-Null Count  Dtype  \n",
      "---  ------             --------------  -----  \n",
      " 0   Messstellennummer  1264 non-null   int64  \n",
      " 1   Stationsname       1264 non-null   object \n",
      " 2   Gewaesser          1264 non-null   object \n",
      " 3   Parameter          1264 non-null   object \n",
      " 4   Datum/Uhrzeit      1264 non-null   object \n",
      " 5   Wert               1264 non-null   float64\n",
      " 6   Einheit            1264 non-null   object \n",
      " 7   Produkt            1264 non-null   object \n",
      " 8   Monat              1264 non-null   int64  \n",
      "dtypes: float64(1), int64(2), object(6)\n",
      "memory usage: 98.8+ KB\n"
     ]
    }
   ],
   "source": [
    "Q.info()"
   ]
  },
  {
   "cell_type": "markdown",
   "metadata": {
    "slideshow": {
     "slide_type": "-"
    }
   },
   "source": [
    "#### Hinweis\n",
    "In Pandas kann die <font color=\"red\"> set_index()</font> Methode verwendet werden, um Spalten als Index zu verwenden."
   ]
  },
  {
   "cell_type": "markdown",
   "metadata": {
    "slideshow": {
     "slide_type": "slide"
    }
   },
   "source": [
    "### Indizieren einer Zeitreihe\n",
    "Der **datetime** Index lässt sich wie gewohnt indizieren. Damit können wir uns für die Dreisam zum Beispiel nur die Durchflusswerte für den Januar anschauen:"
   ]
  },
  {
   "cell_type": "code",
   "execution_count": 29,
   "metadata": {
    "slideshow": {
     "slide_type": "-"
    }
   },
   "outputs": [
    {
     "data": {
      "text/plain": [
       "Text(0, 0.5, 'Q $(m^3/s)$')"
      ]
     },
     "execution_count": 29,
     "metadata": {},
     "output_type": "execute_result"
    },
    {
     "data": {
      "image/png": "[encoded data removed]",
      "text/plain": [
       "<Figure size 1152x432 with 1 Axes>"
      ]
     },
     "metadata": {},
     "output_type": "display_data"
    }
   ],
   "source": [
    "Q.loc[\"2021-01-01\":\"2021-01-31\",\"Wert\"].plot(figsize=(16,6))\n",
    "# set axis labels\n",
    "plt.xlabel(\"Datum\", fontsize = 20)\n",
    "plt.ylabel(\"Q $(m^3/s)$\", fontsize = 20)"
   ]
  },
  {
   "cell_type": "markdown",
   "metadata": {
    "slideshow": {
     "slide_type": "slide"
    }
   },
   "source": [
    "### Resampling einer Zeitreihe\n",
    "Mit der <font color=\"red\"> resample()</font> Methode können wir unseren Datensatz mit einer anderen Frequenz samplen und uns zum Beispiel den maximalen Durchfluss der Dreisam je Monat ausgeben lassen:"
   ]
  },
  {
   "cell_type": "code",
   "execution_count": 30,
   "metadata": {
    "slideshow": {
     "slide_type": "-"
    }
   },
   "outputs": [
    {
     "data": {
      "text/html": [
       "<div>\n",
       "<style scoped>\n",
       "    .dataframe tbody tr th:only-of-type {\n",
       "        vertical-align: middle;\n",
       "    }\n",
       "\n",
       "    .dataframe tbody tr th {\n",
       "        vertical-align: top;\n",
       "    }\n",
       "\n",
       "    .dataframe thead th {\n",
       "        text-align: right;\n",
       "    }\n",
       "</style>\n",
       "<table border=\"1\" class=\"dataframe\">\n",
       "  <thead>\n",
       "    <tr style=\"text-align: right;\">\n",
       "      <th></th>\n",
       "      <th>Messstellennummer</th>\n",
       "      <th>Stationsname</th>\n",
       "      <th>Gewaesser</th>\n",
       "      <th>Parameter</th>\n",
       "      <th>Datum/Uhrzeit</th>\n",
       "      <th>Wert</th>\n",
       "      <th>Einheit</th>\n",
       "      <th>Produkt</th>\n",
       "      <th>Monat</th>\n",
       "    </tr>\n",
       "    <tr>\n",
       "      <th>datetime</th>\n",
       "      <th></th>\n",
       "      <th></th>\n",
       "      <th></th>\n",
       "      <th></th>\n",
       "      <th></th>\n",
       "      <th></th>\n",
       "      <th></th>\n",
       "      <th></th>\n",
       "      <th></th>\n",
       "    </tr>\n",
       "  </thead>\n",
       "  <tbody>\n",
       "    <tr>\n",
       "      <th>2021-01-31</th>\n",
       "      <td>61239</td>\n",
       "      <td>Ebnet Dreisam</td>\n",
       "      <td>Dreisam</td>\n",
       "      <td>Q</td>\n",
       "      <td>31.01.2021 23:00</td>\n",
       "      <td>69.460</td>\n",
       "      <td>m3/s</td>\n",
       "      <td>Stundenmittelwert</td>\n",
       "      <td>1</td>\n",
       "    </tr>\n",
       "    <tr>\n",
       "      <th>2021-02-28</th>\n",
       "      <td>61239</td>\n",
       "      <td>Ebnet Dreisam</td>\n",
       "      <td>Dreisam</td>\n",
       "      <td>Q</td>\n",
       "      <td>22.02.2021 22:00</td>\n",
       "      <td>66.775</td>\n",
       "      <td>m3/s</td>\n",
       "      <td>Stundenmittelwert</td>\n",
       "      <td>2</td>\n",
       "    </tr>\n",
       "  </tbody>\n",
       "</table>\n",
       "</div>"
      ],
      "text/plain": [
       "            Messstellennummer   Stationsname Gewaesser Parameter  \\\n",
       "datetime                                                           \n",
       "2021-01-31              61239  Ebnet Dreisam   Dreisam         Q   \n",
       "2021-02-28              61239  Ebnet Dreisam   Dreisam         Q   \n",
       "\n",
       "               Datum/Uhrzeit    Wert Einheit            Produkt  Monat  \n",
       "datetime                                                                \n",
       "2021-01-31  31.01.2021 23:00  69.460    m3/s  Stundenmittelwert      1  \n",
       "2021-02-28  22.02.2021 22:00  66.775    m3/s  Stundenmittelwert      2  "
      ]
     },
     "execution_count": 30,
     "metadata": {},
     "output_type": "execute_result"
    }
   ],
   "source": [
    "monthly_max = Q.resample(\"M\").max()\n",
    "monthly_max"
   ]
  },
  {
   "cell_type": "markdown",
   "metadata": {
    "slideshow": {
     "slide_type": "slide"
    }
   },
   "source": [
    "Oder wir mitteln die Werte für jeden Tag um die Zeitreihe zu glätten:"
   ]
  },
  {
   "cell_type": "code",
   "execution_count": 31,
   "metadata": {
    "slideshow": {
     "slide_type": "-"
    }
   },
   "outputs": [
    {
     "data": {
      "text/plain": [
       "Text(0, 0.5, 'Q $(m^3/s)$')"
      ]
     },
     "execution_count": 31,
     "metadata": {},
     "output_type": "execute_result"
    },
    {
     "data": {
      "image/png": "[encoded data removed]",
      "text/plain": [
       "<Figure size 1800x576 with 1 Axes>"
      ]
     },
     "metadata": {},
     "output_type": "display_data"
    }
   ],
   "source": [
    "Q.loc[:,\"Wert\"].resample(\"D\").mean().plot(style=\"-o\", figsize=(25, 8))\n",
    "plt.xlabel(\"Datum\", fontsize = 20)\n",
    "plt.ylabel(\"Q $(m^3/s)$\", fontsize = 20)"
   ]
  },
  {
   "cell_type": "markdown",
   "metadata": {
    "slideshow": {
     "slide_type": "slide"
    }
   },
   "source": [
    "### Zusammenfassung:\n",
    " - Gültige Zeichenfolgen die ein Datum representieren können mit der <font color=\"red\">to_datetime</font> Funktion  oder direkt über die <font color=\"red\">read_*</font> Funktionen in **datetime** Objekte konvertiert werden.\n",
    " - mit dem **datetime** Objekt können Berechnungen durchgeführt und über den <font color=\"red\">dt</font>-Accessor auf datumsspezifische Eigenschaften zugegriffen werden.\n",
    " - Der **datetime** Index ermöglicht einfaches Selektieren und Resampling."
   ]
  },
  {
   "cell_type": "markdown",
   "metadata": {},
   "source": [
    "## ENDE"
   ]
  }
 ],
 "metadata": {
  "celltoolbar": "Slideshow",
  "kernelspec": {
   "display_name": "Python 3",
   "language": "python",
   "name": "python3"
  },
  "language_info": {
   "codemirror_mode": {
    "name": "ipython",
    "version": 3
   },
   "file_extension": ".py",
   "mimetype": "text/x-python",
   "name": "python",
   "nbconvert_exporter": "python",
   "pygments_lexer": "ipython3",
   "version": "3.7.10"
  },
  "toc": {
   "base_numbering": 1,
   "nav_menu": {},
   "number_sections": true,
   "sideBar": true,
   "skip_h1_title": false,
   "title_cell": "Table of Contents",
   "title_sidebar": "Contents",
   "toc_cell": false,
   "toc_position": {},
   "toc_section_display": true,
   "toc_window_display": false
  }
 },
 "nbformat": 4,
 "nbformat_minor": 4
}
