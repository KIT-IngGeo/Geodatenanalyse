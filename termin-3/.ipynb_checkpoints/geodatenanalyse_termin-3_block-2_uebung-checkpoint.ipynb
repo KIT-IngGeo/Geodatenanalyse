{
 "cells": [
  {
   "cell_type": "markdown",
   "id": "eleven-amendment",
   "metadata": {},
   "source": [
    "# Geodatenanalyse 1\n",
    "\n",
    "\n",
    "## Übung: Termin 3 - Block 2\n",
    "\n",
    "## Numerische und symbolische Berechnungen\n"
   ]
  },
  {
   "cell_type": "code",
   "execution_count": 1,
   "id": "progressive-ebony",
   "metadata": {},
   "outputs": [],
   "source": [
    "import numpy as np\n",
    "import mpmath as mp\n",
    "import sympy as sp\n",
    "import matplotlib.pyplot as plt"
   ]
  },
  {
   "cell_type": "markdown",
   "id": "august-rebecca",
   "metadata": {},
   "source": [
    "## Übung 1\n",
    "\n",
    "Beim Stofftransport gilt die Diffusionsgleichung:\n",
    "\n",
    "$\\frac{\\partial C}{\\partial t} = D \\frac{\\partial^2 C}{\\partial x^2}$\n",
    "\n",
    "Für eine gleichförmige Anfangskonzentration $C_0$ gibt es eine analytische Lösung:\n",
    "\n",
    "$C(x, t) = \\frac{C_0}{2} \\left(1 - erf\\left( \\frac{x}{\\sqrt{4 D t}} \\right) \\right)$\n",
    "\n",
    "*Hinweis*: *erf()* ist die Fehlerfunktion.\n",
    "\n",
    "- **Augabe 1**: Zeichne die Konzentrationsverteilung für den Bereich $-5 < x < 5$ cm und die Zeiten $t_1 = 100$ s, $t_2 = 1000$ s und $t_3 = 10000$ s. Der Diffusionskoeffizient beträgt hier $D = 1.2 \\cdot 10^{-8}$ $m^2/s$. Die Anfangskonzentration ist 0.8 $g/m^3$.\n",
    "\n",
    "- **Aufgabe 2**: Die kleinste Konzentration, die das Messgerät erfassen kann ist $c = 0.01$ $g/m^3$. Wie groß ist der Diffusionskoeffizient, wenn nach $t = 10.000$ s an der Stelle $x = 0.04 m$ die Minimalkonzentration gemessen werden soll?\n",
    "\n",
    "*Hinweis*: Bitte die Genauigkeit der Fließkommazahlen beachten."
   ]
  },
  {
   "cell_type": "code",
   "execution_count": 5,
   "id": "seven-enlargement",
   "metadata": {
    "scrolled": true
   },
   "outputs": [],
   "source": [
    "# Übung 1\n",
    "# Aufgabe 1"
   ]
  },
  {
   "cell_type": "code",
   "execution_count": 6,
   "id": "local-horror",
   "metadata": {},
   "outputs": [],
   "source": [
    "# Übung 1\n",
    "# Aufgabe 2"
   ]
  },
  {
   "cell_type": "markdown",
   "id": "armed-finance",
   "metadata": {},
   "source": [
    "## Übung 2\n",
    "\n",
    "Erstelle eine Python-Abbildung der Theis'sche Typenkurve, wie sie für die Auswertung eines typischen Pumpversuches im gespannten Grundwasserleiter verwendet wird ([Theis, 1935](https://doi.org/10.1029/TR016i002p00519)).\n",
    "\n",
    "*Hinweis*: Die Abbildung benötigt logarithmische Achsen!\n",
    "\n",
    "*Frage*: Wie könnte man eine Auswertung in Python weiter machen?"
   ]
  },
  {
   "cell_type": "code",
   "execution_count": 7,
   "id": "forbidden-value",
   "metadata": {},
   "outputs": [],
   "source": [
    "# Übung 2"
   ]
  },
  {
   "cell_type": "markdown",
   "id": "ideal-third",
   "metadata": {},
   "source": [
    "## Übung 3\n",
    "\n",
    "In einem Flussbett soll der vertikale Wasserfluss und der Wärmediffusionskoeffizient bestimmt werden ([Hatch et al., 2006](https://doi.org/10.1029/2005WR004787)). Dies kann durch die Ausbreitung der täglichen Temperaturschwankungen über die Tiefe erfolgen. Dabei werden Temperaturmessungen von zwei Messpunkte ($z_1$ und $z_2$) in unterschiedlichen Tiefen ($\\Delta z$) der Sedimente des Flusses benötigt. Die Wärmetransportgleichung wird mit einer Sinus-Schwingung als obere Randbedingung gelöst. Diese Lösung kann man in eine Amplitudendämpfung und Phasenverschiebung überführen:\n",
    "\n",
    "$ A_r = \\frac{A_2}{A_1} = \\exp \\left( \\frac{\\Delta z}{2 D} \\left( \\nu - \\sqrt{ \\frac{\\alpha + \\nu^2}{2} } \\right) \\right)$\n",
    "\n",
    "$\\Delta_{\\phi} = \\frac{P \\Delta z}{4 \\pi D} \\sqrt{ \\frac{\\alpha - \\nu^2}{2} } $\n",
    "\n",
    "Der Parameter $\\alpha$ ist\n",
    "\n",
    "$\\alpha = \\sqrt{v^4 + \\left( \\frac{8 \\pi D}{P} \\right)^2}$\n",
    "\n",
    "- **Aufgabe 1**: Die Funktionen $A_r(v)$ und $\\Delta \\Phi(v)$ sollen jeweils für das Interval $-5 < v < 5$ m/Tag abgebildet werden. Hierbei ist $\\Delta z = 0.2$ m, die Periode $P = 24$ Stunden, der Wärmediffusionskoeffizient $D = 1 \\cdot 10^{-6}$ $m^2/s$.\n",
    "\n",
    "- **Aufgabe 2**: In einem Feldversuch wurden eine Amplitudendämpfung von $A_r = 0.5$ und eine Phasenverschiebung von $\\Delta \\Phi = 244$ Minuten gemessen. Bestimme den vertikalen Wasserfluss und den Wärmediffusionskoeffizient.\n",
    "\n",
    "*Hinweis*: Löse das nicht-lineare Gleichungssystem mit zwei Unbekannten."
   ]
  },
  {
   "cell_type": "code",
   "execution_count": 8,
   "id": "elementary-consistency",
   "metadata": {},
   "outputs": [],
   "source": [
    "# Übung 3\n"
   ]
  },
  {
   "cell_type": "code",
   "execution_count": 9,
   "id": "medieval-footage",
   "metadata": {
    "scrolled": true
   },
   "outputs": [],
   "source": [
    "# Übung 3"
   ]
  },
  {
   "cell_type": "markdown",
   "id": "affiliated-massachusetts",
   "metadata": {},
   "source": [
    "## ENDE"
   ]
  }
 ],
 "metadata": {
  "kernelspec": {
   "display_name": "Python 3",
   "language": "python",
   "name": "python3"
  },
  "language_info": {
   "codemirror_mode": {
    "name": "ipython",
    "version": 3
   },
   "file_extension": ".py",
   "mimetype": "text/x-python",
   "name": "python",
   "nbconvert_exporter": "python",
   "pygments_lexer": "ipython3",
   "version": "3.7.10"
  },
  "toc": {
   "base_numbering": 1,
   "nav_menu": {},
   "number_sections": true,
   "sideBar": true,
   "skip_h1_title": false,
   "title_cell": "Table of Contents",
   "title_sidebar": "Contents",
   "toc_cell": false,
   "toc_position": {},
   "toc_section_display": true,
   "toc_window_display": false
  }
 },
 "nbformat": 4,
 "nbformat_minor": 5
}
