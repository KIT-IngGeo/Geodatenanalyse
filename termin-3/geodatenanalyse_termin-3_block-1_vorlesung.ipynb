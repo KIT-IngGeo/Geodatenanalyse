{
 "cells": [
  {
   "cell_type": "markdown",
   "metadata": {
    "slideshow": {
     "slide_type": "slide"
    }
   },
   "source": [
    "# Geodatenanalyse 1\n",
    "\n",
    "\n",
    "## Termin 3 - Block 1\n",
    "\n",
    "## Einführung in *NumPy*\n",
    "\n",
    "Ca. 30 Minuten"
   ]
  },
  {
   "cell_type": "markdown",
   "metadata": {
    "slideshow": {
     "slide_type": "slide"
    }
   },
   "source": [
    "## Inhalt\n",
    "- Was ist *NumPy*?\n",
    "- Überblick über *NumPy* Objekte\n",
    "- Überblick über Operationen und Methoden\n",
    "- Einführung in die Indizierung und das Ausschneiden\n",
    "- Kurzer Überblick über die erweiterte Funktionalität\n",
    "- Kurzer Einblick in die linearen Algebra\n",
    "- Kurzer Überblick über die Datums- und Zeitfunktionalität"
   ]
  },
  {
   "cell_type": "markdown",
   "metadata": {
    "slideshow": {
     "slide_type": "slide"
    }
   },
   "source": [
    "## Was ist *NumPy*?\n",
    "\n",
    "- *NumPy* (von *Numeric Python*) ist das grundlegende Paket für wissenschaftliches Rechnen in Python\n",
    "- Es ist eine Python-Bibliothek, die ein mehrdimensionales Array-Objekt, verschiedene abgeleitete Objekte (z. B. maskierte Arrays und Matrizen) und eine Reihe von Routinen für schnelle Operationen auf Arrays bereitstellt\n",
    "- Darunter mathematische, logische, Formmanipulationen, Sortieren, Auswählen\n",
    "- Grundlegende lineare Algebra, grundlegende statistische Operationen, Zufallssimulation und vieles mehr\n",
    "- Und erweitert noch die diskrete Fourier-Transformationen\n",
    "\n",
    "**Bemerkung**: *NumPy* wurde kürzlich mit einer Veröffentlichung im Fachjournal *Nature* geehrt: \n",
    "\n",
    "> Harris, C.R., Millman, K.J., van der Walt, S.J. et al. Array programming with NumPy. Nature 585, 357–362 (2020).  [https://doi.org/10.1038/s41586-020-2649-2](https://doi.org/10.1038/s41586-020-2649-2)"
   ]
  },
  {
   "cell_type": "code",
   "execution_count": 2,
   "metadata": {
    "slideshow": {
     "slide_type": "fragment"
    }
   },
   "outputs": [],
   "source": [
    "import numpy as np"
   ]
  },
  {
   "cell_type": "markdown",
   "metadata": {
    "slideshow": {
     "slide_type": "subslide"
    }
   },
   "source": [
    "Wie gehe ich mit langen Datensätzen um? \n",
    "Wie kann ich Vektoren oder Matrizen am besten verarbeiten?\n",
    "\n",
    "Nehmen wir an wir haben *a*, *b* und *c* mit vielen Speicherplätzen, d.h. Vektoren oder *Arrays*. \n",
    "\n",
    "Man möchte nun folgende Berechnung mit allen Elementen durchführen: \n",
    "\n",
    "$c = a \\cdot b$\n",
    "\n",
    "Die Lösung in C oder C++ wäre eine Schleife:\n",
    "\n",
    "```c\n",
    "for (i = 0; i < rows; i++): {\n",
    "  c[i] = a[i]*b[i];\n",
    "}\n",
    "```"
   ]
  },
  {
   "cell_type": "code",
   "execution_count": 3,
   "metadata": {
    "scrolled": true,
    "slideshow": {
     "slide_type": "subslide"
    }
   },
   "outputs": [
    {
     "name": "stdout",
     "output_type": "stream",
     "text": [
      "[9, 16, 16, 6, 27]\n"
     ]
    }
   ],
   "source": [
    "a = [1, 2, 4, 2, 3]\n",
    "b = [9, 8, 4, 3, 9]\n",
    "c = []\n",
    "\n",
    "for index, value in enumerate(a):\n",
    "    c.append(a[index]*b[index])\n",
    "    \n",
    "print(c)"
   ]
  },
  {
   "cell_type": "markdown",
   "metadata": {
    "slideshow": {
     "slide_type": "subslide"
    }
   },
   "source": [
    "Genau für solche Operationen wurde *NumPy* geschrieben! \n",
    "\n",
    "Hiermit lassen sich Schleifen oder auch geschachtelte Schleifen vermeiden."
   ]
  },
  {
   "cell_type": "code",
   "execution_count": 4,
   "metadata": {},
   "outputs": [
    {
     "name": "stdout",
     "output_type": "stream",
     "text": [
      "[ 9 16 16  6 27]\n"
     ]
    }
   ],
   "source": [
    "a = np.array([1, 2, 4, 2, 3])\n",
    "b = np.array([9, 8, 4, 3, 9])\n",
    "\n",
    "c = a*b\n",
    "\n",
    "print(c)"
   ]
  },
  {
   "cell_type": "markdown",
   "metadata": {
    "slideshow": {
     "slide_type": "subslide"
    }
   },
   "source": [
    "Durch die Optmierung spart man bei größeren Datenmengen viel Rechenzeit:"
   ]
  },
  {
   "cell_type": "code",
   "execution_count": 5,
   "metadata": {
    "slideshow": {
     "slide_type": "fragment"
    }
   },
   "outputs": [],
   "source": [
    "a = [1, 2, 4, 2, 3]\n",
    "b = [9, 8, 4, 3, 9]\n",
    "c = []"
   ]
  },
  {
   "cell_type": "code",
   "execution_count": 6,
   "metadata": {
    "slideshow": {
     "slide_type": "fragment"
    }
   },
   "outputs": [
    {
     "name": "stdout",
     "output_type": "stream",
     "text": [
      "2.7 µs ± 250 ns per loop (mean ± std. dev. of 7 runs, 100000 loops each)\n"
     ]
    }
   ],
   "source": [
    "%%timeit\n",
    "for index, value in enumerate(a):\n",
    "    c.append(a[index]*b[index])"
   ]
  },
  {
   "cell_type": "code",
   "execution_count": 7,
   "metadata": {
    "slideshow": {
     "slide_type": "fragment"
    }
   },
   "outputs": [],
   "source": [
    "a = np.array([1, 2, 4, 2, 3])\n",
    "b = np.array([9, 8, 4, 3, 9])"
   ]
  },
  {
   "cell_type": "code",
   "execution_count": 8,
   "metadata": {
    "slideshow": {
     "slide_type": "fragment"
    }
   },
   "outputs": [
    {
     "name": "stdout",
     "output_type": "stream",
     "text": [
      "780 ns ± 30.3 ns per loop (mean ± std. dev. of 7 runs, 1000000 loops each)\n"
     ]
    }
   ],
   "source": [
    "%%timeit\n",
    "c = a*b"
   ]
  },
  {
   "cell_type": "markdown",
   "metadata": {
    "slideshow": {
     "slide_type": "slide"
    }
   },
   "source": [
    "## Überblick über *NumPy* Objekte"
   ]
  },
  {
   "cell_type": "markdown",
   "metadata": {
    "slideshow": {
     "slide_type": "subslide"
    }
   },
   "source": [
    "### Datentypen von NumPy\n",
    "\n",
    "Ähnlich wie vorher schon besprochen hat **NumPy** unterschiedliche Datentypen.\n",
    "\n",
    "Zusätzlich zu den bereits bekannten gibt es die Folgenden:\n",
    "\n",
    "- **float64**: Double precision float, equivalent to two 32-bit floats\n",
    "\n",
    "- **complex64**: Complex number, represented by two 32-bit floats (real and imaginary components)\n",
    "\n",
    "- **complex128**: Complex number, represented by two 64-bit floats (real and imaginary components)"
   ]
  },
  {
   "cell_type": "code",
   "execution_count": 10,
   "metadata": {
    "scrolled": true,
    "slideshow": {
     "slide_type": "subslide"
    }
   },
   "outputs": [
    {
     "name": "stdout",
     "output_type": "stream",
     "text": [
      "<class 'numpy.ndarray'>\n"
     ]
    }
   ],
   "source": [
    "# Datentyp herausfinden\n",
    "import numpy as np\n",
    "a = np.array([1.54378])\n",
    "print(type(a))"
   ]
  },
  {
   "cell_type": "markdown",
   "metadata": {
    "slideshow": {
     "slide_type": "slide"
    }
   },
   "source": [
    "Außerdem gibt es spezielle aber **wichtige** Datentypen:\n",
    "\n",
    "- **Kein Wert (Engl. not a number)**: Viele Datensätze haben Lücken. Wie kann man diese beschreiben? Dafür gibt es die Konstante **np.nan**\n",
    "\n",
    "- **Unendlich (Engl. infinity)**: Wenn eine Rechenoperation zu einem Wert führt, welcher nicht mehr darstellbar ist, dann wird dieser Wert durch die Konstante **np.inf**"
   ]
  },
  {
   "cell_type": "code",
   "execution_count": 11,
   "metadata": {
    "slideshow": {
     "slide_type": "subslide"
    }
   },
   "outputs": [
    {
     "name": "stdout",
     "output_type": "stream",
     "text": [
      "nan\n"
     ]
    }
   ],
   "source": [
    "# kein Wert\n",
    "a = np.nan\n",
    "print(a)"
   ]
  },
  {
   "cell_type": "code",
   "execution_count": 12,
   "metadata": {
    "slideshow": {
     "slide_type": "subslide"
    }
   },
   "outputs": [
    {
     "name": "stdout",
     "output_type": "stream",
     "text": [
      "inf\n"
     ]
    }
   ],
   "source": [
    "# unendlich\n",
    "a = np.inf\n",
    "print(a)"
   ]
  },
  {
   "cell_type": "markdown",
   "metadata": {
    "slideshow": {
     "slide_type": "slide"
    }
   },
   "source": [
    "Zur Identifikation spezieller Werte gibt es einige Methoden:\n",
    "\n",
    "- Diese liefern ein *boolean* Objekt mit *True* (wahr) oder *False* (falsch) zurück\n",
    "\n",
    "- Damit kann man indizieren (kommt später)"
   ]
  },
  {
   "cell_type": "code",
   "execution_count": 15,
   "metadata": {
    "slideshow": {
     "slide_type": "subslide"
    }
   },
   "outputs": [
    {
     "name": "stdout",
     "output_type": "stream",
     "text": [
      "[ True False False False]\n",
      "[False  True False  True]\n"
     ]
    }
   ],
   "source": [
    "# Vektor erstellen\n",
    "a = np.array([np.nan, 0.234, np.inf, 3])\n",
    "\n",
    "# Testfunktionen\n",
    "nans = np.isnan(a)\n",
    "print(nans)\n",
    "\n",
    "finite = np.isfinite(a)\n",
    "print(finite)"
   ]
  },
  {
   "cell_type": "markdown",
   "metadata": {
    "slideshow": {
     "slide_type": "slide"
    }
   },
   "source": [
    "**Hinweis**: Mit *NumPy* werden auch *imaginäre Zahlen* $\\Im(z)$ berechenbar:\n",
    "\n",
    "$z = a + bi$\n",
    "\n",
    "$i^2 = -1$"
   ]
  },
  {
   "cell_type": "code",
   "execution_count": 16,
   "metadata": {
    "scrolled": true,
    "slideshow": {
     "slide_type": "subslide"
    }
   },
   "outputs": [
    {
     "name": "stdout",
     "output_type": "stream",
     "text": [
      "(2+3j)\n"
     ]
    }
   ],
   "source": [
    "# eine komplexe Zahl speichern\n",
    "z = 2 + 3j\n",
    "print(z)"
   ]
  },
  {
   "cell_type": "markdown",
   "metadata": {
    "slideshow": {
     "slide_type": "slide"
    }
   },
   "source": [
    "###  Objekte in *NumPy*\n",
    "\n",
    "*NumPy* hat einige Objekte, welche man unbeding kennen sollte:\n",
    "\n",
    "- **array**: für einen eindimensionalen Vektor\n",
    "- **matrix**: für eine zweidimensionale Matrix\n",
    "- **ndarray**: für ein n-dimensionales Objekt!"
   ]
  },
  {
   "cell_type": "code",
   "execution_count": 17,
   "metadata": {
    "slideshow": {
     "slide_type": "subslide"
    }
   },
   "outputs": [
    {
     "name": "stdout",
     "output_type": "stream",
     "text": [
      "9\n",
      "(9,)\n",
      "<class 'numpy.ndarray'>\n"
     ]
    }
   ],
   "source": [
    "# ein Vektor\n",
    "a = np.array([1, 0, 4, 6, 5, 9, 8, 9, 2])\n",
    "print(a.size)\n",
    "print(a.shape)\n",
    "print(type(a))"
   ]
  },
  {
   "cell_type": "code",
   "execution_count": 19,
   "metadata": {
    "slideshow": {
     "slide_type": "subslide"
    }
   },
   "outputs": [
    {
     "name": "stdout",
     "output_type": "stream",
     "text": [
      "4\n",
      "(2, 2)\n",
      "<class 'numpy.matrix'>\n"
     ]
    }
   ],
   "source": [
    "# eine Matrix\n",
    "A = np.matrix([[1, 2], [3, 4]])\n",
    "print(A.size)\n",
    "print(A.shape)\n",
    "print(type(A))"
   ]
  },
  {
   "cell_type": "code",
   "execution_count": 20,
   "metadata": {
    "scrolled": true,
    "slideshow": {
     "slide_type": "subslide"
    }
   },
   "outputs": [
    {
     "name": "stdout",
     "output_type": "stream",
     "text": [
      "24\n",
      "(2, 3, 4)\n",
      "<class 'numpy.ndarray'>\n"
     ]
    }
   ],
   "source": [
    "# ein mehrdimensionales Array\n",
    "AA = np.array([[[ 0.,  0.,  0.,  0.], [ 0.,  0.,  0.,  0.], [ 0.,  0.,  0.,  0.]], \n",
    "               [[ 0.,  0.,  0.,  0.], [ 0.,  0.,  0.,  0.], [ 0.,  0.,  0.,  0.]]])\n",
    "print(AA.size)\n",
    "print(AA.shape)\n",
    "print(type(AA))"
   ]
  },
  {
   "cell_type": "markdown",
   "metadata": {
    "slideshow": {
     "slide_type": "slide"
    }
   },
   "source": [
    "## Überblick über Operationen und Methoden\n",
    "\n",
    "- **WICHTIG**: Wir müssen uns daran gewöhnen, dass eine Varibale nun ganze Zahlenreihen oder Matrizen enthalten kann\n",
    "\n",
    "- Mit *NumPy* lassen sich viele Berechnungen vereinfacht programmieren"
   ]
  },
  {
   "cell_type": "markdown",
   "metadata": {
    "slideshow": {
     "slide_type": "slide"
    }
   },
   "source": [
    "### Beispiele für Berechnungen\n",
    "\n",
    "Mathematische Operationen"
   ]
  },
  {
   "cell_type": "code",
   "execution_count": 21,
   "metadata": {
    "scrolled": true,
    "slideshow": {
     "slide_type": "subslide"
    }
   },
   "outputs": [
    {
     "name": "stdout",
     "output_type": "stream",
     "text": [
      "[[ 55 130]]\n"
     ]
    }
   ],
   "source": [
    "a = np.array([1, 2, 3, 4, 5])\n",
    "b = np.matrix([[1, 2, 3, 4, 5], [6, 7, 8, 9, 10]])\n",
    "\n",
    "# Matrixmultiplication\n",
    "c = b.dot(a)\n",
    "print(c)"
   ]
  },
  {
   "cell_type": "code",
   "execution_count": 24,
   "metadata": {
    "slideshow": {
     "slide_type": "subslide"
    }
   },
   "outputs": [
    {
     "name": "stdout",
     "output_type": "stream",
     "text": [
      "[[  1   4   9  16  25]\n",
      " [ 36  49  64  81 100]]\n"
     ]
    }
   ],
   "source": [
    "b = np.array([[1, 2, 3, 4, 5], [6, 7, 8, 9, 10]])\n",
    "\n",
    "# quadrieren\n",
    "c = b**2\n",
    "print(c)"
   ]
  },
  {
   "cell_type": "markdown",
   "metadata": {
    "slideshow": {
     "slide_type": "slide"
    }
   },
   "source": [
    "Eingebaute Methoden (Funktionen):"
   ]
  },
  {
   "cell_type": "code",
   "execution_count": 25,
   "metadata": {
    "slideshow": {
     "slide_type": "subslide"
    }
   },
   "outputs": [
    {
     "name": "stdout",
     "output_type": "stream",
     "text": [
      "[[1.         1.41421356 1.73205081 2.         2.23606798]\n",
      " [2.44948974 2.64575131 2.82842712 3.         3.16227766]]\n"
     ]
    }
   ],
   "source": [
    "b = np.array([[1, 2, 3, 4, 5], [6, 7, 8, 9, 10]])\n",
    "\n",
    "# Wurzel ziehen\n",
    "c = np.sqrt(b)\n",
    "print(c)"
   ]
  },
  {
   "cell_type": "code",
   "execution_count": 26,
   "metadata": {
    "slideshow": {
     "slide_type": "subslide"
    }
   },
   "outputs": [
    {
     "name": "stdout",
     "output_type": "stream",
     "text": [
      "[ 1  3  6 10 15 21 28 36 45 55]\n"
     ]
    }
   ],
   "source": [
    "b = np.array([1, 2, 3, 4, 5, 6, 7, 8, 9, 10])\n",
    "\n",
    "# kumulative Summe\n",
    "c = np.cumsum(b)\n",
    "print(c)"
   ]
  },
  {
   "cell_type": "code",
   "execution_count": 27,
   "metadata": {
    "slideshow": {
     "slide_type": "subslide"
    }
   },
   "outputs": [
    {
     "name": "stdout",
     "output_type": "stream",
     "text": [
      "4.4\n"
     ]
    }
   ],
   "source": [
    "a = np.array([1, 2])\n",
    "b = np.array([5, 3])\n",
    "\n",
    "# lineare Interpolation\n",
    "c = np.interp(1.3, a, b)\n",
    "print(c)"
   ]
  },
  {
   "cell_type": "markdown",
   "metadata": {
    "slideshow": {
     "slide_type": "subslide"
    }
   },
   "source": [
    "In *NumPy* sind unzählige Funktionen eingebaut.\n",
    "\n",
    "Einen Überblick gibt es hier: [NumPy's Mathematical Functions](https://numpy.org/doc/stable/reference/routines.math.html)\n",
    "\n",
    "**Achtung**: Viele weiterführende mathematische Funktionen fehlen aber auch.\n",
    "\n",
    "Dafür gibt es andere Pakete, zum Beispiel:\n",
    "- [SciPy](https://www.scipy.org/): ist eine freie (BSD-lizenzierte) Python-Bibliothek für reelle und komplexe Fließkomma-Arithmetik mit beliebiger Genauigkeit\n",
    "\n",
    "- [mpmath](https://mpmath.org/): ist ein Python-basiertes Ökosystem von Open-Source-Software für Mathematik, Wissenschaft und Technik\n",
    "\n",
    "Viele dieser Pakete lassen sich einwandfrei mit *NumPy* Datentypen verwenden."
   ]
  },
  {
   "cell_type": "markdown",
   "metadata": {
    "slideshow": {
     "slide_type": "slide"
    }
   },
   "source": [
    "Ein Beispiel für die Verwendung von **SciPy** ist die Verwendung der [Fehlerfunktion](https://de.wikipedia.org/wiki/Fehlerfunktion):\n",
    "\n",
    "$erf(x) = \\frac{2}{\\sqrt{\\pi}} \\int_0^x{e^{-r^2}} d r$"
   ]
  },
  {
   "cell_type": "code",
   "execution_count": 28,
   "metadata": {
    "scrolled": true,
    "slideshow": {
     "slide_type": "subslide"
    }
   },
   "outputs": [
    {
     "name": "stdout",
     "output_type": "stream",
     "text": [
      "[0.11246292 0.84270079 0.99532227 0.99997791 0.99999998]\n"
     ]
    }
   ],
   "source": [
    "import scipy.special as sp\n",
    "\n",
    "# Fehlerfunktion ausrechnen\n",
    "a = np.array([0.1, 1, 2, 3, 4])\n",
    "print(sp.erf(a))"
   ]
  },
  {
   "cell_type": "code",
   "execution_count": 29,
   "metadata": {
    "slideshow": {
     "slide_type": "subslide"
    }
   },
   "outputs": [
    {
     "name": "stdout",
     "output_type": "stream",
     "text": [
      "3.14159265358979\n"
     ]
    },
    {
     "data": {
      "text/plain": [
       "'3.141592653589793115997963468544185161590576171875'"
      ]
     },
     "execution_count": 29,
     "metadata": {},
     "output_type": "execute_result"
    }
   ],
   "source": [
    "import mpmath as mp\n",
    "\n",
    "# Präzision bestimmen\n",
    "mp.dps = 50\n",
    "\n",
    "# Präzision ansehen ...\n",
    "print(mp.pi)\n",
    "mp.nstr(mp.pi, 50)"
   ]
  },
  {
   "cell_type": "markdown",
   "metadata": {
    "slideshow": {
     "slide_type": "slide"
    }
   },
   "source": [
    "## Einführung in die Indizierung und das Ausschneiden\n",
    "\n",
    "**ACHTUNG**: Verständnis dieses Teils ist sehr wichtig, da die Indizierung eines der besten Möglichkeiten für die schnelle Datenverarbeitung bietet!"
   ]
  },
  {
   "cell_type": "markdown",
   "metadata": {
    "slideshow": {
     "slide_type": "subslide"
    }
   },
   "source": [
    "Wie erfolgt der Zugriff auf einzelne Werte in einem Datenkontainer?\n",
    "\n",
    "<p align=\"left\">\n",
    "  <img src=\"figures/cube.jpg\" width=400 align='left' />\n",
    "</p>\n",
    "\n",
    "\n",
    "\n"
   ]
  },
  {
   "cell_type": "markdown",
   "metadata": {
    "slideshow": {
     "slide_type": "subslide"
    }
   },
   "source": [
    "Durch Indizierung!"
   ]
  },
  {
   "cell_type": "code",
   "execution_count": 30,
   "metadata": {
    "scrolled": false,
    "slideshow": {
     "slide_type": "subslide"
    }
   },
   "outputs": [
    {
     "name": "stdout",
     "output_type": "stream",
     "text": [
      "[[[0.56928627 0.57268122 0.43039459 0.97992301 0.17104077]\n",
      "  [0.77303192 0.81674965 0.27295266 0.02324499 0.92341056]\n",
      "  [0.29204172 0.53315803 0.47350882 0.01689964 0.01609405]\n",
      "  [0.3245495  0.54642501 0.84620501 0.3529897  0.93338314]\n",
      "  [0.28547894 0.4144744  0.60977205 0.2017892  0.39905843]]\n",
      "\n",
      " [[0.17712931 0.51541459 0.04294681 0.04800514 0.34711633]\n",
      "  [0.32226434 0.92129115 0.88724152 0.79432405 0.38217679]\n",
      "  [0.11955854 0.7862449  0.09978541 0.35705473 0.91118414]\n",
      "  [0.85800592 0.06419442 0.59778959 0.33688974 0.48905851]\n",
      "  [0.95410332 0.92521328 0.56335177 0.46001899 0.24626114]]\n",
      "\n",
      " [[0.05621515 0.31181939 0.84566862 0.32182817 0.55414071]\n",
      "  [0.09229939 0.29763966 0.18881586 0.92275719 0.4856164 ]\n",
      "  [0.18639311 0.9550678  0.26294475 0.60313109 0.79577757]\n",
      "  [0.57553273 0.99627495 0.56948497 0.80478953 0.64884164]\n",
      "  [0.44740175 0.93467698 0.31236662 0.39808436 0.2911873 ]]\n",
      "\n",
      " [[0.14481559 0.66632339 0.20538555 0.16450639 0.54603739]\n",
      "  [0.49226493 0.75194927 0.14325043 0.9609074  0.24363553]\n",
      "  [0.29502178 0.98128148 0.44578433 0.54388619 0.02577924]\n",
      "  [0.8049824  0.43771329 0.91275621 0.7789624  0.52055761]\n",
      "  [0.68721317 0.05690741 0.99012836 0.2753078  0.5436512 ]]\n",
      "\n",
      " [[0.58577358 0.4118942  0.39778842 0.52058842 0.62846442]\n",
      "  [0.47946487 0.52530048 0.18061183 0.42561516 0.04773067]\n",
      "  [0.20433143 0.36550072 0.02667487 0.33813147 0.56347001]\n",
      "  [0.01679153 0.09818156 0.30427938 0.8549047  0.61890903]\n",
      "  [0.01277148 0.18213582 0.4993112  0.57222269 0.51053614]]]\n"
     ]
    }
   ],
   "source": [
    "# ein 3D Array mit zufälligen Zahlen\n",
    "a = np.random.rand(5, 5, 5)\n",
    "print(a)"
   ]
  },
  {
   "cell_type": "markdown",
   "metadata": {
    "slideshow": {
     "slide_type": "subslide"
    }
   },
   "source": [
    "Wie kann ich jetzt gezielt auf Werte zugreifen?\n",
    "\n",
    "Zum Beispiel, gib mir alle Werte der ersten Zeile:"
   ]
  },
  {
   "cell_type": "code",
   "execution_count": 31,
   "metadata": {
    "slideshow": {
     "slide_type": "subslide"
    }
   },
   "outputs": [
    {
     "name": "stdout",
     "output_type": "stream",
     "text": [
      "[0.3245495  0.85800592 0.57553273 0.8049824  0.01679153]\n"
     ]
    }
   ],
   "source": [
    "print(a[:, 3, 0])"
   ]
  },
  {
   "cell_type": "markdown",
   "metadata": {
    "slideshow": {
     "slide_type": "subslide"
    }
   },
   "source": [
    "Oder, gib mir alle Werte der ersten Spalte:"
   ]
  },
  {
   "cell_type": "code",
   "execution_count": 33,
   "metadata": {
    "scrolled": true,
    "slideshow": {
     "slide_type": "subslide"
    }
   },
   "outputs": [
    {
     "name": "stdout",
     "output_type": "stream",
     "text": [
      "[0.97992301 0.02324499 0.01689964 0.3529897  0.2017892 ]\n"
     ]
    }
   ],
   "source": [
    "print(a[0, :, 3])"
   ]
  },
  {
   "cell_type": "markdown",
   "metadata": {
    "slideshow": {
     "slide_type": "slide"
    }
   },
   "source": [
    "Überblick:\n",
    "\n",
    "- die Dimensionen werden beim Zugriff mit Kommas getrennt\n",
    "- der Operator \":\" steht für alles, was in einer Dimension vorhanden ist\n",
    "- Mit diesem Operator kann man beliebige Sequenzen ansprechen"
   ]
  },
  {
   "cell_type": "markdown",
   "metadata": {
    "slideshow": {
     "slide_type": "subslide"
    }
   },
   "source": [
    "Überblick:\n",
    "\n",
    "<p align=\"left\">\n",
    "  <img src=\"figures/indexing.png\" width=400 align='left' />\n",
    "</p>\n",
    "\n",
    "Quelle: [Opengenus](https://iq.opengenus.org/2d-array-in-numpy/)"
   ]
  },
  {
   "cell_type": "markdown",
   "metadata": {
    "slideshow": {
     "slide_type": "slide"
    }
   },
   "source": [
    "Machen wir ein paar Beispiele:"
   ]
  },
  {
   "cell_type": "code",
   "execution_count": 34,
   "metadata": {
    "scrolled": true,
    "slideshow": {
     "slide_type": "subslide"
    }
   },
   "outputs": [
    {
     "name": "stdout",
     "output_type": "stream",
     "text": [
      "[[ 0  1  2  3  4  5  6  7  8  9]\n",
      " [10 11 12 13 14 15 16 17 18 19]\n",
      " [20 21 22 23 24 25 26 27 28 29]\n",
      " [30 31 32 33 34 35 36 37 38 39]\n",
      " [40 41 42 43 44 45 46 47 48 49]\n",
      " [50 51 52 53 54 55 56 57 58 59]\n",
      " [60 61 62 63 64 65 66 67 68 69]\n",
      " [70 71 72 73 74 75 76 77 78 79]\n",
      " [80 81 82 83 84 85 86 87 88 89]\n",
      " [90 91 92 93 94 95 96 97 98 99]]\n"
     ]
    }
   ],
   "source": [
    "# zuerst machen wir eine Sequenz\n",
    "a = np.arange(0,100).reshape(10,10)\n",
    "print(a)"
   ]
  },
  {
   "cell_type": "code",
   "execution_count": 35,
   "metadata": {
    "slideshow": {
     "slide_type": "subslide"
    }
   },
   "outputs": [
    {
     "name": "stdout",
     "output_type": "stream",
     "text": [
      "[30 40 50 60]\n"
     ]
    }
   ],
   "source": [
    "# gib mir Zeile 3-6 der ersten Spalte\n",
    "print(a[3:7, 0])"
   ]
  },
  {
   "cell_type": "code",
   "execution_count": 36,
   "metadata": {
    "slideshow": {
     "slide_type": "subslide"
    }
   },
   "outputs": [
    {
     "name": "stdout",
     "output_type": "stream",
     "text": [
      "[2 3 4 5]\n"
     ]
    }
   ],
   "source": [
    "# gib mir Spalte 2-5 der ersten Zeile\n",
    "print(a[0, 2:6])"
   ]
  },
  {
   "cell_type": "code",
   "execution_count": 37,
   "metadata": {
    "slideshow": {
     "slide_type": "subslide"
    }
   },
   "outputs": [
    {
     "name": "stdout",
     "output_type": "stream",
     "text": [
      "[ 0 20 40 60 80]\n"
     ]
    }
   ],
   "source": [
    "# gib mir jede weite Zeile der ersten Spalte\n",
    "print(a[::2, 0])"
   ]
  },
  {
   "cell_type": "markdown",
   "metadata": {
    "slideshow": {
     "slide_type": "slide"
    }
   },
   "source": [
    "**Zusammenfassung**:\n",
    "\n",
    "- Die Indizierung jeder Dimension erfolgt generell so: **Anfang:Ende:Inkrement**\n",
    "- Achtung: Das Ende ist nicht mit eingerechnet, z.B. 2:5:1 wird zu [2, 3, 4]\n",
    "- Das Weglassen von **Anfang**: Fängt bei null an\n",
    "- Das Weglassen von **Ende**: Hört am Schluss auf\n",
    "- Das Weglassen von **Inkrement**: Standard ist 1\n",
    "- Negative Werte von **Inkrement**: Zugriff erfolgt rückwärts!"
   ]
  },
  {
   "cell_type": "code",
   "execution_count": 30,
   "metadata": {
    "slideshow": {
     "slide_type": "subslide"
    }
   },
   "outputs": [
    {
     "name": "stdout",
     "output_type": "stream",
     "text": [
      "[ 0 20 40 60 80]\n"
     ]
    }
   ],
   "source": [
    "# gib mir jede weite Zeile der ersten Spalte\n",
    "# aber rückwärts!\n",
    "print(a[::2, 0])"
   ]
  },
  {
   "cell_type": "markdown",
   "metadata": {
    "slideshow": {
     "slide_type": "slide"
    }
   },
   "source": [
    "### Logische Indizierung\n",
    "\n",
    "Werte in einem *NumPy* Objekt können auch durch logische Indizierung gefunden und bearbeitet werden.\n",
    "\n",
    "Bei der logischen Indizierung wird zuerst ein *boolean* *Array* erstellt und verwendet. \n",
    "\n",
    "Dieses wird dann zur Erkennung der Werte verwendet."
   ]
  },
  {
   "cell_type": "code",
   "execution_count": 39,
   "metadata": {
    "slideshow": {
     "slide_type": "subslide"
    }
   },
   "outputs": [
    {
     "name": "stdout",
     "output_type": "stream",
     "text": [
      "[0.21886133 0.6409819  0.24416516 0.15321078 0.50558295 0.78740443\n",
      " 0.69388958 0.4267479  0.85824811 0.83503658]\n",
      "[False  True False False  True  True  True False  True  True]\n"
     ]
    }
   ],
   "source": [
    "# erstelle ein array mit Zufallswerten\n",
    "a = np.random.rand(10)\n",
    "# logische Indizierung\n",
    "idx = (a > 0.5)\n",
    "print(a)\n",
    "print(idx)"
   ]
  },
  {
   "cell_type": "code",
   "execution_count": 40,
   "metadata": {
    "scrolled": false,
    "slideshow": {
     "slide_type": "subslide"
    }
   },
   "outputs": [
    {
     "name": "stdout",
     "output_type": "stream",
     "text": [
      "[0.21886133 0.6409819  0.24416516 0.50558295 0.78740443 0.69388958\n",
      " 0.4267479  0.85824811 0.83503658]\n"
     ]
    }
   ],
   "source": [
    "# zeige alle Wert, die über 0.2 liegen\n",
    "b = a[a > 0.2]\n",
    "print(b)"
   ]
  },
  {
   "cell_type": "code",
   "execution_count": 41,
   "metadata": {
    "slideshow": {
     "slide_type": "subslide"
    }
   },
   "outputs": [
    {
     "name": "stdout",
     "output_type": "stream",
     "text": [
      "[0.21886133 0.6409819  0.24416516 0.50558295 0.78740443 0.69388958\n",
      " 0.4267479 ]\n"
     ]
    }
   ],
   "source": [
    "# zeige alle Werte, die über 0.2 und unter 0.8 liegen\n",
    "b = a[(a > 0.2) & (a < 0.8)]\n",
    "print(b)"
   ]
  },
  {
   "cell_type": "markdown",
   "metadata": {
    "slideshow": {
     "slide_type": "slide"
    }
   },
   "source": [
    "## Kurzer Überblick über die erweiterte Funktionalität"
   ]
  },
  {
   "cell_type": "markdown",
   "metadata": {
    "slideshow": {
     "slide_type": "subslide"
    }
   },
   "source": [
    "### Einfache Erstellung oft benötigter Objekte\n",
    "\n",
    "Für die einfache und schnelle Erstellung von Objekten gibt es viele hilfreiche Funtionen:"
   ]
  },
  {
   "cell_type": "code",
   "execution_count": 45,
   "metadata": {
    "slideshow": {
     "slide_type": "subslide"
    }
   },
   "outputs": [
    {
     "name": "stdout",
     "output_type": "stream",
     "text": [
      "[[0. 0. 0. 0.]\n",
      " [0. 0. 0. 0.]\n",
      " [0. 0. 0. 0.]\n",
      " [0. 0. 0. 0.]]\n",
      "[[1. 1. 1. 1.]\n",
      " [1. 1. 1. 1.]\n",
      " [1. 1. 1. 1.]\n",
      " [1. 1. 1. 1.]]\n"
     ]
    }
   ],
   "source": [
    "# Erstellung eines Null-Objektes\n",
    "a = np.zeros((4, 4))\n",
    "print(a)\n",
    "\n",
    "# Erstellung eines Eins-Objekts\n",
    "a = np.ones((4, 4))\n",
    "print(a)"
   ]
  },
  {
   "cell_type": "markdown",
   "metadata": {
    "slideshow": {
     "slide_type": "slide"
    }
   },
   "source": [
    "**Achtung**: Leider gibt es diese Funktion nicht für *NaN! Hier muss man sich etwas behelfen."
   ]
  },
  {
   "cell_type": "code",
   "execution_count": 46,
   "metadata": {
    "slideshow": {
     "slide_type": "fragment"
    }
   },
   "outputs": [
    {
     "name": "stdout",
     "output_type": "stream",
     "text": [
      "[[nan nan nan]\n",
      " [nan nan nan]\n",
      " [nan nan nan]]\n"
     ]
    }
   ],
   "source": [
    "# Erstellung einer leeren Matrix \n",
    "a = np.empty((3, 3))\n",
    "a[:] = np.nan\n",
    "print(a)"
   ]
  },
  {
   "cell_type": "markdown",
   "metadata": {
    "slideshow": {
     "slide_type": "fragment"
    }
   },
   "source": [
    "**Vorsicht**: Die Methode *empty()* setz einen Zeiger auf einen freien Speicherplatz! Die dortigen Werte können zufällig sein, sind also nicht verlässlich."
   ]
  },
  {
   "cell_type": "markdown",
   "metadata": {
    "slideshow": {
     "slide_type": "slide"
    }
   },
   "source": [
    "### Kombination von Objekten\n",
    "\n",
    "Für die einfache und schnelle Kombination von Objekten gibt es hilfreiche Funtionen:"
   ]
  },
  {
   "cell_type": "code",
   "execution_count": 47,
   "metadata": {
    "scrolled": true,
    "slideshow": {
     "slide_type": "subslide"
    }
   },
   "outputs": [
    {
     "name": "stdout",
     "output_type": "stream",
     "text": [
      "(10,)\n",
      "(10,)\n",
      "(20,)\n",
      "(20,)\n",
      "(2, 10)\n"
     ]
    }
   ],
   "source": [
    "# erstelle zwei gleichlange Vektoren\n",
    "a = np.random.rand(10)\n",
    "print(a.shape)\n",
    "b = np.random.rand(10)\n",
    "print(b.shape)\n",
    "\n",
    "# horizontale Kombination\n",
    "c = np.hstack((a, b))\n",
    "print(c.shape)\n",
    "c = np.concatenate((a, b), axis=0)\n",
    "print(c.shape)\n",
    "\n",
    "# vertikale Kombination\n",
    "c = np.vstack((a, b))\n",
    "print(c.shape)"
   ]
  },
  {
   "cell_type": "code",
   "execution_count": 48,
   "metadata": {
    "slideshow": {
     "slide_type": "subslide"
    }
   },
   "outputs": [
    {
     "name": "stdout",
     "output_type": "stream",
     "text": [
      "[0.12461088 0.96516744 0.53092815 0.91008258 0.08222301 0.23555355\n",
      " 0.66925652 0.38242527 0.00120328 0.94680639]\n",
      "<built-in method transpose of numpy.ndarray object at 0x00000235B579FF30>\n",
      "[0.12461088 0.96516744 0.53092815 0.91008258 0.08222301 0.23555355\n",
      " 0.66925652 0.38242527 0.00120328 0.94680639]\n"
     ]
    }
   ],
   "source": [
    "# Objekt umdrehen (transpose)\n",
    "print(a)\n",
    "b = a.transpose\n",
    "print(b)\n",
    "# oder Auch\n",
    "b = a.T\n",
    "print(b)"
   ]
  },
  {
   "cell_type": "markdown",
   "metadata": {
    "slideshow": {
     "slide_type": "slide"
    }
   },
   "source": [
    "### Sortieren von Werten in einem Objekt\n",
    "\n",
    "Für die einfache und schnelle Sortierung von Werten gibt es viele hilfreiche Funtionen:"
   ]
  },
  {
   "cell_type": "code",
   "execution_count": 49,
   "metadata": {
    "slideshow": {
     "slide_type": "subslide"
    }
   },
   "outputs": [
    {
     "name": "stdout",
     "output_type": "stream",
     "text": [
      "[4 6 7 4 7 8 5 2 4 2]\n",
      "[2 2 4 4 4 5 6 7 7 8]\n"
     ]
    }
   ],
   "source": [
    "# erstelle zufällige Werte\n",
    "a = np.random.randint(0, 10, 10)\n",
    "print(a)\n",
    "\n",
    "# sortiere diese Werte\n",
    "b = np.sort(a)\n",
    "print(b)"
   ]
  },
  {
   "cell_type": "markdown",
   "metadata": {
    "slideshow": {
     "slide_type": "slide"
    }
   },
   "source": [
    "### Suchen von Werten in einem Objekt\n",
    "\n",
    "Für die einfache und schnelle Suche von Werten gibt es viele hilfreiche Funtionen:"
   ]
  },
  {
   "cell_type": "code",
   "execution_count": 50,
   "metadata": {
    "scrolled": true,
    "slideshow": {
     "slide_type": "subslide"
    }
   },
   "outputs": [
    {
     "name": "stdout",
     "output_type": "stream",
     "text": [
      "[5 2 3 4 5 5 2 3 7 4 6 1 2 3 4 9 3 9 2 7 7 1 5 4 1 1 8 9 3 8 7 6 6 7 8 2 9\n",
      " 2 9 6 9 8 8 0 2 9 4 2 6 6]\n",
      "[False False  True False False False False  True False False False False\n",
      " False  True False False  True False False False False False False False\n",
      " False False False False  True False False False False False False False\n",
      " False False False False False False False False False False False False\n",
      " False False]\n",
      "(array([ 2,  7, 13, 16, 28], dtype=int64),)\n"
     ]
    }
   ],
   "source": [
    "# erstelle zufällige Werte\n",
    "a = np.random.randint(0, 10, 50)\n",
    "print(a)\n",
    "\n",
    "# identifiziere die Werte\n",
    "bol = (a == 3)\n",
    "print(bol)\n",
    "\n",
    "# zeige den Index diser Werte\n",
    "idx = np.where(bol)\n",
    "print(idx)"
   ]
  },
  {
   "cell_type": "markdown",
   "metadata": {
    "slideshow": {
     "slide_type": "slide"
    }
   },
   "source": [
    "### Einfache Statistiken\n",
    "\n",
    "Für einfache Statistiken gibt es viele hilfreiche Funtionen:"
   ]
  },
  {
   "cell_type": "code",
   "execution_count": 40,
   "metadata": {
    "slideshow": {
     "slide_type": "subslide"
    }
   },
   "outputs": [
    {
     "name": "stdout",
     "output_type": "stream",
     "text": [
      "0.00016243042428021326\n",
      "0.5031321167248191\n",
      "6548\n"
     ]
    }
   ],
   "source": [
    "# erstelle zufällige Werte\n",
    "a = np.random.rand(10000)\n",
    "\n",
    "# der kleinste Wert\n",
    "b = np.min(a)\n",
    "print(b)\n",
    "\n",
    "# der Häufigste (Median) aller Werte\n",
    "b = np.median(a)\n",
    "print(b)\n",
    "\n",
    "# finde den Index des maximalen Wertes\n",
    "b = np.argmax(a)\n",
    "print(b)"
   ]
  },
  {
   "cell_type": "markdown",
   "metadata": {},
   "source": [
    "### Laden von Textdateien\n",
    "\n",
    "Auch Textdateien mit Daten können eingelesen werden:"
   ]
  },
  {
   "cell_type": "code",
   "execution_count": 51,
   "metadata": {},
   "outputs": [
    {
     "name": "stdout",
     "output_type": "stream",
     "text": [
      "[[310. 222.]\n",
      " [200. 153.]\n",
      " [160.  31.]\n",
      " [370. 584.]\n",
      " [ 90. 312.]\n",
      " [ 20. 599.]\n",
      " [ 50.  61.]\n",
      " [310.  79.]\n",
      " [ 80. 482.]\n",
      " [200. 141.]]\n"
     ]
    }
   ],
   "source": [
    "# Datei zum Lesen öffnen\n",
    "file = open(\"datasets/hydraulic_apertures.csv\", \"r\")\n",
    "\n",
    "# Datei in NumPy einlesen ...\n",
    "data = np.genfromtxt(file, delimiter=\",\", skip_header=1)\n",
    "\n",
    "# Datei schliessen\n",
    "file.close()\n",
    "\n",
    "print(data[:10, :])"
   ]
  },
  {
   "cell_type": "markdown",
   "metadata": {
    "slideshow": {
     "slide_type": "slide"
    }
   },
   "source": [
    "## Kurzer Überblick über die lineare Algebra"
   ]
  },
  {
   "cell_type": "markdown",
   "metadata": {
    "slideshow": {
     "slide_type": "slide"
    }
   },
   "source": [
    "**Beispiel**: Lösung eines Gleichungssystems mit drei Unbekannten:\n",
    "\n",
    "$2x + 4y -2z = 5$\n",
    "\n",
    "$x -5y + 3z = 10$\n",
    "\n",
    "$3x -2y -z = 8$"
   ]
  },
  {
   "cell_type": "markdown",
   "metadata": {
    "slideshow": {
     "slide_type": "subslide"
    }
   },
   "source": [
    "\n",
    "\\begin{align*}\n",
    "\\left[\\begin{array}{ccc}\n",
    "2 & 4 & -2 \\\\\n",
    "1 & -5 & 3 \\\\\n",
    "3 & -2 & -1\n",
    "\\end{array}\\right]\n",
    "\\begin{bmatrix}\n",
    "  x  \\\\\n",
    "  y  \\\\\n",
    "  z\n",
    "\\end{bmatrix} \n",
    "= \\begin{bmatrix}\n",
    "  5  \\\\\n",
    "  10  \\\\\n",
    "  8\n",
    "\\end{bmatrix}\n",
    "\\end{align*}\n",
    "\n",
    "\\begin{align*}\n",
    "\\mathbf{A} \\cdot x = b\n",
    "\\end{align*}\n",
    "\n",
    "\\begin{align*}\n",
    "x = \\mathbf{A}^{-1} \\cdot b\n",
    "\\end{align*}"
   ]
  },
  {
   "cell_type": "code",
   "execution_count": 52,
   "metadata": {
    "scrolled": true,
    "slideshow": {
     "slide_type": "subslide"
    }
   },
   "outputs": [
    {
     "name": "stdout",
     "output_type": "stream",
     "text": [
      "[[4.19444444]\n",
      " [0.72222222]\n",
      " [3.13888889]]\n"
     ]
    }
   ],
   "source": [
    "# Koeffizienten\n",
    "coeff = np.matrix([[2, 4, -2], [1, -5, 3], [3, -2, -1]])\n",
    "\n",
    "# Lösung\n",
    "solution = np.matrix([[5], [10], [8]])\n",
    "\n",
    "# Inversmatrix\n",
    "coeff_inv = np.linalg.inv(coeff)\n",
    "\n",
    "# Matrix-Multiplikation\n",
    "unknown = coeff_inv.dot(solution)\n",
    "print(unknown)"
   ]
  },
  {
   "cell_type": "markdown",
   "metadata": {
    "slideshow": {
     "slide_type": "slide"
    }
   },
   "source": [
    "## Kurzer Überblick über die Datums- und Zeitfunktionalität\n",
    "\n",
    "- Bisher haben wir nur Daten angeschaut\n",
    "\n",
    "- Was ist mit Zeitreihen? Diese kommen häufig in den Geowissenschaften vor\n",
    "\n",
    "- Zeitreihen sind ein langes Thema, hier gibt es nur einen kurzen EInstieg\n",
    "\n",
    "- Mehr kommt dann später wenn das Paket *Pandas* vorgestellt wird"
   ]
  },
  {
   "cell_type": "code",
   "execution_count": 45,
   "metadata": {
    "scrolled": true,
    "slideshow": {
     "slide_type": "subslide"
    }
   },
   "outputs": [
    {
     "name": "stdout",
     "output_type": "stream",
     "text": [
      "2021-03-10\n"
     ]
    }
   ],
   "source": [
    "# Ein Datum\n",
    "date = np.datetime64('2021-03-10')\n",
    "print(date)"
   ]
  },
  {
   "cell_type": "code",
   "execution_count": 44,
   "metadata": {
    "slideshow": {
     "slide_type": "subslide"
    }
   },
   "outputs": [
    {
     "name": "stdout",
     "output_type": "stream",
     "text": [
      "2021-03-10T12:00\n"
     ]
    }
   ],
   "source": [
    "# Ein Datum und eine Zeit\n",
    "datetime = np.datetime64('2021-03-10T12:00')\n",
    "print(datetime)"
   ]
  },
  {
   "cell_type": "markdown",
   "metadata": {
    "slideshow": {
     "slide_type": "slide"
    }
   },
   "source": [
    "Auch Zeitdifferenzen lassen sich in *NumPy* gut dastellen:"
   ]
  },
  {
   "cell_type": "code",
   "execution_count": 46,
   "metadata": {
    "slideshow": {
     "slide_type": "subslide"
    }
   },
   "outputs": [
    {
     "name": "stdout",
     "output_type": "stream",
     "text": [
      "1 hours\n"
     ]
    }
   ],
   "source": [
    "# eine Zeitdifferenz in Stunden\n",
    "delta_t = np.timedelta64(1, 'h')\n",
    "print(delta_t)"
   ]
  },
  {
   "cell_type": "code",
   "execution_count": 47,
   "metadata": {
    "slideshow": {
     "slide_type": "subslide"
    }
   },
   "outputs": [
    {
     "name": "stdout",
     "output_type": "stream",
     "text": [
      "2021-03-13T02:22\n"
     ]
    }
   ],
   "source": [
    "# Ein Datum\n",
    "date = np.datetime64('2021-03-10')\n",
    "# Zeitdifferenz in Tagen\n",
    "delta_t1 = np.timedelta64(3, 'D')\n",
    "# Zeitdifferenz in Stunden\n",
    "delta_t2 = np.timedelta64(2, 'h')\n",
    "# Zeitdifferenz in Minuten\n",
    "delta_t3 = np.timedelta64(22, 'm')\n",
    "# das Ergebnis einer Zeitrechnung\n",
    "result = date + delta_t1 + delta_t2 + delta_t3\n",
    "print(result)"
   ]
  },
  {
   "cell_type": "markdown",
   "metadata": {
    "slideshow": {
     "slide_type": "fragment"
    }
   },
   "source": [
    "**ACHTUNG**: Leider ist *NumPy*'s Zeitfunktionalität sehr begrenzt! Für weitere Möglichkeit benötigt man andere Pakete."
   ]
  },
  {
   "cell_type": "markdown",
   "metadata": {
    "slideshow": {
     "slide_type": "slide"
    }
   },
   "source": [
    "### Das *datetime* Paket in Python\n",
    "\n",
    "- Das *datetime* Paket bietet viel mehr Funktionalität als *NumPy*\n",
    "\n",
    "- Allerdings muss man beachten, dass es ein anderer Objekttyp ist\n",
    "\n",
    "- Natürlich kann man Variablen konvertieren\n",
    "\n",
    "- Leider gibt es hier oft Verwirrungen"
   ]
  },
  {
   "cell_type": "code",
   "execution_count": 73,
   "metadata": {
    "slideshow": {
     "slide_type": "fragment"
    }
   },
   "outputs": [],
   "source": [
    "import datetime as dt\n",
    "import datetime"
   ]
  },
  {
   "cell_type": "code",
   "execution_count": 49,
   "metadata": {
    "slideshow": {
     "slide_type": "slide"
    }
   },
   "outputs": [
    {
     "name": "stdout",
     "output_type": "stream",
     "text": [
      "2021-03-12 00:00:00\n"
     ]
    }
   ],
   "source": [
    "# Beispiel eines Datumsobjektes\n",
    "date = dt.datetime(2021, 3, 12)\n",
    "print(date)"
   ]
  },
  {
   "cell_type": "code",
   "execution_count": 50,
   "metadata": {
    "scrolled": true,
    "slideshow": {
     "slide_type": "fragment"
    }
   },
   "outputs": [
    {
     "name": "stdout",
     "output_type": "stream",
     "text": [
      "2021-03-12 13:15:00\n"
     ]
    }
   ],
   "source": [
    "# Beispiel eines Datums- und Zeitobjektes\n",
    "datetime = dt.datetime(2021, 3, 12, 13, 15)\n",
    "print(datetime)"
   ]
  },
  {
   "cell_type": "code",
   "execution_count": 51,
   "metadata": {
    "slideshow": {
     "slide_type": "fragment"
    }
   },
   "outputs": [
    {
     "name": "stdout",
     "output_type": "stream",
     "text": [
      "2021-11-04 14:39:22.606155\n"
     ]
    }
   ],
   "source": [
    "# Was ist die momentane Zeit?\n",
    "now = dt.datetime.now()\n",
    "print(now)"
   ]
  },
  {
   "cell_type": "code",
   "execution_count": 52,
   "metadata": {
    "slideshow": {
     "slide_type": "slide"
    }
   },
   "outputs": [
    {
     "name": "stdout",
     "output_type": "stream",
     "text": [
      "0:15:13\n"
     ]
    }
   ],
   "source": [
    "# Beispiel für eine Zeitdifferenz\n",
    "delta_t = dt.timedelta(minutes=13, seconds=133)\n",
    "print(delta_t)"
   ]
  },
  {
   "cell_type": "code",
   "execution_count": 53,
   "metadata": {
    "slideshow": {
     "slide_type": "fragment"
    }
   },
   "outputs": [
    {
     "name": "stdout",
     "output_type": "stream",
     "text": [
      "2021-11-04 15:12:35.645090\n"
     ]
    }
   ],
   "source": [
    "# Beispiel für eine Zeitrechnung\n",
    "now = dt.datetime.now()\n",
    "# wieviel Zeit wollen wir dazu zählen\n",
    "delta = dt.timedelta(minutes=33, seconds=13)\n",
    "\n",
    "# wann ist das ...?\n",
    "future = now + delta\n",
    "print(future)"
   ]
  },
  {
   "cell_type": "markdown",
   "metadata": {
    "slideshow": {
     "slide_type": "slide"
    }
   },
   "source": [
    "### Konvertierung zwischen *NumPy* und *datetime*"
   ]
  },
  {
   "cell_type": "code",
   "execution_count": 77,
   "metadata": {
    "slideshow": {
     "slide_type": "subslide"
    }
   },
   "outputs": [
    {
     "name": "stdout",
     "output_type": "stream",
     "text": [
      "2021-03-12 12:33:34\n"
     ]
    },
    {
     "data": {
      "text/plain": [
       "datetime.datetime"
      ]
     },
     "execution_count": 77,
     "metadata": {},
     "output_type": "execute_result"
    }
   ],
   "source": [
    "# von NumPy nach datetime\n",
    "when = np.datetime64('2021-03-12T12:33:34').item()\n",
    "print(when)"
   ]
  },
  {
   "cell_type": "code",
   "execution_count": 61,
   "metadata": {
    "scrolled": true,
    "slideshow": {
     "slide_type": "subslide"
    }
   },
   "outputs": [
    {
     "name": "stdout",
     "output_type": "stream",
     "text": [
      "2021-11-04T14:45:28.001440\n"
     ]
    }
   ],
   "source": [
    "# von datetime nach NumPy\n",
    "when = np.datetime64(dt.datetime.now())\n",
    "print(when)"
   ]
  },
  {
   "cell_type": "code",
   "execution_count": 62,
   "metadata": {
    "slideshow": {
     "slide_type": "subslide"
    }
   },
   "outputs": [
    {
     "name": "stdout",
     "output_type": "stream",
     "text": [
      "5\n",
      "Saturday\n"
     ]
    }
   ],
   "source": [
    "# an welchem Wochentag wurde ich geboren?\n",
    "when = dt.datetime(1981, 4, 4)\n",
    "print(when.weekday())\n",
    "print(when.strftime('%A'))"
   ]
  },
  {
   "cell_type": "markdown",
   "metadata": {
    "slideshow": {
     "slide_type": "slide"
    }
   },
   "source": [
    "## Weitere Funktionalität\n",
    "\n",
    "Was hier präsentiert wurde waren nur die absoluten Grundlagen von *NumPy* und *datetime*.\n",
    "\n",
    "- Einen Überblick über *NumPy* gibt es hier: [*NumPy* Referenz](https://numpy.org/doc/stable/reference/)\n",
    "\n",
    "- Einen Überblick über *datetime* gibt es hier: [*datetime* Referenz](https://docs.python.org/3/library/datetime.html)"
   ]
  },
  {
   "cell_type": "markdown",
   "metadata": {},
   "source": [
    "## ENDE"
   ]
  }
 ],
 "metadata": {
  "celltoolbar": "Slideshow",
  "kernelspec": {
   "display_name": "Python 3",
   "language": "python",
   "name": "python3"
  },
  "language_info": {
   "codemirror_mode": {
    "name": "ipython",
    "version": 3
   },
   "file_extension": ".py",
   "mimetype": "text/x-python",
   "name": "python",
   "nbconvert_exporter": "python",
   "pygments_lexer": "ipython3",
   "version": "3.7.10"
  },
  "toc": {
   "base_numbering": 1,
   "nav_menu": {},
   "number_sections": true,
   "sideBar": true,
   "skip_h1_title": false,
   "title_cell": "Table of Contents",
   "title_sidebar": "Contents",
   "toc_cell": false,
   "toc_position": {},
   "toc_section_display": true,
   "toc_window_display": false
  }
 },
 "nbformat": 4,
 "nbformat_minor": 4
}
