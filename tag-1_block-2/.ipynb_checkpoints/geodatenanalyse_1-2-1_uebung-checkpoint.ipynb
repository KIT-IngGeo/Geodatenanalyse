{
 "cells": [
  {
   "cell_type": "markdown",
   "metadata": {},
   "source": [
    "# Geodatenanalyse 1\n",
    "\n",
    "## Tag 1 / Block 2 / Übung 1: Deskriptive Statistik"
   ]
  },
  {
   "cell_type": "markdown",
   "metadata": {},
   "source": [
    "Öffnet zunächst die Datei \"Data_GW_KA.csv\" in Excel und verschafft Euch einen Überblick über die Daten. Welche Parameter sind vorhanden, wieviele Datenpunkte gibt es, gibt es Datenlücken? Überlegt danach welcher Parameter welchem Datentyp von Folie 7 aus der Vorlesung entspricht. Sind diese stetig oder diskret? Notiert Eure Überlegungen.\n",
    "\n",
    "Lest nun im ersten Eingabefeld die Messwerte mit Hilfe von `numpy` in Python (`numpy.genfromtxt()`) eingelesen, und speichert die Grundwassertemperaturen in einem separaten Array. "
   ]
  },
  {
   "cell_type": "code",
   "execution_count": 1,
   "metadata": {},
   "outputs": [],
   "source": [
    "# [1] hier Code eingeben\n",
    "import numpy as np\n",
    "data = np.genfromtxt(open(\"Data_GW_KA.csv\", \"rb\"), delimiter=\";\", skip_header=1)\n",
    "GWT = data[:,3]"
   ]
  },
  {
   "cell_type": "markdown",
   "metadata": {},
   "source": [
    "Mit `print()` könnt Ihr den Euch den eingebenen Vektor anzeigen lassen. Schaut außerdem im Variablenexplorer nach, um welchen Python-Datentyp es sich handelt.  "
   ]
  },
  {
   "cell_type": "code",
   "execution_count": 2,
   "metadata": {},
   "outputs": [
    {
     "name": "stdout",
     "output_type": "stream",
     "text": [
      "[14.4  14.   12.5  14.4  14.2  12.8  14.9  14.97 13.17 12.17 12.64 15.87\n",
      " 12.43 11.33 11.4  12.8  11.53 14.17 14.13 14.93 15.43 14.83 17.   16.1\n",
      " 14.47 13.37 17.53 15.27 15.77 17.33 16.17 10.7  10.9  10.67 10.73 10.47\n",
      " 10.83 10.7  10.53]\n"
     ]
    }
   ],
   "source": [
    "# [2] hier Code eingeben\n",
    "print(GWT)"
   ]
  },
  {
   "cell_type": "markdown",
   "metadata": {},
   "source": [
    "Wenn alle Wert stimmen, könnt Ihr anfangen den Datensatz zu charakterisieren. Bestimmt zuerst die Anzahl (n) an Werten in dem Datensatz mit dem Befehl `len()`, und lasst Euch diese anzeigen. "
   ]
  },
  {
   "cell_type": "code",
   "execution_count": null,
   "metadata": {},
   "outputs": [],
   "source": [
    "# [3] hier Code eingeben"
   ]
  },
  {
   "cell_type": "markdown",
   "metadata": {},
   "source": [
    "### Lageparameter\n",
    "\n",
    "Nun könnt Ihr verschiedene Parameter für das Lagemaß bestimmen. Diese helfen die Werte in dem Datensatz auf einer linearen Skala einzuordnen, und stellen ein typisches Maß da, um die Größenordnung oder eine beste Schätzung der Werte zu erhalten. Das beliebteste Lagemaß ist das arithmetische Mittel. \n",
    "\n",
    "Berechnet nun das arithmetische Mittel der Grundwassertemperatur als Summe (`sum()`) aller Werte geteilt durch die Anzahl der Werte: \n",
    "\n",
    "<img src=\"https://latex.codecogs.com/gif.latex?\\bar{x}&space;=&space;\\frac{1}{n}\\sum_{i=1}^{n}x_{i}\" title=\"\\bar{x} = \\frac{1}{n}\\sum_{i=1}^{n}x_{i}\" />\n"
   ]
  },
  {
   "cell_type": "code",
   "execution_count": null,
   "metadata": {},
   "outputs": [],
   "source": [
    "# [4] hier Code eingeben"
   ]
  },
  {
   "cell_type": "markdown",
   "metadata": {},
   "source": [
    "Natürlich gibt es in Python auch eine Funktion `mean()`, um das arithmetische Mittel direkt zu berechen. Dazu müsst Ihr zuerst diese Funktion aus dem Package `statistics` in Euer Skript, bzw. Notebook hineinladen: `from statistics import mean`. Danach könnt Ihr die Funktion auf die Grundwassertemperatur anwenden.  "
   ]
  },
  {
   "cell_type": "code",
   "execution_count": null,
   "metadata": {},
   "outputs": [],
   "source": [
    "# [5] hier Code eingeben"
   ]
  },
  {
   "cell_type": "markdown",
   "metadata": {},
   "source": [
    "Allerdings ist der arithmetische Mittelwert anfällig für Ausreißer (engl. outliers), also Extremwerte die von der Mehrheit der Werte abweichen. Deshalb wird oft der Median als Lagemaß angegeben. Der Median ist derjenige Wert, der in der Mitte des Datensatzes liegt, d.h. 50% der Werte sind größer als der Median, 50% sind kleiner. Die Formel für den Median eines aufsteigend sortierten Datensatzes lautet daher: \n",
    "\n",
    "Für eine gerade Anzahl an Werten: \n",
    "\n",
    "<img src=\"https://latex.codecogs.com/gif.latex?\\widetilde{x}&space;=&space;(x_{(n/2)}&plus;x_{(n/2)&plus;1})/2\" title=\"\\widetilde{x} = (x_{(n/2)}+x_{(n/2)+1})/2\" /> \n",
    "\n",
    "Für eine ungerade Anzahl an Werten: \n",
    "\n",
    "<img src=\"https://latex.codecogs.com/gif.latex?\\widetilde{x}&space;=&space;x_{(n&plus;1)/2}\" title=\"\\widetilde{x} = x_{(n+1)/2}\" />\n",
    "\n",
    "Berechnet nun den Median Eueres Grundwassertemperatur Arrays. Sortiert dafür zuerst die Werte in aufsteigender Reihenfolgemit dem Befehl `sorted()` in einer neuen Variable. \n",
    " "
   ]
  },
  {
   "cell_type": "code",
   "execution_count": null,
   "metadata": {},
   "outputs": [],
   "source": [
    "# [6] hier Code eingeben"
   ]
  },
  {
   "cell_type": "markdown",
   "metadata": {},
   "source": [
    "Wählt dann basierend auf Eurem `n` die richtige Formel aus und berechnet den Median, indem Ihr auf den entsprechenden Index, z.B. \"(n+1)/2\", zugreift und diesen mit der Funktion `int()` in einen Integer umwandelt. "
   ]
  },
  {
   "cell_type": "code",
   "execution_count": null,
   "metadata": {},
   "outputs": [],
   "source": [
    "# [7] hier Code eingeben"
   ]
  },
  {
   "cell_type": "markdown",
   "metadata": {},
   "source": [
    "Das Python `statistics` Package enthält auch dazu eine Funktion. Importiert dazu nun das gesamte Package mit `import statistics`, und berechnet mit `statistics.median()` den Median. Fällt Euch beim Vegleich der beiden Medianwerte etwas auf?"
   ]
  },
  {
   "cell_type": "code",
   "execution_count": null,
   "metadata": {},
   "outputs": [],
   "source": [
    "# [8] hier Code eingeben"
   ]
  },
  {
   "cell_type": "markdown",
   "metadata": {},
   "source": [
    "Ein weiterer häufig benutzter Lageparameter ist der Modus. Macht es Sinn den Modus für die Grundwassertemperatur zu berechnen? Warum oder warum nicht?\n",
    "\n",
    "Sucht Euch in der Excel-Datei einen geeigneten Parameter aus, und bestimmt dessen Modus mit `statistics.mode()`. "
   ]
  },
  {
   "cell_type": "code",
   "execution_count": null,
   "metadata": {},
   "outputs": [],
   "source": [
    "# [9] hier Code eingeben"
   ]
  },
  {
   "cell_type": "markdown",
   "metadata": {},
   "source": [
    "Züruck zur Grundwassertemperatur: Bestimmt nun noch die Intervalpunkte der drei Quartile (0.25, 0.5, 0.75) mit dem Befehl `statistics.quantiles()`.\n",
    "Der mittlere sollte dem Median entsprechen. "
   ]
  },
  {
   "cell_type": "code",
   "execution_count": null,
   "metadata": {},
   "outputs": [],
   "source": [
    "# [10] hier Code eingeben"
   ]
  },
  {
   "cell_type": "markdown",
   "metadata": {},
   "source": [
    "### Streuungsmaß\n",
    "\n",
    "Das Streuungsmaß hilft uns zu beschreiben wie sehr Daten, z.B. zeitlich oder räumlich, variieren. Das einfachste Streeungsmaß ist der Wertebereich (engl. range), also die Differenz zwischen dem kleinsten und größten Wert. Bestimmt mit Hilfe der Befehle `min()` und `max()` den Wertebereich der Grundwassertemperatur. "
   ]
  },
  {
   "cell_type": "code",
   "execution_count": null,
   "metadata": {},
   "outputs": [],
   "source": [
    "# [11] hier Code eingeben"
   ]
  },
  {
   "cell_type": "markdown",
   "metadata": {},
   "source": [
    "Da der Wertebereich zwischen den Extremwerten berechnet wird, ist er sehr anfällig für Ausreißer und daher in den meisten Fällen nicht als robustes Schätzwert für das Streuungsmaß geeignet. Besser geeignet ist der Interquartilbereich (IQR), also die mittleren 50% der Datenpunkte. Berechnet nun mit Hilfe der oben bestimmten Quartile den IQR, und vergleicht ihn mit dem Wertebereich. "
   ]
  },
  {
   "cell_type": "code",
   "execution_count": null,
   "metadata": {},
   "outputs": [],
   "source": [
    "# [12] hier Code eingeben"
   ]
  },
  {
   "cell_type": "markdown",
   "metadata": {},
   "source": [
    "Die am häufigsten benutzen Parameter für das Streeungsmaß sind die Standardabweichung (sigma) und die Varianz (sigma^2). \n",
    "\n",
    "Die Standardabweichung der Stichproben des Datensatzes ist die Wurzel des Mittelwerts der Abweichung jedes einzelnen Datenpunktes vom Mittelwert des Datensatzes, also: \n",
    "\n",
    "<img src=\"https://latex.codecogs.com/gif.latex?s&space;=&space;\\sqrt{\\frac{1}{n-1}\\sum_{i=1}^{n}&space;(x_{i}-{\\bar{x}})^{2}}\" title=\"s = \\sqrt{\\frac{1}{n-1}\\sum_{i=1}^{n} (x_{i}-{\\bar{x}})^{2}}\" />\n",
    "\n",
    "Die Varianz der Stichprobe ist das Quadrat der Standardabweichung: \n",
    "\n",
    "<img src=\"https://latex.codecogs.com/gif.latex?s^{2}&space;=&space;\\frac{1}{n-1}\\sum_{i=1}^{n}&space;(x_{i}-{\\bar{x}})^{2}\" title=\"s^{2} = \\frac{1}{n-1}\\sum_{i=1}^{n} (x_{i}-{\\bar{x}})^{2}\" />\n",
    "\n",
    "Wie Ihr bestimmt schon vermutet gibt es  auch dafür einen Befehl in Python. Das `statistics` Package in Python bietet dabei sowohl die Option die Standardabweichung der Stichprobe zu berechnen (`statistics.stdev()`), als auch die der Grundgesamtheit (`statistics.pstdev()`). Da wir den Mittelwert der Grundgesamtheit nicht kennen, bleiben wir bei der Stichprobe (`statistics.variance()`). \n"
   ]
  },
  {
   "cell_type": "code",
   "execution_count": null,
   "metadata": {},
   "outputs": [],
   "source": [
    "# [13] hier Code eingeben"
   ]
  },
  {
   "cell_type": "markdown",
   "metadata": {},
   "source": [
    "### Schiefe und Wölbung\n",
    "\n",
    "Berechnet nun als letztes noch die Schiefe (skewness) und die Wölbung (kurtosis) der Daten. Für die Schiefe gibt es zwei häufig benutzte Formeln: \n",
    "\n",
    "Pearson's Modus Schiefe: \n",
    "\n",
    "<img src=\"https://latex.codecogs.com/gif.latex?skewness&space;=&space;(mean-mode)/standarddeviation\" title=\"skewness = (mean-mode)/standarddeviation\" />\n",
    "\n",
    "Fisher Schiefe: \n",
    "\n",
    "<img src=\"https://latex.codecogs.com/gif.latex?skewness&space;=&space;\\sum_{i=1}^{n}\\frac{(x_{i}-\\bar{x})^{3}}{s^{3}}\" title=\"skewness = \\sum_{i=1}^{n}\\frac{(x_{i}-\\bar{x})^{3}}{s^{3}}\" />\n",
    "\n",
    "Bestimmt nun zuerst den Schiefeparameter nach Pearson für die Grundwassertemperatur, um herauszufinden zu welcher Seite die Stichprobenverteilung geneigt ist. "
   ]
  },
  {
   "cell_type": "code",
   "execution_count": null,
   "metadata": {},
   "outputs": [],
   "source": [
    "# [14] hier Code eingeben"
   ]
  },
  {
   "cell_type": "markdown",
   "metadata": {},
   "source": [
    "Der Schiefeparameter nach Fisher ist etwas komplizierter zu berechnen, da Ihr für jeden einzelnen Wert die Abweichung zum Mittelwert berechnen müsst. Benutzt dazu eine `for` Schleife. Vergleicht dann die beiden Schiefe-Parameter. "
   ]
  },
  {
   "cell_type": "code",
   "execution_count": null,
   "metadata": {},
   "outputs": [],
   "source": [
    "# [15] hier Code eingeben"
   ]
  },
  {
   "cell_type": "markdown",
   "metadata": {},
   "source": [
    "Der vierte Parameter zur Beschreibung der Stichprobe ist die Wölbung. Diese beschreibt den relativen Unterschied zur Wölbung einer Normalverteilung dar. Die Wölbung wird dabei sehr ähnlich zur Fisher Schiefe berechnet: \n",
    "\n",
    "<img src=\"https://latex.codecogs.com/gif.latex?kurtosis&space;=&space;\\sum_{i=1}^{n}\\frac{(x_{i}-\\bar{x})^{4}}{s^{4}}\" title=\"kurtosis = \\sum_{i=1}^{n}\\frac{(x_{i}-\\bar{x})^{4}}{s^{4}}\" />\n",
    "\n",
    "Entsprechend könnt Ihr für die Berechnung der Wölbung den Code der Schiefe oben recht einfach anpassen. Ist die Stichprobe der Grundwassertemperatur mehr oder weniger gewölbt wie eine Normalverteilung? "
   ]
  },
  {
   "cell_type": "code",
   "execution_count": null,
   "metadata": {},
   "outputs": [],
   "source": [
    "# [16] hier Code eingeben"
   ]
  },
  {
   "cell_type": "markdown",
   "metadata": {},
   "source": [
    "Damit habt Ihr alle vier statistischen Parameter der Stichproben der Grundwassertemperatur bestimmt. Wenn Ihr nun noch Zeit habt, könnt Ihr einen anderen Parameter aus dem Datensatz wählen und diesen charakterisieren. \n",
    "\n",
    "Wenn Ihr fast alle deskriptiven Parameter auf einmal bekommen wollt, probiert die Funktion `scipy.stats.describe()`aus. \n",
    "\n",
    "\n",
    "\n",
    "## Ende"
   ]
  }
 ],
 "metadata": {
  "kernelspec": {
   "display_name": "Python 3",
   "language": "python",
   "name": "python3"
  },
  "language_info": {
   "codemirror_mode": {
    "name": "ipython",
    "version": 3
   },
   "file_extension": ".py",
   "mimetype": "text/x-python",
   "name": "python",
   "nbconvert_exporter": "python",
   "pygments_lexer": "ipython3",
   "version": "3.7.10"
  }
 },
 "nbformat": 4,
 "nbformat_minor": 4
}
