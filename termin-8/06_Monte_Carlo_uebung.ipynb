{
 "cells": [
  {
   "cell_type": "markdown",
   "metadata": {},
   "source": [
    "# Geodatenanalyse 1\n",
    "\n",
    "## Übung 6: Monte Carlo Methoden - Übung"
   ]
  },
  {
   "cell_type": "markdown",
   "metadata": {},
   "source": [
    "Die Aufgabenstellung für diese Übung ist die Quantifizierung der Unsicherheit bei der analytischen Berechnung der biologischen Abbaurate von O-Xylol in einem kontaminierten Aquifer. Verwendet dafür folgende in Würth et al. (2021) angegebene Formel 6: \n",
    "\n",
    "<a href=\"https://www.codecogs.com/eqnedit.php?latex=\\lambda&space;=&space;\\frac{\\Delta&space;\\delta&space;^{13}C&space;\\cdot&space;k_{f}&space;\\cdot&space;i}{\\epsilon&space;\\cdot&space;s&space;\\cdot&space;n_{e}}\" target=\"_blank\"><img src=\"https://latex.codecogs.com/gif.latex?\\lambda&space;=&space;\\frac{\\Delta&space;\\delta&space;^{13}C&space;\\cdot&space;k_{f}&space;\\cdot&space;i}{\\epsilon&space;\\cdot&space;s&space;\\cdot&space;n_{e}}\" title=\"\\lambda = \\frac{\\Delta \\delta ^{13}C \\cdot k_{f} \\cdot i}{\\epsilon \\cdot s \\cdot n_{e}}\" /></a>\n",
    "\n",
    "mit \n",
    "\n",
    "<a href=\"https://www.codecogs.com/eqnedit.php?latex=k_{f}&space;=&space;\\frac{s&space;\\cdot&space;n_{e}}{t&space;\\cdot&space;i}\" target=\"_blank\"><img src=\"https://latex.codecogs.com/gif.latex?k_{f}&space;=&space;\\frac{s&space;\\cdot&space;n_{e}}{t&space;\\cdot&space;i}\" title=\"k_{f} = \\frac{s \\cdot n_{e}}{t \\cdot i}\" /></a>\n",
    "\n",
    "\n",
    "Angaben zu den Parametern und den angenommenen Verteilungen der unbekannten Werte findet Ihr in Tabelle 3 der Studie (Literaturordner auf ILIAS). Übernehmt dabei die Werte für das Brunnenpaar G10m - G30u. Dabei steht *N* für Normal-, *U* für Uniform- und *W* für Weibull-Verteilung. Ersetzt dabei die Weibull-Verteilung für den hydraulischen Gradienten durch *U*(0.0013, 0.0016). Beachtet auch, dass einige Verteilungen begrenzt (\"truncated\") sind. \n",
    "\n",
    "Neben der Generierung von Zufallszahlen und der analytischen Berechnung der Abbaurate, sollte Euer Code auch eine Visualisierung der Ergebnisse beinhalten.   \n",
    "\n",
    "\n",
    "\n"
   ]
  },
  {
   "cell_type": "code",
   "execution_count": null,
   "metadata": {},
   "outputs": [],
   "source": [
    "# Monte-Carlo Simulation zur Bestimmung der Abbaurate von O-Xylol\n",
    "# benötigte Packages importieren\n",
    "\n",
    "\n",
    "# Anzahl der MC Simulationen festlegen\n",
    "\n",
    "\n",
    "# Input Parameter (Verteilungen) definieren\n",
    "\n",
    "\n",
    "# leere Array für Modell Output erzeugen \n",
    "\n",
    "\n",
    "# analytische Modellierung \n",
    "\n",
    "\n",
    "# Mittelwerte für kf-Wert und Abbaurate ausgeben lassen\n",
    "\n",
    "\n",
    "# Verteilungen der Werte der Abbaurate visualisieren\n"
   ]
  },
  {
   "cell_type": "markdown",
   "metadata": {},
   "source": [
    "Vergleicht Eure Ergebnisse mit denen in Abbildung 3 in dem Paper von Würth et al. (2021). Stimmen die Ergebnisse überein? \n",
    "\n",
    "## Ende\n",
    "\n",
    "### Referenzen: \n",
    "\n",
    "Würth et al. (2021): Quantifying biodegradation rate constants of o-xylene by combining compound-specific isotope analysis and groundwater dating. Journal of Contaminant Hydrology, 238, 103757"
   ]
  }
 ],
 "metadata": {
  "kernelspec": {
   "display_name": "Python 3",
   "language": "python",
   "name": "python3"
  },
  "language_info": {
   "codemirror_mode": {
    "name": "ipython",
    "version": 3
   },
   "file_extension": ".py",
   "mimetype": "text/x-python",
   "name": "python",
   "nbconvert_exporter": "python",
   "pygments_lexer": "ipython3",
   "version": "3.8.5-final"
  }
 },
 "nbformat": 4,
 "nbformat_minor": 4
}
