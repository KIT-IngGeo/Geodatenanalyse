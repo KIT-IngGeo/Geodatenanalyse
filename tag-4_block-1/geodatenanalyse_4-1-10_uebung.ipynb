{
 "cells": [
  {
   "cell_type": "markdown",
   "id": "amended-anger",
   "metadata": {},
   "source": [
    "# Geodatenanalyse 1\n",
    "\n",
    "\n",
    "## Tag 4 / Block 1 - Übung 10\n",
    "\n",
    "## Einführung in die Kartografie mit Python\n",
    "\n",
    "**Hinweis**: Dieser Ünbungsblock soll ca. 40 Minuten dauern. Danach gibt es ca. 10 Minuten Zeit für die gemeinsame Diskussion der Lösungen."
   ]
  },
  {
   "cell_type": "code",
   "execution_count": 1,
   "id": "bizarre-evaluation",
   "metadata": {},
   "outputs": [],
   "source": [
    "import cartopy\n",
    "import cartopy.crs as ccrs\n",
    "import matplotlib.pyplot as plt"
   ]
  },
  {
   "cell_type": "markdown",
   "id": "secure-smile",
   "metadata": {},
   "source": [
    "## Übung 1\n",
    "\n",
    "In dieser Übung geht es um die Erstellung von einfachen Karten:\n",
    "\n",
    "**Aufgabe 1**: Bilde Deutschland auf einer Karte ab. Verwende dazu die UTM Projektion (Zone 32). Bitte auch die Grenze einzeichnen.\n",
    "\n",
    "**Aufgabe 2**: Zeichne deinen Wohnort als roten Punkt auf diese Karte. Achtung: Die Koordinaten müssen über das Schlüsselwort *transform* richtig transformiert werden!"
   ]
  },
  {
   "cell_type": "code",
   "execution_count": 2,
   "id": "miniature-jamaica",
   "metadata": {},
   "outputs": [],
   "source": [
    "# Aufgabe 1"
   ]
  },
  {
   "cell_type": "code",
   "execution_count": 3,
   "id": "optional-discrimination",
   "metadata": {
    "scrolled": true
   },
   "outputs": [],
   "source": [
    "# Aufgabe 2"
   ]
  },
  {
   "cell_type": "markdown",
   "id": "affecting-importance",
   "metadata": {},
   "source": [
    "## Übung 2\n",
    "\n",
    "In dieser Übung geht es um den Größenvergleich zweier Länder:\n",
    "\n",
    "**Aufgabe 1**: Bilde Kanada und Australien so ab, dass sie übereinander liegen. Nütze dafür die eingebauten Objekte in *cartopy* und das WGS84 Koordinatensystem. Welches Land ist flächenmäßig größer? Ist dieser Vergleich so richtig?\n",
    "\n",
    "**Aufgabe 2**: Transformiere beide Länder in eine flächengleiche Projektion (z.B. *Mollweide*). Bilde beide Länder in einer Grafik ab. Vergleiche die Abbildung mit der von AUfgabe 1.\n"
   ]
  },
  {
   "cell_type": "code",
   "execution_count": 4,
   "id": "established-election",
   "metadata": {},
   "outputs": [],
   "source": [
    "# Aufgabe 1"
   ]
  },
  {
   "cell_type": "code",
   "execution_count": 5,
   "id": "adolescent-minority",
   "metadata": {
    "scrolled": false
   },
   "outputs": [],
   "source": [
    "# Aufgabe 2"
   ]
  },
  {
   "cell_type": "markdown",
   "id": "valued-award",
   "metadata": {},
   "source": [
    "## ENDE"
   ]
  }
 ],
 "metadata": {
  "kernelspec": {
   "display_name": "Python 3",
   "language": "python",
   "name": "python3"
  },
  "language_info": {
   "codemirror_mode": {
    "name": "ipython",
    "version": 3
   },
   "file_extension": ".py",
   "mimetype": "text/x-python",
   "name": "python",
   "nbconvert_exporter": "python",
   "pygments_lexer": "ipython3",
   "version": "3.7.10"
  }
 },
 "nbformat": 4,
 "nbformat_minor": 5
}
