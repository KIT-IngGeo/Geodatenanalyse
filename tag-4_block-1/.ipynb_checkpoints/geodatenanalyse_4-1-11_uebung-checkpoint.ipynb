{
 "cells": [
  {
   "cell_type": "markdown",
   "id": "transparent-spank",
   "metadata": {},
   "source": [
    "# Geodatenanalyse 1\n",
    "\n",
    "\n",
    "## Tag 4 / Block 1 - Übung 11\n",
    "\n",
    "## Geodatenanalyse mit *GeoPandas*\n",
    "\n",
    "**Hinweis**: Dieser Ünbungsblock soll ca. 40 Minuten dauern. Danach gibt es ca. 10 Minuten Zeit für die gemeinsame Diskussion der Lösungen.\n"
   ]
  },
  {
   "cell_type": "code",
   "execution_count": 1,
   "id": "studied-cradle",
   "metadata": {},
   "outputs": [],
   "source": [
    "import geopandas as geopd\n",
    "import pandas as pd\n",
    "import contextily as ctx\n",
    "import matplotlib.pyplot as plt\n",
    "import numpy as np\n",
    "import shapely as shp"
   ]
  },
  {
   "cell_type": "markdown",
   "id": "functioning-replica",
   "metadata": {},
   "source": [
    "## Übung 1\n",
    "\n",
    "Die Datei *data/Messstellen_Karlsruhe.xlsx* enthält eine Liste von Grundwassermessstellen im Stadtgebiet von Karlsruhe. Die Koordinaten für diese Messstellen sind in DHDN (3-degree Gauss-Kruger Zone 3) angegeben.\n",
    "\n",
    "**Aufgabe 1**: Transformiere die Koordinaten der Messstellen ins WGS84 Koordinatensystem und speichere die Ergebnisse als Shape-Datei.\n",
    "\n",
    "**Aufgabe 2**: Erstelle eine Karte dieser Messstellen, auf der im Hintergrund das Stadtgebiet ersichtlich ist."
   ]
  },
  {
   "cell_type": "code",
   "execution_count": 2,
   "id": "english-parent",
   "metadata": {},
   "outputs": [],
   "source": [
    "# Aufgabe 1"
   ]
  },
  {
   "cell_type": "code",
   "execution_count": 3,
   "id": "valuable-witness",
   "metadata": {},
   "outputs": [],
   "source": [
    "# Aufgabe 2"
   ]
  },
  {
   "cell_type": "markdown",
   "id": "norman-given",
   "metadata": {},
   "source": [
    "## Übung 2\n",
    "\n",
    "Der in der Vorlesung bereits verwendete Datensatz zu Gemeinden in Baden-Württemberg (*data/Gebiete/AX_KommunalesGebiet.shp*) soll hier weiter untersucht werden.\n",
    "\n",
    "**Aufgabe 1**: Bestimme die drei Gemeinden, welche die Größte Fläche aufweisen.\n",
    "\n",
    "**Aufgabe 2**: Bestimme die drei Gemeinden, welche die Größte Gemeindengrenzen aufweisen.\n",
    "\n",
    "**Aufgabe 3**: Finde alle Gemeinden, welche an die Gemeinde Stuttgart angrenzen."
   ]
  },
  {
   "cell_type": "code",
   "execution_count": 4,
   "id": "pleased-privacy",
   "metadata": {},
   "outputs": [],
   "source": [
    "# Aufgabe 1"
   ]
  },
  {
   "cell_type": "code",
   "execution_count": 5,
   "id": "still-protocol",
   "metadata": {
    "scrolled": true
   },
   "outputs": [],
   "source": [
    "# Aufgabe 2"
   ]
  },
  {
   "cell_type": "code",
   "execution_count": 6,
   "id": "protective-silicon",
   "metadata": {
    "scrolled": true
   },
   "outputs": [],
   "source": [
    "# Aufgabe 3"
   ]
  },
  {
   "cell_type": "markdown",
   "id": "ignored-preliminary",
   "metadata": {},
   "source": [
    "## ENDE"
   ]
  }
 ],
 "metadata": {
  "kernelspec": {
   "display_name": "Python 3",
   "language": "python",
   "name": "python3"
  },
  "language_info": {
   "codemirror_mode": {
    "name": "ipython",
    "version": 3
   },
   "file_extension": ".py",
   "mimetype": "text/x-python",
   "name": "python",
   "nbconvert_exporter": "python",
   "pygments_lexer": "ipython3",
   "version": "3.7.10"
  }
 },
 "nbformat": 4,
 "nbformat_minor": 5
}
