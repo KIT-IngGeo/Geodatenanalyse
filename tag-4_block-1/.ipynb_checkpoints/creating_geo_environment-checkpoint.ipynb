{
 "cells": [
  {
   "cell_type": "markdown",
   "metadata": {
    "slideshow": {
     "slide_type": "slide"
    }
   },
   "source": [
    "# Geodatenanalyse 1"
   ]
  },
  {
   "cell_type": "markdown",
   "metadata": {},
   "source": [
    "## Anleitung zur automatischen Erstellung der Umgebung\n",
    "\n",
    "Die vorkonfigurierte Analyseumgebung ist in der Datei *geodatenanalyse.yml* auf GitHub gegeben. Bitte das Archiv der Kursmaterialien herunterladen und in einem beliebigen Pfad (#PFAD#) lokal abspeichern."
   ]
  },
  {
   "attachments": {},
   "cell_type": "markdown",
   "metadata": {},
   "source": [
    "### Einmalige Einrichtung\n",
    "\n",
    "*Anaconda Prompt* öffnen und folgendes eingeben:\n",
    "\n",
    "``conda env create -f #PFAD#/geodatenanalyse.yml``\n",
    "\n",
    "*ACHTUNG*: Hier bitte #PFAD# mit den absoluten Pfad zur Datei angeben!"
   ]
  },
  {
   "attachments": {},
   "cell_type": "markdown",
   "metadata": {},
   "source": [
    "\n",
    "### Verwendung der Analyseumgebung\n",
    "\n",
    "**Windows** -------\n",
    "\n",
    "Die Analyseumgebung kann nun durch Doppelklick auf die Batch-Datei *starter_geo_WINDOWS.bat* geöffnet werden.\n",
    "\n",
    "\n",
    "**MacOS oder LINUX** -------\n",
    "\n",
    "Die Analyseumgebung kann nun durch Doppelklick auf die Bash-Datei *starter_geo_LINUX* geöffnet werden."
   ]
  },
  {
   "cell_type": "markdown",
   "metadata": {},
   "source": [
    "## Anleitung zur manuellen Erstellung der Umgebung\n",
    "\n",
    "**ACHTUNG**: Bitte diese Anleitung nur ausführen, wenn die automatische Einrichtung nicht klappt!"
   ]
  },
  {
   "cell_type": "markdown",
   "metadata": {},
   "source": [
    "### Für Windows\n",
    "\n",
    "1 - Add the right installation channel:\n",
    "\n",
    "``conda config --prepend channels conda-forge``\n",
    "\n",
    "2 - Create a new environment called \"geo\" and install *geopandas* and *jupyterlab*:\n",
    "\n",
    "``conda create -n geo --strict-channel-priority geopandas jupyterlab``\n",
    "\n",
    "3 - Activate the new environment:\n",
    "\n",
    "``conda activate geo``\n",
    "\n",
    "4 - Add the user to the kernel:\n",
    "\n",
    "``python -m ipykernel install --user``\n",
    "\n",
    "*ACHTUNG*: Wenn das nicht funktioniert, dann wird eine andere Möglichkeit [hier beschrieben](https://geoffboeing.com/2014/09/using-geopandas-windows/)"
   ]
  },
  {
   "cell_type": "markdown",
   "metadata": {},
   "source": [
    "### Für MacOS oder Linux\n",
    "\n",
    "1 - Create a new environment called \"geo\" and install *geopandas* and *jupyterlab*:\n",
    "\n",
    "``conda create -n geo``\n",
    "\n",
    "2 - Activate the new environment:\n",
    "\n",
    "``conda activate geo``\n",
    "\n",
    "3 - Add the user to the kernel:\n",
    "\n",
    "``python -m ipykernel install --user``"
   ]
  },
  {
   "cell_type": "markdown",
   "metadata": {},
   "source": [
    "### Für alle Betriebssysteme\n",
    "\n",
    "Weitere benötigte Pakete für alle Betriebssysteme:\n",
    "\n",
    "``conda install numpy matplotlib pandas scipy``\n",
    "\n",
    "``conda install -c conda-forge descartes``"
   ]
  },
  {
   "cell_type": "markdown",
   "metadata": {},
   "source": [
    "Ein Test, ob alles funktioniert:"
   ]
  },
  {
   "cell_type": "code",
   "execution_count": 1,
   "metadata": {},
   "outputs": [
    {
     "data": {
      "text/plain": [
       "'3010400'"
      ]
     },
     "execution_count": 1,
     "metadata": {},
     "output_type": "execute_result"
    }
   ],
   "source": [
    "from osgeo import gdal, ogr, osr\n",
    "from fiona.ogrext import Iterator, ItemsIterator, KeysIterator\n",
    "from geopandas import GeoDataFrame\n",
    "gdal.VersionInfo()"
   ]
  },
  {
   "cell_type": "markdown",
   "metadata": {},
   "source": [
    "Wenn dieser Test keine Fehlermeldung anzeigt, dann kann es endlich los gehen!"
   ]
  },
  {
   "cell_type": "markdown",
   "metadata": {},
   "source": [
    "### Aufruf von Jupyter\n",
    "\n",
    "Beim Aufruf von *Jupyter* müssen nun folgende Schritte durchgeführt werden:\n",
    "\n",
    "1 - ``conda activate geo``\n",
    "\n",
    "2 - ``jupyter notebook --notebook-dir=\"#PFAD#\"``\n"
   ]
  },
  {
   "cell_type": "markdown",
   "metadata": {},
   "source": [
    "## ENDE"
   ]
  }
 ],
 "metadata": {
  "celltoolbar": "Slideshow",
  "kernelspec": {
   "display_name": "Python 3",
   "language": "python",
   "name": "python3"
  },
  "language_info": {
   "codemirror_mode": {
    "name": "ipython",
    "version": 3
   },
   "file_extension": ".py",
   "mimetype": "text/x-python",
   "name": "python",
   "nbconvert_exporter": "python",
   "pygments_lexer": "ipython3",
   "version": "3.9.2"
  }
 },
 "nbformat": 4,
 "nbformat_minor": 4
}
