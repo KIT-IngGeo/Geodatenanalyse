{
 "cells": [
  {
   "cell_type": "markdown",
   "id": "complimentary-unknown",
   "metadata": {},
   "source": [
    "# Geodatenanalyse 1\n",
    "\n",
    "\n",
    "## Tag 2 / Block 1 - Übung 12\n",
    "\n",
    "## Datenanalyse mit *xarray*\n",
    "\n",
    "**Hinweis**: Dieser Ünbungsblock soll ca. 40 Minuten dauern. Danach gibt es ca. 10 Minuten Zeit für die gemeinsame Diskussion der Lösungen."
   ]
  },
  {
   "cell_type": "code",
   "execution_count": 5,
   "id": "resistant-corporation",
   "metadata": {},
   "outputs": [],
   "source": [
    "import xarray as xr\n",
    "import numpy as np\n",
    "import cartopy.crs as ccrs\n",
    "import matplotlib.pyplot as plt"
   ]
  },
  {
   "cell_type": "markdown",
   "id": "patient-croatia",
   "metadata": {},
   "source": [
    "## Übung 1\n",
    "\n",
    "Diese Fragen beruhen alle auf dem Datensatz der Meeresoberflächentemperatur des Jahres 2019 (Datei: *data/HadISST1_SST_update.nc*).\n",
    "\n",
    "- **Aufgabe 1**: Was ist die weltweit maximale und minimale Meeresoberflächentemperatur für das Jahr 2019?\n",
    "\n",
    "- **Aufgabe 2**: Zeige die Jahreslinie der Meeresoberflächentemperatur für eine Geoposition, die nahe an Hawaii (USA) liegt. Was war dort die durchschnittliche Meeresoberflächentemperatur für das Jahr 2019?\n"
   ]
  },
  {
   "cell_type": "code",
   "execution_count": 6,
   "id": "southeast-wholesale",
   "metadata": {},
   "outputs": [],
   "source": [
    "# Übung 1"
   ]
  },
  {
   "cell_type": "markdown",
   "id": "graphic-testing",
   "metadata": {},
   "source": [
    "## Übung 2\n",
    "\n",
    "In dieser Übung wird ein Datensatz zu Bodenfeuchte verwendet [Datensatz ESSMRA](https://cds.climate.copernicus.eu/cdsapp#!/dataset/satellite-soil-moisture?tab=form). Für das Jahr 2013 sind die Dateien in einem Unterordner gespeichert (z.B., *data/SSMT/SSMT_yyyymmdd.nc*).\n",
    "\n",
    "\n",
    "- **Aufgabe 1**: Bilde den globalen Unterschied der Bodenfeuchte zwischen April und Oktober 2013 ab.\n",
    "\n",
    "- **Aufgabe 2**: Berechne den Durchschnitt über alle Werte im Längengrad und bilde diesen Durchschnitt über den Breitengrad für beide Monate ab.\n",
    "\n",
    "- **Aufgabe 3**: Füge die Daten aller 12 Monate des Jahres 2013 zusammen, und speichere diesen als eine Datei ab.\n"
   ]
  },
  {
   "cell_type": "code",
   "execution_count": 7,
   "id": "marked-binding",
   "metadata": {},
   "outputs": [],
   "source": [
    "# Übung 2"
   ]
  },
  {
   "cell_type": "markdown",
   "id": "natural-there",
   "metadata": {},
   "source": [
    "## ENDE"
   ]
  }
 ],
 "metadata": {
  "kernelspec": {
   "display_name": "Python 3",
   "language": "python",
   "name": "python3"
  },
  "language_info": {
   "codemirror_mode": {
    "name": "ipython",
    "version": 3
   },
   "file_extension": ".py",
   "mimetype": "text/x-python",
   "name": "python",
   "nbconvert_exporter": "python",
   "pygments_lexer": "ipython3",
   "version": "3.7.10"
  }
 },
 "nbformat": 4,
 "nbformat_minor": 5
}
